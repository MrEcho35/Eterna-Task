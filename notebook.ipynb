{
 "cells": [
  {
   "cell_type": "code",
   "execution_count": 1,
   "metadata": {},
   "outputs": [],
   "source": [
    "import warnings\n",
    "warnings.filterwarnings('ignore')\n",
    "\n",
    "import numpy as np\n",
    "import pandas as pd\n",
    "import matplotlib.pyplot as plt\n",
    "import seaborn as sns"
   ]
  },
  {
   "cell_type": "code",
   "execution_count": 2,
   "metadata": {},
   "outputs": [
    {
     "data": {
      "text/html": [
       "<div>\n",
       "<style scoped>\n",
       "    .dataframe tbody tr th:only-of-type {\n",
       "        vertical-align: middle;\n",
       "    }\n",
       "\n",
       "    .dataframe tbody tr th {\n",
       "        vertical-align: top;\n",
       "    }\n",
       "\n",
       "    .dataframe thead th {\n",
       "        text-align: right;\n",
       "    }\n",
       "</style>\n",
       "<table border=\"1\" class=\"dataframe\">\n",
       "  <thead>\n",
       "    <tr style=\"text-align: right;\">\n",
       "      <th></th>\n",
       "      <th>group_id</th>\n",
       "      <th>click_count</th>\n",
       "      <th>impression_count</th>\n",
       "      <th>conversion_count</th>\n",
       "      <th>date</th>\n",
       "    </tr>\n",
       "  </thead>\n",
       "  <tbody>\n",
       "    <tr>\n",
       "      <th>0</th>\n",
       "      <td>52740</td>\n",
       "      <td>0</td>\n",
       "      <td>1</td>\n",
       "      <td>0</td>\n",
       "      <td>2024-01-22</td>\n",
       "    </tr>\n",
       "    <tr>\n",
       "      <th>1</th>\n",
       "      <td>52758</td>\n",
       "      <td>0</td>\n",
       "      <td>1</td>\n",
       "      <td>0</td>\n",
       "      <td>2024-01-22</td>\n",
       "    </tr>\n",
       "    <tr>\n",
       "      <th>2</th>\n",
       "      <td>64336</td>\n",
       "      <td>2</td>\n",
       "      <td>12</td>\n",
       "      <td>0</td>\n",
       "      <td>2024-01-22</td>\n",
       "    </tr>\n",
       "    <tr>\n",
       "      <th>3</th>\n",
       "      <td>186281</td>\n",
       "      <td>0</td>\n",
       "      <td>1</td>\n",
       "      <td>0</td>\n",
       "      <td>2024-01-22</td>\n",
       "    </tr>\n",
       "    <tr>\n",
       "      <th>4</th>\n",
       "      <td>52708</td>\n",
       "      <td>0</td>\n",
       "      <td>4</td>\n",
       "      <td>0</td>\n",
       "      <td>2024-01-22</td>\n",
       "    </tr>\n",
       "    <tr>\n",
       "      <th>...</th>\n",
       "      <td>...</td>\n",
       "      <td>...</td>\n",
       "      <td>...</td>\n",
       "      <td>...</td>\n",
       "      <td>...</td>\n",
       "    </tr>\n",
       "    <tr>\n",
       "      <th>56554</th>\n",
       "      <td>161436</td>\n",
       "      <td>1</td>\n",
       "      <td>7</td>\n",
       "      <td>0</td>\n",
       "      <td>2025-02-02</td>\n",
       "    </tr>\n",
       "    <tr>\n",
       "      <th>56555</th>\n",
       "      <td>52909</td>\n",
       "      <td>0</td>\n",
       "      <td>8</td>\n",
       "      <td>0</td>\n",
       "      <td>2025-02-02</td>\n",
       "    </tr>\n",
       "    <tr>\n",
       "      <th>56556</th>\n",
       "      <td>103359</td>\n",
       "      <td>0</td>\n",
       "      <td>3</td>\n",
       "      <td>0</td>\n",
       "      <td>2025-02-02</td>\n",
       "    </tr>\n",
       "    <tr>\n",
       "      <th>56557</th>\n",
       "      <td>1094</td>\n",
       "      <td>37</td>\n",
       "      <td>190</td>\n",
       "      <td>3</td>\n",
       "      <td>2025-02-02</td>\n",
       "    </tr>\n",
       "    <tr>\n",
       "      <th>56558</th>\n",
       "      <td>1094</td>\n",
       "      <td>2</td>\n",
       "      <td>233</td>\n",
       "      <td>0</td>\n",
       "      <td>2025-02-02</td>\n",
       "    </tr>\n",
       "  </tbody>\n",
       "</table>\n",
       "<p>56559 rows × 5 columns</p>\n",
       "</div>"
      ],
      "text/plain": [
       "       group_id  click_count  impression_count  conversion_count       date\n",
       "0         52740            0                 1                 0 2024-01-22\n",
       "1         52758            0                 1                 0 2024-01-22\n",
       "2         64336            2                12                 0 2024-01-22\n",
       "3        186281            0                 1                 0 2024-01-22\n",
       "4         52708            0                 4                 0 2024-01-22\n",
       "...         ...          ...               ...               ...        ...\n",
       "56554    161436            1                 7                 0 2025-02-02\n",
       "56555     52909            0                 8                 0 2025-02-02\n",
       "56556    103359            0                 3                 0 2025-02-02\n",
       "56557      1094           37               190                 3 2025-02-02\n",
       "56558      1094            2               233                 0 2025-02-02\n",
       "\n",
       "[56559 rows x 5 columns]"
      ]
     },
     "execution_count": 2,
     "metadata": {},
     "output_type": "execute_result"
    }
   ],
   "source": [
    "df = pd.read_json('data.json')\n",
    "df"
   ]
  },
  {
   "cell_type": "code",
   "execution_count": 3,
   "metadata": {},
   "outputs": [
    {
     "data": {
      "text/html": [
       "<div>\n",
       "<style scoped>\n",
       "    .dataframe tbody tr th:only-of-type {\n",
       "        vertical-align: middle;\n",
       "    }\n",
       "\n",
       "    .dataframe tbody tr th {\n",
       "        vertical-align: top;\n",
       "    }\n",
       "\n",
       "    .dataframe thead th {\n",
       "        text-align: right;\n",
       "    }\n",
       "</style>\n",
       "<table border=\"1\" class=\"dataframe\">\n",
       "  <thead>\n",
       "    <tr style=\"text-align: right;\">\n",
       "      <th></th>\n",
       "      <th>date</th>\n",
       "      <th>group_id</th>\n",
       "      <th>click_count</th>\n",
       "      <th>impression_count</th>\n",
       "      <th>conversion_count</th>\n",
       "    </tr>\n",
       "  </thead>\n",
       "  <tbody>\n",
       "    <tr>\n",
       "      <th>0</th>\n",
       "      <td>2024-01-22</td>\n",
       "      <td>64</td>\n",
       "      <td>134</td>\n",
       "      <td>2815</td>\n",
       "      <td>4</td>\n",
       "    </tr>\n",
       "    <tr>\n",
       "      <th>1</th>\n",
       "      <td>2024-01-23</td>\n",
       "      <td>84</td>\n",
       "      <td>1531</td>\n",
       "      <td>9990</td>\n",
       "      <td>7</td>\n",
       "    </tr>\n",
       "    <tr>\n",
       "      <th>2</th>\n",
       "      <td>2024-01-24</td>\n",
       "      <td>73</td>\n",
       "      <td>1695</td>\n",
       "      <td>15717</td>\n",
       "      <td>18</td>\n",
       "    </tr>\n",
       "    <tr>\n",
       "      <th>3</th>\n",
       "      <td>2024-01-25</td>\n",
       "      <td>87</td>\n",
       "      <td>434</td>\n",
       "      <td>7232</td>\n",
       "      <td>3</td>\n",
       "    </tr>\n",
       "    <tr>\n",
       "      <th>4</th>\n",
       "      <td>2024-01-26</td>\n",
       "      <td>88</td>\n",
       "      <td>290</td>\n",
       "      <td>4912</td>\n",
       "      <td>5</td>\n",
       "    </tr>\n",
       "    <tr>\n",
       "      <th>...</th>\n",
       "      <td>...</td>\n",
       "      <td>...</td>\n",
       "      <td>...</td>\n",
       "      <td>...</td>\n",
       "      <td>...</td>\n",
       "    </tr>\n",
       "    <tr>\n",
       "      <th>365</th>\n",
       "      <td>2025-01-29</td>\n",
       "      <td>212</td>\n",
       "      <td>207</td>\n",
       "      <td>4648</td>\n",
       "      <td>45</td>\n",
       "    </tr>\n",
       "    <tr>\n",
       "      <th>366</th>\n",
       "      <td>2025-01-30</td>\n",
       "      <td>226</td>\n",
       "      <td>505</td>\n",
       "      <td>5280</td>\n",
       "      <td>69</td>\n",
       "    </tr>\n",
       "    <tr>\n",
       "      <th>367</th>\n",
       "      <td>2025-01-31</td>\n",
       "      <td>222</td>\n",
       "      <td>570</td>\n",
       "      <td>5107</td>\n",
       "      <td>75</td>\n",
       "    </tr>\n",
       "    <tr>\n",
       "      <th>368</th>\n",
       "      <td>2025-02-01</td>\n",
       "      <td>209</td>\n",
       "      <td>263</td>\n",
       "      <td>4866</td>\n",
       "      <td>73</td>\n",
       "    </tr>\n",
       "    <tr>\n",
       "      <th>369</th>\n",
       "      <td>2025-02-02</td>\n",
       "      <td>146</td>\n",
       "      <td>476</td>\n",
       "      <td>6084</td>\n",
       "      <td>99</td>\n",
       "    </tr>\n",
       "  </tbody>\n",
       "</table>\n",
       "<p>370 rows × 5 columns</p>\n",
       "</div>"
      ],
      "text/plain": [
       "          date  group_id  click_count  impression_count  conversion_count\n",
       "0   2024-01-22        64          134              2815                 4\n",
       "1   2024-01-23        84         1531              9990                 7\n",
       "2   2024-01-24        73         1695             15717                18\n",
       "3   2024-01-25        87          434              7232                 3\n",
       "4   2024-01-26        88          290              4912                 5\n",
       "..         ...       ...          ...               ...               ...\n",
       "365 2025-01-29       212          207              4648                45\n",
       "366 2025-01-30       226          505              5280                69\n",
       "367 2025-01-31       222          570              5107                75\n",
       "368 2025-02-01       209          263              4866                73\n",
       "369 2025-02-02       146          476              6084                99\n",
       "\n",
       "[370 rows x 5 columns]"
      ]
     },
     "execution_count": 3,
     "metadata": {},
     "output_type": "execute_result"
    }
   ],
   "source": [
    "# Making an aggregation right away\n",
    "df = df.groupby('date').agg({\n",
    "    'group_id': 'nunique',  # Count unique group_ids per date (optional, if needed)\n",
    "    'click_count': 'sum',   # Sum the click_count for each date\n",
    "    'impression_count': 'sum',  # Sum the impression_count for each date\n",
    "    'conversion_count': 'sum'   # Sum the conversion_count for each date (target column)\n",
    "}).reset_index()\n",
    "\n",
    "df"
   ]
  },
  {
   "cell_type": "markdown",
   "metadata": {},
   "source": [
    "# Data Visualization"
   ]
  },
  {
   "cell_type": "code",
   "execution_count": 4,
   "metadata": {},
   "outputs": [
    {
     "data": {
      "text/plain": [
       "Text(0.5, 1.0, 'Conversion Count')"
      ]
     },
     "execution_count": 4,
     "metadata": {},
     "output_type": "execute_result"
    },
    {
     "data": {
      "image/png": "[encoded data removed]",
      "text/plain": [
       "<Figure size 640x480 with 1 Axes>"
      ]
     },
     "metadata": {},
     "output_type": "display_data"
    }
   ],
   "source": [
    "sns.lineplot(data = df,x = 'date',y = 'conversion_count')\n",
    "plt.title('Conversion Count')"
   ]
  },
  {
   "cell_type": "code",
   "execution_count": 5,
   "metadata": {},
   "outputs": [
    {
     "data": {
      "text/plain": [
       "Text(0.5, 1.0, 'Click Count')"
      ]
     },
     "execution_count": 5,
     "metadata": {},
     "output_type": "execute_result"
    },
    {
     "data": {
      "image/png": "[encoded data removed]",
      "text/plain": [
       "<Figure size 640x480 with 1 Axes>"
      ]
     },
     "metadata": {},
     "output_type": "display_data"
    }
   ],
   "source": [
    "sns.lineplot(data = df,x = 'date',y = 'click_count')\n",
    "plt.title('Click Count')"
   ]
  },
  {
   "cell_type": "code",
   "execution_count": 6,
   "metadata": {},
   "outputs": [
    {
     "data": {
      "text/plain": [
       "Text(0.5, 1.0, 'Impression Count')"
      ]
     },
     "execution_count": 6,
     "metadata": {},
     "output_type": "execute_result"
    },
    {
     "data": {
      "image/png": "[encoded data removed]",
      "text/plain": [
       "<Figure size 640x480 with 1 Axes>"
      ]
     },
     "metadata": {},
     "output_type": "display_data"
    }
   ],
   "source": [
    "sns.lineplot(data = df,x = 'date',y = 'impression_count')\n",
    "plt.title('Impression Count')"
   ]
  },
  {
   "cell_type": "code",
   "execution_count": 7,
   "metadata": {},
   "outputs": [
    {
     "data": {
      "text/plain": [
       "<Axes: >"
      ]
     },
     "execution_count": 7,
     "metadata": {},
     "output_type": "execute_result"
    },
    {
     "data": {
      "image/png": "[encoded data removed]",
      "text/plain": [
       "<Figure size 640x480 with 2 Axes>"
      ]
     },
     "metadata": {},
     "output_type": "display_data"
    }
   ],
   "source": [
    "sns.heatmap(data = df.select_dtypes(include = ['int']).corr(),annot = True,fmt = '.2f')"
   ]
  },
  {
   "cell_type": "markdown",
   "metadata": {},
   "source": [
    "# Feature Engineering"
   ]
  },
  {
   "cell_type": "code",
   "execution_count": 8,
   "metadata": {},
   "outputs": [
    {
     "data": {
      "text/html": [
       "<div>\n",
       "<style scoped>\n",
       "    .dataframe tbody tr th:only-of-type {\n",
       "        vertical-align: middle;\n",
       "    }\n",
       "\n",
       "    .dataframe tbody tr th {\n",
       "        vertical-align: top;\n",
       "    }\n",
       "\n",
       "    .dataframe thead th {\n",
       "        text-align: right;\n",
       "    }\n",
       "</style>\n",
       "<table border=\"1\" class=\"dataframe\">\n",
       "  <thead>\n",
       "    <tr style=\"text-align: right;\">\n",
       "      <th></th>\n",
       "      <th>date</th>\n",
       "      <th>group_id</th>\n",
       "      <th>click_count</th>\n",
       "      <th>impression_count</th>\n",
       "      <th>conversion_count</th>\n",
       "      <th>year</th>\n",
       "      <th>month</th>\n",
       "      <th>weekday</th>\n",
       "      <th>dayofyear</th>\n",
       "      <th>is_weekend</th>\n",
       "      <th>is_holiday</th>\n",
       "      <th>conversion_lag_3</th>\n",
       "      <th>conversion_lag_7</th>\n",
       "      <th>conversion_lag_15</th>\n",
       "    </tr>\n",
       "  </thead>\n",
       "  <tbody>\n",
       "    <tr>\n",
       "      <th>0</th>\n",
       "      <td>2024-01-22</td>\n",
       "      <td>64</td>\n",
       "      <td>134</td>\n",
       "      <td>2815</td>\n",
       "      <td>4</td>\n",
       "      <td>2024</td>\n",
       "      <td>1</td>\n",
       "      <td>0</td>\n",
       "      <td>22</td>\n",
       "      <td>0</td>\n",
       "      <td>0</td>\n",
       "      <td>NaN</td>\n",
       "      <td>NaN</td>\n",
       "      <td>NaN</td>\n",
       "    </tr>\n",
       "    <tr>\n",
       "      <th>1</th>\n",
       "      <td>2024-01-23</td>\n",
       "      <td>84</td>\n",
       "      <td>1531</td>\n",
       "      <td>9990</td>\n",
       "      <td>7</td>\n",
       "      <td>2024</td>\n",
       "      <td>1</td>\n",
       "      <td>1</td>\n",
       "      <td>23</td>\n",
       "      <td>0</td>\n",
       "      <td>0</td>\n",
       "      <td>NaN</td>\n",
       "      <td>NaN</td>\n",
       "      <td>NaN</td>\n",
       "    </tr>\n",
       "    <tr>\n",
       "      <th>2</th>\n",
       "      <td>2024-01-24</td>\n",
       "      <td>73</td>\n",
       "      <td>1695</td>\n",
       "      <td>15717</td>\n",
       "      <td>18</td>\n",
       "      <td>2024</td>\n",
       "      <td>1</td>\n",
       "      <td>2</td>\n",
       "      <td>24</td>\n",
       "      <td>0</td>\n",
       "      <td>0</td>\n",
       "      <td>NaN</td>\n",
       "      <td>NaN</td>\n",
       "      <td>NaN</td>\n",
       "    </tr>\n",
       "    <tr>\n",
       "      <th>3</th>\n",
       "      <td>2024-01-25</td>\n",
       "      <td>87</td>\n",
       "      <td>434</td>\n",
       "      <td>7232</td>\n",
       "      <td>3</td>\n",
       "      <td>2024</td>\n",
       "      <td>1</td>\n",
       "      <td>3</td>\n",
       "      <td>25</td>\n",
       "      <td>0</td>\n",
       "      <td>0</td>\n",
       "      <td>4.0</td>\n",
       "      <td>NaN</td>\n",
       "      <td>NaN</td>\n",
       "    </tr>\n",
       "    <tr>\n",
       "      <th>4</th>\n",
       "      <td>2024-01-26</td>\n",
       "      <td>88</td>\n",
       "      <td>290</td>\n",
       "      <td>4912</td>\n",
       "      <td>5</td>\n",
       "      <td>2024</td>\n",
       "      <td>1</td>\n",
       "      <td>4</td>\n",
       "      <td>26</td>\n",
       "      <td>0</td>\n",
       "      <td>0</td>\n",
       "      <td>7.0</td>\n",
       "      <td>NaN</td>\n",
       "      <td>NaN</td>\n",
       "    </tr>\n",
       "    <tr>\n",
       "      <th>...</th>\n",
       "      <td>...</td>\n",
       "      <td>...</td>\n",
       "      <td>...</td>\n",
       "      <td>...</td>\n",
       "      <td>...</td>\n",
       "      <td>...</td>\n",
       "      <td>...</td>\n",
       "      <td>...</td>\n",
       "      <td>...</td>\n",
       "      <td>...</td>\n",
       "      <td>...</td>\n",
       "      <td>...</td>\n",
       "      <td>...</td>\n",
       "      <td>...</td>\n",
       "    </tr>\n",
       "    <tr>\n",
       "      <th>365</th>\n",
       "      <td>2025-01-29</td>\n",
       "      <td>212</td>\n",
       "      <td>207</td>\n",
       "      <td>4648</td>\n",
       "      <td>45</td>\n",
       "      <td>2025</td>\n",
       "      <td>1</td>\n",
       "      <td>2</td>\n",
       "      <td>29</td>\n",
       "      <td>0</td>\n",
       "      <td>0</td>\n",
       "      <td>22.0</td>\n",
       "      <td>36.0</td>\n",
       "      <td>76.0</td>\n",
       "    </tr>\n",
       "    <tr>\n",
       "      <th>366</th>\n",
       "      <td>2025-01-30</td>\n",
       "      <td>226</td>\n",
       "      <td>505</td>\n",
       "      <td>5280</td>\n",
       "      <td>69</td>\n",
       "      <td>2025</td>\n",
       "      <td>1</td>\n",
       "      <td>3</td>\n",
       "      <td>30</td>\n",
       "      <td>0</td>\n",
       "      <td>0</td>\n",
       "      <td>35.0</td>\n",
       "      <td>36.0</td>\n",
       "      <td>26.0</td>\n",
       "    </tr>\n",
       "    <tr>\n",
       "      <th>367</th>\n",
       "      <td>2025-01-31</td>\n",
       "      <td>222</td>\n",
       "      <td>570</td>\n",
       "      <td>5107</td>\n",
       "      <td>75</td>\n",
       "      <td>2025</td>\n",
       "      <td>1</td>\n",
       "      <td>4</td>\n",
       "      <td>31</td>\n",
       "      <td>0</td>\n",
       "      <td>0</td>\n",
       "      <td>29.0</td>\n",
       "      <td>54.0</td>\n",
       "      <td>2.0</td>\n",
       "    </tr>\n",
       "    <tr>\n",
       "      <th>368</th>\n",
       "      <td>2025-02-01</td>\n",
       "      <td>209</td>\n",
       "      <td>263</td>\n",
       "      <td>4866</td>\n",
       "      <td>73</td>\n",
       "      <td>2025</td>\n",
       "      <td>2</td>\n",
       "      <td>5</td>\n",
       "      <td>32</td>\n",
       "      <td>1</td>\n",
       "      <td>0</td>\n",
       "      <td>45.0</td>\n",
       "      <td>45.0</td>\n",
       "      <td>1.0</td>\n",
       "    </tr>\n",
       "    <tr>\n",
       "      <th>369</th>\n",
       "      <td>2025-02-02</td>\n",
       "      <td>146</td>\n",
       "      <td>476</td>\n",
       "      <td>6084</td>\n",
       "      <td>99</td>\n",
       "      <td>2025</td>\n",
       "      <td>2</td>\n",
       "      <td>6</td>\n",
       "      <td>33</td>\n",
       "      <td>1</td>\n",
       "      <td>0</td>\n",
       "      <td>69.0</td>\n",
       "      <td>22.0</td>\n",
       "      <td>3.0</td>\n",
       "    </tr>\n",
       "  </tbody>\n",
       "</table>\n",
       "<p>370 rows × 14 columns</p>\n",
       "</div>"
      ],
      "text/plain": [
       "          date  group_id  click_count  impression_count  conversion_count  \\\n",
       "0   2024-01-22        64          134              2815                 4   \n",
       "1   2024-01-23        84         1531              9990                 7   \n",
       "2   2024-01-24        73         1695             15717                18   \n",
       "3   2024-01-25        87          434              7232                 3   \n",
       "4   2024-01-26        88          290              4912                 5   \n",
       "..         ...       ...          ...               ...               ...   \n",
       "365 2025-01-29       212          207              4648                45   \n",
       "366 2025-01-30       226          505              5280                69   \n",
       "367 2025-01-31       222          570              5107                75   \n",
       "368 2025-02-01       209          263              4866                73   \n",
       "369 2025-02-02       146          476              6084                99   \n",
       "\n",
       "     year  month  weekday  dayofyear  is_weekend  is_holiday  \\\n",
       "0    2024      1        0         22           0           0   \n",
       "1    2024      1        1         23           0           0   \n",
       "2    2024      1        2         24           0           0   \n",
       "3    2024      1        3         25           0           0   \n",
       "4    2024      1        4         26           0           0   \n",
       "..    ...    ...      ...        ...         ...         ...   \n",
       "365  2025      1        2         29           0           0   \n",
       "366  2025      1        3         30           0           0   \n",
       "367  2025      1        4         31           0           0   \n",
       "368  2025      2        5         32           1           0   \n",
       "369  2025      2        6         33           1           0   \n",
       "\n",
       "     conversion_lag_3  conversion_lag_7  conversion_lag_15  \n",
       "0                 NaN               NaN                NaN  \n",
       "1                 NaN               NaN                NaN  \n",
       "2                 NaN               NaN                NaN  \n",
       "3                 4.0               NaN                NaN  \n",
       "4                 7.0               NaN                NaN  \n",
       "..                ...               ...                ...  \n",
       "365              22.0              36.0               76.0  \n",
       "366              35.0              36.0               26.0  \n",
       "367              29.0              54.0                2.0  \n",
       "368              45.0              45.0                1.0  \n",
       "369              69.0              22.0                3.0  \n",
       "\n",
       "[370 rows x 14 columns]"
      ]
     },
     "execution_count": 8,
     "metadata": {},
     "output_type": "execute_result"
    }
   ],
   "source": [
    "# Time based features\n",
    "df['year'] = df['date'].dt.year\n",
    "df['month'] = df['date'].dt.month\n",
    "df['weekday'] = df['date'].dt.weekday\n",
    "df['dayofyear'] = df['date'].dt.dayofyear\n",
    "df[\"is_weekend\"] = df[\"weekday\"].isin([5, 6]).astype(int)\n",
    "\n",
    "# Turkish Holidays\n",
    "holidays = [\"2024-01-01\", \"2024-04-23\", \"2024-05-01\", \"2024-05-19\", \"2024-07-15\", \"2024-08-30\", \"2024-10-29\"]\n",
    "df[\"is_holiday\"] = df[\"date\"].astype(str).isin(holidays).astype(int)\n",
    "\n",
    "# Lags\n",
    "lags = [3, 7, 15]\n",
    "for lag in lags:\n",
    "    df[f\"conversion_lag_{lag}\"] = df[\"conversion_count\"].shift(lag)\n",
    "\n",
    "df\n"
   ]
  },
  {
   "cell_type": "code",
   "execution_count": 9,
   "metadata": {},
   "outputs": [
    {
     "data": {
      "text/html": [
       "<div>\n",
       "<style scoped>\n",
       "    .dataframe tbody tr th:only-of-type {\n",
       "        vertical-align: middle;\n",
       "    }\n",
       "\n",
       "    .dataframe tbody tr th {\n",
       "        vertical-align: top;\n",
       "    }\n",
       "\n",
       "    .dataframe thead th {\n",
       "        text-align: right;\n",
       "    }\n",
       "</style>\n",
       "<table border=\"1\" class=\"dataframe\">\n",
       "  <thead>\n",
       "    <tr style=\"text-align: right;\">\n",
       "      <th></th>\n",
       "      <th>date</th>\n",
       "      <th>group_id</th>\n",
       "      <th>click_count</th>\n",
       "      <th>impression_count</th>\n",
       "      <th>conversion_count</th>\n",
       "      <th>year</th>\n",
       "      <th>month</th>\n",
       "      <th>weekday</th>\n",
       "      <th>dayofyear</th>\n",
       "      <th>is_weekend</th>\n",
       "      <th>is_holiday</th>\n",
       "      <th>conversion_lag_3</th>\n",
       "      <th>conversion_lag_7</th>\n",
       "      <th>conversion_lag_15</th>\n",
       "    </tr>\n",
       "  </thead>\n",
       "  <tbody>\n",
       "    <tr>\n",
       "      <th>0</th>\n",
       "      <td>2024-01-22</td>\n",
       "      <td>64</td>\n",
       "      <td>134</td>\n",
       "      <td>2815</td>\n",
       "      <td>4</td>\n",
       "      <td>2024</td>\n",
       "      <td>1</td>\n",
       "      <td>0</td>\n",
       "      <td>22</td>\n",
       "      <td>0</td>\n",
       "      <td>0</td>\n",
       "      <td>0.0</td>\n",
       "      <td>0.0</td>\n",
       "      <td>0.0</td>\n",
       "    </tr>\n",
       "    <tr>\n",
       "      <th>1</th>\n",
       "      <td>2024-01-23</td>\n",
       "      <td>84</td>\n",
       "      <td>1531</td>\n",
       "      <td>9990</td>\n",
       "      <td>7</td>\n",
       "      <td>2024</td>\n",
       "      <td>1</td>\n",
       "      <td>1</td>\n",
       "      <td>23</td>\n",
       "      <td>0</td>\n",
       "      <td>0</td>\n",
       "      <td>0.0</td>\n",
       "      <td>0.0</td>\n",
       "      <td>0.0</td>\n",
       "    </tr>\n",
       "    <tr>\n",
       "      <th>2</th>\n",
       "      <td>2024-01-24</td>\n",
       "      <td>73</td>\n",
       "      <td>1695</td>\n",
       "      <td>15717</td>\n",
       "      <td>18</td>\n",
       "      <td>2024</td>\n",
       "      <td>1</td>\n",
       "      <td>2</td>\n",
       "      <td>24</td>\n",
       "      <td>0</td>\n",
       "      <td>0</td>\n",
       "      <td>0.0</td>\n",
       "      <td>0.0</td>\n",
       "      <td>0.0</td>\n",
       "    </tr>\n",
       "    <tr>\n",
       "      <th>3</th>\n",
       "      <td>2024-01-25</td>\n",
       "      <td>87</td>\n",
       "      <td>434</td>\n",
       "      <td>7232</td>\n",
       "      <td>3</td>\n",
       "      <td>2024</td>\n",
       "      <td>1</td>\n",
       "      <td>3</td>\n",
       "      <td>25</td>\n",
       "      <td>0</td>\n",
       "      <td>0</td>\n",
       "      <td>4.0</td>\n",
       "      <td>0.0</td>\n",
       "      <td>0.0</td>\n",
       "    </tr>\n",
       "    <tr>\n",
       "      <th>4</th>\n",
       "      <td>2024-01-26</td>\n",
       "      <td>88</td>\n",
       "      <td>290</td>\n",
       "      <td>4912</td>\n",
       "      <td>5</td>\n",
       "      <td>2024</td>\n",
       "      <td>1</td>\n",
       "      <td>4</td>\n",
       "      <td>26</td>\n",
       "      <td>0</td>\n",
       "      <td>0</td>\n",
       "      <td>7.0</td>\n",
       "      <td>0.0</td>\n",
       "      <td>0.0</td>\n",
       "    </tr>\n",
       "    <tr>\n",
       "      <th>...</th>\n",
       "      <td>...</td>\n",
       "      <td>...</td>\n",
       "      <td>...</td>\n",
       "      <td>...</td>\n",
       "      <td>...</td>\n",
       "      <td>...</td>\n",
       "      <td>...</td>\n",
       "      <td>...</td>\n",
       "      <td>...</td>\n",
       "      <td>...</td>\n",
       "      <td>...</td>\n",
       "      <td>...</td>\n",
       "      <td>...</td>\n",
       "      <td>...</td>\n",
       "    </tr>\n",
       "    <tr>\n",
       "      <th>365</th>\n",
       "      <td>2025-01-29</td>\n",
       "      <td>212</td>\n",
       "      <td>207</td>\n",
       "      <td>4648</td>\n",
       "      <td>45</td>\n",
       "      <td>2025</td>\n",
       "      <td>1</td>\n",
       "      <td>2</td>\n",
       "      <td>29</td>\n",
       "      <td>0</td>\n",
       "      <td>0</td>\n",
       "      <td>22.0</td>\n",
       "      <td>36.0</td>\n",
       "      <td>76.0</td>\n",
       "    </tr>\n",
       "    <tr>\n",
       "      <th>366</th>\n",
       "      <td>2025-01-30</td>\n",
       "      <td>226</td>\n",
       "      <td>505</td>\n",
       "      <td>5280</td>\n",
       "      <td>69</td>\n",
       "      <td>2025</td>\n",
       "      <td>1</td>\n",
       "      <td>3</td>\n",
       "      <td>30</td>\n",
       "      <td>0</td>\n",
       "      <td>0</td>\n",
       "      <td>35.0</td>\n",
       "      <td>36.0</td>\n",
       "      <td>26.0</td>\n",
       "    </tr>\n",
       "    <tr>\n",
       "      <th>367</th>\n",
       "      <td>2025-01-31</td>\n",
       "      <td>222</td>\n",
       "      <td>570</td>\n",
       "      <td>5107</td>\n",
       "      <td>75</td>\n",
       "      <td>2025</td>\n",
       "      <td>1</td>\n",
       "      <td>4</td>\n",
       "      <td>31</td>\n",
       "      <td>0</td>\n",
       "      <td>0</td>\n",
       "      <td>29.0</td>\n",
       "      <td>54.0</td>\n",
       "      <td>2.0</td>\n",
       "    </tr>\n",
       "    <tr>\n",
       "      <th>368</th>\n",
       "      <td>2025-02-01</td>\n",
       "      <td>209</td>\n",
       "      <td>263</td>\n",
       "      <td>4866</td>\n",
       "      <td>73</td>\n",
       "      <td>2025</td>\n",
       "      <td>2</td>\n",
       "      <td>5</td>\n",
       "      <td>32</td>\n",
       "      <td>1</td>\n",
       "      <td>0</td>\n",
       "      <td>45.0</td>\n",
       "      <td>45.0</td>\n",
       "      <td>1.0</td>\n",
       "    </tr>\n",
       "    <tr>\n",
       "      <th>369</th>\n",
       "      <td>2025-02-02</td>\n",
       "      <td>146</td>\n",
       "      <td>476</td>\n",
       "      <td>6084</td>\n",
       "      <td>99</td>\n",
       "      <td>2025</td>\n",
       "      <td>2</td>\n",
       "      <td>6</td>\n",
       "      <td>33</td>\n",
       "      <td>1</td>\n",
       "      <td>0</td>\n",
       "      <td>69.0</td>\n",
       "      <td>22.0</td>\n",
       "      <td>3.0</td>\n",
       "    </tr>\n",
       "  </tbody>\n",
       "</table>\n",
       "<p>370 rows × 14 columns</p>\n",
       "</div>"
      ],
      "text/plain": [
       "          date  group_id  click_count  impression_count  conversion_count  \\\n",
       "0   2024-01-22        64          134              2815                 4   \n",
       "1   2024-01-23        84         1531              9990                 7   \n",
       "2   2024-01-24        73         1695             15717                18   \n",
       "3   2024-01-25        87          434              7232                 3   \n",
       "4   2024-01-26        88          290              4912                 5   \n",
       "..         ...       ...          ...               ...               ...   \n",
       "365 2025-01-29       212          207              4648                45   \n",
       "366 2025-01-30       226          505              5280                69   \n",
       "367 2025-01-31       222          570              5107                75   \n",
       "368 2025-02-01       209          263              4866                73   \n",
       "369 2025-02-02       146          476              6084                99   \n",
       "\n",
       "     year  month  weekday  dayofyear  is_weekend  is_holiday  \\\n",
       "0    2024      1        0         22           0           0   \n",
       "1    2024      1        1         23           0           0   \n",
       "2    2024      1        2         24           0           0   \n",
       "3    2024      1        3         25           0           0   \n",
       "4    2024      1        4         26           0           0   \n",
       "..    ...    ...      ...        ...         ...         ...   \n",
       "365  2025      1        2         29           0           0   \n",
       "366  2025      1        3         30           0           0   \n",
       "367  2025      1        4         31           0           0   \n",
       "368  2025      2        5         32           1           0   \n",
       "369  2025      2        6         33           1           0   \n",
       "\n",
       "     conversion_lag_3  conversion_lag_7  conversion_lag_15  \n",
       "0                 0.0               0.0                0.0  \n",
       "1                 0.0               0.0                0.0  \n",
       "2                 0.0               0.0                0.0  \n",
       "3                 4.0               0.0                0.0  \n",
       "4                 7.0               0.0                0.0  \n",
       "..                ...               ...                ...  \n",
       "365              22.0              36.0               76.0  \n",
       "366              35.0              36.0               26.0  \n",
       "367              29.0              54.0                2.0  \n",
       "368              45.0              45.0                1.0  \n",
       "369              69.0              22.0                3.0  \n",
       "\n",
       "[370 rows x 14 columns]"
      ]
     },
     "execution_count": 9,
     "metadata": {},
     "output_type": "execute_result"
    }
   ],
   "source": [
    "# Since we don't have any information about previous days prior to first day we fill NaN's with 0's\n",
    "\n",
    "df.fillna(0, inplace = True)\n",
    "df"
   ]
  },
  {
   "cell_type": "code",
   "execution_count": 10,
   "metadata": {},
   "outputs": [
    {
     "name": "stderr",
     "output_type": "stream",
     "text": [
      "15:39:58 - cmdstanpy - INFO - Chain [1] start processing\n",
      "15:39:59 - cmdstanpy - INFO - Chain [1] done processing\n"
     ]
    },
    {
     "data": {
      "text/plain": [
       "<prophet.forecaster.Prophet at 0x17f440d08d0>"
      ]
     },
     "execution_count": 10,
     "metadata": {},
     "output_type": "execute_result"
    }
   ],
   "source": [
    "from prophet import Prophet\n",
    "\n",
    "# Define a prophet DataFrame with proper naming\n",
    "df_prophet = df.rename(columns={\"date\": \"ds\", \"conversion_count\": \"y\"})\n",
    "\n",
    "# Turn Date into date format\n",
    "df_prophet[\"ds\"] = pd.to_datetime(df_prophet[\"ds\"])\n",
    "\n",
    "# Create a prophet object\n",
    "model = Prophet()\n",
    "\n",
    "model.add_regressor('click_count')\n",
    "model.add_regressor('month')\n",
    "model.add_regressor('impression_count')\n",
    "model.add_regressor('weekday')\n",
    "model.add_regressor('dayofyear')\n",
    "model.add_regressor('is_weekend')\n",
    "model.add_regressor('is_holiday')\n",
    "\n",
    "model.fit(df_prophet)"
   ]
  },
  {
   "cell_type": "code",
   "execution_count": 11,
   "metadata": {},
   "outputs": [
    {
     "data": {
      "text/html": [
       "<div>\n",
       "<style scoped>\n",
       "    .dataframe tbody tr th:only-of-type {\n",
       "        vertical-align: middle;\n",
       "    }\n",
       "\n",
       "    .dataframe tbody tr th {\n",
       "        vertical-align: top;\n",
       "    }\n",
       "\n",
       "    .dataframe thead th {\n",
       "        text-align: right;\n",
       "    }\n",
       "</style>\n",
       "<table border=\"1\" class=\"dataframe\">\n",
       "  <thead>\n",
       "    <tr style=\"text-align: right;\">\n",
       "      <th></th>\n",
       "      <th>ds</th>\n",
       "      <th>yhat</th>\n",
       "      <th>yhat_lower</th>\n",
       "      <th>yhat_upper</th>\n",
       "    </tr>\n",
       "  </thead>\n",
       "  <tbody>\n",
       "    <tr>\n",
       "      <th>0</th>\n",
       "      <td>2024-01-22</td>\n",
       "      <td>35.891650</td>\n",
       "      <td>-44.625525</td>\n",
       "      <td>125.605062</td>\n",
       "    </tr>\n",
       "    <tr>\n",
       "      <th>1</th>\n",
       "      <td>2024-01-23</td>\n",
       "      <td>39.359164</td>\n",
       "      <td>-52.013714</td>\n",
       "      <td>126.010916</td>\n",
       "    </tr>\n",
       "    <tr>\n",
       "      <th>2</th>\n",
       "      <td>2024-01-24</td>\n",
       "      <td>42.313271</td>\n",
       "      <td>-42.941325</td>\n",
       "      <td>121.111491</td>\n",
       "    </tr>\n",
       "    <tr>\n",
       "      <th>3</th>\n",
       "      <td>2024-01-25</td>\n",
       "      <td>39.608951</td>\n",
       "      <td>-50.810702</td>\n",
       "      <td>124.021218</td>\n",
       "    </tr>\n",
       "    <tr>\n",
       "      <th>4</th>\n",
       "      <td>2024-01-26</td>\n",
       "      <td>51.038261</td>\n",
       "      <td>-37.898278</td>\n",
       "      <td>142.666531</td>\n",
       "    </tr>\n",
       "    <tr>\n",
       "      <th>...</th>\n",
       "      <td>...</td>\n",
       "      <td>...</td>\n",
       "      <td>...</td>\n",
       "      <td>...</td>\n",
       "    </tr>\n",
       "    <tr>\n",
       "      <th>372</th>\n",
       "      <td>2025-02-05</td>\n",
       "      <td>115.017954</td>\n",
       "      <td>30.958351</td>\n",
       "      <td>203.945534</td>\n",
       "    </tr>\n",
       "    <tr>\n",
       "      <th>373</th>\n",
       "      <td>2025-02-06</td>\n",
       "      <td>113.627833</td>\n",
       "      <td>27.153404</td>\n",
       "      <td>194.767861</td>\n",
       "    </tr>\n",
       "    <tr>\n",
       "      <th>374</th>\n",
       "      <td>2025-02-07</td>\n",
       "      <td>126.371344</td>\n",
       "      <td>45.844368</td>\n",
       "      <td>215.869271</td>\n",
       "    </tr>\n",
       "    <tr>\n",
       "      <th>375</th>\n",
       "      <td>2025-02-08</td>\n",
       "      <td>113.167325</td>\n",
       "      <td>25.311151</td>\n",
       "      <td>198.734986</td>\n",
       "    </tr>\n",
       "    <tr>\n",
       "      <th>376</th>\n",
       "      <td>2025-02-09</td>\n",
       "      <td>106.469668</td>\n",
       "      <td>20.555622</td>\n",
       "      <td>195.393947</td>\n",
       "    </tr>\n",
       "  </tbody>\n",
       "</table>\n",
       "<p>377 rows × 4 columns</p>\n",
       "</div>"
      ],
      "text/plain": [
       "            ds        yhat  yhat_lower  yhat_upper\n",
       "0   2024-01-22   35.891650  -44.625525  125.605062\n",
       "1   2024-01-23   39.359164  -52.013714  126.010916\n",
       "2   2024-01-24   42.313271  -42.941325  121.111491\n",
       "3   2024-01-25   39.608951  -50.810702  124.021218\n",
       "4   2024-01-26   51.038261  -37.898278  142.666531\n",
       "..         ...         ...         ...         ...\n",
       "372 2025-02-05  115.017954   30.958351  203.945534\n",
       "373 2025-02-06  113.627833   27.153404  194.767861\n",
       "374 2025-02-07  126.371344   45.844368  215.869271\n",
       "375 2025-02-08  113.167325   25.311151  198.734986\n",
       "376 2025-02-09  106.469668   20.555622  195.393947\n",
       "\n",
       "[377 rows x 4 columns]"
      ]
     },
     "execution_count": 11,
     "metadata": {},
     "output_type": "execute_result"
    }
   ],
   "source": [
    "# Make future dataframe 7 days long\n",
    "future = model.make_future_dataframe(periods=7)\n",
    "\n",
    "future['click_count'] = df['click_count'].iloc[-1]  \n",
    "future['month'] = df['month'].iloc[-1]  \n",
    "future['impression_count'] = df['impression_count'].iloc[-1] \n",
    "future['weekday'] = df['weekday'].iloc[-1]\n",
    "future['dayofyear'] = df['dayofyear'].iloc[-1]\n",
    "future['is_weekend'] = df['is_weekend'].iloc[-1]\n",
    "future['is_holiday'] = df['is_holiday'].iloc[-1]\n",
    "# Prediction\n",
    "forecast = model.predict(future)\n",
    "\n",
    "# 7 days forecasting\n",
    "forecast_7_days = forecast[[\"ds\", \"yhat\", \"yhat_lower\", \"yhat_upper\"]]\n",
    "forecast_7_days\n"
   ]
  },
  {
   "cell_type": "code",
   "execution_count": 12,
   "metadata": {},
   "outputs": [
    {
     "data": {
      "image/png": "[encoded data removed]",
      "text/plain": [
       "<Figure size 1000x600 with 1 Axes>"
      ]
     },
     "metadata": {},
     "output_type": "display_data"
    },
    {
     "data": {
      "image/png": "[encoded data removed]",
      "text/plain": [
       "<Figure size 900x900 with 3 Axes>"
      ]
     },
     "metadata": {},
     "output_type": "display_data"
    }
   ],
   "source": [
    "# Plot predictions\n",
    "fig1 = model.plot(forecast)\n",
    "plt.show()\n",
    "\n",
    "# Plot components\n",
    "fig2 = model.plot_components(forecast)\n",
    "plt.show()"
   ]
  },
  {
   "cell_type": "code",
   "execution_count": 13,
   "metadata": {},
   "outputs": [
    {
     "name": "stdout",
     "output_type": "stream",
     "text": [
      "MAE: 52.338814362755166\n",
      "RMSE: 57.22366406176998\n",
      "MAPE: 1.1942832814357305\n"
     ]
    }
   ],
   "source": [
    "from sklearn.metrics import mean_absolute_percentage_error, mean_absolute_error, mean_squared_error\n",
    "train = df_prophet\n",
    "test = df_prophet.tail(7)  # For example, we can use the last 7 data points for testing\n",
    "\n",
    "# The actual values for the last 7 days in the test set\n",
    "actual_values = test['y']\n",
    "\n",
    "# The predicted values from the Prophet model (forecasted)\n",
    "predicted_values = forecast['yhat'].tail(7)\n",
    "\n",
    "# 1. MAE (Mean Absolute Error)\n",
    "mae = mean_absolute_error(actual_values, predicted_values)\n",
    "print(f\"MAE: {mae}\")\n",
    "\n",
    "# 2. RMSE (Root Mean Squared Error)\n",
    "rmse = np.sqrt(mean_squared_error(actual_values, predicted_values))\n",
    "print(f\"RMSE: {rmse}\")\n",
    "\n",
    "# 3. MAPE (Mean Absolute Percentage Error)\n",
    "mape = mean_absolute_percentage_error(actual_values,predicted_values)\n",
    "print(f\"MAPE: {mape}\")"
   ]
  },
  {
   "cell_type": "markdown",
   "metadata": {},
   "source": [
    "# Hyperparameter Optimization"
   ]
  },
  {
   "cell_type": "code",
   "execution_count": 14,
   "metadata": {},
   "outputs": [
    {
     "name": "stdout",
     "output_type": "stream",
     "text": [
      "Total Possible Models 192\n"
     ]
    }
   ],
   "source": [
    "from prophet.diagnostics import cross_validation, performance_metrics\n",
    "from sklearn.model_selection import ParameterGrid\n",
    "\n",
    "# Define a grid of hyperparameters to search\n",
    "param_grid = {\n",
    "    'changepoint_prior_scale': [0.001, 0.01, 0.1, 0.5],\n",
    "    'seasonality_prior_scale': [10, 50, 100, 500],\n",
    "    'holidays_prior_scale': [0.01, 0.1, 1],\n",
    "    'seasonality_mode': ['additive', 'multiplicative'],\n",
    "    'growth': ['linear', 'logistic']\n",
    "}\n",
    "\n",
    "# Perform cross-validation on different hyperparameters\n",
    "best_score = float('inf')\n",
    "best_params = {}\n",
    "\n",
    "grid = ParameterGrid(param_grid)\n",
    "cnt = 0\n",
    "for p in grid:\n",
    "    cnt = cnt+1\n",
    "\n",
    "print('Total Possible Models',cnt)"
   ]
  },
  {
   "cell_type": "code",
   "execution_count": 15,
   "metadata": {},
   "outputs": [
    {
     "name": "stdout",
     "output_type": "stream",
     "text": [
      "Model 1 with parameters: {'changepoint_prior_scale': 0.001, 'growth': 'linear', 'holidays_prior_scale': 0.01, 'seasonality_mode': 'additive', 'seasonality_prior_scale': 10}\n"
     ]
    },
    {
     "name": "stderr",
     "output_type": "stream",
     "text": [
      "15:40:57 - cmdstanpy - INFO - Chain [1] start processing\n",
      "15:40:57 - cmdstanpy - INFO - Chain [1] done processing\n",
      "  0%|          | 0/1 [00:00<?, ?it/s]15:40:57 - cmdstanpy - INFO - Chain [1] start processing\n",
      "15:40:57 - cmdstanpy - INFO - Chain [1] done processing\n",
      "100%|██████████| 1/1 [00:00<00:00,  2.36it/s]\n"
     ]
    },
    {
     "name": "stdout",
     "output_type": "stream",
     "text": [
      "RMSE: 20.065189368112613 for parameters: {'changepoint_prior_scale': 0.001, 'growth': 'linear', 'holidays_prior_scale': 0.01, 'seasonality_mode': 'additive', 'seasonality_prior_scale': 10}\n",
      "Model 2 with parameters: {'changepoint_prior_scale': 0.001, 'growth': 'linear', 'holidays_prior_scale': 0.01, 'seasonality_mode': 'additive', 'seasonality_prior_scale': 50}\n"
     ]
    },
    {
     "name": "stderr",
     "output_type": "stream",
     "text": [
      "15:40:58 - cmdstanpy - INFO - Chain [1] start processing\n",
      "15:40:58 - cmdstanpy - INFO - Chain [1] done processing\n",
      "  0%|          | 0/1 [00:00<?, ?it/s]15:40:58 - cmdstanpy - INFO - Chain [1] start processing\n",
      "15:40:58 - cmdstanpy - INFO - Chain [1] done processing\n",
      "100%|██████████| 1/1 [00:00<00:00,  2.16it/s]\n"
     ]
    },
    {
     "name": "stdout",
     "output_type": "stream",
     "text": [
      "RMSE: 20.072049683285776 for parameters: {'changepoint_prior_scale': 0.001, 'growth': 'linear', 'holidays_prior_scale': 0.01, 'seasonality_mode': 'additive', 'seasonality_prior_scale': 50}\n",
      "Model 3 with parameters: {'changepoint_prior_scale': 0.001, 'growth': 'linear', 'holidays_prior_scale': 0.01, 'seasonality_mode': 'additive', 'seasonality_prior_scale': 100}\n"
     ]
    },
    {
     "name": "stderr",
     "output_type": "stream",
     "text": [
      "15:40:59 - cmdstanpy - INFO - Chain [1] start processing\n",
      "15:40:59 - cmdstanpy - INFO - Chain [1] done processing\n",
      "  0%|          | 0/1 [00:00<?, ?it/s]15:40:59 - cmdstanpy - INFO - Chain [1] start processing\n",
      "15:40:59 - cmdstanpy - INFO - Chain [1] done processing\n",
      "100%|██████████| 1/1 [00:00<00:00,  2.45it/s]\n"
     ]
    },
    {
     "name": "stdout",
     "output_type": "stream",
     "text": [
      "RMSE: 20.07225964102636 for parameters: {'changepoint_prior_scale': 0.001, 'growth': 'linear', 'holidays_prior_scale': 0.01, 'seasonality_mode': 'additive', 'seasonality_prior_scale': 100}\n",
      "Model 4 with parameters: {'changepoint_prior_scale': 0.001, 'growth': 'linear', 'holidays_prior_scale': 0.01, 'seasonality_mode': 'additive', 'seasonality_prior_scale': 500}\n"
     ]
    },
    {
     "name": "stderr",
     "output_type": "stream",
     "text": [
      "15:41:00 - cmdstanpy - INFO - Chain [1] start processing\n",
      "15:41:00 - cmdstanpy - INFO - Chain [1] done processing\n",
      "  0%|          | 0/1 [00:00<?, ?it/s]15:41:00 - cmdstanpy - INFO - Chain [1] start processing\n",
      "15:41:00 - cmdstanpy - INFO - Chain [1] done processing\n",
      "100%|██████████| 1/1 [00:00<00:00,  2.30it/s]\n"
     ]
    },
    {
     "name": "stdout",
     "output_type": "stream",
     "text": [
      "RMSE: 20.072835552133316 for parameters: {'changepoint_prior_scale': 0.001, 'growth': 'linear', 'holidays_prior_scale': 0.01, 'seasonality_mode': 'additive', 'seasonality_prior_scale': 500}\n",
      "Model 5 with parameters: {'changepoint_prior_scale': 0.001, 'growth': 'linear', 'holidays_prior_scale': 0.01, 'seasonality_mode': 'multiplicative', 'seasonality_prior_scale': 10}\n"
     ]
    },
    {
     "name": "stderr",
     "output_type": "stream",
     "text": [
      "15:41:00 - cmdstanpy - INFO - Chain [1] start processing\n",
      "15:41:01 - cmdstanpy - INFO - Chain [1] done processing\n",
      "  0%|          | 0/1 [00:00<?, ?it/s]15:41:01 - cmdstanpy - INFO - Chain [1] start processing\n",
      "15:41:01 - cmdstanpy - INFO - Chain [1] done processing\n",
      "100%|██████████| 1/1 [00:00<00:00,  2.31it/s]\n"
     ]
    },
    {
     "name": "stdout",
     "output_type": "stream",
     "text": [
      "RMSE: 50.645315651250485 for parameters: {'changepoint_prior_scale': 0.001, 'growth': 'linear', 'holidays_prior_scale': 0.01, 'seasonality_mode': 'multiplicative', 'seasonality_prior_scale': 10}\n",
      "Model 6 with parameters: {'changepoint_prior_scale': 0.001, 'growth': 'linear', 'holidays_prior_scale': 0.01, 'seasonality_mode': 'multiplicative', 'seasonality_prior_scale': 50}\n"
     ]
    },
    {
     "name": "stderr",
     "output_type": "stream",
     "text": [
      "15:41:01 - cmdstanpy - INFO - Chain [1] start processing\n",
      "15:41:01 - cmdstanpy - INFO - Chain [1] done processing\n",
      "  0%|          | 0/1 [00:00<?, ?it/s]15:41:02 - cmdstanpy - INFO - Chain [1] start processing\n",
      "15:41:02 - cmdstanpy - INFO - Chain [1] done processing\n",
      "100%|██████████| 1/1 [00:00<00:00,  2.19it/s]\n"
     ]
    },
    {
     "name": "stdout",
     "output_type": "stream",
     "text": [
      "RMSE: 50.644483536299894 for parameters: {'changepoint_prior_scale': 0.001, 'growth': 'linear', 'holidays_prior_scale': 0.01, 'seasonality_mode': 'multiplicative', 'seasonality_prior_scale': 50}\n",
      "Model 7 with parameters: {'changepoint_prior_scale': 0.001, 'growth': 'linear', 'holidays_prior_scale': 0.01, 'seasonality_mode': 'multiplicative', 'seasonality_prior_scale': 100}\n"
     ]
    },
    {
     "name": "stderr",
     "output_type": "stream",
     "text": [
      "15:41:02 - cmdstanpy - INFO - Chain [1] start processing\n",
      "15:41:02 - cmdstanpy - INFO - Chain [1] done processing\n",
      "  0%|          | 0/1 [00:00<?, ?it/s]15:41:03 - cmdstanpy - INFO - Chain [1] start processing\n",
      "15:41:03 - cmdstanpy - INFO - Chain [1] done processing\n",
      "100%|██████████| 1/1 [00:00<00:00,  2.25it/s]\n"
     ]
    },
    {
     "name": "stdout",
     "output_type": "stream",
     "text": [
      "RMSE: 50.64445136372568 for parameters: {'changepoint_prior_scale': 0.001, 'growth': 'linear', 'holidays_prior_scale': 0.01, 'seasonality_mode': 'multiplicative', 'seasonality_prior_scale': 100}\n",
      "Model 8 with parameters: {'changepoint_prior_scale': 0.001, 'growth': 'linear', 'holidays_prior_scale': 0.01, 'seasonality_mode': 'multiplicative', 'seasonality_prior_scale': 500}\n"
     ]
    },
    {
     "name": "stderr",
     "output_type": "stream",
     "text": [
      "15:41:03 - cmdstanpy - INFO - Chain [1] start processing\n",
      "15:41:03 - cmdstanpy - INFO - Chain [1] done processing\n",
      "  0%|          | 0/1 [00:00<?, ?it/s]15:41:04 - cmdstanpy - INFO - Chain [1] start processing\n",
      "15:41:04 - cmdstanpy - INFO - Chain [1] done processing\n",
      "100%|██████████| 1/1 [00:00<00:00,  2.30it/s]\n"
     ]
    },
    {
     "name": "stdout",
     "output_type": "stream",
     "text": [
      "RMSE: 50.64442896894376 for parameters: {'changepoint_prior_scale': 0.001, 'growth': 'linear', 'holidays_prior_scale': 0.01, 'seasonality_mode': 'multiplicative', 'seasonality_prior_scale': 500}\n",
      "Model 9 with parameters: {'changepoint_prior_scale': 0.001, 'growth': 'linear', 'holidays_prior_scale': 0.1, 'seasonality_mode': 'additive', 'seasonality_prior_scale': 10}\n"
     ]
    },
    {
     "name": "stderr",
     "output_type": "stream",
     "text": [
      "15:41:04 - cmdstanpy - INFO - Chain [1] start processing\n",
      "15:41:04 - cmdstanpy - INFO - Chain [1] done processing\n",
      "  0%|          | 0/1 [00:00<?, ?it/s]15:41:04 - cmdstanpy - INFO - Chain [1] start processing\n",
      "15:41:04 - cmdstanpy - INFO - Chain [1] done processing\n",
      "100%|██████████| 1/1 [00:00<00:00,  2.24it/s]\n"
     ]
    },
    {
     "name": "stdout",
     "output_type": "stream",
     "text": [
      "RMSE: 32.68692299379149 for parameters: {'changepoint_prior_scale': 0.001, 'growth': 'linear', 'holidays_prior_scale': 0.1, 'seasonality_mode': 'additive', 'seasonality_prior_scale': 10}\n",
      "Model 10 with parameters: {'changepoint_prior_scale': 0.001, 'growth': 'linear', 'holidays_prior_scale': 0.1, 'seasonality_mode': 'additive', 'seasonality_prior_scale': 50}\n"
     ]
    },
    {
     "name": "stderr",
     "output_type": "stream",
     "text": [
      "15:41:05 - cmdstanpy - INFO - Chain [1] start processing\n",
      "15:41:05 - cmdstanpy - INFO - Chain [1] done processing\n",
      "  0%|          | 0/1 [00:00<?, ?it/s]15:41:05 - cmdstanpy - INFO - Chain [1] start processing\n",
      "15:41:05 - cmdstanpy - INFO - Chain [1] done processing\n",
      "100%|██████████| 1/1 [00:00<00:00,  2.17it/s]\n"
     ]
    },
    {
     "name": "stdout",
     "output_type": "stream",
     "text": [
      "RMSE: 32.70969072137532 for parameters: {'changepoint_prior_scale': 0.001, 'growth': 'linear', 'holidays_prior_scale': 0.1, 'seasonality_mode': 'additive', 'seasonality_prior_scale': 50}\n",
      "Model 11 with parameters: {'changepoint_prior_scale': 0.001, 'growth': 'linear', 'holidays_prior_scale': 0.1, 'seasonality_mode': 'additive', 'seasonality_prior_scale': 100}\n"
     ]
    },
    {
     "name": "stderr",
     "output_type": "stream",
     "text": [
      "15:41:06 - cmdstanpy - INFO - Chain [1] start processing\n",
      "15:41:06 - cmdstanpy - INFO - Chain [1] done processing\n",
      "  0%|          | 0/1 [00:00<?, ?it/s]15:41:06 - cmdstanpy - INFO - Chain [1] start processing\n",
      "15:41:06 - cmdstanpy - INFO - Chain [1] done processing\n",
      "100%|██████████| 1/1 [00:00<00:00,  2.30it/s]\n"
     ]
    },
    {
     "name": "stdout",
     "output_type": "stream",
     "text": [
      "RMSE: 32.70968048714699 for parameters: {'changepoint_prior_scale': 0.001, 'growth': 'linear', 'holidays_prior_scale': 0.1, 'seasonality_mode': 'additive', 'seasonality_prior_scale': 100}\n",
      "Model 12 with parameters: {'changepoint_prior_scale': 0.001, 'growth': 'linear', 'holidays_prior_scale': 0.1, 'seasonality_mode': 'additive', 'seasonality_prior_scale': 500}\n"
     ]
    },
    {
     "name": "stderr",
     "output_type": "stream",
     "text": [
      "15:41:07 - cmdstanpy - INFO - Chain [1] start processing\n",
      "15:41:07 - cmdstanpy - INFO - Chain [1] done processing\n",
      "  0%|          | 0/1 [00:00<?, ?it/s]15:41:07 - cmdstanpy - INFO - Chain [1] start processing\n",
      "15:41:07 - cmdstanpy - INFO - Chain [1] done processing\n",
      "100%|██████████| 1/1 [00:00<00:00,  2.25it/s]\n"
     ]
    },
    {
     "name": "stdout",
     "output_type": "stream",
     "text": [
      "RMSE: 32.70968428810354 for parameters: {'changepoint_prior_scale': 0.001, 'growth': 'linear', 'holidays_prior_scale': 0.1, 'seasonality_mode': 'additive', 'seasonality_prior_scale': 500}\n",
      "Model 13 with parameters: {'changepoint_prior_scale': 0.001, 'growth': 'linear', 'holidays_prior_scale': 0.1, 'seasonality_mode': 'multiplicative', 'seasonality_prior_scale': 10}\n"
     ]
    },
    {
     "name": "stderr",
     "output_type": "stream",
     "text": [
      "15:41:08 - cmdstanpy - INFO - Chain [1] start processing\n",
      "15:41:08 - cmdstanpy - INFO - Chain [1] done processing\n",
      "  0%|          | 0/1 [00:00<?, ?it/s]15:41:08 - cmdstanpy - INFO - Chain [1] start processing\n",
      "15:41:08 - cmdstanpy - INFO - Chain [1] done processing\n",
      "100%|██████████| 1/1 [00:00<00:00,  2.41it/s]\n"
     ]
    },
    {
     "name": "stdout",
     "output_type": "stream",
     "text": [
      "RMSE: 26.50516741385496 for parameters: {'changepoint_prior_scale': 0.001, 'growth': 'linear', 'holidays_prior_scale': 0.1, 'seasonality_mode': 'multiplicative', 'seasonality_prior_scale': 10}\n",
      "Model 14 with parameters: {'changepoint_prior_scale': 0.001, 'growth': 'linear', 'holidays_prior_scale': 0.1, 'seasonality_mode': 'multiplicative', 'seasonality_prior_scale': 50}\n"
     ]
    },
    {
     "name": "stderr",
     "output_type": "stream",
     "text": [
      "15:41:08 - cmdstanpy - INFO - Chain [1] start processing\n",
      "15:41:08 - cmdstanpy - INFO - Chain [1] done processing\n",
      "  0%|          | 0/1 [00:00<?, ?it/s]15:41:09 - cmdstanpy - INFO - Chain [1] start processing\n",
      "15:41:09 - cmdstanpy - INFO - Chain [1] done processing\n",
      "100%|██████████| 1/1 [00:00<00:00,  2.54it/s]\n"
     ]
    },
    {
     "name": "stdout",
     "output_type": "stream",
     "text": [
      "RMSE: 26.505113555919625 for parameters: {'changepoint_prior_scale': 0.001, 'growth': 'linear', 'holidays_prior_scale': 0.1, 'seasonality_mode': 'multiplicative', 'seasonality_prior_scale': 50}\n",
      "Model 15 with parameters: {'changepoint_prior_scale': 0.001, 'growth': 'linear', 'holidays_prior_scale': 0.1, 'seasonality_mode': 'multiplicative', 'seasonality_prior_scale': 100}\n"
     ]
    },
    {
     "name": "stderr",
     "output_type": "stream",
     "text": [
      "15:41:09 - cmdstanpy - INFO - Chain [1] start processing\n",
      "15:41:09 - cmdstanpy - INFO - Chain [1] done processing\n",
      "  0%|          | 0/1 [00:00<?, ?it/s]15:41:10 - cmdstanpy - INFO - Chain [1] start processing\n",
      "15:41:10 - cmdstanpy - INFO - Chain [1] done processing\n",
      "100%|██████████| 1/1 [00:00<00:00,  2.24it/s]\n"
     ]
    },
    {
     "name": "stdout",
     "output_type": "stream",
     "text": [
      "RMSE: 26.50511322797771 for parameters: {'changepoint_prior_scale': 0.001, 'growth': 'linear', 'holidays_prior_scale': 0.1, 'seasonality_mode': 'multiplicative', 'seasonality_prior_scale': 100}\n",
      "Model 16 with parameters: {'changepoint_prior_scale': 0.001, 'growth': 'linear', 'holidays_prior_scale': 0.1, 'seasonality_mode': 'multiplicative', 'seasonality_prior_scale': 500}\n"
     ]
    },
    {
     "name": "stderr",
     "output_type": "stream",
     "text": [
      "15:41:10 - cmdstanpy - INFO - Chain [1] start processing\n",
      "15:41:10 - cmdstanpy - INFO - Chain [1] done processing\n",
      "  0%|          | 0/1 [00:00<?, ?it/s]15:41:10 - cmdstanpy - INFO - Chain [1] start processing\n",
      "15:41:10 - cmdstanpy - INFO - Chain [1] done processing\n",
      "100%|██████████| 1/1 [00:00<00:00,  2.50it/s]\n"
     ]
    },
    {
     "name": "stdout",
     "output_type": "stream",
     "text": [
      "RMSE: 26.505113123321497 for parameters: {'changepoint_prior_scale': 0.001, 'growth': 'linear', 'holidays_prior_scale': 0.1, 'seasonality_mode': 'multiplicative', 'seasonality_prior_scale': 500}\n",
      "Model 17 with parameters: {'changepoint_prior_scale': 0.001, 'growth': 'linear', 'holidays_prior_scale': 1, 'seasonality_mode': 'additive', 'seasonality_prior_scale': 10}\n"
     ]
    },
    {
     "name": "stderr",
     "output_type": "stream",
     "text": [
      "15:41:11 - cmdstanpy - INFO - Chain [1] start processing\n",
      "15:41:11 - cmdstanpy - INFO - Chain [1] done processing\n",
      "  0%|          | 0/1 [00:00<?, ?it/s]15:41:11 - cmdstanpy - INFO - Chain [1] start processing\n",
      "15:41:11 - cmdstanpy - INFO - Chain [1] done processing\n",
      "100%|██████████| 1/1 [00:00<00:00,  2.25it/s]\n"
     ]
    },
    {
     "name": "stdout",
     "output_type": "stream",
     "text": [
      "RMSE: 33.2833175471112 for parameters: {'changepoint_prior_scale': 0.001, 'growth': 'linear', 'holidays_prior_scale': 1, 'seasonality_mode': 'additive', 'seasonality_prior_scale': 10}\n",
      "Model 18 with parameters: {'changepoint_prior_scale': 0.001, 'growth': 'linear', 'holidays_prior_scale': 1, 'seasonality_mode': 'additive', 'seasonality_prior_scale': 50}\n"
     ]
    },
    {
     "name": "stderr",
     "output_type": "stream",
     "text": [
      "15:41:12 - cmdstanpy - INFO - Chain [1] start processing\n",
      "15:41:12 - cmdstanpy - INFO - Chain [1] done processing\n",
      "  0%|          | 0/1 [00:00<?, ?it/s]15:41:12 - cmdstanpy - INFO - Chain [1] start processing\n",
      "15:41:12 - cmdstanpy - INFO - Chain [1] done processing\n",
      "100%|██████████| 1/1 [00:00<00:00,  2.25it/s]\n"
     ]
    },
    {
     "name": "stdout",
     "output_type": "stream",
     "text": [
      "RMSE: 33.282664548835626 for parameters: {'changepoint_prior_scale': 0.001, 'growth': 'linear', 'holidays_prior_scale': 1, 'seasonality_mode': 'additive', 'seasonality_prior_scale': 50}\n",
      "Model 19 with parameters: {'changepoint_prior_scale': 0.001, 'growth': 'linear', 'holidays_prior_scale': 1, 'seasonality_mode': 'additive', 'seasonality_prior_scale': 100}\n"
     ]
    },
    {
     "name": "stderr",
     "output_type": "stream",
     "text": [
      "15:41:13 - cmdstanpy - INFO - Chain [1] start processing\n",
      "15:41:13 - cmdstanpy - INFO - Chain [1] done processing\n",
      "  0%|          | 0/1 [00:00<?, ?it/s]15:41:13 - cmdstanpy - INFO - Chain [1] start processing\n",
      "15:41:13 - cmdstanpy - INFO - Chain [1] done processing\n",
      "100%|██████████| 1/1 [00:00<00:00,  2.46it/s]\n"
     ]
    },
    {
     "name": "stdout",
     "output_type": "stream",
     "text": [
      "RMSE: 33.28269807641309 for parameters: {'changepoint_prior_scale': 0.001, 'growth': 'linear', 'holidays_prior_scale': 1, 'seasonality_mode': 'additive', 'seasonality_prior_scale': 100}\n",
      "Model 20 with parameters: {'changepoint_prior_scale': 0.001, 'growth': 'linear', 'holidays_prior_scale': 1, 'seasonality_mode': 'additive', 'seasonality_prior_scale': 500}\n"
     ]
    },
    {
     "name": "stderr",
     "output_type": "stream",
     "text": [
      "15:41:14 - cmdstanpy - INFO - Chain [1] start processing\n",
      "15:41:14 - cmdstanpy - INFO - Chain [1] done processing\n",
      "  0%|          | 0/1 [00:00<?, ?it/s]15:41:14 - cmdstanpy - INFO - Chain [1] start processing\n",
      "15:41:14 - cmdstanpy - INFO - Chain [1] done processing\n",
      "100%|██████████| 1/1 [00:00<00:00,  2.26it/s]\n"
     ]
    },
    {
     "name": "stdout",
     "output_type": "stream",
     "text": [
      "RMSE: 33.28257669354072 for parameters: {'changepoint_prior_scale': 0.001, 'growth': 'linear', 'holidays_prior_scale': 1, 'seasonality_mode': 'additive', 'seasonality_prior_scale': 500}\n",
      "Model 21 with parameters: {'changepoint_prior_scale': 0.001, 'growth': 'linear', 'holidays_prior_scale': 1, 'seasonality_mode': 'multiplicative', 'seasonality_prior_scale': 10}\n"
     ]
    },
    {
     "name": "stderr",
     "output_type": "stream",
     "text": [
      "15:41:14 - cmdstanpy - INFO - Chain [1] start processing\n",
      "15:41:14 - cmdstanpy - INFO - Chain [1] done processing\n",
      "  0%|          | 0/1 [00:00<?, ?it/s]15:41:15 - cmdstanpy - INFO - Chain [1] start processing\n",
      "15:41:15 - cmdstanpy - INFO - Chain [1] done processing\n",
      "100%|██████████| 1/1 [00:00<00:00,  2.27it/s]\n"
     ]
    },
    {
     "name": "stdout",
     "output_type": "stream",
     "text": [
      "RMSE: 24.774834024996153 for parameters: {'changepoint_prior_scale': 0.001, 'growth': 'linear', 'holidays_prior_scale': 1, 'seasonality_mode': 'multiplicative', 'seasonality_prior_scale': 10}\n",
      "Model 22 with parameters: {'changepoint_prior_scale': 0.001, 'growth': 'linear', 'holidays_prior_scale': 1, 'seasonality_mode': 'multiplicative', 'seasonality_prior_scale': 50}\n"
     ]
    },
    {
     "name": "stderr",
     "output_type": "stream",
     "text": [
      "15:41:15 - cmdstanpy - INFO - Chain [1] start processing\n",
      "15:41:15 - cmdstanpy - INFO - Chain [1] done processing\n",
      "  0%|          | 0/1 [00:00<?, ?it/s]15:41:16 - cmdstanpy - INFO - Chain [1] start processing\n",
      "15:41:16 - cmdstanpy - INFO - Chain [1] done processing\n",
      "100%|██████████| 1/1 [00:00<00:00,  2.43it/s]\n"
     ]
    },
    {
     "name": "stdout",
     "output_type": "stream",
     "text": [
      "RMSE: 24.6611505840406 for parameters: {'changepoint_prior_scale': 0.001, 'growth': 'linear', 'holidays_prior_scale': 1, 'seasonality_mode': 'multiplicative', 'seasonality_prior_scale': 50}\n",
      "Model 23 with parameters: {'changepoint_prior_scale': 0.001, 'growth': 'linear', 'holidays_prior_scale': 1, 'seasonality_mode': 'multiplicative', 'seasonality_prior_scale': 100}\n"
     ]
    },
    {
     "name": "stderr",
     "output_type": "stream",
     "text": [
      "15:41:16 - cmdstanpy - INFO - Chain [1] start processing\n",
      "15:41:16 - cmdstanpy - INFO - Chain [1] done processing\n",
      "  0%|          | 0/1 [00:00<?, ?it/s]15:41:16 - cmdstanpy - INFO - Chain [1] start processing\n",
      "15:41:17 - cmdstanpy - INFO - Chain [1] done processing\n",
      "100%|██████████| 1/1 [00:00<00:00,  2.40it/s]\n"
     ]
    },
    {
     "name": "stdout",
     "output_type": "stream",
     "text": [
      "RMSE: 24.705394276144293 for parameters: {'changepoint_prior_scale': 0.001, 'growth': 'linear', 'holidays_prior_scale': 1, 'seasonality_mode': 'multiplicative', 'seasonality_prior_scale': 100}\n",
      "Model 24 with parameters: {'changepoint_prior_scale': 0.001, 'growth': 'linear', 'holidays_prior_scale': 1, 'seasonality_mode': 'multiplicative', 'seasonality_prior_scale': 500}\n"
     ]
    },
    {
     "name": "stderr",
     "output_type": "stream",
     "text": [
      "15:41:17 - cmdstanpy - INFO - Chain [1] start processing\n",
      "15:41:17 - cmdstanpy - INFO - Chain [1] done processing\n",
      "  0%|          | 0/1 [00:00<?, ?it/s]15:41:17 - cmdstanpy - INFO - Chain [1] start processing\n",
      "15:41:17 - cmdstanpy - INFO - Chain [1] done processing\n",
      "100%|██████████| 1/1 [00:00<00:00,  2.15it/s]\n"
     ]
    },
    {
     "name": "stdout",
     "output_type": "stream",
     "text": [
      "RMSE: 24.74423655612871 for parameters: {'changepoint_prior_scale': 0.001, 'growth': 'linear', 'holidays_prior_scale': 1, 'seasonality_mode': 'multiplicative', 'seasonality_prior_scale': 500}\n",
      "Model 25 with parameters: {'changepoint_prior_scale': 0.001, 'growth': 'logistic', 'holidays_prior_scale': 0.01, 'seasonality_mode': 'additive', 'seasonality_prior_scale': 10}\n"
     ]
    },
    {
     "name": "stderr",
     "output_type": "stream",
     "text": [
      "15:41:18 - cmdstanpy - INFO - Chain [1] start processing\n",
      "15:41:18 - cmdstanpy - INFO - Chain [1] done processing\n",
      "  0%|          | 0/1 [00:00<?, ?it/s]15:41:18 - cmdstanpy - INFO - Chain [1] start processing\n",
      "15:41:18 - cmdstanpy - INFO - Chain [1] done processing\n",
      "100%|██████████| 1/1 [00:00<00:00,  1.67it/s]\n"
     ]
    },
    {
     "name": "stdout",
     "output_type": "stream",
     "text": [
      "RMSE: 34.0048780729743 for parameters: {'changepoint_prior_scale': 0.001, 'growth': 'logistic', 'holidays_prior_scale': 0.01, 'seasonality_mode': 'additive', 'seasonality_prior_scale': 10}\n",
      "Model 26 with parameters: {'changepoint_prior_scale': 0.001, 'growth': 'logistic', 'holidays_prior_scale': 0.01, 'seasonality_mode': 'additive', 'seasonality_prior_scale': 50}\n"
     ]
    },
    {
     "name": "stderr",
     "output_type": "stream",
     "text": [
      "15:41:19 - cmdstanpy - INFO - Chain [1] start processing\n",
      "15:41:19 - cmdstanpy - INFO - Chain [1] done processing\n",
      "  0%|          | 0/1 [00:00<?, ?it/s]15:41:19 - cmdstanpy - INFO - Chain [1] start processing\n",
      "15:41:19 - cmdstanpy - INFO - Chain [1] done processing\n",
      "100%|██████████| 1/1 [00:00<00:00,  1.86it/s]\n"
     ]
    },
    {
     "name": "stdout",
     "output_type": "stream",
     "text": [
      "RMSE: 33.95261142882869 for parameters: {'changepoint_prior_scale': 0.001, 'growth': 'logistic', 'holidays_prior_scale': 0.01, 'seasonality_mode': 'additive', 'seasonality_prior_scale': 50}\n",
      "Model 27 with parameters: {'changepoint_prior_scale': 0.001, 'growth': 'logistic', 'holidays_prior_scale': 0.01, 'seasonality_mode': 'additive', 'seasonality_prior_scale': 100}\n"
     ]
    },
    {
     "name": "stderr",
     "output_type": "stream",
     "text": [
      "15:41:20 - cmdstanpy - INFO - Chain [1] start processing\n",
      "15:41:20 - cmdstanpy - INFO - Chain [1] done processing\n",
      "  0%|          | 0/1 [00:00<?, ?it/s]15:41:20 - cmdstanpy - INFO - Chain [1] start processing\n",
      "15:41:20 - cmdstanpy - INFO - Chain [1] done processing\n",
      "100%|██████████| 1/1 [00:00<00:00,  1.80it/s]\n"
     ]
    },
    {
     "name": "stdout",
     "output_type": "stream",
     "text": [
      "RMSE: 33.98483974151118 for parameters: {'changepoint_prior_scale': 0.001, 'growth': 'logistic', 'holidays_prior_scale': 0.01, 'seasonality_mode': 'additive', 'seasonality_prior_scale': 100}\n",
      "Model 28 with parameters: {'changepoint_prior_scale': 0.001, 'growth': 'logistic', 'holidays_prior_scale': 0.01, 'seasonality_mode': 'additive', 'seasonality_prior_scale': 500}\n"
     ]
    },
    {
     "name": "stderr",
     "output_type": "stream",
     "text": [
      "15:41:21 - cmdstanpy - INFO - Chain [1] start processing\n",
      "15:41:21 - cmdstanpy - INFO - Chain [1] done processing\n",
      "  0%|          | 0/1 [00:00<?, ?it/s]15:41:21 - cmdstanpy - INFO - Chain [1] start processing\n",
      "15:41:21 - cmdstanpy - INFO - Chain [1] done processing\n",
      "100%|██████████| 1/1 [00:00<00:00,  1.78it/s]\n"
     ]
    },
    {
     "name": "stdout",
     "output_type": "stream",
     "text": [
      "RMSE: 33.97342649930611 for parameters: {'changepoint_prior_scale': 0.001, 'growth': 'logistic', 'holidays_prior_scale': 0.01, 'seasonality_mode': 'additive', 'seasonality_prior_scale': 500}\n",
      "Model 29 with parameters: {'changepoint_prior_scale': 0.001, 'growth': 'logistic', 'holidays_prior_scale': 0.01, 'seasonality_mode': 'multiplicative', 'seasonality_prior_scale': 10}\n"
     ]
    },
    {
     "name": "stderr",
     "output_type": "stream",
     "text": [
      "15:41:22 - cmdstanpy - INFO - Chain [1] start processing\n",
      "15:41:22 - cmdstanpy - INFO - Chain [1] done processing\n",
      "  0%|          | 0/1 [00:00<?, ?it/s]15:41:22 - cmdstanpy - INFO - Chain [1] start processing\n",
      "15:41:22 - cmdstanpy - INFO - Chain [1] done processing\n",
      "100%|██████████| 1/1 [00:00<00:00,  1.82it/s]\n"
     ]
    },
    {
     "name": "stdout",
     "output_type": "stream",
     "text": [
      "RMSE: 37.18744844614837 for parameters: {'changepoint_prior_scale': 0.001, 'growth': 'logistic', 'holidays_prior_scale': 0.01, 'seasonality_mode': 'multiplicative', 'seasonality_prior_scale': 10}\n",
      "Model 30 with parameters: {'changepoint_prior_scale': 0.001, 'growth': 'logistic', 'holidays_prior_scale': 0.01, 'seasonality_mode': 'multiplicative', 'seasonality_prior_scale': 50}\n"
     ]
    },
    {
     "name": "stderr",
     "output_type": "stream",
     "text": [
      "15:41:23 - cmdstanpy - INFO - Chain [1] start processing\n",
      "15:41:23 - cmdstanpy - INFO - Chain [1] done processing\n",
      "  0%|          | 0/1 [00:00<?, ?it/s]15:41:23 - cmdstanpy - INFO - Chain [1] start processing\n",
      "15:41:23 - cmdstanpy - INFO - Chain [1] done processing\n",
      "100%|██████████| 1/1 [00:00<00:00,  1.79it/s]\n"
     ]
    },
    {
     "name": "stdout",
     "output_type": "stream",
     "text": [
      "RMSE: 37.18744844630438 for parameters: {'changepoint_prior_scale': 0.001, 'growth': 'logistic', 'holidays_prior_scale': 0.01, 'seasonality_mode': 'multiplicative', 'seasonality_prior_scale': 50}\n",
      "Model 31 with parameters: {'changepoint_prior_scale': 0.001, 'growth': 'logistic', 'holidays_prior_scale': 0.01, 'seasonality_mode': 'multiplicative', 'seasonality_prior_scale': 100}\n"
     ]
    },
    {
     "name": "stderr",
     "output_type": "stream",
     "text": [
      "15:41:24 - cmdstanpy - INFO - Chain [1] start processing\n",
      "15:41:24 - cmdstanpy - INFO - Chain [1] done processing\n",
      "  0%|          | 0/1 [00:00<?, ?it/s]15:41:24 - cmdstanpy - INFO - Chain [1] start processing\n",
      "15:41:24 - cmdstanpy - INFO - Chain [1] done processing\n",
      "100%|██████████| 1/1 [00:00<00:00,  1.81it/s]\n"
     ]
    },
    {
     "name": "stdout",
     "output_type": "stream",
     "text": [
      "RMSE: 37.18744844630418 for parameters: {'changepoint_prior_scale': 0.001, 'growth': 'logistic', 'holidays_prior_scale': 0.01, 'seasonality_mode': 'multiplicative', 'seasonality_prior_scale': 100}\n",
      "Model 32 with parameters: {'changepoint_prior_scale': 0.001, 'growth': 'logistic', 'holidays_prior_scale': 0.01, 'seasonality_mode': 'multiplicative', 'seasonality_prior_scale': 500}\n"
     ]
    },
    {
     "name": "stderr",
     "output_type": "stream",
     "text": [
      "15:41:25 - cmdstanpy - INFO - Chain [1] start processing\n",
      "15:41:25 - cmdstanpy - INFO - Chain [1] done processing\n",
      "  0%|          | 0/1 [00:00<?, ?it/s]15:41:25 - cmdstanpy - INFO - Chain [1] start processing\n",
      "15:41:25 - cmdstanpy - INFO - Chain [1] done processing\n",
      "100%|██████████| 1/1 [00:00<00:00,  1.81it/s]\n"
     ]
    },
    {
     "name": "stdout",
     "output_type": "stream",
     "text": [
      "RMSE: 37.1874484463038 for parameters: {'changepoint_prior_scale': 0.001, 'growth': 'logistic', 'holidays_prior_scale': 0.01, 'seasonality_mode': 'multiplicative', 'seasonality_prior_scale': 500}\n",
      "Model 33 with parameters: {'changepoint_prior_scale': 0.001, 'growth': 'logistic', 'holidays_prior_scale': 0.1, 'seasonality_mode': 'additive', 'seasonality_prior_scale': 10}\n"
     ]
    },
    {
     "name": "stderr",
     "output_type": "stream",
     "text": [
      "15:41:26 - cmdstanpy - INFO - Chain [1] start processing\n",
      "15:41:26 - cmdstanpy - INFO - Chain [1] done processing\n",
      "  0%|          | 0/1 [00:00<?, ?it/s]15:41:26 - cmdstanpy - INFO - Chain [1] start processing\n",
      "15:41:26 - cmdstanpy - INFO - Chain [1] done processing\n",
      "100%|██████████| 1/1 [00:00<00:00,  1.70it/s]\n"
     ]
    },
    {
     "name": "stdout",
     "output_type": "stream",
     "text": [
      "RMSE: 31.202818911484623 for parameters: {'changepoint_prior_scale': 0.001, 'growth': 'logistic', 'holidays_prior_scale': 0.1, 'seasonality_mode': 'additive', 'seasonality_prior_scale': 10}\n",
      "Model 34 with parameters: {'changepoint_prior_scale': 0.001, 'growth': 'logistic', 'holidays_prior_scale': 0.1, 'seasonality_mode': 'additive', 'seasonality_prior_scale': 50}\n"
     ]
    },
    {
     "name": "stderr",
     "output_type": "stream",
     "text": [
      "15:41:27 - cmdstanpy - INFO - Chain [1] start processing\n",
      "15:41:27 - cmdstanpy - INFO - Chain [1] done processing\n",
      "  0%|          | 0/1 [00:00<?, ?it/s]15:41:27 - cmdstanpy - INFO - Chain [1] start processing\n",
      "15:41:27 - cmdstanpy - INFO - Chain [1] done processing\n",
      "100%|██████████| 1/1 [00:00<00:00,  1.87it/s]\n"
     ]
    },
    {
     "name": "stdout",
     "output_type": "stream",
     "text": [
      "RMSE: 28.868224826811776 for parameters: {'changepoint_prior_scale': 0.001, 'growth': 'logistic', 'holidays_prior_scale': 0.1, 'seasonality_mode': 'additive', 'seasonality_prior_scale': 50}\n",
      "Model 35 with parameters: {'changepoint_prior_scale': 0.001, 'growth': 'logistic', 'holidays_prior_scale': 0.1, 'seasonality_mode': 'additive', 'seasonality_prior_scale': 100}\n"
     ]
    },
    {
     "name": "stderr",
     "output_type": "stream",
     "text": [
      "15:41:28 - cmdstanpy - INFO - Chain [1] start processing\n",
      "15:41:28 - cmdstanpy - INFO - Chain [1] done processing\n",
      "  0%|          | 0/1 [00:00<?, ?it/s]15:41:28 - cmdstanpy - INFO - Chain [1] start processing\n",
      "15:41:28 - cmdstanpy - INFO - Chain [1] done processing\n",
      "100%|██████████| 1/1 [00:00<00:00,  1.81it/s]\n"
     ]
    },
    {
     "name": "stdout",
     "output_type": "stream",
     "text": [
      "RMSE: 28.865689811275608 for parameters: {'changepoint_prior_scale': 0.001, 'growth': 'logistic', 'holidays_prior_scale': 0.1, 'seasonality_mode': 'additive', 'seasonality_prior_scale': 100}\n",
      "Model 36 with parameters: {'changepoint_prior_scale': 0.001, 'growth': 'logistic', 'holidays_prior_scale': 0.1, 'seasonality_mode': 'additive', 'seasonality_prior_scale': 500}\n"
     ]
    },
    {
     "name": "stderr",
     "output_type": "stream",
     "text": [
      "15:41:29 - cmdstanpy - INFO - Chain [1] start processing\n",
      "15:41:29 - cmdstanpy - INFO - Chain [1] done processing\n",
      "  0%|          | 0/1 [00:00<?, ?it/s]15:41:29 - cmdstanpy - INFO - Chain [1] start processing\n",
      "15:41:29 - cmdstanpy - INFO - Chain [1] done processing\n",
      "100%|██████████| 1/1 [00:00<00:00,  1.80it/s]\n"
     ]
    },
    {
     "name": "stdout",
     "output_type": "stream",
     "text": [
      "RMSE: 28.85872762655654 for parameters: {'changepoint_prior_scale': 0.001, 'growth': 'logistic', 'holidays_prior_scale': 0.1, 'seasonality_mode': 'additive', 'seasonality_prior_scale': 500}\n",
      "Model 37 with parameters: {'changepoint_prior_scale': 0.001, 'growth': 'logistic', 'holidays_prior_scale': 0.1, 'seasonality_mode': 'multiplicative', 'seasonality_prior_scale': 10}\n"
     ]
    },
    {
     "name": "stderr",
     "output_type": "stream",
     "text": [
      "15:41:30 - cmdstanpy - INFO - Chain [1] start processing\n",
      "15:41:30 - cmdstanpy - INFO - Chain [1] done processing\n",
      "  0%|          | 0/1 [00:00<?, ?it/s]15:41:30 - cmdstanpy - INFO - Chain [1] start processing\n",
      "15:41:30 - cmdstanpy - INFO - Chain [1] done processing\n",
      "100%|██████████| 1/1 [00:00<00:00,  1.96it/s]\n"
     ]
    },
    {
     "name": "stdout",
     "output_type": "stream",
     "text": [
      "RMSE: 37.188915960318226 for parameters: {'changepoint_prior_scale': 0.001, 'growth': 'logistic', 'holidays_prior_scale': 0.1, 'seasonality_mode': 'multiplicative', 'seasonality_prior_scale': 10}\n",
      "Model 38 with parameters: {'changepoint_prior_scale': 0.001, 'growth': 'logistic', 'holidays_prior_scale': 0.1, 'seasonality_mode': 'multiplicative', 'seasonality_prior_scale': 50}\n"
     ]
    },
    {
     "name": "stderr",
     "output_type": "stream",
     "text": [
      "15:41:31 - cmdstanpy - INFO - Chain [1] start processing\n",
      "15:41:31 - cmdstanpy - INFO - Chain [1] done processing\n",
      "  0%|          | 0/1 [00:00<?, ?it/s]15:41:31 - cmdstanpy - INFO - Chain [1] start processing\n",
      "15:41:31 - cmdstanpy - INFO - Chain [1] done processing\n",
      "100%|██████████| 1/1 [00:00<00:00,  1.80it/s]\n"
     ]
    },
    {
     "name": "stdout",
     "output_type": "stream",
     "text": [
      "RMSE: 37.188915960211965 for parameters: {'changepoint_prior_scale': 0.001, 'growth': 'logistic', 'holidays_prior_scale': 0.1, 'seasonality_mode': 'multiplicative', 'seasonality_prior_scale': 50}\n",
      "Model 39 with parameters: {'changepoint_prior_scale': 0.001, 'growth': 'logistic', 'holidays_prior_scale': 0.1, 'seasonality_mode': 'multiplicative', 'seasonality_prior_scale': 100}\n"
     ]
    },
    {
     "name": "stderr",
     "output_type": "stream",
     "text": [
      "15:41:32 - cmdstanpy - INFO - Chain [1] start processing\n",
      "15:41:32 - cmdstanpy - INFO - Chain [1] done processing\n",
      "  0%|          | 0/1 [00:00<?, ?it/s]15:41:32 - cmdstanpy - INFO - Chain [1] start processing\n",
      "15:41:32 - cmdstanpy - INFO - Chain [1] done processing\n",
      "100%|██████████| 1/1 [00:00<00:00,  1.86it/s]\n"
     ]
    },
    {
     "name": "stdout",
     "output_type": "stream",
     "text": [
      "RMSE: 37.18891596021031 for parameters: {'changepoint_prior_scale': 0.001, 'growth': 'logistic', 'holidays_prior_scale': 0.1, 'seasonality_mode': 'multiplicative', 'seasonality_prior_scale': 100}\n",
      "Model 40 with parameters: {'changepoint_prior_scale': 0.001, 'growth': 'logistic', 'holidays_prior_scale': 0.1, 'seasonality_mode': 'multiplicative', 'seasonality_prior_scale': 500}\n"
     ]
    },
    {
     "name": "stderr",
     "output_type": "stream",
     "text": [
      "15:41:33 - cmdstanpy - INFO - Chain [1] start processing\n",
      "15:41:33 - cmdstanpy - INFO - Chain [1] done processing\n",
      "  0%|          | 0/1 [00:00<?, ?it/s]15:41:33 - cmdstanpy - INFO - Chain [1] start processing\n",
      "15:41:33 - cmdstanpy - INFO - Chain [1] done processing\n",
      "100%|██████████| 1/1 [00:00<00:00,  1.80it/s]\n"
     ]
    },
    {
     "name": "stdout",
     "output_type": "stream",
     "text": [
      "RMSE: 37.18891596020892 for parameters: {'changepoint_prior_scale': 0.001, 'growth': 'logistic', 'holidays_prior_scale': 0.1, 'seasonality_mode': 'multiplicative', 'seasonality_prior_scale': 500}\n",
      "Model 41 with parameters: {'changepoint_prior_scale': 0.001, 'growth': 'logistic', 'holidays_prior_scale': 1, 'seasonality_mode': 'additive', 'seasonality_prior_scale': 10}\n"
     ]
    },
    {
     "name": "stderr",
     "output_type": "stream",
     "text": [
      "15:41:34 - cmdstanpy - INFO - Chain [1] start processing\n",
      "15:41:34 - cmdstanpy - INFO - Chain [1] done processing\n",
      "  0%|          | 0/1 [00:00<?, ?it/s]15:41:34 - cmdstanpy - INFO - Chain [1] start processing\n",
      "15:41:34 - cmdstanpy - INFO - Chain [1] done processing\n",
      "100%|██████████| 1/1 [00:00<00:00,  1.81it/s]\n"
     ]
    },
    {
     "name": "stdout",
     "output_type": "stream",
     "text": [
      "RMSE: 21.013188263037915 for parameters: {'changepoint_prior_scale': 0.001, 'growth': 'logistic', 'holidays_prior_scale': 1, 'seasonality_mode': 'additive', 'seasonality_prior_scale': 10}\n",
      "Model 42 with parameters: {'changepoint_prior_scale': 0.001, 'growth': 'logistic', 'holidays_prior_scale': 1, 'seasonality_mode': 'additive', 'seasonality_prior_scale': 50}\n"
     ]
    },
    {
     "name": "stderr",
     "output_type": "stream",
     "text": [
      "15:41:35 - cmdstanpy - INFO - Chain [1] start processing\n",
      "15:41:35 - cmdstanpy - INFO - Chain [1] done processing\n",
      "  0%|          | 0/1 [00:00<?, ?it/s]15:41:35 - cmdstanpy - INFO - Chain [1] start processing\n",
      "15:41:35 - cmdstanpy - INFO - Chain [1] done processing\n",
      "100%|██████████| 1/1 [00:00<00:00,  1.82it/s]\n"
     ]
    },
    {
     "name": "stdout",
     "output_type": "stream",
     "text": [
      "RMSE: 21.013176160037705 for parameters: {'changepoint_prior_scale': 0.001, 'growth': 'logistic', 'holidays_prior_scale': 1, 'seasonality_mode': 'additive', 'seasonality_prior_scale': 50}\n",
      "Model 43 with parameters: {'changepoint_prior_scale': 0.001, 'growth': 'logistic', 'holidays_prior_scale': 1, 'seasonality_mode': 'additive', 'seasonality_prior_scale': 100}\n"
     ]
    },
    {
     "name": "stderr",
     "output_type": "stream",
     "text": [
      "15:41:36 - cmdstanpy - INFO - Chain [1] start processing\n",
      "15:41:36 - cmdstanpy - INFO - Chain [1] done processing\n",
      "  0%|          | 0/1 [00:00<?, ?it/s]15:41:36 - cmdstanpy - INFO - Chain [1] start processing\n",
      "15:41:36 - cmdstanpy - INFO - Chain [1] done processing\n",
      "100%|██████████| 1/1 [00:00<00:00,  1.82it/s]\n"
     ]
    },
    {
     "name": "stdout",
     "output_type": "stream",
     "text": [
      "RMSE: 21.01314748249627 for parameters: {'changepoint_prior_scale': 0.001, 'growth': 'logistic', 'holidays_prior_scale': 1, 'seasonality_mode': 'additive', 'seasonality_prior_scale': 100}\n",
      "Model 44 with parameters: {'changepoint_prior_scale': 0.001, 'growth': 'logistic', 'holidays_prior_scale': 1, 'seasonality_mode': 'additive', 'seasonality_prior_scale': 500}\n"
     ]
    },
    {
     "name": "stderr",
     "output_type": "stream",
     "text": [
      "15:41:37 - cmdstanpy - INFO - Chain [1] start processing\n",
      "15:41:37 - cmdstanpy - INFO - Chain [1] done processing\n",
      "  0%|          | 0/1 [00:00<?, ?it/s]15:41:37 - cmdstanpy - INFO - Chain [1] start processing\n",
      "15:41:37 - cmdstanpy - INFO - Chain [1] done processing\n",
      "100%|██████████| 1/1 [00:00<00:00,  1.79it/s]\n"
     ]
    },
    {
     "name": "stdout",
     "output_type": "stream",
     "text": [
      "RMSE: 21.013188120544548 for parameters: {'changepoint_prior_scale': 0.001, 'growth': 'logistic', 'holidays_prior_scale': 1, 'seasonality_mode': 'additive', 'seasonality_prior_scale': 500}\n",
      "Model 45 with parameters: {'changepoint_prior_scale': 0.001, 'growth': 'logistic', 'holidays_prior_scale': 1, 'seasonality_mode': 'multiplicative', 'seasonality_prior_scale': 10}\n"
     ]
    },
    {
     "name": "stderr",
     "output_type": "stream",
     "text": [
      "15:41:38 - cmdstanpy - INFO - Chain [1] start processing\n",
      "15:41:38 - cmdstanpy - INFO - Chain [1] done processing\n",
      "  0%|          | 0/1 [00:00<?, ?it/s]15:41:38 - cmdstanpy - INFO - Chain [1] start processing\n",
      "15:41:38 - cmdstanpy - INFO - Chain [1] done processing\n",
      "100%|██████████| 1/1 [00:00<00:00,  1.81it/s]\n"
     ]
    },
    {
     "name": "stdout",
     "output_type": "stream",
     "text": [
      "RMSE: 37.188930165840745 for parameters: {'changepoint_prior_scale': 0.001, 'growth': 'logistic', 'holidays_prior_scale': 1, 'seasonality_mode': 'multiplicative', 'seasonality_prior_scale': 10}\n",
      "Model 46 with parameters: {'changepoint_prior_scale': 0.001, 'growth': 'logistic', 'holidays_prior_scale': 1, 'seasonality_mode': 'multiplicative', 'seasonality_prior_scale': 50}\n"
     ]
    },
    {
     "name": "stderr",
     "output_type": "stream",
     "text": [
      "15:41:39 - cmdstanpy - INFO - Chain [1] start processing\n",
      "15:41:39 - cmdstanpy - INFO - Chain [1] done processing\n",
      "  0%|          | 0/1 [00:00<?, ?it/s]15:41:39 - cmdstanpy - INFO - Chain [1] start processing\n",
      "15:41:39 - cmdstanpy - INFO - Chain [1] done processing\n",
      "100%|██████████| 1/1 [00:00<00:00,  1.82it/s]\n"
     ]
    },
    {
     "name": "stdout",
     "output_type": "stream",
     "text": [
      "RMSE: 37.188929751720714 for parameters: {'changepoint_prior_scale': 0.001, 'growth': 'logistic', 'holidays_prior_scale': 1, 'seasonality_mode': 'multiplicative', 'seasonality_prior_scale': 50}\n",
      "Model 47 with parameters: {'changepoint_prior_scale': 0.001, 'growth': 'logistic', 'holidays_prior_scale': 1, 'seasonality_mode': 'multiplicative', 'seasonality_prior_scale': 100}\n"
     ]
    },
    {
     "name": "stderr",
     "output_type": "stream",
     "text": [
      "15:41:40 - cmdstanpy - INFO - Chain [1] start processing\n",
      "15:41:40 - cmdstanpy - INFO - Chain [1] done processing\n",
      "  0%|          | 0/1 [00:00<?, ?it/s]15:41:40 - cmdstanpy - INFO - Chain [1] start processing\n",
      "15:41:40 - cmdstanpy - INFO - Chain [1] done processing\n",
      "100%|██████████| 1/1 [00:00<00:00,  1.83it/s]\n"
     ]
    },
    {
     "name": "stdout",
     "output_type": "stream",
     "text": [
      "RMSE: 37.188929751839304 for parameters: {'changepoint_prior_scale': 0.001, 'growth': 'logistic', 'holidays_prior_scale': 1, 'seasonality_mode': 'multiplicative', 'seasonality_prior_scale': 100}\n",
      "Model 48 with parameters: {'changepoint_prior_scale': 0.001, 'growth': 'logistic', 'holidays_prior_scale': 1, 'seasonality_mode': 'multiplicative', 'seasonality_prior_scale': 500}\n"
     ]
    },
    {
     "name": "stderr",
     "output_type": "stream",
     "text": [
      "15:41:41 - cmdstanpy - INFO - Chain [1] start processing\n",
      "15:41:41 - cmdstanpy - INFO - Chain [1] done processing\n",
      "  0%|          | 0/1 [00:00<?, ?it/s]15:41:41 - cmdstanpy - INFO - Chain [1] start processing\n",
      "15:41:41 - cmdstanpy - INFO - Chain [1] done processing\n",
      "100%|██████████| 1/1 [00:00<00:00,  1.79it/s]\n"
     ]
    },
    {
     "name": "stdout",
     "output_type": "stream",
     "text": [
      "RMSE: 37.188929751885404 for parameters: {'changepoint_prior_scale': 0.001, 'growth': 'logistic', 'holidays_prior_scale': 1, 'seasonality_mode': 'multiplicative', 'seasonality_prior_scale': 500}\n",
      "Model 49 with parameters: {'changepoint_prior_scale': 0.01, 'growth': 'linear', 'holidays_prior_scale': 0.01, 'seasonality_mode': 'additive', 'seasonality_prior_scale': 10}\n"
     ]
    },
    {
     "name": "stderr",
     "output_type": "stream",
     "text": [
      "15:41:42 - cmdstanpy - INFO - Chain [1] start processing\n",
      "15:41:42 - cmdstanpy - INFO - Chain [1] done processing\n",
      "  0%|          | 0/1 [00:00<?, ?it/s]15:41:42 - cmdstanpy - INFO - Chain [1] start processing\n",
      "15:41:42 - cmdstanpy - INFO - Chain [1] done processing\n",
      "100%|██████████| 1/1 [00:00<00:00,  2.20it/s]\n"
     ]
    },
    {
     "name": "stdout",
     "output_type": "stream",
     "text": [
      "RMSE: 15.075159876969272 for parameters: {'changepoint_prior_scale': 0.01, 'growth': 'linear', 'holidays_prior_scale': 0.01, 'seasonality_mode': 'additive', 'seasonality_prior_scale': 10}\n",
      "Model 50 with parameters: {'changepoint_prior_scale': 0.01, 'growth': 'linear', 'holidays_prior_scale': 0.01, 'seasonality_mode': 'additive', 'seasonality_prior_scale': 50}\n"
     ]
    },
    {
     "name": "stderr",
     "output_type": "stream",
     "text": [
      "15:41:43 - cmdstanpy - INFO - Chain [1] start processing\n",
      "15:41:43 - cmdstanpy - INFO - Chain [1] done processing\n",
      "  0%|          | 0/1 [00:00<?, ?it/s]15:41:43 - cmdstanpy - INFO - Chain [1] start processing\n",
      "15:41:43 - cmdstanpy - INFO - Chain [1] done processing\n",
      "100%|██████████| 1/1 [00:00<00:00,  2.26it/s]\n"
     ]
    },
    {
     "name": "stdout",
     "output_type": "stream",
     "text": [
      "RMSE: 15.075687025715544 for parameters: {'changepoint_prior_scale': 0.01, 'growth': 'linear', 'holidays_prior_scale': 0.01, 'seasonality_mode': 'additive', 'seasonality_prior_scale': 50}\n",
      "Model 51 with parameters: {'changepoint_prior_scale': 0.01, 'growth': 'linear', 'holidays_prior_scale': 0.01, 'seasonality_mode': 'additive', 'seasonality_prior_scale': 100}\n"
     ]
    },
    {
     "name": "stderr",
     "output_type": "stream",
     "text": [
      "15:41:44 - cmdstanpy - INFO - Chain [1] start processing\n",
      "15:41:44 - cmdstanpy - INFO - Chain [1] done processing\n",
      "  0%|          | 0/1 [00:00<?, ?it/s]15:41:44 - cmdstanpy - INFO - Chain [1] start processing\n",
      "15:41:44 - cmdstanpy - INFO - Chain [1] done processing\n",
      "100%|██████████| 1/1 [00:00<00:00,  2.39it/s]\n"
     ]
    },
    {
     "name": "stdout",
     "output_type": "stream",
     "text": [
      "RMSE: 15.07560545957293 for parameters: {'changepoint_prior_scale': 0.01, 'growth': 'linear', 'holidays_prior_scale': 0.01, 'seasonality_mode': 'additive', 'seasonality_prior_scale': 100}\n",
      "Model 52 with parameters: {'changepoint_prior_scale': 0.01, 'growth': 'linear', 'holidays_prior_scale': 0.01, 'seasonality_mode': 'additive', 'seasonality_prior_scale': 500}\n"
     ]
    },
    {
     "name": "stderr",
     "output_type": "stream",
     "text": [
      "15:41:44 - cmdstanpy - INFO - Chain [1] start processing\n",
      "15:41:45 - cmdstanpy - INFO - Chain [1] done processing\n",
      "  0%|          | 0/1 [00:00<?, ?it/s]15:41:45 - cmdstanpy - INFO - Chain [1] start processing\n",
      "15:41:45 - cmdstanpy - INFO - Chain [1] done processing\n",
      "100%|██████████| 1/1 [00:00<00:00,  2.16it/s]\n"
     ]
    },
    {
     "name": "stdout",
     "output_type": "stream",
     "text": [
      "RMSE: 15.074160900148142 for parameters: {'changepoint_prior_scale': 0.01, 'growth': 'linear', 'holidays_prior_scale': 0.01, 'seasonality_mode': 'additive', 'seasonality_prior_scale': 500}\n",
      "Model 53 with parameters: {'changepoint_prior_scale': 0.01, 'growth': 'linear', 'holidays_prior_scale': 0.01, 'seasonality_mode': 'multiplicative', 'seasonality_prior_scale': 10}\n"
     ]
    },
    {
     "name": "stderr",
     "output_type": "stream",
     "text": [
      "15:41:45 - cmdstanpy - INFO - Chain [1] start processing\n",
      "15:41:45 - cmdstanpy - INFO - Chain [1] done processing\n",
      "  0%|          | 0/1 [00:00<?, ?it/s]15:41:46 - cmdstanpy - INFO - Chain [1] start processing\n",
      "15:41:46 - cmdstanpy - INFO - Chain [1] done processing\n",
      "100%|██████████| 1/1 [00:00<00:00,  2.20it/s]\n"
     ]
    },
    {
     "name": "stdout",
     "output_type": "stream",
     "text": [
      "RMSE: 45.70456530646329 for parameters: {'changepoint_prior_scale': 0.01, 'growth': 'linear', 'holidays_prior_scale': 0.01, 'seasonality_mode': 'multiplicative', 'seasonality_prior_scale': 10}\n",
      "Model 54 with parameters: {'changepoint_prior_scale': 0.01, 'growth': 'linear', 'holidays_prior_scale': 0.01, 'seasonality_mode': 'multiplicative', 'seasonality_prior_scale': 50}\n"
     ]
    },
    {
     "name": "stderr",
     "output_type": "stream",
     "text": [
      "15:41:46 - cmdstanpy - INFO - Chain [1] start processing\n",
      "15:41:46 - cmdstanpy - INFO - Chain [1] done processing\n",
      "  0%|          | 0/1 [00:00<?, ?it/s]15:41:47 - cmdstanpy - INFO - Chain [1] start processing\n",
      "15:41:47 - cmdstanpy - INFO - Chain [1] done processing\n",
      "100%|██████████| 1/1 [00:00<00:00,  2.27it/s]\n"
     ]
    },
    {
     "name": "stdout",
     "output_type": "stream",
     "text": [
      "RMSE: 45.47067413910888 for parameters: {'changepoint_prior_scale': 0.01, 'growth': 'linear', 'holidays_prior_scale': 0.01, 'seasonality_mode': 'multiplicative', 'seasonality_prior_scale': 50}\n",
      "Model 55 with parameters: {'changepoint_prior_scale': 0.01, 'growth': 'linear', 'holidays_prior_scale': 0.01, 'seasonality_mode': 'multiplicative', 'seasonality_prior_scale': 100}\n"
     ]
    },
    {
     "name": "stderr",
     "output_type": "stream",
     "text": [
      "15:41:47 - cmdstanpy - INFO - Chain [1] start processing\n",
      "15:41:47 - cmdstanpy - INFO - Chain [1] done processing\n",
      "  0%|          | 0/1 [00:00<?, ?it/s]15:41:48 - cmdstanpy - INFO - Chain [1] start processing\n",
      "15:41:48 - cmdstanpy - INFO - Chain [1] done processing\n",
      "100%|██████████| 1/1 [00:00<00:00,  2.20it/s]\n"
     ]
    },
    {
     "name": "stdout",
     "output_type": "stream",
     "text": [
      "RMSE: 45.440489434718465 for parameters: {'changepoint_prior_scale': 0.01, 'growth': 'linear', 'holidays_prior_scale': 0.01, 'seasonality_mode': 'multiplicative', 'seasonality_prior_scale': 100}\n",
      "Model 56 with parameters: {'changepoint_prior_scale': 0.01, 'growth': 'linear', 'holidays_prior_scale': 0.01, 'seasonality_mode': 'multiplicative', 'seasonality_prior_scale': 500}\n"
     ]
    },
    {
     "name": "stderr",
     "output_type": "stream",
     "text": [
      "15:41:48 - cmdstanpy - INFO - Chain [1] start processing\n",
      "15:41:48 - cmdstanpy - INFO - Chain [1] done processing\n",
      "  0%|          | 0/1 [00:00<?, ?it/s]15:41:48 - cmdstanpy - INFO - Chain [1] start processing\n",
      "15:41:48 - cmdstanpy - INFO - Chain [1] done processing\n",
      "100%|██████████| 1/1 [00:00<00:00,  2.08it/s]\n"
     ]
    },
    {
     "name": "stdout",
     "output_type": "stream",
     "text": [
      "RMSE: 45.764913653149506 for parameters: {'changepoint_prior_scale': 0.01, 'growth': 'linear', 'holidays_prior_scale': 0.01, 'seasonality_mode': 'multiplicative', 'seasonality_prior_scale': 500}\n",
      "Model 57 with parameters: {'changepoint_prior_scale': 0.01, 'growth': 'linear', 'holidays_prior_scale': 0.1, 'seasonality_mode': 'additive', 'seasonality_prior_scale': 10}\n"
     ]
    },
    {
     "name": "stderr",
     "output_type": "stream",
     "text": [
      "15:41:49 - cmdstanpy - INFO - Chain [1] start processing\n",
      "15:41:49 - cmdstanpy - INFO - Chain [1] done processing\n",
      "  0%|          | 0/1 [00:00<?, ?it/s]15:41:49 - cmdstanpy - INFO - Chain [1] start processing\n",
      "15:41:49 - cmdstanpy - INFO - Chain [1] done processing\n",
      "100%|██████████| 1/1 [00:00<00:00,  2.24it/s]\n"
     ]
    },
    {
     "name": "stdout",
     "output_type": "stream",
     "text": [
      "RMSE: 13.784540795491178 for parameters: {'changepoint_prior_scale': 0.01, 'growth': 'linear', 'holidays_prior_scale': 0.1, 'seasonality_mode': 'additive', 'seasonality_prior_scale': 10}\n",
      "Model 58 with parameters: {'changepoint_prior_scale': 0.01, 'growth': 'linear', 'holidays_prior_scale': 0.1, 'seasonality_mode': 'additive', 'seasonality_prior_scale': 50}\n"
     ]
    },
    {
     "name": "stderr",
     "output_type": "stream",
     "text": [
      "15:41:50 - cmdstanpy - INFO - Chain [1] start processing\n",
      "15:41:50 - cmdstanpy - INFO - Chain [1] done processing\n",
      "  0%|          | 0/1 [00:00<?, ?it/s]15:41:50 - cmdstanpy - INFO - Chain [1] start processing\n",
      "15:41:50 - cmdstanpy - INFO - Chain [1] done processing\n",
      "100%|██████████| 1/1 [00:00<00:00,  2.24it/s]\n"
     ]
    },
    {
     "name": "stdout",
     "output_type": "stream",
     "text": [
      "RMSE: 13.782120170832831 for parameters: {'changepoint_prior_scale': 0.01, 'growth': 'linear', 'holidays_prior_scale': 0.1, 'seasonality_mode': 'additive', 'seasonality_prior_scale': 50}\n",
      "Model 59 with parameters: {'changepoint_prior_scale': 0.01, 'growth': 'linear', 'holidays_prior_scale': 0.1, 'seasonality_mode': 'additive', 'seasonality_prior_scale': 100}\n"
     ]
    },
    {
     "name": "stderr",
     "output_type": "stream",
     "text": [
      "15:41:51 - cmdstanpy - INFO - Chain [1] start processing\n",
      "15:41:51 - cmdstanpy - INFO - Chain [1] done processing\n",
      "  0%|          | 0/1 [00:00<?, ?it/s]15:41:51 - cmdstanpy - INFO - Chain [1] start processing\n",
      "15:41:51 - cmdstanpy - INFO - Chain [1] done processing\n",
      "100%|██████████| 1/1 [00:00<00:00,  2.32it/s]\n"
     ]
    },
    {
     "name": "stdout",
     "output_type": "stream",
     "text": [
      "RMSE: 13.784636184782334 for parameters: {'changepoint_prior_scale': 0.01, 'growth': 'linear', 'holidays_prior_scale': 0.1, 'seasonality_mode': 'additive', 'seasonality_prior_scale': 100}\n",
      "Model 60 with parameters: {'changepoint_prior_scale': 0.01, 'growth': 'linear', 'holidays_prior_scale': 0.1, 'seasonality_mode': 'additive', 'seasonality_prior_scale': 500}\n"
     ]
    },
    {
     "name": "stderr",
     "output_type": "stream",
     "text": [
      "15:41:52 - cmdstanpy - INFO - Chain [1] start processing\n",
      "15:41:52 - cmdstanpy - INFO - Chain [1] done processing\n",
      "  0%|          | 0/1 [00:00<?, ?it/s]15:41:52 - cmdstanpy - INFO - Chain [1] start processing\n",
      "15:41:52 - cmdstanpy - INFO - Chain [1] done processing\n",
      "100%|██████████| 1/1 [00:00<00:00,  2.26it/s]\n"
     ]
    },
    {
     "name": "stdout",
     "output_type": "stream",
     "text": [
      "RMSE: 13.784434862560428 for parameters: {'changepoint_prior_scale': 0.01, 'growth': 'linear', 'holidays_prior_scale': 0.1, 'seasonality_mode': 'additive', 'seasonality_prior_scale': 500}\n",
      "Model 61 with parameters: {'changepoint_prior_scale': 0.01, 'growth': 'linear', 'holidays_prior_scale': 0.1, 'seasonality_mode': 'multiplicative', 'seasonality_prior_scale': 10}\n"
     ]
    },
    {
     "name": "stderr",
     "output_type": "stream",
     "text": [
      "15:41:52 - cmdstanpy - INFO - Chain [1] start processing\n",
      "15:41:52 - cmdstanpy - INFO - Chain [1] done processing\n",
      "  0%|          | 0/1 [00:00<?, ?it/s]15:41:53 - cmdstanpy - INFO - Chain [1] start processing\n",
      "15:41:53 - cmdstanpy - INFO - Chain [1] done processing\n",
      "100%|██████████| 1/1 [00:00<00:00,  1.99it/s]\n"
     ]
    },
    {
     "name": "stdout",
     "output_type": "stream",
     "text": [
      "RMSE: 34.73406115626556 for parameters: {'changepoint_prior_scale': 0.01, 'growth': 'linear', 'holidays_prior_scale': 0.1, 'seasonality_mode': 'multiplicative', 'seasonality_prior_scale': 10}\n",
      "Model 62 with parameters: {'changepoint_prior_scale': 0.01, 'growth': 'linear', 'holidays_prior_scale': 0.1, 'seasonality_mode': 'multiplicative', 'seasonality_prior_scale': 50}\n"
     ]
    },
    {
     "name": "stderr",
     "output_type": "stream",
     "text": [
      "15:41:53 - cmdstanpy - INFO - Chain [1] start processing\n",
      "15:41:53 - cmdstanpy - INFO - Chain [1] done processing\n",
      "  0%|          | 0/1 [00:00<?, ?it/s]15:41:54 - cmdstanpy - INFO - Chain [1] start processing\n",
      "15:41:54 - cmdstanpy - INFO - Chain [1] done processing\n",
      "100%|██████████| 1/1 [00:00<00:00,  2.06it/s]\n"
     ]
    },
    {
     "name": "stdout",
     "output_type": "stream",
     "text": [
      "RMSE: 35.90751560767397 for parameters: {'changepoint_prior_scale': 0.01, 'growth': 'linear', 'holidays_prior_scale': 0.1, 'seasonality_mode': 'multiplicative', 'seasonality_prior_scale': 50}\n",
      "Model 63 with parameters: {'changepoint_prior_scale': 0.01, 'growth': 'linear', 'holidays_prior_scale': 0.1, 'seasonality_mode': 'multiplicative', 'seasonality_prior_scale': 100}\n"
     ]
    },
    {
     "name": "stderr",
     "output_type": "stream",
     "text": [
      "15:41:54 - cmdstanpy - INFO - Chain [1] start processing\n",
      "15:41:54 - cmdstanpy - INFO - Chain [1] done processing\n",
      "  0%|          | 0/1 [00:00<?, ?it/s]15:41:55 - cmdstanpy - INFO - Chain [1] start processing\n",
      "15:41:55 - cmdstanpy - INFO - Chain [1] done processing\n",
      "100%|██████████| 1/1 [00:00<00:00,  2.31it/s]\n"
     ]
    },
    {
     "name": "stdout",
     "output_type": "stream",
     "text": [
      "RMSE: 31.02025605336259 for parameters: {'changepoint_prior_scale': 0.01, 'growth': 'linear', 'holidays_prior_scale': 0.1, 'seasonality_mode': 'multiplicative', 'seasonality_prior_scale': 100}\n",
      "Model 64 with parameters: {'changepoint_prior_scale': 0.01, 'growth': 'linear', 'holidays_prior_scale': 0.1, 'seasonality_mode': 'multiplicative', 'seasonality_prior_scale': 500}\n"
     ]
    },
    {
     "name": "stderr",
     "output_type": "stream",
     "text": [
      "15:41:55 - cmdstanpy - INFO - Chain [1] start processing\n",
      "15:41:55 - cmdstanpy - INFO - Chain [1] done processing\n",
      "  0%|          | 0/1 [00:00<?, ?it/s]15:41:56 - cmdstanpy - INFO - Chain [1] start processing\n",
      "15:41:56 - cmdstanpy - INFO - Chain [1] done processing\n",
      "100%|██████████| 1/1 [00:00<00:00,  2.23it/s]\n"
     ]
    },
    {
     "name": "stdout",
     "output_type": "stream",
     "text": [
      "RMSE: 24.963969501493192 for parameters: {'changepoint_prior_scale': 0.01, 'growth': 'linear', 'holidays_prior_scale': 0.1, 'seasonality_mode': 'multiplicative', 'seasonality_prior_scale': 500}\n",
      "Model 65 with parameters: {'changepoint_prior_scale': 0.01, 'growth': 'linear', 'holidays_prior_scale': 1, 'seasonality_mode': 'additive', 'seasonality_prior_scale': 10}\n"
     ]
    },
    {
     "name": "stderr",
     "output_type": "stream",
     "text": [
      "15:41:56 - cmdstanpy - INFO - Chain [1] start processing\n",
      "15:41:56 - cmdstanpy - INFO - Chain [1] done processing\n",
      "  0%|          | 0/1 [00:00<?, ?it/s]15:41:57 - cmdstanpy - INFO - Chain [1] start processing\n",
      "15:41:57 - cmdstanpy - INFO - Chain [1] done processing\n",
      "100%|██████████| 1/1 [00:00<00:00,  2.20it/s]\n"
     ]
    },
    {
     "name": "stdout",
     "output_type": "stream",
     "text": [
      "RMSE: 13.977145805300761 for parameters: {'changepoint_prior_scale': 0.01, 'growth': 'linear', 'holidays_prior_scale': 1, 'seasonality_mode': 'additive', 'seasonality_prior_scale': 10}\n",
      "Model 66 with parameters: {'changepoint_prior_scale': 0.01, 'growth': 'linear', 'holidays_prior_scale': 1, 'seasonality_mode': 'additive', 'seasonality_prior_scale': 50}\n"
     ]
    },
    {
     "name": "stderr",
     "output_type": "stream",
     "text": [
      "15:41:57 - cmdstanpy - INFO - Chain [1] start processing\n",
      "15:41:57 - cmdstanpy - INFO - Chain [1] done processing\n",
      "  0%|          | 0/1 [00:00<?, ?it/s]15:41:57 - cmdstanpy - INFO - Chain [1] start processing\n",
      "15:41:58 - cmdstanpy - INFO - Chain [1] done processing\n",
      "100%|██████████| 1/1 [00:00<00:00,  2.22it/s]\n"
     ]
    },
    {
     "name": "stdout",
     "output_type": "stream",
     "text": [
      "RMSE: 13.975880152425022 for parameters: {'changepoint_prior_scale': 0.01, 'growth': 'linear', 'holidays_prior_scale': 1, 'seasonality_mode': 'additive', 'seasonality_prior_scale': 50}\n",
      "Model 67 with parameters: {'changepoint_prior_scale': 0.01, 'growth': 'linear', 'holidays_prior_scale': 1, 'seasonality_mode': 'additive', 'seasonality_prior_scale': 100}\n"
     ]
    },
    {
     "name": "stderr",
     "output_type": "stream",
     "text": [
      "15:41:58 - cmdstanpy - INFO - Chain [1] start processing\n",
      "15:41:58 - cmdstanpy - INFO - Chain [1] done processing\n",
      "  0%|          | 0/1 [00:00<?, ?it/s]15:41:58 - cmdstanpy - INFO - Chain [1] start processing\n",
      "15:41:58 - cmdstanpy - INFO - Chain [1] done processing\n",
      "100%|██████████| 1/1 [00:00<00:00,  2.23it/s]\n"
     ]
    },
    {
     "name": "stdout",
     "output_type": "stream",
     "text": [
      "RMSE: 13.975898235457851 for parameters: {'changepoint_prior_scale': 0.01, 'growth': 'linear', 'holidays_prior_scale': 1, 'seasonality_mode': 'additive', 'seasonality_prior_scale': 100}\n",
      "Model 68 with parameters: {'changepoint_prior_scale': 0.01, 'growth': 'linear', 'holidays_prior_scale': 1, 'seasonality_mode': 'additive', 'seasonality_prior_scale': 500}\n"
     ]
    },
    {
     "name": "stderr",
     "output_type": "stream",
     "text": [
      "15:41:59 - cmdstanpy - INFO - Chain [1] start processing\n",
      "15:41:59 - cmdstanpy - INFO - Chain [1] done processing\n",
      "  0%|          | 0/1 [00:00<?, ?it/s]15:41:59 - cmdstanpy - INFO - Chain [1] start processing\n",
      "15:41:59 - cmdstanpy - INFO - Chain [1] done processing\n",
      "100%|██████████| 1/1 [00:00<00:00,  1.82it/s]\n"
     ]
    },
    {
     "name": "stdout",
     "output_type": "stream",
     "text": [
      "RMSE: 13.975903851783128 for parameters: {'changepoint_prior_scale': 0.01, 'growth': 'linear', 'holidays_prior_scale': 1, 'seasonality_mode': 'additive', 'seasonality_prior_scale': 500}\n",
      "Model 69 with parameters: {'changepoint_prior_scale': 0.01, 'growth': 'linear', 'holidays_prior_scale': 1, 'seasonality_mode': 'multiplicative', 'seasonality_prior_scale': 10}\n"
     ]
    },
    {
     "name": "stderr",
     "output_type": "stream",
     "text": [
      "15:42:00 - cmdstanpy - INFO - Chain [1] start processing\n",
      "15:42:00 - cmdstanpy - INFO - Chain [1] done processing\n",
      "  0%|          | 0/1 [00:00<?, ?it/s]15:42:00 - cmdstanpy - INFO - Chain [1] start processing\n",
      "15:42:00 - cmdstanpy - INFO - Chain [1] done processing\n",
      "100%|██████████| 1/1 [00:00<00:00,  2.12it/s]\n"
     ]
    },
    {
     "name": "stdout",
     "output_type": "stream",
     "text": [
      "RMSE: 18.354773031758278 for parameters: {'changepoint_prior_scale': 0.01, 'growth': 'linear', 'holidays_prior_scale': 1, 'seasonality_mode': 'multiplicative', 'seasonality_prior_scale': 10}\n",
      "Model 70 with parameters: {'changepoint_prior_scale': 0.01, 'growth': 'linear', 'holidays_prior_scale': 1, 'seasonality_mode': 'multiplicative', 'seasonality_prior_scale': 50}\n"
     ]
    },
    {
     "name": "stderr",
     "output_type": "stream",
     "text": [
      "15:42:01 - cmdstanpy - INFO - Chain [1] start processing\n",
      "15:42:01 - cmdstanpy - INFO - Chain [1] done processing\n",
      "  0%|          | 0/1 [00:00<?, ?it/s]15:42:01 - cmdstanpy - INFO - Chain [1] start processing\n",
      "15:42:01 - cmdstanpy - INFO - Chain [1] done processing\n",
      "100%|██████████| 1/1 [00:00<00:00,  2.24it/s]\n"
     ]
    },
    {
     "name": "stdout",
     "output_type": "stream",
     "text": [
      "RMSE: 19.226761535049185 for parameters: {'changepoint_prior_scale': 0.01, 'growth': 'linear', 'holidays_prior_scale': 1, 'seasonality_mode': 'multiplicative', 'seasonality_prior_scale': 50}\n",
      "Model 71 with parameters: {'changepoint_prior_scale': 0.01, 'growth': 'linear', 'holidays_prior_scale': 1, 'seasonality_mode': 'multiplicative', 'seasonality_prior_scale': 100}\n"
     ]
    },
    {
     "name": "stderr",
     "output_type": "stream",
     "text": [
      "15:42:02 - cmdstanpy - INFO - Chain [1] start processing\n",
      "15:42:02 - cmdstanpy - INFO - Chain [1] done processing\n",
      "  0%|          | 0/1 [00:00<?, ?it/s]15:42:02 - cmdstanpy - INFO - Chain [1] start processing\n",
      "15:42:02 - cmdstanpy - INFO - Chain [1] done processing\n",
      "100%|██████████| 1/1 [00:00<00:00,  2.18it/s]\n"
     ]
    },
    {
     "name": "stdout",
     "output_type": "stream",
     "text": [
      "RMSE: 19.22459319838784 for parameters: {'changepoint_prior_scale': 0.01, 'growth': 'linear', 'holidays_prior_scale': 1, 'seasonality_mode': 'multiplicative', 'seasonality_prior_scale': 100}\n",
      "Model 72 with parameters: {'changepoint_prior_scale': 0.01, 'growth': 'linear', 'holidays_prior_scale': 1, 'seasonality_mode': 'multiplicative', 'seasonality_prior_scale': 500}\n"
     ]
    },
    {
     "name": "stderr",
     "output_type": "stream",
     "text": [
      "15:42:03 - cmdstanpy - INFO - Chain [1] start processing\n",
      "15:42:03 - cmdstanpy - INFO - Chain [1] done processing\n",
      "  0%|          | 0/1 [00:00<?, ?it/s]15:42:03 - cmdstanpy - INFO - Chain [1] start processing\n",
      "15:42:03 - cmdstanpy - INFO - Chain [1] done processing\n",
      "100%|██████████| 1/1 [00:00<00:00,  2.25it/s]\n"
     ]
    },
    {
     "name": "stdout",
     "output_type": "stream",
     "text": [
      "RMSE: 19.23004866408569 for parameters: {'changepoint_prior_scale': 0.01, 'growth': 'linear', 'holidays_prior_scale': 1, 'seasonality_mode': 'multiplicative', 'seasonality_prior_scale': 500}\n",
      "Model 73 with parameters: {'changepoint_prior_scale': 0.01, 'growth': 'logistic', 'holidays_prior_scale': 0.01, 'seasonality_mode': 'additive', 'seasonality_prior_scale': 10}\n"
     ]
    },
    {
     "name": "stderr",
     "output_type": "stream",
     "text": [
      "15:42:04 - cmdstanpy - INFO - Chain [1] start processing\n",
      "15:42:04 - cmdstanpy - INFO - Chain [1] done processing\n",
      "  0%|          | 0/1 [00:00<?, ?it/s]15:42:04 - cmdstanpy - INFO - Chain [1] start processing\n",
      "15:42:04 - cmdstanpy - INFO - Chain [1] done processing\n",
      "100%|██████████| 1/1 [00:00<00:00,  1.91it/s]\n"
     ]
    },
    {
     "name": "stdout",
     "output_type": "stream",
     "text": [
      "RMSE: 15.911822287075116 for parameters: {'changepoint_prior_scale': 0.01, 'growth': 'logistic', 'holidays_prior_scale': 0.01, 'seasonality_mode': 'additive', 'seasonality_prior_scale': 10}\n",
      "Model 74 with parameters: {'changepoint_prior_scale': 0.01, 'growth': 'logistic', 'holidays_prior_scale': 0.01, 'seasonality_mode': 'additive', 'seasonality_prior_scale': 50}\n"
     ]
    },
    {
     "name": "stderr",
     "output_type": "stream",
     "text": [
      "15:42:04 - cmdstanpy - INFO - Chain [1] start processing\n",
      "15:42:05 - cmdstanpy - INFO - Chain [1] done processing\n",
      "  0%|          | 0/1 [00:00<?, ?it/s]15:42:05 - cmdstanpy - INFO - Chain [1] start processing\n",
      "15:42:05 - cmdstanpy - INFO - Chain [1] done processing\n",
      "100%|██████████| 1/1 [00:00<00:00,  1.78it/s]\n"
     ]
    },
    {
     "name": "stdout",
     "output_type": "stream",
     "text": [
      "RMSE: 15.914799815651532 for parameters: {'changepoint_prior_scale': 0.01, 'growth': 'logistic', 'holidays_prior_scale': 0.01, 'seasonality_mode': 'additive', 'seasonality_prior_scale': 50}\n",
      "Model 75 with parameters: {'changepoint_prior_scale': 0.01, 'growth': 'logistic', 'holidays_prior_scale': 0.01, 'seasonality_mode': 'additive', 'seasonality_prior_scale': 100}\n"
     ]
    },
    {
     "name": "stderr",
     "output_type": "stream",
     "text": [
      "15:42:05 - cmdstanpy - INFO - Chain [1] start processing\n",
      "15:42:06 - cmdstanpy - INFO - Chain [1] done processing\n",
      "  0%|          | 0/1 [00:00<?, ?it/s]15:42:06 - cmdstanpy - INFO - Chain [1] start processing\n",
      "15:42:06 - cmdstanpy - INFO - Chain [1] done processing\n",
      "100%|██████████| 1/1 [00:00<00:00,  1.85it/s]\n"
     ]
    },
    {
     "name": "stdout",
     "output_type": "stream",
     "text": [
      "RMSE: 15.91481882453741 for parameters: {'changepoint_prior_scale': 0.01, 'growth': 'logistic', 'holidays_prior_scale': 0.01, 'seasonality_mode': 'additive', 'seasonality_prior_scale': 100}\n",
      "Model 76 with parameters: {'changepoint_prior_scale': 0.01, 'growth': 'logistic', 'holidays_prior_scale': 0.01, 'seasonality_mode': 'additive', 'seasonality_prior_scale': 500}\n"
     ]
    },
    {
     "name": "stderr",
     "output_type": "stream",
     "text": [
      "15:42:06 - cmdstanpy - INFO - Chain [1] start processing\n",
      "15:42:07 - cmdstanpy - INFO - Chain [1] done processing\n",
      "  0%|          | 0/1 [00:00<?, ?it/s]15:42:07 - cmdstanpy - INFO - Chain [1] start processing\n",
      "15:42:07 - cmdstanpy - INFO - Chain [1] done processing\n",
      "100%|██████████| 1/1 [00:00<00:00,  1.76it/s]\n"
     ]
    },
    {
     "name": "stdout",
     "output_type": "stream",
     "text": [
      "RMSE: 15.914768376716973 for parameters: {'changepoint_prior_scale': 0.01, 'growth': 'logistic', 'holidays_prior_scale': 0.01, 'seasonality_mode': 'additive', 'seasonality_prior_scale': 500}\n",
      "Model 77 with parameters: {'changepoint_prior_scale': 0.01, 'growth': 'logistic', 'holidays_prior_scale': 0.01, 'seasonality_mode': 'multiplicative', 'seasonality_prior_scale': 10}\n"
     ]
    },
    {
     "name": "stderr",
     "output_type": "stream",
     "text": [
      "15:42:07 - cmdstanpy - INFO - Chain [1] start processing\n",
      "15:42:08 - cmdstanpy - INFO - Chain [1] done processing\n",
      "  0%|          | 0/1 [00:00<?, ?it/s]15:42:08 - cmdstanpy - INFO - Chain [1] start processing\n",
      "15:42:08 - cmdstanpy - INFO - Chain [1] done processing\n",
      "100%|██████████| 1/1 [00:00<00:00,  1.87it/s]\n"
     ]
    },
    {
     "name": "stdout",
     "output_type": "stream",
     "text": [
      "RMSE: 19.90523699661753 for parameters: {'changepoint_prior_scale': 0.01, 'growth': 'logistic', 'holidays_prior_scale': 0.01, 'seasonality_mode': 'multiplicative', 'seasonality_prior_scale': 10}\n",
      "Model 78 with parameters: {'changepoint_prior_scale': 0.01, 'growth': 'logistic', 'holidays_prior_scale': 0.01, 'seasonality_mode': 'multiplicative', 'seasonality_prior_scale': 50}\n"
     ]
    },
    {
     "name": "stderr",
     "output_type": "stream",
     "text": [
      "15:42:08 - cmdstanpy - INFO - Chain [1] start processing\n",
      "15:42:09 - cmdstanpy - INFO - Chain [1] done processing\n",
      "  0%|          | 0/1 [00:00<?, ?it/s]15:42:09 - cmdstanpy - INFO - Chain [1] start processing\n",
      "15:42:09 - cmdstanpy - INFO - Chain [1] done processing\n",
      "100%|██████████| 1/1 [00:00<00:00,  1.67it/s]\n"
     ]
    },
    {
     "name": "stdout",
     "output_type": "stream",
     "text": [
      "RMSE: 19.905300050979502 for parameters: {'changepoint_prior_scale': 0.01, 'growth': 'logistic', 'holidays_prior_scale': 0.01, 'seasonality_mode': 'multiplicative', 'seasonality_prior_scale': 50}\n",
      "Model 79 with parameters: {'changepoint_prior_scale': 0.01, 'growth': 'logistic', 'holidays_prior_scale': 0.01, 'seasonality_mode': 'multiplicative', 'seasonality_prior_scale': 100}\n"
     ]
    },
    {
     "name": "stderr",
     "output_type": "stream",
     "text": [
      "15:42:10 - cmdstanpy - INFO - Chain [1] start processing\n",
      "15:42:10 - cmdstanpy - INFO - Chain [1] done processing\n",
      "  0%|          | 0/1 [00:00<?, ?it/s]15:42:10 - cmdstanpy - INFO - Chain [1] start processing\n",
      "15:42:10 - cmdstanpy - INFO - Chain [1] done processing\n",
      "100%|██████████| 1/1 [00:00<00:00,  1.70it/s]\n"
     ]
    },
    {
     "name": "stdout",
     "output_type": "stream",
     "text": [
      "RMSE: 19.905238935891152 for parameters: {'changepoint_prior_scale': 0.01, 'growth': 'logistic', 'holidays_prior_scale': 0.01, 'seasonality_mode': 'multiplicative', 'seasonality_prior_scale': 100}\n",
      "Model 80 with parameters: {'changepoint_prior_scale': 0.01, 'growth': 'logistic', 'holidays_prior_scale': 0.01, 'seasonality_mode': 'multiplicative', 'seasonality_prior_scale': 500}\n"
     ]
    },
    {
     "name": "stderr",
     "output_type": "stream",
     "text": [
      "15:42:11 - cmdstanpy - INFO - Chain [1] start processing\n",
      "15:42:11 - cmdstanpy - INFO - Chain [1] done processing\n",
      "  0%|          | 0/1 [00:00<?, ?it/s]15:42:11 - cmdstanpy - INFO - Chain [1] start processing\n",
      "15:42:11 - cmdstanpy - INFO - Chain [1] done processing\n",
      "100%|██████████| 1/1 [00:00<00:00,  1.69it/s]\n"
     ]
    },
    {
     "name": "stdout",
     "output_type": "stream",
     "text": [
      "RMSE: 19.905240478921566 for parameters: {'changepoint_prior_scale': 0.01, 'growth': 'logistic', 'holidays_prior_scale': 0.01, 'seasonality_mode': 'multiplicative', 'seasonality_prior_scale': 500}\n",
      "Model 81 with parameters: {'changepoint_prior_scale': 0.01, 'growth': 'logistic', 'holidays_prior_scale': 0.1, 'seasonality_mode': 'additive', 'seasonality_prior_scale': 10}\n"
     ]
    },
    {
     "name": "stderr",
     "output_type": "stream",
     "text": [
      "15:42:12 - cmdstanpy - INFO - Chain [1] start processing\n",
      "15:42:12 - cmdstanpy - INFO - Chain [1] done processing\n",
      "  0%|          | 0/1 [00:00<?, ?it/s]15:42:12 - cmdstanpy - INFO - Chain [1] start processing\n",
      "15:42:12 - cmdstanpy - INFO - Chain [1] done processing\n",
      "100%|██████████| 1/1 [00:00<00:00,  1.81it/s]\n"
     ]
    },
    {
     "name": "stdout",
     "output_type": "stream",
     "text": [
      "RMSE: 14.426898291404342 for parameters: {'changepoint_prior_scale': 0.01, 'growth': 'logistic', 'holidays_prior_scale': 0.1, 'seasonality_mode': 'additive', 'seasonality_prior_scale': 10}\n",
      "Model 82 with parameters: {'changepoint_prior_scale': 0.01, 'growth': 'logistic', 'holidays_prior_scale': 0.1, 'seasonality_mode': 'additive', 'seasonality_prior_scale': 50}\n"
     ]
    },
    {
     "name": "stderr",
     "output_type": "stream",
     "text": [
      "15:42:13 - cmdstanpy - INFO - Chain [1] start processing\n",
      "15:42:13 - cmdstanpy - INFO - Chain [1] done processing\n",
      "  0%|          | 0/1 [00:00<?, ?it/s]15:42:13 - cmdstanpy - INFO - Chain [1] start processing\n",
      "15:42:13 - cmdstanpy - INFO - Chain [1] done processing\n",
      "100%|██████████| 1/1 [00:00<00:00,  1.94it/s]\n"
     ]
    },
    {
     "name": "stdout",
     "output_type": "stream",
     "text": [
      "RMSE: 14.426525630801034 for parameters: {'changepoint_prior_scale': 0.01, 'growth': 'logistic', 'holidays_prior_scale': 0.1, 'seasonality_mode': 'additive', 'seasonality_prior_scale': 50}\n",
      "Model 83 with parameters: {'changepoint_prior_scale': 0.01, 'growth': 'logistic', 'holidays_prior_scale': 0.1, 'seasonality_mode': 'additive', 'seasonality_prior_scale': 100}\n"
     ]
    },
    {
     "name": "stderr",
     "output_type": "stream",
     "text": [
      "15:42:14 - cmdstanpy - INFO - Chain [1] start processing\n",
      "15:42:14 - cmdstanpy - INFO - Chain [1] done processing\n",
      "  0%|          | 0/1 [00:00<?, ?it/s]15:42:14 - cmdstanpy - INFO - Chain [1] start processing\n",
      "15:42:14 - cmdstanpy - INFO - Chain [1] done processing\n",
      "100%|██████████| 1/1 [00:00<00:00,  1.73it/s]\n"
     ]
    },
    {
     "name": "stdout",
     "output_type": "stream",
     "text": [
      "RMSE: 14.426688042599071 for parameters: {'changepoint_prior_scale': 0.01, 'growth': 'logistic', 'holidays_prior_scale': 0.1, 'seasonality_mode': 'additive', 'seasonality_prior_scale': 100}\n",
      "Model 84 with parameters: {'changepoint_prior_scale': 0.01, 'growth': 'logistic', 'holidays_prior_scale': 0.1, 'seasonality_mode': 'additive', 'seasonality_prior_scale': 500}\n"
     ]
    },
    {
     "name": "stderr",
     "output_type": "stream",
     "text": [
      "15:42:15 - cmdstanpy - INFO - Chain [1] start processing\n",
      "15:42:15 - cmdstanpy - INFO - Chain [1] done processing\n",
      "  0%|          | 0/1 [00:00<?, ?it/s]15:42:15 - cmdstanpy - INFO - Chain [1] start processing\n",
      "15:42:15 - cmdstanpy - INFO - Chain [1] done processing\n",
      "100%|██████████| 1/1 [00:00<00:00,  1.70it/s]\n"
     ]
    },
    {
     "name": "stdout",
     "output_type": "stream",
     "text": [
      "RMSE: 14.426542470251599 for parameters: {'changepoint_prior_scale': 0.01, 'growth': 'logistic', 'holidays_prior_scale': 0.1, 'seasonality_mode': 'additive', 'seasonality_prior_scale': 500}\n",
      "Model 85 with parameters: {'changepoint_prior_scale': 0.01, 'growth': 'logistic', 'holidays_prior_scale': 0.1, 'seasonality_mode': 'multiplicative', 'seasonality_prior_scale': 10}\n"
     ]
    },
    {
     "name": "stderr",
     "output_type": "stream",
     "text": [
      "15:42:16 - cmdstanpy - INFO - Chain [1] start processing\n",
      "15:42:16 - cmdstanpy - INFO - Chain [1] done processing\n",
      "  0%|          | 0/1 [00:00<?, ?it/s]15:42:16 - cmdstanpy - INFO - Chain [1] start processing\n",
      "15:42:16 - cmdstanpy - INFO - Chain [1] done processing\n",
      "100%|██████████| 1/1 [00:00<00:00,  1.71it/s]\n"
     ]
    },
    {
     "name": "stdout",
     "output_type": "stream",
     "text": [
      "RMSE: 19.154898147148213 for parameters: {'changepoint_prior_scale': 0.01, 'growth': 'logistic', 'holidays_prior_scale': 0.1, 'seasonality_mode': 'multiplicative', 'seasonality_prior_scale': 10}\n",
      "Model 86 with parameters: {'changepoint_prior_scale': 0.01, 'growth': 'logistic', 'holidays_prior_scale': 0.1, 'seasonality_mode': 'multiplicative', 'seasonality_prior_scale': 50}\n"
     ]
    },
    {
     "name": "stderr",
     "output_type": "stream",
     "text": [
      "15:42:17 - cmdstanpy - INFO - Chain [1] start processing\n",
      "15:42:17 - cmdstanpy - INFO - Chain [1] done processing\n",
      "  0%|          | 0/1 [00:00<?, ?it/s]15:42:17 - cmdstanpy - INFO - Chain [1] start processing\n",
      "15:42:17 - cmdstanpy - INFO - Chain [1] done processing\n",
      "100%|██████████| 1/1 [00:00<00:00,  1.79it/s]\n"
     ]
    },
    {
     "name": "stdout",
     "output_type": "stream",
     "text": [
      "RMSE: 19.165776894825342 for parameters: {'changepoint_prior_scale': 0.01, 'growth': 'logistic', 'holidays_prior_scale': 0.1, 'seasonality_mode': 'multiplicative', 'seasonality_prior_scale': 50}\n",
      "Model 87 with parameters: {'changepoint_prior_scale': 0.01, 'growth': 'logistic', 'holidays_prior_scale': 0.1, 'seasonality_mode': 'multiplicative', 'seasonality_prior_scale': 100}\n"
     ]
    },
    {
     "name": "stderr",
     "output_type": "stream",
     "text": [
      "15:42:18 - cmdstanpy - INFO - Chain [1] start processing\n",
      "15:42:18 - cmdstanpy - INFO - Chain [1] done processing\n",
      "  0%|          | 0/1 [00:00<?, ?it/s]15:42:18 - cmdstanpy - INFO - Chain [1] start processing\n",
      "15:42:18 - cmdstanpy - INFO - Chain [1] done processing\n",
      "100%|██████████| 1/1 [00:00<00:00,  1.76it/s]\n"
     ]
    },
    {
     "name": "stdout",
     "output_type": "stream",
     "text": [
      "RMSE: 19.163175894717796 for parameters: {'changepoint_prior_scale': 0.01, 'growth': 'logistic', 'holidays_prior_scale': 0.1, 'seasonality_mode': 'multiplicative', 'seasonality_prior_scale': 100}\n",
      "Model 88 with parameters: {'changepoint_prior_scale': 0.01, 'growth': 'logistic', 'holidays_prior_scale': 0.1, 'seasonality_mode': 'multiplicative', 'seasonality_prior_scale': 500}\n"
     ]
    },
    {
     "name": "stderr",
     "output_type": "stream",
     "text": [
      "15:42:19 - cmdstanpy - INFO - Chain [1] start processing\n",
      "15:42:19 - cmdstanpy - INFO - Chain [1] done processing\n",
      "  0%|          | 0/1 [00:00<?, ?it/s]15:42:19 - cmdstanpy - INFO - Chain [1] start processing\n",
      "15:42:19 - cmdstanpy - INFO - Chain [1] done processing\n",
      "100%|██████████| 1/1 [00:00<00:00,  1.69it/s]\n"
     ]
    },
    {
     "name": "stdout",
     "output_type": "stream",
     "text": [
      "RMSE: 19.163303782137422 for parameters: {'changepoint_prior_scale': 0.01, 'growth': 'logistic', 'holidays_prior_scale': 0.1, 'seasonality_mode': 'multiplicative', 'seasonality_prior_scale': 500}\n",
      "Model 89 with parameters: {'changepoint_prior_scale': 0.01, 'growth': 'logistic', 'holidays_prior_scale': 1, 'seasonality_mode': 'additive', 'seasonality_prior_scale': 10}\n"
     ]
    },
    {
     "name": "stderr",
     "output_type": "stream",
     "text": [
      "15:42:20 - cmdstanpy - INFO - Chain [1] start processing\n",
      "15:42:20 - cmdstanpy - INFO - Chain [1] done processing\n",
      "  0%|          | 0/1 [00:00<?, ?it/s]15:42:20 - cmdstanpy - INFO - Chain [1] start processing\n",
      "15:42:20 - cmdstanpy - INFO - Chain [1] done processing\n",
      "100%|██████████| 1/1 [00:00<00:00,  1.87it/s]\n"
     ]
    },
    {
     "name": "stdout",
     "output_type": "stream",
     "text": [
      "RMSE: 14.381122268144443 for parameters: {'changepoint_prior_scale': 0.01, 'growth': 'logistic', 'holidays_prior_scale': 1, 'seasonality_mode': 'additive', 'seasonality_prior_scale': 10}\n",
      "Model 90 with parameters: {'changepoint_prior_scale': 0.01, 'growth': 'logistic', 'holidays_prior_scale': 1, 'seasonality_mode': 'additive', 'seasonality_prior_scale': 50}\n"
     ]
    },
    {
     "name": "stderr",
     "output_type": "stream",
     "text": [
      "15:42:21 - cmdstanpy - INFO - Chain [1] start processing\n",
      "15:42:21 - cmdstanpy - INFO - Chain [1] done processing\n",
      "  0%|          | 0/1 [00:00<?, ?it/s]15:42:21 - cmdstanpy - INFO - Chain [1] start processing\n",
      "15:42:21 - cmdstanpy - INFO - Chain [1] done processing\n",
      "100%|██████████| 1/1 [00:00<00:00,  1.78it/s]\n"
     ]
    },
    {
     "name": "stdout",
     "output_type": "stream",
     "text": [
      "RMSE: 14.381306287573574 for parameters: {'changepoint_prior_scale': 0.01, 'growth': 'logistic', 'holidays_prior_scale': 1, 'seasonality_mode': 'additive', 'seasonality_prior_scale': 50}\n",
      "Model 91 with parameters: {'changepoint_prior_scale': 0.01, 'growth': 'logistic', 'holidays_prior_scale': 1, 'seasonality_mode': 'additive', 'seasonality_prior_scale': 100}\n"
     ]
    },
    {
     "name": "stderr",
     "output_type": "stream",
     "text": [
      "15:42:22 - cmdstanpy - INFO - Chain [1] start processing\n",
      "15:42:22 - cmdstanpy - INFO - Chain [1] done processing\n",
      "  0%|          | 0/1 [00:00<?, ?it/s]15:42:22 - cmdstanpy - INFO - Chain [1] start processing\n",
      "15:42:22 - cmdstanpy - INFO - Chain [1] done processing\n",
      "100%|██████████| 1/1 [00:00<00:00,  1.89it/s]\n"
     ]
    },
    {
     "name": "stdout",
     "output_type": "stream",
     "text": [
      "RMSE: 14.381306874270589 for parameters: {'changepoint_prior_scale': 0.01, 'growth': 'logistic', 'holidays_prior_scale': 1, 'seasonality_mode': 'additive', 'seasonality_prior_scale': 100}\n",
      "Model 92 with parameters: {'changepoint_prior_scale': 0.01, 'growth': 'logistic', 'holidays_prior_scale': 1, 'seasonality_mode': 'additive', 'seasonality_prior_scale': 500}\n"
     ]
    },
    {
     "name": "stderr",
     "output_type": "stream",
     "text": [
      "15:42:23 - cmdstanpy - INFO - Chain [1] start processing\n",
      "15:42:23 - cmdstanpy - INFO - Chain [1] done processing\n",
      "  0%|          | 0/1 [00:00<?, ?it/s]15:42:23 - cmdstanpy - INFO - Chain [1] start processing\n",
      "15:42:23 - cmdstanpy - INFO - Chain [1] done processing\n",
      "100%|██████████| 1/1 [00:00<00:00,  1.81it/s]\n"
     ]
    },
    {
     "name": "stdout",
     "output_type": "stream",
     "text": [
      "RMSE: 14.381304040925595 for parameters: {'changepoint_prior_scale': 0.01, 'growth': 'logistic', 'holidays_prior_scale': 1, 'seasonality_mode': 'additive', 'seasonality_prior_scale': 500}\n",
      "Model 93 with parameters: {'changepoint_prior_scale': 0.01, 'growth': 'logistic', 'holidays_prior_scale': 1, 'seasonality_mode': 'multiplicative', 'seasonality_prior_scale': 10}\n"
     ]
    },
    {
     "name": "stderr",
     "output_type": "stream",
     "text": [
      "15:42:24 - cmdstanpy - INFO - Chain [1] start processing\n",
      "15:42:24 - cmdstanpy - INFO - Chain [1] done processing\n",
      "  0%|          | 0/1 [00:00<?, ?it/s]15:42:24 - cmdstanpy - INFO - Chain [1] start processing\n",
      "15:42:24 - cmdstanpy - INFO - Chain [1] done processing\n",
      "100%|██████████| 1/1 [00:00<00:00,  1.75it/s]\n"
     ]
    },
    {
     "name": "stdout",
     "output_type": "stream",
     "text": [
      "RMSE: 19.71793219196917 for parameters: {'changepoint_prior_scale': 0.01, 'growth': 'logistic', 'holidays_prior_scale': 1, 'seasonality_mode': 'multiplicative', 'seasonality_prior_scale': 10}\n",
      "Model 94 with parameters: {'changepoint_prior_scale': 0.01, 'growth': 'logistic', 'holidays_prior_scale': 1, 'seasonality_mode': 'multiplicative', 'seasonality_prior_scale': 50}\n"
     ]
    },
    {
     "name": "stderr",
     "output_type": "stream",
     "text": [
      "15:42:25 - cmdstanpy - INFO - Chain [1] start processing\n",
      "15:42:25 - cmdstanpy - INFO - Chain [1] done processing\n",
      "  0%|          | 0/1 [00:00<?, ?it/s]15:42:25 - cmdstanpy - INFO - Chain [1] start processing\n",
      "15:42:25 - cmdstanpy - INFO - Chain [1] done processing\n",
      "100%|██████████| 1/1 [00:00<00:00,  1.79it/s]\n"
     ]
    },
    {
     "name": "stdout",
     "output_type": "stream",
     "text": [
      "RMSE: 19.83045379437794 for parameters: {'changepoint_prior_scale': 0.01, 'growth': 'logistic', 'holidays_prior_scale': 1, 'seasonality_mode': 'multiplicative', 'seasonality_prior_scale': 50}\n",
      "Model 95 with parameters: {'changepoint_prior_scale': 0.01, 'growth': 'logistic', 'holidays_prior_scale': 1, 'seasonality_mode': 'multiplicative', 'seasonality_prior_scale': 100}\n"
     ]
    },
    {
     "name": "stderr",
     "output_type": "stream",
     "text": [
      "15:42:26 - cmdstanpy - INFO - Chain [1] start processing\n",
      "15:42:26 - cmdstanpy - INFO - Chain [1] done processing\n",
      "  0%|          | 0/1 [00:00<?, ?it/s]15:42:26 - cmdstanpy - INFO - Chain [1] start processing\n",
      "15:42:26 - cmdstanpy - INFO - Chain [1] done processing\n",
      "100%|██████████| 1/1 [00:00<00:00,  1.65it/s]\n"
     ]
    },
    {
     "name": "stdout",
     "output_type": "stream",
     "text": [
      "RMSE: 19.570958158515825 for parameters: {'changepoint_prior_scale': 0.01, 'growth': 'logistic', 'holidays_prior_scale': 1, 'seasonality_mode': 'multiplicative', 'seasonality_prior_scale': 100}\n",
      "Model 96 with parameters: {'changepoint_prior_scale': 0.01, 'growth': 'logistic', 'holidays_prior_scale': 1, 'seasonality_mode': 'multiplicative', 'seasonality_prior_scale': 500}\n"
     ]
    },
    {
     "name": "stderr",
     "output_type": "stream",
     "text": [
      "15:42:27 - cmdstanpy - INFO - Chain [1] start processing\n",
      "15:42:27 - cmdstanpy - INFO - Chain [1] done processing\n",
      "  0%|          | 0/1 [00:00<?, ?it/s]15:42:27 - cmdstanpy - INFO - Chain [1] start processing\n",
      "15:42:27 - cmdstanpy - INFO - Chain [1] done processing\n",
      "100%|██████████| 1/1 [00:00<00:00,  1.83it/s]\n"
     ]
    },
    {
     "name": "stdout",
     "output_type": "stream",
     "text": [
      "RMSE: 20.66237744123701 for parameters: {'changepoint_prior_scale': 0.01, 'growth': 'logistic', 'holidays_prior_scale': 1, 'seasonality_mode': 'multiplicative', 'seasonality_prior_scale': 500}\n",
      "Model 97 with parameters: {'changepoint_prior_scale': 0.1, 'growth': 'linear', 'holidays_prior_scale': 0.01, 'seasonality_mode': 'additive', 'seasonality_prior_scale': 10}\n"
     ]
    },
    {
     "name": "stderr",
     "output_type": "stream",
     "text": [
      "15:42:28 - cmdstanpy - INFO - Chain [1] start processing\n",
      "15:42:28 - cmdstanpy - INFO - Chain [1] done processing\n",
      "  0%|          | 0/1 [00:00<?, ?it/s]15:42:28 - cmdstanpy - INFO - Chain [1] start processing\n",
      "15:42:28 - cmdstanpy - INFO - Chain [1] done processing\n",
      "100%|██████████| 1/1 [00:00<00:00,  2.36it/s]\n"
     ]
    },
    {
     "name": "stdout",
     "output_type": "stream",
     "text": [
      "RMSE: 55.667398558524575 for parameters: {'changepoint_prior_scale': 0.1, 'growth': 'linear', 'holidays_prior_scale': 0.01, 'seasonality_mode': 'additive', 'seasonality_prior_scale': 10}\n",
      "Model 98 with parameters: {'changepoint_prior_scale': 0.1, 'growth': 'linear', 'holidays_prior_scale': 0.01, 'seasonality_mode': 'additive', 'seasonality_prior_scale': 50}\n"
     ]
    },
    {
     "name": "stderr",
     "output_type": "stream",
     "text": [
      "15:42:29 - cmdstanpy - INFO - Chain [1] start processing\n",
      "15:42:29 - cmdstanpy - INFO - Chain [1] done processing\n",
      "  0%|          | 0/1 [00:00<?, ?it/s]15:42:29 - cmdstanpy - INFO - Chain [1] start processing\n",
      "15:42:29 - cmdstanpy - INFO - Chain [1] done processing\n",
      "100%|██████████| 1/1 [00:00<00:00,  1.93it/s]\n"
     ]
    },
    {
     "name": "stdout",
     "output_type": "stream",
     "text": [
      "RMSE: 60.13779275201013 for parameters: {'changepoint_prior_scale': 0.1, 'growth': 'linear', 'holidays_prior_scale': 0.01, 'seasonality_mode': 'additive', 'seasonality_prior_scale': 50}\n",
      "Model 99 with parameters: {'changepoint_prior_scale': 0.1, 'growth': 'linear', 'holidays_prior_scale': 0.01, 'seasonality_mode': 'additive', 'seasonality_prior_scale': 100}\n"
     ]
    },
    {
     "name": "stderr",
     "output_type": "stream",
     "text": [
      "15:42:30 - cmdstanpy - INFO - Chain [1] start processing\n",
      "15:42:30 - cmdstanpy - INFO - Chain [1] done processing\n",
      "  0%|          | 0/1 [00:00<?, ?it/s]15:42:30 - cmdstanpy - INFO - Chain [1] start processing\n",
      "15:42:30 - cmdstanpy - INFO - Chain [1] done processing\n",
      "100%|██████████| 1/1 [00:00<00:00,  1.88it/s]\n"
     ]
    },
    {
     "name": "stdout",
     "output_type": "stream",
     "text": [
      "RMSE: 61.26124254758697 for parameters: {'changepoint_prior_scale': 0.1, 'growth': 'linear', 'holidays_prior_scale': 0.01, 'seasonality_mode': 'additive', 'seasonality_prior_scale': 100}\n",
      "Model 100 with parameters: {'changepoint_prior_scale': 0.1, 'growth': 'linear', 'holidays_prior_scale': 0.01, 'seasonality_mode': 'additive', 'seasonality_prior_scale': 500}\n"
     ]
    },
    {
     "name": "stderr",
     "output_type": "stream",
     "text": [
      "15:42:31 - cmdstanpy - INFO - Chain [1] start processing\n",
      "15:42:31 - cmdstanpy - INFO - Chain [1] done processing\n",
      "  0%|          | 0/1 [00:00<?, ?it/s]15:42:31 - cmdstanpy - INFO - Chain [1] start processing\n",
      "15:42:31 - cmdstanpy - INFO - Chain [1] done processing\n",
      "100%|██████████| 1/1 [00:00<00:00,  2.08it/s]\n"
     ]
    },
    {
     "name": "stdout",
     "output_type": "stream",
     "text": [
      "RMSE: 57.08342074396717 for parameters: {'changepoint_prior_scale': 0.1, 'growth': 'linear', 'holidays_prior_scale': 0.01, 'seasonality_mode': 'additive', 'seasonality_prior_scale': 500}\n",
      "Model 101 with parameters: {'changepoint_prior_scale': 0.1, 'growth': 'linear', 'holidays_prior_scale': 0.01, 'seasonality_mode': 'multiplicative', 'seasonality_prior_scale': 10}\n"
     ]
    },
    {
     "name": "stderr",
     "output_type": "stream",
     "text": [
      "15:42:32 - cmdstanpy - INFO - Chain [1] start processing\n",
      "15:42:32 - cmdstanpy - INFO - Chain [1] done processing\n",
      "  0%|          | 0/1 [00:00<?, ?it/s]15:42:32 - cmdstanpy - INFO - Chain [1] start processing\n",
      "15:42:32 - cmdstanpy - INFO - Chain [1] done processing\n",
      "100%|██████████| 1/1 [00:00<00:00,  2.18it/s]\n"
     ]
    },
    {
     "name": "stdout",
     "output_type": "stream",
     "text": [
      "RMSE: 116.53984377250647 for parameters: {'changepoint_prior_scale': 0.1, 'growth': 'linear', 'holidays_prior_scale': 0.01, 'seasonality_mode': 'multiplicative', 'seasonality_prior_scale': 10}\n",
      "Model 102 with parameters: {'changepoint_prior_scale': 0.1, 'growth': 'linear', 'holidays_prior_scale': 0.01, 'seasonality_mode': 'multiplicative', 'seasonality_prior_scale': 50}\n"
     ]
    },
    {
     "name": "stderr",
     "output_type": "stream",
     "text": [
      "15:42:33 - cmdstanpy - INFO - Chain [1] start processing\n",
      "15:42:33 - cmdstanpy - INFO - Chain [1] done processing\n",
      "  0%|          | 0/1 [00:00<?, ?it/s]15:42:33 - cmdstanpy - INFO - Chain [1] start processing\n",
      "15:42:33 - cmdstanpy - INFO - Chain [1] done processing\n",
      "100%|██████████| 1/1 [00:00<00:00,  2.34it/s]\n"
     ]
    },
    {
     "name": "stdout",
     "output_type": "stream",
     "text": [
      "RMSE: 116.05047228319313 for parameters: {'changepoint_prior_scale': 0.1, 'growth': 'linear', 'holidays_prior_scale': 0.01, 'seasonality_mode': 'multiplicative', 'seasonality_prior_scale': 50}\n",
      "Model 103 with parameters: {'changepoint_prior_scale': 0.1, 'growth': 'linear', 'holidays_prior_scale': 0.01, 'seasonality_mode': 'multiplicative', 'seasonality_prior_scale': 100}\n"
     ]
    },
    {
     "name": "stderr",
     "output_type": "stream",
     "text": [
      "15:42:34 - cmdstanpy - INFO - Chain [1] start processing\n",
      "15:42:34 - cmdstanpy - INFO - Chain [1] done processing\n",
      "  0%|          | 0/1 [00:00<?, ?it/s]15:42:34 - cmdstanpy - INFO - Chain [1] start processing\n",
      "15:42:34 - cmdstanpy - INFO - Chain [1] done processing\n",
      "100%|██████████| 1/1 [00:00<00:00,  2.09it/s]\n"
     ]
    },
    {
     "name": "stdout",
     "output_type": "stream",
     "text": [
      "RMSE: 115.89113234932572 for parameters: {'changepoint_prior_scale': 0.1, 'growth': 'linear', 'holidays_prior_scale': 0.01, 'seasonality_mode': 'multiplicative', 'seasonality_prior_scale': 100}\n",
      "Model 104 with parameters: {'changepoint_prior_scale': 0.1, 'growth': 'linear', 'holidays_prior_scale': 0.01, 'seasonality_mode': 'multiplicative', 'seasonality_prior_scale': 500}\n"
     ]
    },
    {
     "name": "stderr",
     "output_type": "stream",
     "text": [
      "15:42:35 - cmdstanpy - INFO - Chain [1] start processing\n",
      "15:42:35 - cmdstanpy - INFO - Chain [1] done processing\n",
      "  0%|          | 0/1 [00:00<?, ?it/s]15:42:35 - cmdstanpy - INFO - Chain [1] start processing\n",
      "15:42:35 - cmdstanpy - INFO - Chain [1] done processing\n",
      "100%|██████████| 1/1 [00:00<00:00,  2.13it/s]\n"
     ]
    },
    {
     "name": "stdout",
     "output_type": "stream",
     "text": [
      "RMSE: 115.412412416545 for parameters: {'changepoint_prior_scale': 0.1, 'growth': 'linear', 'holidays_prior_scale': 0.01, 'seasonality_mode': 'multiplicative', 'seasonality_prior_scale': 500}\n",
      "Model 105 with parameters: {'changepoint_prior_scale': 0.1, 'growth': 'linear', 'holidays_prior_scale': 0.1, 'seasonality_mode': 'additive', 'seasonality_prior_scale': 10}\n"
     ]
    },
    {
     "name": "stderr",
     "output_type": "stream",
     "text": [
      "15:42:36 - cmdstanpy - INFO - Chain [1] start processing\n",
      "15:42:36 - cmdstanpy - INFO - Chain [1] done processing\n",
      "  0%|          | 0/1 [00:00<?, ?it/s]15:42:36 - cmdstanpy - INFO - Chain [1] start processing\n",
      "15:42:36 - cmdstanpy - INFO - Chain [1] done processing\n",
      "100%|██████████| 1/1 [00:00<00:00,  2.01it/s]\n"
     ]
    },
    {
     "name": "stdout",
     "output_type": "stream",
     "text": [
      "RMSE: 56.225116953009874 for parameters: {'changepoint_prior_scale': 0.1, 'growth': 'linear', 'holidays_prior_scale': 0.1, 'seasonality_mode': 'additive', 'seasonality_prior_scale': 10}\n",
      "Model 106 with parameters: {'changepoint_prior_scale': 0.1, 'growth': 'linear', 'holidays_prior_scale': 0.1, 'seasonality_mode': 'additive', 'seasonality_prior_scale': 50}\n"
     ]
    },
    {
     "name": "stderr",
     "output_type": "stream",
     "text": [
      "15:42:37 - cmdstanpy - INFO - Chain [1] start processing\n",
      "15:42:37 - cmdstanpy - INFO - Chain [1] done processing\n",
      "  0%|          | 0/1 [00:00<?, ?it/s]15:42:37 - cmdstanpy - INFO - Chain [1] start processing\n",
      "15:42:37 - cmdstanpy - INFO - Chain [1] done processing\n",
      "100%|██████████| 1/1 [00:00<00:00,  1.94it/s]\n"
     ]
    },
    {
     "name": "stdout",
     "output_type": "stream",
     "text": [
      "RMSE: 57.60049275400638 for parameters: {'changepoint_prior_scale': 0.1, 'growth': 'linear', 'holidays_prior_scale': 0.1, 'seasonality_mode': 'additive', 'seasonality_prior_scale': 50}\n",
      "Model 107 with parameters: {'changepoint_prior_scale': 0.1, 'growth': 'linear', 'holidays_prior_scale': 0.1, 'seasonality_mode': 'additive', 'seasonality_prior_scale': 100}\n"
     ]
    },
    {
     "name": "stderr",
     "output_type": "stream",
     "text": [
      "15:42:38 - cmdstanpy - INFO - Chain [1] start processing\n",
      "15:42:38 - cmdstanpy - INFO - Chain [1] done processing\n",
      "  0%|          | 0/1 [00:00<?, ?it/s]15:42:38 - cmdstanpy - INFO - Chain [1] start processing\n",
      "15:42:38 - cmdstanpy - INFO - Chain [1] done processing\n",
      "100%|██████████| 1/1 [00:00<00:00,  2.04it/s]\n"
     ]
    },
    {
     "name": "stdout",
     "output_type": "stream",
     "text": [
      "RMSE: 57.95209383700795 for parameters: {'changepoint_prior_scale': 0.1, 'growth': 'linear', 'holidays_prior_scale': 0.1, 'seasonality_mode': 'additive', 'seasonality_prior_scale': 100}\n",
      "Model 108 with parameters: {'changepoint_prior_scale': 0.1, 'growth': 'linear', 'holidays_prior_scale': 0.1, 'seasonality_mode': 'additive', 'seasonality_prior_scale': 500}\n"
     ]
    },
    {
     "name": "stderr",
     "output_type": "stream",
     "text": [
      "15:42:38 - cmdstanpy - INFO - Chain [1] start processing\n",
      "15:42:39 - cmdstanpy - INFO - Chain [1] done processing\n",
      "  0%|          | 0/1 [00:00<?, ?it/s]15:42:39 - cmdstanpy - INFO - Chain [1] start processing\n",
      "15:42:39 - cmdstanpy - INFO - Chain [1] done processing\n",
      "100%|██████████| 1/1 [00:00<00:00,  2.09it/s]\n"
     ]
    },
    {
     "name": "stdout",
     "output_type": "stream",
     "text": [
      "RMSE: 55.86949855471016 for parameters: {'changepoint_prior_scale': 0.1, 'growth': 'linear', 'holidays_prior_scale': 0.1, 'seasonality_mode': 'additive', 'seasonality_prior_scale': 500}\n",
      "Model 109 with parameters: {'changepoint_prior_scale': 0.1, 'growth': 'linear', 'holidays_prior_scale': 0.1, 'seasonality_mode': 'multiplicative', 'seasonality_prior_scale': 10}\n"
     ]
    },
    {
     "name": "stderr",
     "output_type": "stream",
     "text": [
      "15:42:39 - cmdstanpy - INFO - Chain [1] start processing\n",
      "15:42:40 - cmdstanpy - INFO - Chain [1] done processing\n",
      "  0%|          | 0/1 [00:00<?, ?it/s]15:42:40 - cmdstanpy - INFO - Chain [1] start processing\n",
      "15:42:40 - cmdstanpy - INFO - Chain [1] done processing\n",
      "100%|██████████| 1/1 [00:00<00:00,  2.02it/s]\n"
     ]
    },
    {
     "name": "stdout",
     "output_type": "stream",
     "text": [
      "RMSE: 47.12350209840243 for parameters: {'changepoint_prior_scale': 0.1, 'growth': 'linear', 'holidays_prior_scale': 0.1, 'seasonality_mode': 'multiplicative', 'seasonality_prior_scale': 10}\n",
      "Model 110 with parameters: {'changepoint_prior_scale': 0.1, 'growth': 'linear', 'holidays_prior_scale': 0.1, 'seasonality_mode': 'multiplicative', 'seasonality_prior_scale': 50}\n"
     ]
    },
    {
     "name": "stderr",
     "output_type": "stream",
     "text": [
      "15:42:40 - cmdstanpy - INFO - Chain [1] start processing\n",
      "15:42:40 - cmdstanpy - INFO - Chain [1] done processing\n",
      "  0%|          | 0/1 [00:00<?, ?it/s]15:42:41 - cmdstanpy - INFO - Chain [1] start processing\n",
      "15:42:41 - cmdstanpy - INFO - Chain [1] done processing\n",
      "100%|██████████| 1/1 [00:00<00:00,  2.02it/s]\n"
     ]
    },
    {
     "name": "stdout",
     "output_type": "stream",
     "text": [
      "RMSE: 47.08001210402262 for parameters: {'changepoint_prior_scale': 0.1, 'growth': 'linear', 'holidays_prior_scale': 0.1, 'seasonality_mode': 'multiplicative', 'seasonality_prior_scale': 50}\n",
      "Model 111 with parameters: {'changepoint_prior_scale': 0.1, 'growth': 'linear', 'holidays_prior_scale': 0.1, 'seasonality_mode': 'multiplicative', 'seasonality_prior_scale': 100}\n"
     ]
    },
    {
     "name": "stderr",
     "output_type": "stream",
     "text": [
      "15:42:41 - cmdstanpy - INFO - Chain [1] start processing\n",
      "15:42:41 - cmdstanpy - INFO - Chain [1] done processing\n",
      "  0%|          | 0/1 [00:00<?, ?it/s]15:42:42 - cmdstanpy - INFO - Chain [1] start processing\n",
      "15:42:42 - cmdstanpy - INFO - Chain [1] done processing\n",
      "100%|██████████| 1/1 [00:00<00:00,  1.88it/s]\n"
     ]
    },
    {
     "name": "stdout",
     "output_type": "stream",
     "text": [
      "RMSE: 47.65428111504589 for parameters: {'changepoint_prior_scale': 0.1, 'growth': 'linear', 'holidays_prior_scale': 0.1, 'seasonality_mode': 'multiplicative', 'seasonality_prior_scale': 100}\n",
      "Model 112 with parameters: {'changepoint_prior_scale': 0.1, 'growth': 'linear', 'holidays_prior_scale': 0.1, 'seasonality_mode': 'multiplicative', 'seasonality_prior_scale': 500}\n"
     ]
    },
    {
     "name": "stderr",
     "output_type": "stream",
     "text": [
      "15:42:42 - cmdstanpy - INFO - Chain [1] start processing\n",
      "15:42:42 - cmdstanpy - INFO - Chain [1] done processing\n",
      "  0%|          | 0/1 [00:00<?, ?it/s]15:42:43 - cmdstanpy - INFO - Chain [1] start processing\n",
      "15:42:43 - cmdstanpy - INFO - Chain [1] done processing\n",
      "100%|██████████| 1/1 [00:00<00:00,  2.02it/s]\n"
     ]
    },
    {
     "name": "stdout",
     "output_type": "stream",
     "text": [
      "RMSE: 47.7313973918444 for parameters: {'changepoint_prior_scale': 0.1, 'growth': 'linear', 'holidays_prior_scale': 0.1, 'seasonality_mode': 'multiplicative', 'seasonality_prior_scale': 500}\n",
      "Model 113 with parameters: {'changepoint_prior_scale': 0.1, 'growth': 'linear', 'holidays_prior_scale': 1, 'seasonality_mode': 'additive', 'seasonality_prior_scale': 10}\n"
     ]
    },
    {
     "name": "stderr",
     "output_type": "stream",
     "text": [
      "15:42:43 - cmdstanpy - INFO - Chain [1] start processing\n",
      "15:42:43 - cmdstanpy - INFO - Chain [1] done processing\n",
      "  0%|          | 0/1 [00:00<?, ?it/s]15:42:44 - cmdstanpy - INFO - Chain [1] start processing\n",
      "15:42:44 - cmdstanpy - INFO - Chain [1] done processing\n",
      "100%|██████████| 1/1 [00:00<00:00,  2.21it/s]\n"
     ]
    },
    {
     "name": "stdout",
     "output_type": "stream",
     "text": [
      "RMSE: 54.81554648649194 for parameters: {'changepoint_prior_scale': 0.1, 'growth': 'linear', 'holidays_prior_scale': 1, 'seasonality_mode': 'additive', 'seasonality_prior_scale': 10}\n",
      "Model 114 with parameters: {'changepoint_prior_scale': 0.1, 'growth': 'linear', 'holidays_prior_scale': 1, 'seasonality_mode': 'additive', 'seasonality_prior_scale': 50}\n"
     ]
    },
    {
     "name": "stderr",
     "output_type": "stream",
     "text": [
      "15:42:44 - cmdstanpy - INFO - Chain [1] start processing\n",
      "15:42:44 - cmdstanpy - INFO - Chain [1] done processing\n",
      "  0%|          | 0/1 [00:00<?, ?it/s]15:42:45 - cmdstanpy - INFO - Chain [1] start processing\n",
      "15:42:45 - cmdstanpy - INFO - Chain [1] done processing\n",
      "100%|██████████| 1/1 [00:00<00:00,  2.04it/s]\n"
     ]
    },
    {
     "name": "stdout",
     "output_type": "stream",
     "text": [
      "RMSE: 56.30220109032608 for parameters: {'changepoint_prior_scale': 0.1, 'growth': 'linear', 'holidays_prior_scale': 1, 'seasonality_mode': 'additive', 'seasonality_prior_scale': 50}\n",
      "Model 115 with parameters: {'changepoint_prior_scale': 0.1, 'growth': 'linear', 'holidays_prior_scale': 1, 'seasonality_mode': 'additive', 'seasonality_prior_scale': 100}\n"
     ]
    },
    {
     "name": "stderr",
     "output_type": "stream",
     "text": [
      "15:42:45 - cmdstanpy - INFO - Chain [1] start processing\n",
      "15:42:45 - cmdstanpy - INFO - Chain [1] done processing\n",
      "  0%|          | 0/1 [00:00<?, ?it/s]15:42:46 - cmdstanpy - INFO - Chain [1] start processing\n",
      "15:42:46 - cmdstanpy - INFO - Chain [1] done processing\n",
      "100%|██████████| 1/1 [00:00<00:00,  2.26it/s]\n"
     ]
    },
    {
     "name": "stdout",
     "output_type": "stream",
     "text": [
      "RMSE: 57.43463663169468 for parameters: {'changepoint_prior_scale': 0.1, 'growth': 'linear', 'holidays_prior_scale': 1, 'seasonality_mode': 'additive', 'seasonality_prior_scale': 100}\n",
      "Model 116 with parameters: {'changepoint_prior_scale': 0.1, 'growth': 'linear', 'holidays_prior_scale': 1, 'seasonality_mode': 'additive', 'seasonality_prior_scale': 500}\n"
     ]
    },
    {
     "name": "stderr",
     "output_type": "stream",
     "text": [
      "15:42:46 - cmdstanpy - INFO - Chain [1] start processing\n",
      "15:42:46 - cmdstanpy - INFO - Chain [1] done processing\n",
      "  0%|          | 0/1 [00:00<?, ?it/s]15:42:47 - cmdstanpy - INFO - Chain [1] start processing\n",
      "15:42:47 - cmdstanpy - INFO - Chain [1] done processing\n",
      "100%|██████████| 1/1 [00:00<00:00,  2.08it/s]\n"
     ]
    },
    {
     "name": "stdout",
     "output_type": "stream",
     "text": [
      "RMSE: 56.15544246827163 for parameters: {'changepoint_prior_scale': 0.1, 'growth': 'linear', 'holidays_prior_scale': 1, 'seasonality_mode': 'additive', 'seasonality_prior_scale': 500}\n",
      "Model 117 with parameters: {'changepoint_prior_scale': 0.1, 'growth': 'linear', 'holidays_prior_scale': 1, 'seasonality_mode': 'multiplicative', 'seasonality_prior_scale': 10}\n"
     ]
    },
    {
     "name": "stderr",
     "output_type": "stream",
     "text": [
      "15:42:47 - cmdstanpy - INFO - Chain [1] start processing\n",
      "15:42:47 - cmdstanpy - INFO - Chain [1] done processing\n",
      "  0%|          | 0/1 [00:00<?, ?it/s]15:42:48 - cmdstanpy - INFO - Chain [1] start processing\n",
      "15:42:48 - cmdstanpy - INFO - Chain [1] done processing\n",
      "100%|██████████| 1/1 [00:00<00:00,  2.00it/s]\n"
     ]
    },
    {
     "name": "stdout",
     "output_type": "stream",
     "text": [
      "RMSE: 35.922517241922186 for parameters: {'changepoint_prior_scale': 0.1, 'growth': 'linear', 'holidays_prior_scale': 1, 'seasonality_mode': 'multiplicative', 'seasonality_prior_scale': 10}\n",
      "Model 118 with parameters: {'changepoint_prior_scale': 0.1, 'growth': 'linear', 'holidays_prior_scale': 1, 'seasonality_mode': 'multiplicative', 'seasonality_prior_scale': 50}\n"
     ]
    },
    {
     "name": "stderr",
     "output_type": "stream",
     "text": [
      "15:42:48 - cmdstanpy - INFO - Chain [1] start processing\n",
      "15:42:48 - cmdstanpy - INFO - Chain [1] done processing\n",
      "  0%|          | 0/1 [00:00<?, ?it/s]15:42:48 - cmdstanpy - INFO - Chain [1] start processing\n",
      "15:42:49 - cmdstanpy - INFO - Chain [1] done processing\n",
      "100%|██████████| 1/1 [00:00<00:00,  2.05it/s]\n"
     ]
    },
    {
     "name": "stdout",
     "output_type": "stream",
     "text": [
      "RMSE: 36.43881923178007 for parameters: {'changepoint_prior_scale': 0.1, 'growth': 'linear', 'holidays_prior_scale': 1, 'seasonality_mode': 'multiplicative', 'seasonality_prior_scale': 50}\n",
      "Model 119 with parameters: {'changepoint_prior_scale': 0.1, 'growth': 'linear', 'holidays_prior_scale': 1, 'seasonality_mode': 'multiplicative', 'seasonality_prior_scale': 100}\n"
     ]
    },
    {
     "name": "stderr",
     "output_type": "stream",
     "text": [
      "15:42:49 - cmdstanpy - INFO - Chain [1] start processing\n",
      "15:42:49 - cmdstanpy - INFO - Chain [1] done processing\n",
      "  0%|          | 0/1 [00:00<?, ?it/s]15:42:50 - cmdstanpy - INFO - Chain [1] start processing\n",
      "15:42:50 - cmdstanpy - INFO - Chain [1] done processing\n",
      "100%|██████████| 1/1 [00:00<00:00,  1.78it/s]\n"
     ]
    },
    {
     "name": "stdout",
     "output_type": "stream",
     "text": [
      "RMSE: 35.72380705057387 for parameters: {'changepoint_prior_scale': 0.1, 'growth': 'linear', 'holidays_prior_scale': 1, 'seasonality_mode': 'multiplicative', 'seasonality_prior_scale': 100}\n",
      "Model 120 with parameters: {'changepoint_prior_scale': 0.1, 'growth': 'linear', 'holidays_prior_scale': 1, 'seasonality_mode': 'multiplicative', 'seasonality_prior_scale': 500}\n"
     ]
    },
    {
     "name": "stderr",
     "output_type": "stream",
     "text": [
      "15:42:50 - cmdstanpy - INFO - Chain [1] start processing\n",
      "15:42:50 - cmdstanpy - INFO - Chain [1] done processing\n",
      "  0%|          | 0/1 [00:00<?, ?it/s]15:42:51 - cmdstanpy - INFO - Chain [1] start processing\n",
      "15:42:51 - cmdstanpy - INFO - Chain [1] done processing\n",
      "100%|██████████| 1/1 [00:00<00:00,  1.84it/s]\n"
     ]
    },
    {
     "name": "stdout",
     "output_type": "stream",
     "text": [
      "RMSE: 37.66879852813929 for parameters: {'changepoint_prior_scale': 0.1, 'growth': 'linear', 'holidays_prior_scale': 1, 'seasonality_mode': 'multiplicative', 'seasonality_prior_scale': 500}\n",
      "Model 121 with parameters: {'changepoint_prior_scale': 0.1, 'growth': 'logistic', 'holidays_prior_scale': 0.01, 'seasonality_mode': 'additive', 'seasonality_prior_scale': 10}\n"
     ]
    },
    {
     "name": "stderr",
     "output_type": "stream",
     "text": [
      "15:42:51 - cmdstanpy - INFO - Chain [1] start processing\n",
      "15:42:51 - cmdstanpy - INFO - Chain [1] done processing\n",
      "  0%|          | 0/1 [00:00<?, ?it/s]15:42:52 - cmdstanpy - INFO - Chain [1] start processing\n",
      "15:42:52 - cmdstanpy - INFO - Chain [1] done processing\n",
      "100%|██████████| 1/1 [00:00<00:00,  1.73it/s]\n"
     ]
    },
    {
     "name": "stdout",
     "output_type": "stream",
     "text": [
      "RMSE: 14.696805792834981 for parameters: {'changepoint_prior_scale': 0.1, 'growth': 'logistic', 'holidays_prior_scale': 0.01, 'seasonality_mode': 'additive', 'seasonality_prior_scale': 10}\n",
      "Model 122 with parameters: {'changepoint_prior_scale': 0.1, 'growth': 'logistic', 'holidays_prior_scale': 0.01, 'seasonality_mode': 'additive', 'seasonality_prior_scale': 50}\n"
     ]
    },
    {
     "name": "stderr",
     "output_type": "stream",
     "text": [
      "15:42:52 - cmdstanpy - INFO - Chain [1] start processing\n",
      "15:42:52 - cmdstanpy - INFO - Chain [1] done processing\n",
      "  0%|          | 0/1 [00:00<?, ?it/s]15:42:53 - cmdstanpy - INFO - Chain [1] start processing\n",
      "15:42:53 - cmdstanpy - INFO - Chain [1] done processing\n",
      "100%|██████████| 1/1 [00:00<00:00,  1.80it/s]\n"
     ]
    },
    {
     "name": "stdout",
     "output_type": "stream",
     "text": [
      "RMSE: 14.688334877396537 for parameters: {'changepoint_prior_scale': 0.1, 'growth': 'logistic', 'holidays_prior_scale': 0.01, 'seasonality_mode': 'additive', 'seasonality_prior_scale': 50}\n",
      "Model 123 with parameters: {'changepoint_prior_scale': 0.1, 'growth': 'logistic', 'holidays_prior_scale': 0.01, 'seasonality_mode': 'additive', 'seasonality_prior_scale': 100}\n"
     ]
    },
    {
     "name": "stderr",
     "output_type": "stream",
     "text": [
      "15:42:53 - cmdstanpy - INFO - Chain [1] start processing\n",
      "15:42:53 - cmdstanpy - INFO - Chain [1] done processing\n",
      "  0%|          | 0/1 [00:00<?, ?it/s]15:42:54 - cmdstanpy - INFO - Chain [1] start processing\n",
      "15:42:54 - cmdstanpy - INFO - Chain [1] done processing\n",
      "100%|██████████| 1/1 [00:00<00:00,  1.92it/s]\n"
     ]
    },
    {
     "name": "stdout",
     "output_type": "stream",
     "text": [
      "RMSE: 14.686848006755131 for parameters: {'changepoint_prior_scale': 0.1, 'growth': 'logistic', 'holidays_prior_scale': 0.01, 'seasonality_mode': 'additive', 'seasonality_prior_scale': 100}\n",
      "Model 124 with parameters: {'changepoint_prior_scale': 0.1, 'growth': 'logistic', 'holidays_prior_scale': 0.01, 'seasonality_mode': 'additive', 'seasonality_prior_scale': 500}\n"
     ]
    },
    {
     "name": "stderr",
     "output_type": "stream",
     "text": [
      "15:42:54 - cmdstanpy - INFO - Chain [1] start processing\n",
      "15:42:54 - cmdstanpy - INFO - Chain [1] done processing\n",
      "  0%|          | 0/1 [00:00<?, ?it/s]15:42:55 - cmdstanpy - INFO - Chain [1] start processing\n",
      "15:42:55 - cmdstanpy - INFO - Chain [1] done processing\n",
      "100%|██████████| 1/1 [00:00<00:00,  1.73it/s]\n"
     ]
    },
    {
     "name": "stdout",
     "output_type": "stream",
     "text": [
      "RMSE: 14.685011664170359 for parameters: {'changepoint_prior_scale': 0.1, 'growth': 'logistic', 'holidays_prior_scale': 0.01, 'seasonality_mode': 'additive', 'seasonality_prior_scale': 500}\n",
      "Model 125 with parameters: {'changepoint_prior_scale': 0.1, 'growth': 'logistic', 'holidays_prior_scale': 0.01, 'seasonality_mode': 'multiplicative', 'seasonality_prior_scale': 10}\n"
     ]
    },
    {
     "name": "stderr",
     "output_type": "stream",
     "text": [
      "15:42:55 - cmdstanpy - INFO - Chain [1] start processing\n",
      "15:42:55 - cmdstanpy - INFO - Chain [1] done processing\n",
      "  0%|          | 0/1 [00:00<?, ?it/s]15:42:56 - cmdstanpy - INFO - Chain [1] start processing\n",
      "15:42:56 - cmdstanpy - INFO - Chain [1] done processing\n",
      "100%|██████████| 1/1 [00:00<00:00,  1.81it/s]\n"
     ]
    },
    {
     "name": "stdout",
     "output_type": "stream",
     "text": [
      "RMSE: 54.491294162827316 for parameters: {'changepoint_prior_scale': 0.1, 'growth': 'logistic', 'holidays_prior_scale': 0.01, 'seasonality_mode': 'multiplicative', 'seasonality_prior_scale': 10}\n",
      "Model 126 with parameters: {'changepoint_prior_scale': 0.1, 'growth': 'logistic', 'holidays_prior_scale': 0.01, 'seasonality_mode': 'multiplicative', 'seasonality_prior_scale': 50}\n"
     ]
    },
    {
     "name": "stderr",
     "output_type": "stream",
     "text": [
      "15:42:56 - cmdstanpy - INFO - Chain [1] start processing\n",
      "15:42:56 - cmdstanpy - INFO - Chain [1] done processing\n",
      "  0%|          | 0/1 [00:00<?, ?it/s]15:42:57 - cmdstanpy - INFO - Chain [1] start processing\n",
      "15:42:57 - cmdstanpy - INFO - Chain [1] done processing\n",
      "100%|██████████| 1/1 [00:00<00:00,  1.75it/s]\n"
     ]
    },
    {
     "name": "stdout",
     "output_type": "stream",
     "text": [
      "RMSE: 54.49967721123302 for parameters: {'changepoint_prior_scale': 0.1, 'growth': 'logistic', 'holidays_prior_scale': 0.01, 'seasonality_mode': 'multiplicative', 'seasonality_prior_scale': 50}\n",
      "Model 127 with parameters: {'changepoint_prior_scale': 0.1, 'growth': 'logistic', 'holidays_prior_scale': 0.01, 'seasonality_mode': 'multiplicative', 'seasonality_prior_scale': 100}\n"
     ]
    },
    {
     "name": "stderr",
     "output_type": "stream",
     "text": [
      "15:42:57 - cmdstanpy - INFO - Chain [1] start processing\n",
      "15:42:57 - cmdstanpy - INFO - Chain [1] done processing\n",
      "  0%|          | 0/1 [00:00<?, ?it/s]15:42:58 - cmdstanpy - INFO - Chain [1] start processing\n",
      "15:42:58 - cmdstanpy - INFO - Chain [1] done processing\n",
      "100%|██████████| 1/1 [00:00<00:00,  1.70it/s]\n"
     ]
    },
    {
     "name": "stdout",
     "output_type": "stream",
     "text": [
      "RMSE: 54.489139745093944 for parameters: {'changepoint_prior_scale': 0.1, 'growth': 'logistic', 'holidays_prior_scale': 0.01, 'seasonality_mode': 'multiplicative', 'seasonality_prior_scale': 100}\n",
      "Model 128 with parameters: {'changepoint_prior_scale': 0.1, 'growth': 'logistic', 'holidays_prior_scale': 0.01, 'seasonality_mode': 'multiplicative', 'seasonality_prior_scale': 500}\n"
     ]
    },
    {
     "name": "stderr",
     "output_type": "stream",
     "text": [
      "15:42:58 - cmdstanpy - INFO - Chain [1] start processing\n",
      "15:42:58 - cmdstanpy - INFO - Chain [1] done processing\n",
      "  0%|          | 0/1 [00:00<?, ?it/s]15:42:59 - cmdstanpy - INFO - Chain [1] start processing\n",
      "15:42:59 - cmdstanpy - INFO - Chain [1] done processing\n",
      "100%|██████████| 1/1 [00:00<00:00,  1.73it/s]\n"
     ]
    },
    {
     "name": "stdout",
     "output_type": "stream",
     "text": [
      "RMSE: 54.49909016657411 for parameters: {'changepoint_prior_scale': 0.1, 'growth': 'logistic', 'holidays_prior_scale': 0.01, 'seasonality_mode': 'multiplicative', 'seasonality_prior_scale': 500}\n",
      "Model 129 with parameters: {'changepoint_prior_scale': 0.1, 'growth': 'logistic', 'holidays_prior_scale': 0.1, 'seasonality_mode': 'additive', 'seasonality_prior_scale': 10}\n"
     ]
    },
    {
     "name": "stderr",
     "output_type": "stream",
     "text": [
      "15:42:59 - cmdstanpy - INFO - Chain [1] start processing\n",
      "15:42:59 - cmdstanpy - INFO - Chain [1] done processing\n",
      "  0%|          | 0/1 [00:00<?, ?it/s]15:43:00 - cmdstanpy - INFO - Chain [1] start processing\n",
      "15:43:00 - cmdstanpy - INFO - Chain [1] done processing\n",
      "100%|██████████| 1/1 [00:00<00:00,  1.90it/s]\n"
     ]
    },
    {
     "name": "stdout",
     "output_type": "stream",
     "text": [
      "RMSE: 19.233439179742252 for parameters: {'changepoint_prior_scale': 0.1, 'growth': 'logistic', 'holidays_prior_scale': 0.1, 'seasonality_mode': 'additive', 'seasonality_prior_scale': 10}\n",
      "Model 130 with parameters: {'changepoint_prior_scale': 0.1, 'growth': 'logistic', 'holidays_prior_scale': 0.1, 'seasonality_mode': 'additive', 'seasonality_prior_scale': 50}\n"
     ]
    },
    {
     "name": "stderr",
     "output_type": "stream",
     "text": [
      "15:43:00 - cmdstanpy - INFO - Chain [1] start processing\n",
      "15:43:00 - cmdstanpy - INFO - Chain [1] done processing\n",
      "  0%|          | 0/1 [00:00<?, ?it/s]15:43:01 - cmdstanpy - INFO - Chain [1] start processing\n",
      "15:43:01 - cmdstanpy - INFO - Chain [1] done processing\n",
      "100%|██████████| 1/1 [00:00<00:00,  1.87it/s]\n"
     ]
    },
    {
     "name": "stdout",
     "output_type": "stream",
     "text": [
      "RMSE: 17.179276523046635 for parameters: {'changepoint_prior_scale': 0.1, 'growth': 'logistic', 'holidays_prior_scale': 0.1, 'seasonality_mode': 'additive', 'seasonality_prior_scale': 50}\n",
      "Model 131 with parameters: {'changepoint_prior_scale': 0.1, 'growth': 'logistic', 'holidays_prior_scale': 0.1, 'seasonality_mode': 'additive', 'seasonality_prior_scale': 100}\n"
     ]
    },
    {
     "name": "stderr",
     "output_type": "stream",
     "text": [
      "15:43:01 - cmdstanpy - INFO - Chain [1] start processing\n",
      "15:43:01 - cmdstanpy - INFO - Chain [1] done processing\n",
      "  0%|          | 0/1 [00:00<?, ?it/s]15:43:02 - cmdstanpy - INFO - Chain [1] start processing\n",
      "15:43:02 - cmdstanpy - INFO - Chain [1] done processing\n",
      "100%|██████████| 1/1 [00:00<00:00,  1.75it/s]\n"
     ]
    },
    {
     "name": "stdout",
     "output_type": "stream",
     "text": [
      "RMSE: 17.987417436749787 for parameters: {'changepoint_prior_scale': 0.1, 'growth': 'logistic', 'holidays_prior_scale': 0.1, 'seasonality_mode': 'additive', 'seasonality_prior_scale': 100}\n",
      "Model 132 with parameters: {'changepoint_prior_scale': 0.1, 'growth': 'logistic', 'holidays_prior_scale': 0.1, 'seasonality_mode': 'additive', 'seasonality_prior_scale': 500}\n"
     ]
    },
    {
     "name": "stderr",
     "output_type": "stream",
     "text": [
      "15:43:02 - cmdstanpy - INFO - Chain [1] start processing\n",
      "15:43:03 - cmdstanpy - INFO - Chain [1] done processing\n",
      "  0%|          | 0/1 [00:00<?, ?it/s]15:43:03 - cmdstanpy - INFO - Chain [1] start processing\n",
      "15:43:03 - cmdstanpy - INFO - Chain [1] done processing\n",
      "100%|██████████| 1/1 [00:00<00:00,  1.74it/s]\n"
     ]
    },
    {
     "name": "stdout",
     "output_type": "stream",
     "text": [
      "RMSE: 19.594999575870407 for parameters: {'changepoint_prior_scale': 0.1, 'growth': 'logistic', 'holidays_prior_scale': 0.1, 'seasonality_mode': 'additive', 'seasonality_prior_scale': 500}\n",
      "Model 133 with parameters: {'changepoint_prior_scale': 0.1, 'growth': 'logistic', 'holidays_prior_scale': 0.1, 'seasonality_mode': 'multiplicative', 'seasonality_prior_scale': 10}\n"
     ]
    },
    {
     "name": "stderr",
     "output_type": "stream",
     "text": [
      "15:43:03 - cmdstanpy - INFO - Chain [1] start processing\n",
      "15:43:04 - cmdstanpy - INFO - Chain [1] done processing\n",
      "  0%|          | 0/1 [00:00<?, ?it/s]15:43:04 - cmdstanpy - INFO - Chain [1] start processing\n",
      "15:43:04 - cmdstanpy - INFO - Chain [1] done processing\n",
      "100%|██████████| 1/1 [00:00<00:00,  1.68it/s]\n"
     ]
    },
    {
     "name": "stdout",
     "output_type": "stream",
     "text": [
      "RMSE: 29.570760040740133 for parameters: {'changepoint_prior_scale': 0.1, 'growth': 'logistic', 'holidays_prior_scale': 0.1, 'seasonality_mode': 'multiplicative', 'seasonality_prior_scale': 10}\n",
      "Model 134 with parameters: {'changepoint_prior_scale': 0.1, 'growth': 'logistic', 'holidays_prior_scale': 0.1, 'seasonality_mode': 'multiplicative', 'seasonality_prior_scale': 50}\n"
     ]
    },
    {
     "name": "stderr",
     "output_type": "stream",
     "text": [
      "15:43:05 - cmdstanpy - INFO - Chain [1] start processing\n",
      "15:43:05 - cmdstanpy - INFO - Chain [1] done processing\n",
      "  0%|          | 0/1 [00:00<?, ?it/s]15:43:05 - cmdstanpy - INFO - Chain [1] start processing\n",
      "15:43:05 - cmdstanpy - INFO - Chain [1] done processing\n",
      "100%|██████████| 1/1 [00:00<00:00,  1.83it/s]\n"
     ]
    },
    {
     "name": "stdout",
     "output_type": "stream",
     "text": [
      "RMSE: 29.058571226990676 for parameters: {'changepoint_prior_scale': 0.1, 'growth': 'logistic', 'holidays_prior_scale': 0.1, 'seasonality_mode': 'multiplicative', 'seasonality_prior_scale': 50}\n",
      "Model 135 with parameters: {'changepoint_prior_scale': 0.1, 'growth': 'logistic', 'holidays_prior_scale': 0.1, 'seasonality_mode': 'multiplicative', 'seasonality_prior_scale': 100}\n"
     ]
    },
    {
     "name": "stderr",
     "output_type": "stream",
     "text": [
      "15:43:06 - cmdstanpy - INFO - Chain [1] start processing\n",
      "15:43:06 - cmdstanpy - INFO - Chain [1] done processing\n",
      "  0%|          | 0/1 [00:00<?, ?it/s]15:43:06 - cmdstanpy - INFO - Chain [1] start processing\n",
      "15:43:06 - cmdstanpy - INFO - Chain [1] done processing\n",
      "100%|██████████| 1/1 [00:00<00:00,  1.70it/s]\n"
     ]
    },
    {
     "name": "stdout",
     "output_type": "stream",
     "text": [
      "RMSE: 29.027155199468016 for parameters: {'changepoint_prior_scale': 0.1, 'growth': 'logistic', 'holidays_prior_scale': 0.1, 'seasonality_mode': 'multiplicative', 'seasonality_prior_scale': 100}\n",
      "Model 136 with parameters: {'changepoint_prior_scale': 0.1, 'growth': 'logistic', 'holidays_prior_scale': 0.1, 'seasonality_mode': 'multiplicative', 'seasonality_prior_scale': 500}\n"
     ]
    },
    {
     "name": "stderr",
     "output_type": "stream",
     "text": [
      "15:43:07 - cmdstanpy - INFO - Chain [1] start processing\n",
      "15:43:07 - cmdstanpy - INFO - Chain [1] done processing\n",
      "  0%|          | 0/1 [00:00<?, ?it/s]15:43:07 - cmdstanpy - INFO - Chain [1] start processing\n",
      "15:43:07 - cmdstanpy - INFO - Chain [1] done processing\n",
      "100%|██████████| 1/1 [00:00<00:00,  1.71it/s]\n"
     ]
    },
    {
     "name": "stdout",
     "output_type": "stream",
     "text": [
      "RMSE: 28.980051158943485 for parameters: {'changepoint_prior_scale': 0.1, 'growth': 'logistic', 'holidays_prior_scale': 0.1, 'seasonality_mode': 'multiplicative', 'seasonality_prior_scale': 500}\n",
      "Model 137 with parameters: {'changepoint_prior_scale': 0.1, 'growth': 'logistic', 'holidays_prior_scale': 1, 'seasonality_mode': 'additive', 'seasonality_prior_scale': 10}\n"
     ]
    },
    {
     "name": "stderr",
     "output_type": "stream",
     "text": [
      "15:43:08 - cmdstanpy - INFO - Chain [1] start processing\n",
      "15:43:08 - cmdstanpy - INFO - Chain [1] done processing\n",
      "  0%|          | 0/1 [00:00<?, ?it/s]15:43:08 - cmdstanpy - INFO - Chain [1] start processing\n",
      "15:43:08 - cmdstanpy - INFO - Chain [1] done processing\n",
      "100%|██████████| 1/1 [00:00<00:00,  1.77it/s]\n"
     ]
    },
    {
     "name": "stdout",
     "output_type": "stream",
     "text": [
      "RMSE: 17.063998137540427 for parameters: {'changepoint_prior_scale': 0.1, 'growth': 'logistic', 'holidays_prior_scale': 1, 'seasonality_mode': 'additive', 'seasonality_prior_scale': 10}\n",
      "Model 138 with parameters: {'changepoint_prior_scale': 0.1, 'growth': 'logistic', 'holidays_prior_scale': 1, 'seasonality_mode': 'additive', 'seasonality_prior_scale': 50}\n"
     ]
    },
    {
     "name": "stderr",
     "output_type": "stream",
     "text": [
      "15:43:09 - cmdstanpy - INFO - Chain [1] start processing\n",
      "15:43:09 - cmdstanpy - INFO - Chain [1] done processing\n",
      "  0%|          | 0/1 [00:00<?, ?it/s]15:43:09 - cmdstanpy - INFO - Chain [1] start processing\n",
      "15:43:09 - cmdstanpy - INFO - Chain [1] done processing\n",
      "100%|██████████| 1/1 [00:00<00:00,  1.92it/s]\n"
     ]
    },
    {
     "name": "stdout",
     "output_type": "stream",
     "text": [
      "RMSE: 18.04371686140247 for parameters: {'changepoint_prior_scale': 0.1, 'growth': 'logistic', 'holidays_prior_scale': 1, 'seasonality_mode': 'additive', 'seasonality_prior_scale': 50}\n",
      "Model 139 with parameters: {'changepoint_prior_scale': 0.1, 'growth': 'logistic', 'holidays_prior_scale': 1, 'seasonality_mode': 'additive', 'seasonality_prior_scale': 100}\n"
     ]
    },
    {
     "name": "stderr",
     "output_type": "stream",
     "text": [
      "15:43:10 - cmdstanpy - INFO - Chain [1] start processing\n",
      "15:43:10 - cmdstanpy - INFO - Chain [1] done processing\n",
      "  0%|          | 0/1 [00:00<?, ?it/s]15:43:10 - cmdstanpy - INFO - Chain [1] start processing\n",
      "15:43:10 - cmdstanpy - INFO - Chain [1] done processing\n",
      "100%|██████████| 1/1 [00:00<00:00,  1.79it/s]\n"
     ]
    },
    {
     "name": "stdout",
     "output_type": "stream",
     "text": [
      "RMSE: 17.817675003836978 for parameters: {'changepoint_prior_scale': 0.1, 'growth': 'logistic', 'holidays_prior_scale': 1, 'seasonality_mode': 'additive', 'seasonality_prior_scale': 100}\n",
      "Model 140 with parameters: {'changepoint_prior_scale': 0.1, 'growth': 'logistic', 'holidays_prior_scale': 1, 'seasonality_mode': 'additive', 'seasonality_prior_scale': 500}\n"
     ]
    },
    {
     "name": "stderr",
     "output_type": "stream",
     "text": [
      "15:43:11 - cmdstanpy - INFO - Chain [1] start processing\n",
      "15:43:11 - cmdstanpy - INFO - Chain [1] done processing\n",
      "  0%|          | 0/1 [00:00<?, ?it/s]15:43:11 - cmdstanpy - INFO - Chain [1] start processing\n",
      "15:43:11 - cmdstanpy - INFO - Chain [1] done processing\n",
      "100%|██████████| 1/1 [00:00<00:00,  1.92it/s]\n"
     ]
    },
    {
     "name": "stdout",
     "output_type": "stream",
     "text": [
      "RMSE: 17.833269538177014 for parameters: {'changepoint_prior_scale': 0.1, 'growth': 'logistic', 'holidays_prior_scale': 1, 'seasonality_mode': 'additive', 'seasonality_prior_scale': 500}\n",
      "Model 141 with parameters: {'changepoint_prior_scale': 0.1, 'growth': 'logistic', 'holidays_prior_scale': 1, 'seasonality_mode': 'multiplicative', 'seasonality_prior_scale': 10}\n"
     ]
    },
    {
     "name": "stderr",
     "output_type": "stream",
     "text": [
      "15:43:12 - cmdstanpy - INFO - Chain [1] start processing\n",
      "15:43:12 - cmdstanpy - INFO - Chain [1] done processing\n",
      "  0%|          | 0/1 [00:00<?, ?it/s]15:43:12 - cmdstanpy - INFO - Chain [1] start processing\n",
      "15:43:12 - cmdstanpy - INFO - Chain [1] done processing\n",
      "100%|██████████| 1/1 [00:00<00:00,  1.86it/s]\n"
     ]
    },
    {
     "name": "stdout",
     "output_type": "stream",
     "text": [
      "RMSE: 17.005704515245718 for parameters: {'changepoint_prior_scale': 0.1, 'growth': 'logistic', 'holidays_prior_scale': 1, 'seasonality_mode': 'multiplicative', 'seasonality_prior_scale': 10}\n",
      "Model 142 with parameters: {'changepoint_prior_scale': 0.1, 'growth': 'logistic', 'holidays_prior_scale': 1, 'seasonality_mode': 'multiplicative', 'seasonality_prior_scale': 50}\n"
     ]
    },
    {
     "name": "stderr",
     "output_type": "stream",
     "text": [
      "15:43:13 - cmdstanpy - INFO - Chain [1] start processing\n",
      "15:43:13 - cmdstanpy - INFO - Chain [1] done processing\n",
      "  0%|          | 0/1 [00:00<?, ?it/s]15:43:13 - cmdstanpy - INFO - Chain [1] start processing\n",
      "15:43:13 - cmdstanpy - INFO - Chain [1] done processing\n",
      "100%|██████████| 1/1 [00:00<00:00,  1.81it/s]\n"
     ]
    },
    {
     "name": "stdout",
     "output_type": "stream",
     "text": [
      "RMSE: 16.920941820807922 for parameters: {'changepoint_prior_scale': 0.1, 'growth': 'logistic', 'holidays_prior_scale': 1, 'seasonality_mode': 'multiplicative', 'seasonality_prior_scale': 50}\n",
      "Model 143 with parameters: {'changepoint_prior_scale': 0.1, 'growth': 'logistic', 'holidays_prior_scale': 1, 'seasonality_mode': 'multiplicative', 'seasonality_prior_scale': 100}\n"
     ]
    },
    {
     "name": "stderr",
     "output_type": "stream",
     "text": [
      "15:43:14 - cmdstanpy - INFO - Chain [1] start processing\n",
      "15:43:14 - cmdstanpy - INFO - Chain [1] done processing\n",
      "  0%|          | 0/1 [00:00<?, ?it/s]15:43:14 - cmdstanpy - INFO - Chain [1] start processing\n",
      "15:43:14 - cmdstanpy - INFO - Chain [1] done processing\n",
      "100%|██████████| 1/1 [00:00<00:00,  1.71it/s]\n"
     ]
    },
    {
     "name": "stdout",
     "output_type": "stream",
     "text": [
      "RMSE: 16.94634382320059 for parameters: {'changepoint_prior_scale': 0.1, 'growth': 'logistic', 'holidays_prior_scale': 1, 'seasonality_mode': 'multiplicative', 'seasonality_prior_scale': 100}\n",
      "Model 144 with parameters: {'changepoint_prior_scale': 0.1, 'growth': 'logistic', 'holidays_prior_scale': 1, 'seasonality_mode': 'multiplicative', 'seasonality_prior_scale': 500}\n"
     ]
    },
    {
     "name": "stderr",
     "output_type": "stream",
     "text": [
      "15:43:15 - cmdstanpy - INFO - Chain [1] start processing\n",
      "15:43:15 - cmdstanpy - INFO - Chain [1] done processing\n",
      "  0%|          | 0/1 [00:00<?, ?it/s]15:43:15 - cmdstanpy - INFO - Chain [1] start processing\n",
      "15:43:15 - cmdstanpy - INFO - Chain [1] done processing\n",
      "100%|██████████| 1/1 [00:00<00:00,  1.60it/s]\n"
     ]
    },
    {
     "name": "stdout",
     "output_type": "stream",
     "text": [
      "RMSE: 16.682490909448013 for parameters: {'changepoint_prior_scale': 0.1, 'growth': 'logistic', 'holidays_prior_scale': 1, 'seasonality_mode': 'multiplicative', 'seasonality_prior_scale': 500}\n",
      "Model 145 with parameters: {'changepoint_prior_scale': 0.5, 'growth': 'linear', 'holidays_prior_scale': 0.01, 'seasonality_mode': 'additive', 'seasonality_prior_scale': 10}\n"
     ]
    },
    {
     "name": "stderr",
     "output_type": "stream",
     "text": [
      "15:43:16 - cmdstanpy - INFO - Chain [1] start processing\n",
      "15:43:16 - cmdstanpy - INFO - Chain [1] done processing\n",
      "  0%|          | 0/1 [00:00<?, ?it/s]15:43:16 - cmdstanpy - INFO - Chain [1] start processing\n",
      "15:43:16 - cmdstanpy - INFO - Chain [1] done processing\n",
      "100%|██████████| 1/1 [00:00<00:00,  1.90it/s]\n"
     ]
    },
    {
     "name": "stdout",
     "output_type": "stream",
     "text": [
      "RMSE: 79.77648101240905 for parameters: {'changepoint_prior_scale': 0.5, 'growth': 'linear', 'holidays_prior_scale': 0.01, 'seasonality_mode': 'additive', 'seasonality_prior_scale': 10}\n",
      "Model 146 with parameters: {'changepoint_prior_scale': 0.5, 'growth': 'linear', 'holidays_prior_scale': 0.01, 'seasonality_mode': 'additive', 'seasonality_prior_scale': 50}\n"
     ]
    },
    {
     "name": "stderr",
     "output_type": "stream",
     "text": [
      "15:43:17 - cmdstanpy - INFO - Chain [1] start processing\n",
      "15:43:17 - cmdstanpy - INFO - Chain [1] done processing\n",
      "  0%|          | 0/1 [00:00<?, ?it/s]15:43:17 - cmdstanpy - INFO - Chain [1] start processing\n",
      "15:43:17 - cmdstanpy - INFO - Chain [1] done processing\n",
      "100%|██████████| 1/1 [00:00<00:00,  2.01it/s]\n"
     ]
    },
    {
     "name": "stdout",
     "output_type": "stream",
     "text": [
      "RMSE: 78.39768520625259 for parameters: {'changepoint_prior_scale': 0.5, 'growth': 'linear', 'holidays_prior_scale': 0.01, 'seasonality_mode': 'additive', 'seasonality_prior_scale': 50}\n",
      "Model 147 with parameters: {'changepoint_prior_scale': 0.5, 'growth': 'linear', 'holidays_prior_scale': 0.01, 'seasonality_mode': 'additive', 'seasonality_prior_scale': 100}\n"
     ]
    },
    {
     "name": "stderr",
     "output_type": "stream",
     "text": [
      "15:43:18 - cmdstanpy - INFO - Chain [1] start processing\n",
      "15:43:18 - cmdstanpy - INFO - Chain [1] done processing\n",
      "  0%|          | 0/1 [00:00<?, ?it/s]15:43:18 - cmdstanpy - INFO - Chain [1] start processing\n",
      "15:43:18 - cmdstanpy - INFO - Chain [1] done processing\n",
      "100%|██████████| 1/1 [00:00<00:00,  1.87it/s]\n"
     ]
    },
    {
     "name": "stdout",
     "output_type": "stream",
     "text": [
      "RMSE: 78.21018065320757 for parameters: {'changepoint_prior_scale': 0.5, 'growth': 'linear', 'holidays_prior_scale': 0.01, 'seasonality_mode': 'additive', 'seasonality_prior_scale': 100}\n",
      "Model 148 with parameters: {'changepoint_prior_scale': 0.5, 'growth': 'linear', 'holidays_prior_scale': 0.01, 'seasonality_mode': 'additive', 'seasonality_prior_scale': 500}\n"
     ]
    },
    {
     "name": "stderr",
     "output_type": "stream",
     "text": [
      "15:43:19 - cmdstanpy - INFO - Chain [1] start processing\n",
      "15:43:19 - cmdstanpy - INFO - Chain [1] done processing\n",
      "  0%|          | 0/1 [00:00<?, ?it/s]15:43:19 - cmdstanpy - INFO - Chain [1] start processing\n",
      "15:43:19 - cmdstanpy - INFO - Chain [1] done processing\n",
      "100%|██████████| 1/1 [00:00<00:00,  2.02it/s]\n"
     ]
    },
    {
     "name": "stdout",
     "output_type": "stream",
     "text": [
      "RMSE: 78.35784204560443 for parameters: {'changepoint_prior_scale': 0.5, 'growth': 'linear', 'holidays_prior_scale': 0.01, 'seasonality_mode': 'additive', 'seasonality_prior_scale': 500}\n",
      "Model 149 with parameters: {'changepoint_prior_scale': 0.5, 'growth': 'linear', 'holidays_prior_scale': 0.01, 'seasonality_mode': 'multiplicative', 'seasonality_prior_scale': 10}\n"
     ]
    },
    {
     "name": "stderr",
     "output_type": "stream",
     "text": [
      "15:43:20 - cmdstanpy - INFO - Chain [1] start processing\n",
      "15:43:20 - cmdstanpy - INFO - Chain [1] done processing\n",
      "  0%|          | 0/1 [00:00<?, ?it/s]15:43:20 - cmdstanpy - INFO - Chain [1] start processing\n",
      "15:43:20 - cmdstanpy - INFO - Chain [1] done processing\n",
      "100%|██████████| 1/1 [00:00<00:00,  1.95it/s]\n"
     ]
    },
    {
     "name": "stdout",
     "output_type": "stream",
     "text": [
      "RMSE: 127.45433876056647 for parameters: {'changepoint_prior_scale': 0.5, 'growth': 'linear', 'holidays_prior_scale': 0.01, 'seasonality_mode': 'multiplicative', 'seasonality_prior_scale': 10}\n",
      "Model 150 with parameters: {'changepoint_prior_scale': 0.5, 'growth': 'linear', 'holidays_prior_scale': 0.01, 'seasonality_mode': 'multiplicative', 'seasonality_prior_scale': 50}\n"
     ]
    },
    {
     "name": "stderr",
     "output_type": "stream",
     "text": [
      "15:43:21 - cmdstanpy - INFO - Chain [1] start processing\n",
      "15:43:21 - cmdstanpy - INFO - Chain [1] done processing\n",
      "  0%|          | 0/1 [00:00<?, ?it/s]15:43:21 - cmdstanpy - INFO - Chain [1] start processing\n",
      "15:43:21 - cmdstanpy - INFO - Chain [1] done processing\n",
      "100%|██████████| 1/1 [00:00<00:00,  2.09it/s]\n"
     ]
    },
    {
     "name": "stdout",
     "output_type": "stream",
     "text": [
      "RMSE: 127.42852707739807 for parameters: {'changepoint_prior_scale': 0.5, 'growth': 'linear', 'holidays_prior_scale': 0.01, 'seasonality_mode': 'multiplicative', 'seasonality_prior_scale': 50}\n",
      "Model 151 with parameters: {'changepoint_prior_scale': 0.5, 'growth': 'linear', 'holidays_prior_scale': 0.01, 'seasonality_mode': 'multiplicative', 'seasonality_prior_scale': 100}\n"
     ]
    },
    {
     "name": "stderr",
     "output_type": "stream",
     "text": [
      "15:43:22 - cmdstanpy - INFO - Chain [1] start processing\n",
      "15:43:22 - cmdstanpy - INFO - Chain [1] done processing\n",
      "  0%|          | 0/1 [00:00<?, ?it/s]15:43:22 - cmdstanpy - INFO - Chain [1] start processing\n",
      "15:43:22 - cmdstanpy - INFO - Chain [1] done processing\n",
      "100%|██████████| 1/1 [00:00<00:00,  2.06it/s]\n"
     ]
    },
    {
     "name": "stdout",
     "output_type": "stream",
     "text": [
      "RMSE: 127.21237934533477 for parameters: {'changepoint_prior_scale': 0.5, 'growth': 'linear', 'holidays_prior_scale': 0.01, 'seasonality_mode': 'multiplicative', 'seasonality_prior_scale': 100}\n",
      "Model 152 with parameters: {'changepoint_prior_scale': 0.5, 'growth': 'linear', 'holidays_prior_scale': 0.01, 'seasonality_mode': 'multiplicative', 'seasonality_prior_scale': 500}\n"
     ]
    },
    {
     "name": "stderr",
     "output_type": "stream",
     "text": [
      "15:43:23 - cmdstanpy - INFO - Chain [1] start processing\n",
      "15:43:23 - cmdstanpy - INFO - Chain [1] done processing\n",
      "  0%|          | 0/1 [00:00<?, ?it/s]15:43:23 - cmdstanpy - INFO - Chain [1] start processing\n",
      "15:43:23 - cmdstanpy - INFO - Chain [1] done processing\n",
      "100%|██████████| 1/1 [00:00<00:00,  2.04it/s]\n"
     ]
    },
    {
     "name": "stdout",
     "output_type": "stream",
     "text": [
      "RMSE: 127.63874975727698 for parameters: {'changepoint_prior_scale': 0.5, 'growth': 'linear', 'holidays_prior_scale': 0.01, 'seasonality_mode': 'multiplicative', 'seasonality_prior_scale': 500}\n",
      "Model 153 with parameters: {'changepoint_prior_scale': 0.5, 'growth': 'linear', 'holidays_prior_scale': 0.1, 'seasonality_mode': 'additive', 'seasonality_prior_scale': 10}\n"
     ]
    },
    {
     "name": "stderr",
     "output_type": "stream",
     "text": [
      "15:43:24 - cmdstanpy - INFO - Chain [1] start processing\n",
      "15:43:24 - cmdstanpy - INFO - Chain [1] done processing\n",
      "  0%|          | 0/1 [00:00<?, ?it/s]15:43:24 - cmdstanpy - INFO - Chain [1] start processing\n",
      "15:43:24 - cmdstanpy - INFO - Chain [1] done processing\n",
      "100%|██████████| 1/1 [00:00<00:00,  2.11it/s]\n"
     ]
    },
    {
     "name": "stdout",
     "output_type": "stream",
     "text": [
      "RMSE: 74.5909249245595 for parameters: {'changepoint_prior_scale': 0.5, 'growth': 'linear', 'holidays_prior_scale': 0.1, 'seasonality_mode': 'additive', 'seasonality_prior_scale': 10}\n",
      "Model 154 with parameters: {'changepoint_prior_scale': 0.5, 'growth': 'linear', 'holidays_prior_scale': 0.1, 'seasonality_mode': 'additive', 'seasonality_prior_scale': 50}\n"
     ]
    },
    {
     "name": "stderr",
     "output_type": "stream",
     "text": [
      "15:43:25 - cmdstanpy - INFO - Chain [1] start processing\n",
      "15:43:25 - cmdstanpy - INFO - Chain [1] done processing\n",
      "  0%|          | 0/1 [00:00<?, ?it/s]15:43:25 - cmdstanpy - INFO - Chain [1] start processing\n",
      "15:43:25 - cmdstanpy - INFO - Chain [1] done processing\n",
      "100%|██████████| 1/1 [00:00<00:00,  1.99it/s]\n"
     ]
    },
    {
     "name": "stdout",
     "output_type": "stream",
     "text": [
      "RMSE: 75.00075257722558 for parameters: {'changepoint_prior_scale': 0.5, 'growth': 'linear', 'holidays_prior_scale': 0.1, 'seasonality_mode': 'additive', 'seasonality_prior_scale': 50}\n",
      "Model 155 with parameters: {'changepoint_prior_scale': 0.5, 'growth': 'linear', 'holidays_prior_scale': 0.1, 'seasonality_mode': 'additive', 'seasonality_prior_scale': 100}\n"
     ]
    },
    {
     "name": "stderr",
     "output_type": "stream",
     "text": [
      "15:43:26 - cmdstanpy - INFO - Chain [1] start processing\n",
      "15:43:26 - cmdstanpy - INFO - Chain [1] done processing\n",
      "  0%|          | 0/1 [00:00<?, ?it/s]15:43:26 - cmdstanpy - INFO - Chain [1] start processing\n",
      "15:43:26 - cmdstanpy - INFO - Chain [1] done processing\n",
      "100%|██████████| 1/1 [00:00<00:00,  1.97it/s]\n"
     ]
    },
    {
     "name": "stdout",
     "output_type": "stream",
     "text": [
      "RMSE: 75.19430927598783 for parameters: {'changepoint_prior_scale': 0.5, 'growth': 'linear', 'holidays_prior_scale': 0.1, 'seasonality_mode': 'additive', 'seasonality_prior_scale': 100}\n",
      "Model 156 with parameters: {'changepoint_prior_scale': 0.5, 'growth': 'linear', 'holidays_prior_scale': 0.1, 'seasonality_mode': 'additive', 'seasonality_prior_scale': 500}\n"
     ]
    },
    {
     "name": "stderr",
     "output_type": "stream",
     "text": [
      "15:43:27 - cmdstanpy - INFO - Chain [1] start processing\n",
      "15:43:27 - cmdstanpy - INFO - Chain [1] done processing\n",
      "  0%|          | 0/1 [00:00<?, ?it/s]15:43:27 - cmdstanpy - INFO - Chain [1] start processing\n",
      "15:43:27 - cmdstanpy - INFO - Chain [1] done processing\n",
      "100%|██████████| 1/1 [00:00<00:00,  1.95it/s]\n"
     ]
    },
    {
     "name": "stdout",
     "output_type": "stream",
     "text": [
      "RMSE: 75.35654563985975 for parameters: {'changepoint_prior_scale': 0.5, 'growth': 'linear', 'holidays_prior_scale': 0.1, 'seasonality_mode': 'additive', 'seasonality_prior_scale': 500}\n",
      "Model 157 with parameters: {'changepoint_prior_scale': 0.5, 'growth': 'linear', 'holidays_prior_scale': 0.1, 'seasonality_mode': 'multiplicative', 'seasonality_prior_scale': 10}\n"
     ]
    },
    {
     "name": "stderr",
     "output_type": "stream",
     "text": [
      "15:43:28 - cmdstanpy - INFO - Chain [1] start processing\n",
      "15:43:28 - cmdstanpy - INFO - Chain [1] done processing\n",
      "  0%|          | 0/1 [00:00<?, ?it/s]15:43:28 - cmdstanpy - INFO - Chain [1] start processing\n",
      "15:43:28 - cmdstanpy - INFO - Chain [1] done processing\n",
      "100%|██████████| 1/1 [00:00<00:00,  2.21it/s]\n"
     ]
    },
    {
     "name": "stdout",
     "output_type": "stream",
     "text": [
      "RMSE: 50.996021854586765 for parameters: {'changepoint_prior_scale': 0.5, 'growth': 'linear', 'holidays_prior_scale': 0.1, 'seasonality_mode': 'multiplicative', 'seasonality_prior_scale': 10}\n",
      "Model 158 with parameters: {'changepoint_prior_scale': 0.5, 'growth': 'linear', 'holidays_prior_scale': 0.1, 'seasonality_mode': 'multiplicative', 'seasonality_prior_scale': 50}\n"
     ]
    },
    {
     "name": "stderr",
     "output_type": "stream",
     "text": [
      "15:43:29 - cmdstanpy - INFO - Chain [1] start processing\n",
      "15:43:29 - cmdstanpy - INFO - Chain [1] done processing\n",
      "  0%|          | 0/1 [00:00<?, ?it/s]15:43:29 - cmdstanpy - INFO - Chain [1] start processing\n",
      "15:43:29 - cmdstanpy - INFO - Chain [1] done processing\n",
      "100%|██████████| 1/1 [00:00<00:00,  2.19it/s]\n"
     ]
    },
    {
     "name": "stdout",
     "output_type": "stream",
     "text": [
      "RMSE: 51.28690612990595 for parameters: {'changepoint_prior_scale': 0.5, 'growth': 'linear', 'holidays_prior_scale': 0.1, 'seasonality_mode': 'multiplicative', 'seasonality_prior_scale': 50}\n",
      "Model 159 with parameters: {'changepoint_prior_scale': 0.5, 'growth': 'linear', 'holidays_prior_scale': 0.1, 'seasonality_mode': 'multiplicative', 'seasonality_prior_scale': 100}\n"
     ]
    },
    {
     "name": "stderr",
     "output_type": "stream",
     "text": [
      "15:43:29 - cmdstanpy - INFO - Chain [1] start processing\n",
      "15:43:30 - cmdstanpy - INFO - Chain [1] done processing\n",
      "  0%|          | 0/1 [00:00<?, ?it/s]15:43:30 - cmdstanpy - INFO - Chain [1] start processing\n",
      "15:43:30 - cmdstanpy - INFO - Chain [1] done processing\n",
      "100%|██████████| 1/1 [00:00<00:00,  1.98it/s]\n"
     ]
    },
    {
     "name": "stdout",
     "output_type": "stream",
     "text": [
      "RMSE: 50.86082143715315 for parameters: {'changepoint_prior_scale': 0.5, 'growth': 'linear', 'holidays_prior_scale': 0.1, 'seasonality_mode': 'multiplicative', 'seasonality_prior_scale': 100}\n",
      "Model 160 with parameters: {'changepoint_prior_scale': 0.5, 'growth': 'linear', 'holidays_prior_scale': 0.1, 'seasonality_mode': 'multiplicative', 'seasonality_prior_scale': 500}\n"
     ]
    },
    {
     "name": "stderr",
     "output_type": "stream",
     "text": [
      "15:43:30 - cmdstanpy - INFO - Chain [1] start processing\n",
      "15:43:31 - cmdstanpy - INFO - Chain [1] done processing\n",
      "  0%|          | 0/1 [00:00<?, ?it/s]15:43:31 - cmdstanpy - INFO - Chain [1] start processing\n",
      "15:43:31 - cmdstanpy - INFO - Chain [1] done processing\n",
      "100%|██████████| 1/1 [00:00<00:00,  2.14it/s]\n"
     ]
    },
    {
     "name": "stdout",
     "output_type": "stream",
     "text": [
      "RMSE: 51.09172561240756 for parameters: {'changepoint_prior_scale': 0.5, 'growth': 'linear', 'holidays_prior_scale': 0.1, 'seasonality_mode': 'multiplicative', 'seasonality_prior_scale': 500}\n",
      "Model 161 with parameters: {'changepoint_prior_scale': 0.5, 'growth': 'linear', 'holidays_prior_scale': 1, 'seasonality_mode': 'additive', 'seasonality_prior_scale': 10}\n"
     ]
    },
    {
     "name": "stderr",
     "output_type": "stream",
     "text": [
      "15:43:31 - cmdstanpy - INFO - Chain [1] start processing\n",
      "15:43:32 - cmdstanpy - INFO - Chain [1] done processing\n",
      "  0%|          | 0/1 [00:00<?, ?it/s]15:43:32 - cmdstanpy - INFO - Chain [1] start processing\n",
      "15:43:32 - cmdstanpy - INFO - Chain [1] done processing\n",
      "100%|██████████| 1/1 [00:00<00:00,  2.09it/s]\n"
     ]
    },
    {
     "name": "stdout",
     "output_type": "stream",
     "text": [
      "RMSE: 74.74987459813772 for parameters: {'changepoint_prior_scale': 0.5, 'growth': 'linear', 'holidays_prior_scale': 1, 'seasonality_mode': 'additive', 'seasonality_prior_scale': 10}\n",
      "Model 162 with parameters: {'changepoint_prior_scale': 0.5, 'growth': 'linear', 'holidays_prior_scale': 1, 'seasonality_mode': 'additive', 'seasonality_prior_scale': 50}\n"
     ]
    },
    {
     "name": "stderr",
     "output_type": "stream",
     "text": [
      "15:43:32 - cmdstanpy - INFO - Chain [1] start processing\n",
      "15:43:33 - cmdstanpy - INFO - Chain [1] done processing\n",
      "  0%|          | 0/1 [00:00<?, ?it/s]15:43:33 - cmdstanpy - INFO - Chain [1] start processing\n",
      "15:43:33 - cmdstanpy - INFO - Chain [1] done processing\n",
      "100%|██████████| 1/1 [00:00<00:00,  2.04it/s]\n"
     ]
    },
    {
     "name": "stdout",
     "output_type": "stream",
     "text": [
      "RMSE: 73.87597897045991 for parameters: {'changepoint_prior_scale': 0.5, 'growth': 'linear', 'holidays_prior_scale': 1, 'seasonality_mode': 'additive', 'seasonality_prior_scale': 50}\n",
      "Model 163 with parameters: {'changepoint_prior_scale': 0.5, 'growth': 'linear', 'holidays_prior_scale': 1, 'seasonality_mode': 'additive', 'seasonality_prior_scale': 100}\n"
     ]
    },
    {
     "name": "stderr",
     "output_type": "stream",
     "text": [
      "15:43:34 - cmdstanpy - INFO - Chain [1] start processing\n",
      "15:43:34 - cmdstanpy - INFO - Chain [1] done processing\n",
      "  0%|          | 0/1 [00:00<?, ?it/s]15:43:34 - cmdstanpy - INFO - Chain [1] start processing\n",
      "15:43:34 - cmdstanpy - INFO - Chain [1] done processing\n",
      "100%|██████████| 1/1 [00:00<00:00,  2.08it/s]\n"
     ]
    },
    {
     "name": "stdout",
     "output_type": "stream",
     "text": [
      "RMSE: 76.31954349361499 for parameters: {'changepoint_prior_scale': 0.5, 'growth': 'linear', 'holidays_prior_scale': 1, 'seasonality_mode': 'additive', 'seasonality_prior_scale': 100}\n",
      "Model 164 with parameters: {'changepoint_prior_scale': 0.5, 'growth': 'linear', 'holidays_prior_scale': 1, 'seasonality_mode': 'additive', 'seasonality_prior_scale': 500}\n"
     ]
    },
    {
     "name": "stderr",
     "output_type": "stream",
     "text": [
      "15:43:35 - cmdstanpy - INFO - Chain [1] start processing\n",
      "15:43:35 - cmdstanpy - INFO - Chain [1] done processing\n",
      "  0%|          | 0/1 [00:00<?, ?it/s]15:43:35 - cmdstanpy - INFO - Chain [1] start processing\n",
      "15:43:35 - cmdstanpy - INFO - Chain [1] done processing\n",
      "100%|██████████| 1/1 [00:00<00:00,  1.96it/s]\n"
     ]
    },
    {
     "name": "stdout",
     "output_type": "stream",
     "text": [
      "RMSE: 74.24906928089797 for parameters: {'changepoint_prior_scale': 0.5, 'growth': 'linear', 'holidays_prior_scale': 1, 'seasonality_mode': 'additive', 'seasonality_prior_scale': 500}\n",
      "Model 165 with parameters: {'changepoint_prior_scale': 0.5, 'growth': 'linear', 'holidays_prior_scale': 1, 'seasonality_mode': 'multiplicative', 'seasonality_prior_scale': 10}\n"
     ]
    },
    {
     "name": "stderr",
     "output_type": "stream",
     "text": [
      "15:43:36 - cmdstanpy - INFO - Chain [1] start processing\n",
      "15:43:36 - cmdstanpy - INFO - Chain [1] done processing\n",
      "  0%|          | 0/1 [00:00<?, ?it/s]15:43:36 - cmdstanpy - INFO - Chain [1] start processing\n",
      "15:43:36 - cmdstanpy - INFO - Chain [1] done processing\n",
      "100%|██████████| 1/1 [00:00<00:00,  2.05it/s]\n"
     ]
    },
    {
     "name": "stdout",
     "output_type": "stream",
     "text": [
      "RMSE: 44.285281374405315 for parameters: {'changepoint_prior_scale': 0.5, 'growth': 'linear', 'holidays_prior_scale': 1, 'seasonality_mode': 'multiplicative', 'seasonality_prior_scale': 10}\n",
      "Model 166 with parameters: {'changepoint_prior_scale': 0.5, 'growth': 'linear', 'holidays_prior_scale': 1, 'seasonality_mode': 'multiplicative', 'seasonality_prior_scale': 50}\n"
     ]
    },
    {
     "name": "stderr",
     "output_type": "stream",
     "text": [
      "15:43:37 - cmdstanpy - INFO - Chain [1] start processing\n",
      "15:43:37 - cmdstanpy - INFO - Chain [1] done processing\n",
      "  0%|          | 0/1 [00:00<?, ?it/s]15:43:37 - cmdstanpy - INFO - Chain [1] start processing\n",
      "15:43:37 - cmdstanpy - INFO - Chain [1] done processing\n",
      "100%|██████████| 1/1 [00:00<00:00,  1.95it/s]\n"
     ]
    },
    {
     "name": "stdout",
     "output_type": "stream",
     "text": [
      "RMSE: 44.95075057931883 for parameters: {'changepoint_prior_scale': 0.5, 'growth': 'linear', 'holidays_prior_scale': 1, 'seasonality_mode': 'multiplicative', 'seasonality_prior_scale': 50}\n",
      "Model 167 with parameters: {'changepoint_prior_scale': 0.5, 'growth': 'linear', 'holidays_prior_scale': 1, 'seasonality_mode': 'multiplicative', 'seasonality_prior_scale': 100}\n"
     ]
    },
    {
     "name": "stderr",
     "output_type": "stream",
     "text": [
      "15:43:38 - cmdstanpy - INFO - Chain [1] start processing\n",
      "15:43:38 - cmdstanpy - INFO - Chain [1] done processing\n",
      "  0%|          | 0/1 [00:00<?, ?it/s]15:43:38 - cmdstanpy - INFO - Chain [1] start processing\n",
      "15:43:38 - cmdstanpy - INFO - Chain [1] done processing\n",
      "100%|██████████| 1/1 [00:00<00:00,  2.00it/s]\n"
     ]
    },
    {
     "name": "stdout",
     "output_type": "stream",
     "text": [
      "RMSE: 43.7832240157741 for parameters: {'changepoint_prior_scale': 0.5, 'growth': 'linear', 'holidays_prior_scale': 1, 'seasonality_mode': 'multiplicative', 'seasonality_prior_scale': 100}\n",
      "Model 168 with parameters: {'changepoint_prior_scale': 0.5, 'growth': 'linear', 'holidays_prior_scale': 1, 'seasonality_mode': 'multiplicative', 'seasonality_prior_scale': 500}\n"
     ]
    },
    {
     "name": "stderr",
     "output_type": "stream",
     "text": [
      "15:43:39 - cmdstanpy - INFO - Chain [1] start processing\n",
      "15:43:39 - cmdstanpy - INFO - Chain [1] done processing\n",
      "  0%|          | 0/1 [00:00<?, ?it/s]15:43:39 - cmdstanpy - INFO - Chain [1] start processing\n",
      "15:43:39 - cmdstanpy - INFO - Chain [1] done processing\n",
      "100%|██████████| 1/1 [00:00<00:00,  1.70it/s]\n"
     ]
    },
    {
     "name": "stdout",
     "output_type": "stream",
     "text": [
      "RMSE: 44.731571033604844 for parameters: {'changepoint_prior_scale': 0.5, 'growth': 'linear', 'holidays_prior_scale': 1, 'seasonality_mode': 'multiplicative', 'seasonality_prior_scale': 500}\n",
      "Model 169 with parameters: {'changepoint_prior_scale': 0.5, 'growth': 'logistic', 'holidays_prior_scale': 0.01, 'seasonality_mode': 'additive', 'seasonality_prior_scale': 10}\n"
     ]
    },
    {
     "name": "stderr",
     "output_type": "stream",
     "text": [
      "15:43:40 - cmdstanpy - INFO - Chain [1] start processing\n",
      "15:43:40 - cmdstanpy - INFO - Chain [1] done processing\n",
      "  0%|          | 0/1 [00:00<?, ?it/s]15:43:40 - cmdstanpy - INFO - Chain [1] start processing\n",
      "15:43:40 - cmdstanpy - INFO - Chain [1] done processing\n",
      "100%|██████████| 1/1 [00:00<00:00,  1.54it/s]\n"
     ]
    },
    {
     "name": "stdout",
     "output_type": "stream",
     "text": [
      "RMSE: 30.85759730671445 for parameters: {'changepoint_prior_scale': 0.5, 'growth': 'logistic', 'holidays_prior_scale': 0.01, 'seasonality_mode': 'additive', 'seasonality_prior_scale': 10}\n",
      "Model 170 with parameters: {'changepoint_prior_scale': 0.5, 'growth': 'logistic', 'holidays_prior_scale': 0.01, 'seasonality_mode': 'additive', 'seasonality_prior_scale': 50}\n"
     ]
    },
    {
     "name": "stderr",
     "output_type": "stream",
     "text": [
      "15:43:41 - cmdstanpy - INFO - Chain [1] start processing\n",
      "15:43:41 - cmdstanpy - INFO - Chain [1] done processing\n",
      "  0%|          | 0/1 [00:00<?, ?it/s]15:43:41 - cmdstanpy - INFO - Chain [1] start processing\n",
      "15:43:42 - cmdstanpy - INFO - Chain [1] done processing\n",
      "100%|██████████| 1/1 [00:00<00:00,  1.57it/s]\n"
     ]
    },
    {
     "name": "stdout",
     "output_type": "stream",
     "text": [
      "RMSE: 31.47492015362356 for parameters: {'changepoint_prior_scale': 0.5, 'growth': 'logistic', 'holidays_prior_scale': 0.01, 'seasonality_mode': 'additive', 'seasonality_prior_scale': 50}\n",
      "Model 171 with parameters: {'changepoint_prior_scale': 0.5, 'growth': 'logistic', 'holidays_prior_scale': 0.01, 'seasonality_mode': 'additive', 'seasonality_prior_scale': 100}\n"
     ]
    },
    {
     "name": "stderr",
     "output_type": "stream",
     "text": [
      "15:43:42 - cmdstanpy - INFO - Chain [1] start processing\n",
      "15:43:42 - cmdstanpy - INFO - Chain [1] done processing\n",
      "  0%|          | 0/1 [00:00<?, ?it/s]15:43:43 - cmdstanpy - INFO - Chain [1] start processing\n",
      "15:43:43 - cmdstanpy - INFO - Chain [1] done processing\n",
      "100%|██████████| 1/1 [00:00<00:00,  1.68it/s]\n"
     ]
    },
    {
     "name": "stdout",
     "output_type": "stream",
     "text": [
      "RMSE: 29.538274712213205 for parameters: {'changepoint_prior_scale': 0.5, 'growth': 'logistic', 'holidays_prior_scale': 0.01, 'seasonality_mode': 'additive', 'seasonality_prior_scale': 100}\n",
      "Model 172 with parameters: {'changepoint_prior_scale': 0.5, 'growth': 'logistic', 'holidays_prior_scale': 0.01, 'seasonality_mode': 'additive', 'seasonality_prior_scale': 500}\n"
     ]
    },
    {
     "name": "stderr",
     "output_type": "stream",
     "text": [
      "15:43:43 - cmdstanpy - INFO - Chain [1] start processing\n",
      "15:43:43 - cmdstanpy - INFO - Chain [1] done processing\n",
      "  0%|          | 0/1 [00:00<?, ?it/s]15:43:44 - cmdstanpy - INFO - Chain [1] start processing\n",
      "15:43:44 - cmdstanpy - INFO - Chain [1] done processing\n",
      "100%|██████████| 1/1 [00:00<00:00,  1.48it/s]\n"
     ]
    },
    {
     "name": "stdout",
     "output_type": "stream",
     "text": [
      "RMSE: 30.27222987089795 for parameters: {'changepoint_prior_scale': 0.5, 'growth': 'logistic', 'holidays_prior_scale': 0.01, 'seasonality_mode': 'additive', 'seasonality_prior_scale': 500}\n",
      "Model 173 with parameters: {'changepoint_prior_scale': 0.5, 'growth': 'logistic', 'holidays_prior_scale': 0.01, 'seasonality_mode': 'multiplicative', 'seasonality_prior_scale': 10}\n"
     ]
    },
    {
     "name": "stderr",
     "output_type": "stream",
     "text": [
      "15:43:45 - cmdstanpy - INFO - Chain [1] start processing\n",
      "15:43:45 - cmdstanpy - INFO - Chain [1] done processing\n",
      "  0%|          | 0/1 [00:00<?, ?it/s]15:43:45 - cmdstanpy - INFO - Chain [1] start processing\n",
      "15:43:45 - cmdstanpy - INFO - Chain [1] done processing\n",
      "100%|██████████| 1/1 [00:00<00:00,  1.62it/s]\n"
     ]
    },
    {
     "name": "stdout",
     "output_type": "stream",
     "text": [
      "RMSE: 105.12351520828203 for parameters: {'changepoint_prior_scale': 0.5, 'growth': 'logistic', 'holidays_prior_scale': 0.01, 'seasonality_mode': 'multiplicative', 'seasonality_prior_scale': 10}\n",
      "Model 174 with parameters: {'changepoint_prior_scale': 0.5, 'growth': 'logistic', 'holidays_prior_scale': 0.01, 'seasonality_mode': 'multiplicative', 'seasonality_prior_scale': 50}\n"
     ]
    },
    {
     "name": "stderr",
     "output_type": "stream",
     "text": [
      "15:43:46 - cmdstanpy - INFO - Chain [1] start processing\n",
      "15:43:46 - cmdstanpy - INFO - Chain [1] done processing\n",
      "  0%|          | 0/1 [00:00<?, ?it/s]15:43:46 - cmdstanpy - INFO - Chain [1] start processing\n",
      "15:43:46 - cmdstanpy - INFO - Chain [1] done processing\n",
      "100%|██████████| 1/1 [00:00<00:00,  1.65it/s]\n"
     ]
    },
    {
     "name": "stdout",
     "output_type": "stream",
     "text": [
      "RMSE: 104.63253853785402 for parameters: {'changepoint_prior_scale': 0.5, 'growth': 'logistic', 'holidays_prior_scale': 0.01, 'seasonality_mode': 'multiplicative', 'seasonality_prior_scale': 50}\n",
      "Model 175 with parameters: {'changepoint_prior_scale': 0.5, 'growth': 'logistic', 'holidays_prior_scale': 0.01, 'seasonality_mode': 'multiplicative', 'seasonality_prior_scale': 100}\n"
     ]
    },
    {
     "name": "stderr",
     "output_type": "stream",
     "text": [
      "15:43:47 - cmdstanpy - INFO - Chain [1] start processing\n",
      "15:43:47 - cmdstanpy - INFO - Chain [1] done processing\n",
      "  0%|          | 0/1 [00:00<?, ?it/s]15:43:47 - cmdstanpy - INFO - Chain [1] start processing\n",
      "15:43:47 - cmdstanpy - INFO - Chain [1] done processing\n",
      "100%|██████████| 1/1 [00:00<00:00,  1.67it/s]\n"
     ]
    },
    {
     "name": "stdout",
     "output_type": "stream",
     "text": [
      "RMSE: 104.99358820428733 for parameters: {'changepoint_prior_scale': 0.5, 'growth': 'logistic', 'holidays_prior_scale': 0.01, 'seasonality_mode': 'multiplicative', 'seasonality_prior_scale': 100}\n",
      "Model 176 with parameters: {'changepoint_prior_scale': 0.5, 'growth': 'logistic', 'holidays_prior_scale': 0.01, 'seasonality_mode': 'multiplicative', 'seasonality_prior_scale': 500}\n"
     ]
    },
    {
     "name": "stderr",
     "output_type": "stream",
     "text": [
      "15:43:48 - cmdstanpy - INFO - Chain [1] start processing\n",
      "15:43:48 - cmdstanpy - INFO - Chain [1] done processing\n",
      "  0%|          | 0/1 [00:00<?, ?it/s]15:43:48 - cmdstanpy - INFO - Chain [1] start processing\n",
      "15:43:48 - cmdstanpy - INFO - Chain [1] done processing\n",
      "100%|██████████| 1/1 [00:00<00:00,  1.53it/s]\n"
     ]
    },
    {
     "name": "stdout",
     "output_type": "stream",
     "text": [
      "RMSE: 107.25386467181967 for parameters: {'changepoint_prior_scale': 0.5, 'growth': 'logistic', 'holidays_prior_scale': 0.01, 'seasonality_mode': 'multiplicative', 'seasonality_prior_scale': 500}\n",
      "Model 177 with parameters: {'changepoint_prior_scale': 0.5, 'growth': 'logistic', 'holidays_prior_scale': 0.1, 'seasonality_mode': 'additive', 'seasonality_prior_scale': 10}\n"
     ]
    },
    {
     "name": "stderr",
     "output_type": "stream",
     "text": [
      "15:43:49 - cmdstanpy - INFO - Chain [1] start processing\n",
      "15:43:49 - cmdstanpy - INFO - Chain [1] done processing\n",
      "  0%|          | 0/1 [00:00<?, ?it/s]15:43:49 - cmdstanpy - INFO - Chain [1] start processing\n",
      "15:43:49 - cmdstanpy - INFO - Chain [1] done processing\n",
      "100%|██████████| 1/1 [00:00<00:00,  1.53it/s]\n"
     ]
    },
    {
     "name": "stdout",
     "output_type": "stream",
     "text": [
      "RMSE: 46.540961384665174 for parameters: {'changepoint_prior_scale': 0.5, 'growth': 'logistic', 'holidays_prior_scale': 0.1, 'seasonality_mode': 'additive', 'seasonality_prior_scale': 10}\n",
      "Model 178 with parameters: {'changepoint_prior_scale': 0.5, 'growth': 'logistic', 'holidays_prior_scale': 0.1, 'seasonality_mode': 'additive', 'seasonality_prior_scale': 50}\n"
     ]
    },
    {
     "name": "stderr",
     "output_type": "stream",
     "text": [
      "15:43:50 - cmdstanpy - INFO - Chain [1] start processing\n",
      "15:43:50 - cmdstanpy - INFO - Chain [1] done processing\n",
      "  0%|          | 0/1 [00:00<?, ?it/s]15:43:50 - cmdstanpy - INFO - Chain [1] start processing\n",
      "15:43:51 - cmdstanpy - INFO - Chain [1] done processing\n",
      "100%|██████████| 1/1 [00:00<00:00,  1.35it/s]\n"
     ]
    },
    {
     "name": "stdout",
     "output_type": "stream",
     "text": [
      "RMSE: 50.972507882618814 for parameters: {'changepoint_prior_scale': 0.5, 'growth': 'logistic', 'holidays_prior_scale': 0.1, 'seasonality_mode': 'additive', 'seasonality_prior_scale': 50}\n",
      "Model 179 with parameters: {'changepoint_prior_scale': 0.5, 'growth': 'logistic', 'holidays_prior_scale': 0.1, 'seasonality_mode': 'additive', 'seasonality_prior_scale': 100}\n"
     ]
    },
    {
     "name": "stderr",
     "output_type": "stream",
     "text": [
      "15:43:51 - cmdstanpy - INFO - Chain [1] start processing\n",
      "15:43:51 - cmdstanpy - INFO - Chain [1] done processing\n",
      "  0%|          | 0/1 [00:00<?, ?it/s]15:43:52 - cmdstanpy - INFO - Chain [1] start processing\n",
      "15:43:52 - cmdstanpy - INFO - Chain [1] done processing\n",
      "100%|██████████| 1/1 [00:00<00:00,  1.53it/s]\n"
     ]
    },
    {
     "name": "stdout",
     "output_type": "stream",
     "text": [
      "RMSE: 45.35524032781983 for parameters: {'changepoint_prior_scale': 0.5, 'growth': 'logistic', 'holidays_prior_scale': 0.1, 'seasonality_mode': 'additive', 'seasonality_prior_scale': 100}\n",
      "Model 180 with parameters: {'changepoint_prior_scale': 0.5, 'growth': 'logistic', 'holidays_prior_scale': 0.1, 'seasonality_mode': 'additive', 'seasonality_prior_scale': 500}\n"
     ]
    },
    {
     "name": "stderr",
     "output_type": "stream",
     "text": [
      "15:43:52 - cmdstanpy - INFO - Chain [1] start processing\n",
      "15:43:52 - cmdstanpy - INFO - Chain [1] done processing\n",
      "  0%|          | 0/1 [00:00<?, ?it/s]15:43:53 - cmdstanpy - INFO - Chain [1] start processing\n",
      "15:43:53 - cmdstanpy - INFO - Chain [1] done processing\n",
      "100%|██████████| 1/1 [00:00<00:00,  1.52it/s]\n"
     ]
    },
    {
     "name": "stdout",
     "output_type": "stream",
     "text": [
      "RMSE: 50.51684019370344 for parameters: {'changepoint_prior_scale': 0.5, 'growth': 'logistic', 'holidays_prior_scale': 0.1, 'seasonality_mode': 'additive', 'seasonality_prior_scale': 500}\n",
      "Model 181 with parameters: {'changepoint_prior_scale': 0.5, 'growth': 'logistic', 'holidays_prior_scale': 0.1, 'seasonality_mode': 'multiplicative', 'seasonality_prior_scale': 10}\n"
     ]
    },
    {
     "name": "stderr",
     "output_type": "stream",
     "text": [
      "15:43:53 - cmdstanpy - INFO - Chain [1] start processing\n",
      "15:43:53 - cmdstanpy - INFO - Chain [1] done processing\n",
      "  0%|          | 0/1 [00:00<?, ?it/s]15:43:54 - cmdstanpy - INFO - Chain [1] start processing\n",
      "15:43:54 - cmdstanpy - INFO - Chain [1] done processing\n",
      "100%|██████████| 1/1 [00:00<00:00,  1.53it/s]\n"
     ]
    },
    {
     "name": "stdout",
     "output_type": "stream",
     "text": [
      "RMSE: 59.73659137825167 for parameters: {'changepoint_prior_scale': 0.5, 'growth': 'logistic', 'holidays_prior_scale': 0.1, 'seasonality_mode': 'multiplicative', 'seasonality_prior_scale': 10}\n",
      "Model 182 with parameters: {'changepoint_prior_scale': 0.5, 'growth': 'logistic', 'holidays_prior_scale': 0.1, 'seasonality_mode': 'multiplicative', 'seasonality_prior_scale': 50}\n"
     ]
    },
    {
     "name": "stderr",
     "output_type": "stream",
     "text": [
      "15:43:54 - cmdstanpy - INFO - Chain [1] start processing\n",
      "15:43:55 - cmdstanpy - INFO - Chain [1] done processing\n",
      "  0%|          | 0/1 [00:00<?, ?it/s]15:43:55 - cmdstanpy - INFO - Chain [1] start processing\n",
      "15:43:55 - cmdstanpy - INFO - Chain [1] done processing\n",
      "100%|██████████| 1/1 [00:00<00:00,  1.59it/s]\n"
     ]
    },
    {
     "name": "stdout",
     "output_type": "stream",
     "text": [
      "RMSE: 60.40396473807166 for parameters: {'changepoint_prior_scale': 0.5, 'growth': 'logistic', 'holidays_prior_scale': 0.1, 'seasonality_mode': 'multiplicative', 'seasonality_prior_scale': 50}\n",
      "Model 183 with parameters: {'changepoint_prior_scale': 0.5, 'growth': 'logistic', 'holidays_prior_scale': 0.1, 'seasonality_mode': 'multiplicative', 'seasonality_prior_scale': 100}\n"
     ]
    },
    {
     "name": "stderr",
     "output_type": "stream",
     "text": [
      "15:43:56 - cmdstanpy - INFO - Chain [1] start processing\n",
      "15:43:56 - cmdstanpy - INFO - Chain [1] done processing\n",
      "  0%|          | 0/1 [00:00<?, ?it/s]15:43:56 - cmdstanpy - INFO - Chain [1] start processing\n",
      "15:43:56 - cmdstanpy - INFO - Chain [1] done processing\n",
      "100%|██████████| 1/1 [00:00<00:00,  1.52it/s]\n"
     ]
    },
    {
     "name": "stdout",
     "output_type": "stream",
     "text": [
      "RMSE: 58.782623554585435 for parameters: {'changepoint_prior_scale': 0.5, 'growth': 'logistic', 'holidays_prior_scale': 0.1, 'seasonality_mode': 'multiplicative', 'seasonality_prior_scale': 100}\n",
      "Model 184 with parameters: {'changepoint_prior_scale': 0.5, 'growth': 'logistic', 'holidays_prior_scale': 0.1, 'seasonality_mode': 'multiplicative', 'seasonality_prior_scale': 500}\n"
     ]
    },
    {
     "name": "stderr",
     "output_type": "stream",
     "text": [
      "15:43:57 - cmdstanpy - INFO - Chain [1] start processing\n",
      "15:43:57 - cmdstanpy - INFO - Chain [1] done processing\n",
      "  0%|          | 0/1 [00:00<?, ?it/s]15:43:57 - cmdstanpy - INFO - Chain [1] start processing\n",
      "15:43:57 - cmdstanpy - INFO - Chain [1] done processing\n",
      "100%|██████████| 1/1 [00:00<00:00,  1.71it/s]\n"
     ]
    },
    {
     "name": "stdout",
     "output_type": "stream",
     "text": [
      "RMSE: 55.73725730390434 for parameters: {'changepoint_prior_scale': 0.5, 'growth': 'logistic', 'holidays_prior_scale': 0.1, 'seasonality_mode': 'multiplicative', 'seasonality_prior_scale': 500}\n",
      "Model 185 with parameters: {'changepoint_prior_scale': 0.5, 'growth': 'logistic', 'holidays_prior_scale': 1, 'seasonality_mode': 'additive', 'seasonality_prior_scale': 10}\n"
     ]
    },
    {
     "name": "stderr",
     "output_type": "stream",
     "text": [
      "15:43:58 - cmdstanpy - INFO - Chain [1] start processing\n",
      "15:43:58 - cmdstanpy - INFO - Chain [1] done processing\n",
      "  0%|          | 0/1 [00:00<?, ?it/s]15:43:58 - cmdstanpy - INFO - Chain [1] start processing\n",
      "15:43:59 - cmdstanpy - INFO - Chain [1] done processing\n",
      "100%|██████████| 1/1 [00:00<00:00,  1.31it/s]\n"
     ]
    },
    {
     "name": "stdout",
     "output_type": "stream",
     "text": [
      "RMSE: 66.48626743377562 for parameters: {'changepoint_prior_scale': 0.5, 'growth': 'logistic', 'holidays_prior_scale': 1, 'seasonality_mode': 'additive', 'seasonality_prior_scale': 10}\n",
      "Model 186 with parameters: {'changepoint_prior_scale': 0.5, 'growth': 'logistic', 'holidays_prior_scale': 1, 'seasonality_mode': 'additive', 'seasonality_prior_scale': 50}\n"
     ]
    },
    {
     "name": "stderr",
     "output_type": "stream",
     "text": [
      "15:43:59 - cmdstanpy - INFO - Chain [1] start processing\n",
      "15:43:59 - cmdstanpy - INFO - Chain [1] done processing\n",
      "  0%|          | 0/1 [00:00<?, ?it/s]15:43:59 - cmdstanpy - INFO - Chain [1] start processing\n",
      "15:44:00 - cmdstanpy - INFO - Chain [1] done processing\n",
      "100%|██████████| 1/1 [00:00<00:00,  1.31it/s]\n"
     ]
    },
    {
     "name": "stdout",
     "output_type": "stream",
     "text": [
      "RMSE: 64.91170827081756 for parameters: {'changepoint_prior_scale': 0.5, 'growth': 'logistic', 'holidays_prior_scale': 1, 'seasonality_mode': 'additive', 'seasonality_prior_scale': 50}\n",
      "Model 187 with parameters: {'changepoint_prior_scale': 0.5, 'growth': 'logistic', 'holidays_prior_scale': 1, 'seasonality_mode': 'additive', 'seasonality_prior_scale': 100}\n"
     ]
    },
    {
     "name": "stderr",
     "output_type": "stream",
     "text": [
      "15:44:00 - cmdstanpy - INFO - Chain [1] start processing\n",
      "15:44:00 - cmdstanpy - INFO - Chain [1] done processing\n",
      "  0%|          | 0/1 [00:00<?, ?it/s]15:44:01 - cmdstanpy - INFO - Chain [1] start processing\n",
      "15:44:01 - cmdstanpy - INFO - Chain [1] done processing\n",
      "100%|██████████| 1/1 [00:00<00:00,  1.34it/s]\n"
     ]
    },
    {
     "name": "stdout",
     "output_type": "stream",
     "text": [
      "RMSE: 64.26264053311914 for parameters: {'changepoint_prior_scale': 0.5, 'growth': 'logistic', 'holidays_prior_scale': 1, 'seasonality_mode': 'additive', 'seasonality_prior_scale': 100}\n",
      "Model 188 with parameters: {'changepoint_prior_scale': 0.5, 'growth': 'logistic', 'holidays_prior_scale': 1, 'seasonality_mode': 'additive', 'seasonality_prior_scale': 500}\n"
     ]
    },
    {
     "name": "stderr",
     "output_type": "stream",
     "text": [
      "15:44:01 - cmdstanpy - INFO - Chain [1] start processing\n",
      "15:44:02 - cmdstanpy - INFO - Chain [1] done processing\n",
      "  0%|          | 0/1 [00:00<?, ?it/s]15:44:02 - cmdstanpy - INFO - Chain [1] start processing\n",
      "15:44:02 - cmdstanpy - INFO - Chain [1] done processing\n",
      "100%|██████████| 1/1 [00:00<00:00,  1.28it/s]\n"
     ]
    },
    {
     "name": "stdout",
     "output_type": "stream",
     "text": [
      "RMSE: 61.591669228165465 for parameters: {'changepoint_prior_scale': 0.5, 'growth': 'logistic', 'holidays_prior_scale': 1, 'seasonality_mode': 'additive', 'seasonality_prior_scale': 500}\n",
      "Model 189 with parameters: {'changepoint_prior_scale': 0.5, 'growth': 'logistic', 'holidays_prior_scale': 1, 'seasonality_mode': 'multiplicative', 'seasonality_prior_scale': 10}\n"
     ]
    },
    {
     "name": "stderr",
     "output_type": "stream",
     "text": [
      "15:44:03 - cmdstanpy - INFO - Chain [1] start processing\n",
      "15:44:03 - cmdstanpy - INFO - Chain [1] done processing\n",
      "  0%|          | 0/1 [00:00<?, ?it/s]15:44:03 - cmdstanpy - INFO - Chain [1] start processing\n",
      "15:44:03 - cmdstanpy - INFO - Chain [1] done processing\n",
      "100%|██████████| 1/1 [00:00<00:00,  1.62it/s]\n"
     ]
    },
    {
     "name": "stdout",
     "output_type": "stream",
     "text": [
      "RMSE: 38.462168821915625 for parameters: {'changepoint_prior_scale': 0.5, 'growth': 'logistic', 'holidays_prior_scale': 1, 'seasonality_mode': 'multiplicative', 'seasonality_prior_scale': 10}\n",
      "Model 190 with parameters: {'changepoint_prior_scale': 0.5, 'growth': 'logistic', 'holidays_prior_scale': 1, 'seasonality_mode': 'multiplicative', 'seasonality_prior_scale': 50}\n"
     ]
    },
    {
     "name": "stderr",
     "output_type": "stream",
     "text": [
      "15:44:04 - cmdstanpy - INFO - Chain [1] start processing\n",
      "15:44:04 - cmdstanpy - INFO - Chain [1] done processing\n",
      "  0%|          | 0/1 [00:00<?, ?it/s]15:44:04 - cmdstanpy - INFO - Chain [1] start processing\n",
      "15:44:04 - cmdstanpy - INFO - Chain [1] done processing\n",
      "100%|██████████| 1/1 [00:00<00:00,  1.72it/s]\n"
     ]
    },
    {
     "name": "stdout",
     "output_type": "stream",
     "text": [
      "RMSE: 33.742890172764156 for parameters: {'changepoint_prior_scale': 0.5, 'growth': 'logistic', 'holidays_prior_scale': 1, 'seasonality_mode': 'multiplicative', 'seasonality_prior_scale': 50}\n",
      "Model 191 with parameters: {'changepoint_prior_scale': 0.5, 'growth': 'logistic', 'holidays_prior_scale': 1, 'seasonality_mode': 'multiplicative', 'seasonality_prior_scale': 100}\n"
     ]
    },
    {
     "name": "stderr",
     "output_type": "stream",
     "text": [
      "15:44:05 - cmdstanpy - INFO - Chain [1] start processing\n",
      "15:44:05 - cmdstanpy - INFO - Chain [1] done processing\n",
      "  0%|          | 0/1 [00:00<?, ?it/s]15:44:05 - cmdstanpy - INFO - Chain [1] start processing\n",
      "15:44:05 - cmdstanpy - INFO - Chain [1] done processing\n",
      "100%|██████████| 1/1 [00:00<00:00,  1.69it/s]\n"
     ]
    },
    {
     "name": "stdout",
     "output_type": "stream",
     "text": [
      "RMSE: 36.91796340457948 for parameters: {'changepoint_prior_scale': 0.5, 'growth': 'logistic', 'holidays_prior_scale': 1, 'seasonality_mode': 'multiplicative', 'seasonality_prior_scale': 100}\n",
      "Model 192 with parameters: {'changepoint_prior_scale': 0.5, 'growth': 'logistic', 'holidays_prior_scale': 1, 'seasonality_mode': 'multiplicative', 'seasonality_prior_scale': 500}\n"
     ]
    },
    {
     "name": "stderr",
     "output_type": "stream",
     "text": [
      "15:44:06 - cmdstanpy - INFO - Chain [1] start processing\n",
      "15:44:06 - cmdstanpy - INFO - Chain [1] done processing\n",
      "  0%|          | 0/1 [00:00<?, ?it/s]15:44:06 - cmdstanpy - INFO - Chain [1] start processing\n",
      "15:44:06 - cmdstanpy - INFO - Chain [1] done processing\n",
      "100%|██████████| 1/1 [00:00<00:00,  1.71it/s]"
     ]
    },
    {
     "name": "stdout",
     "output_type": "stream",
     "text": [
      "RMSE: 33.416334090252946 for parameters: {'changepoint_prior_scale': 0.5, 'growth': 'logistic', 'holidays_prior_scale': 1, 'seasonality_mode': 'multiplicative', 'seasonality_prior_scale': 500}\n",
      "Best Hyperparameters: {'changepoint_prior_scale': 0.01, 'growth': 'linear', 'holidays_prior_scale': 0.1, 'seasonality_mode': 'additive', 'seasonality_prior_scale': 50} with RMSE: 13.782120170832831\n"
     ]
    },
    {
     "name": "stderr",
     "output_type": "stream",
     "text": [
      "\n"
     ]
    }
   ],
   "source": [
    "from prophet.diagnostics import cross_validation, performance_metrics\n",
    "from sklearn.model_selection import ParameterGrid\n",
    "\n",
    "# Define a grid of hyperparameters to search\n",
    "param_grid = {\n",
    "    'changepoint_prior_scale': [0.001, 0.01, 0.1, 0.5],\n",
    "    'seasonality_prior_scale': [10, 50, 100, 500],\n",
    "    'holidays_prior_scale': [0.01, 0.1, 1],\n",
    "    'seasonality_mode': ['additive', 'multiplicative'],\n",
    "    'growth': ['linear', 'logistic']  # logistic requires a 'cap' column\n",
    "}\n",
    "\n",
    "# Initialize the cross-validation result\n",
    "best_score = float('inf')\n",
    "best_params = {}\n",
    "\n",
    "grid = ParameterGrid(param_grid)\n",
    "cnt = 0\n",
    "\n",
    "for p in grid:\n",
    "    cnt += 1\n",
    "    print(f\"Model {cnt} with parameters: {p}\")\n",
    "    \n",
    "    # Initialize and train the model with the hyperparameters\n",
    "    model = Prophet(\n",
    "        changepoint_prior_scale=p['changepoint_prior_scale'],\n",
    "        seasonality_prior_scale=p['seasonality_prior_scale'],\n",
    "        holidays_prior_scale=p['holidays_prior_scale'],\n",
    "        seasonality_mode=p['seasonality_mode'],\n",
    "        growth=p['growth']\n",
    "    )\n",
    "    model.add_regressor('click_count')\n",
    "    model.add_regressor('month')\n",
    "    model.add_regressor('impression_count')\n",
    "    model.add_regressor('weekday')\n",
    "    model.add_regressor('dayofyear')\n",
    "    model.add_regressor('is_weekend')\n",
    "    model.add_regressor('is_holiday')\n",
    "    \n",
    "    # If using logistic growth, add a 'cap' column\n",
    "    if p['growth'] == 'logistic':\n",
    "        df_prophet['cap'] = df_prophet['y'].max() * 1.1  # 10% above the max value of y\n",
    "\n",
    "    # Fit the model\n",
    "    model.fit(df_prophet)\n",
    "    \n",
    "    # Perform cross-validation\n",
    "    df_cv = cross_validation(model, initial='365 days', period='180 days', horizon='7 days')\n",
    "    \n",
    "    # Get the performance metrics\n",
    "    df_p = performance_metrics(df_cv)\n",
    "    \n",
    "    # Assume that we use RMSE as our score for optimization\n",
    "    rmse_score = df_p['rmse'].mean()\n",
    "    \n",
    "    # Keep track of the best parameters based on RMSE\n",
    "    if rmse_score < best_score:\n",
    "        best_score = rmse_score\n",
    "        best_params = p\n",
    "    \n",
    "    print(f\"RMSE: {rmse_score} for parameters: {p}\")\n",
    "    \n",
    "print(f\"Best Hyperparameters: {best_params} with RMSE: {best_score}\")\n"
   ]
  },
  {
   "cell_type": "code",
   "execution_count": 16,
   "metadata": {},
   "outputs": [
    {
     "name": "stderr",
     "output_type": "stream",
     "text": [
      "15:44:07 - cmdstanpy - INFO - Chain [1] start processing\n",
      "15:44:07 - cmdstanpy - INFO - Chain [1] done processing\n"
     ]
    },
    {
     "data": {
      "text/plain": [
       "<prophet.forecaster.Prophet at 0x17f43046e10>"
      ]
     },
     "execution_count": 16,
     "metadata": {},
     "output_type": "execute_result"
    }
   ],
   "source": [
    "# Initialize the model with the best parameters from the grid search\n",
    "model = Prophet(\n",
    "    changepoint_prior_scale=best_params['changepoint_prior_scale'],\n",
    "    seasonality_prior_scale=best_params['seasonality_prior_scale'],\n",
    "    holidays_prior_scale=best_params['holidays_prior_scale'],\n",
    "    seasonality_mode=best_params['seasonality_mode'],\n",
    "    growth=best_params['growth']\n",
    ")\n",
    "\n",
    "# Add regressors and train as before\n",
    "model.add_regressor('click_count')\n",
    "model.add_regressor('month')\n",
    "model.add_regressor('impression_count')\n",
    "model.add_regressor('weekday')\n",
    "model.add_regressor('dayofyear')\n",
    "model.add_regressor('is_weekend')\n",
    "model.add_regressor('is_holiday')\n",
    "\n",
    "if best_params['growth'] == 'logistic':\n",
    "    df_prophet['cap'] = df_prophet['y'].max() * 1.1  # Adjust cap for logistic growth\n",
    "\n",
    "model.fit(df_prophet)\n",
    "\n"
   ]
  },
  {
   "cell_type": "code",
   "execution_count": 17,
   "metadata": {},
   "outputs": [
    {
     "name": "stdout",
     "output_type": "stream",
     "text": [
      "            ds       yhat  yhat_lower  yhat_upper\n",
      "0   2024-01-22  54.128385  -36.879828  149.127429\n",
      "1   2024-01-23  58.184599  -35.512985  149.936593\n",
      "2   2024-01-24  56.821807  -40.736880  146.254520\n",
      "3   2024-01-25  54.215409  -39.027101  145.776558\n",
      "4   2024-01-26  65.661491  -35.048903  156.246196\n",
      "..         ...        ...         ...         ...\n",
      "372 2025-02-05  84.246170   -4.547114  177.268277\n",
      "373 2025-02-06  81.639879  -11.085984  168.398236\n",
      "374 2025-02-07  93.086067    5.118182  185.025294\n",
      "375 2025-02-08  84.249937   -8.599558  171.110015\n",
      "376 2025-02-09  75.984392  -21.738277  166.769398\n",
      "\n",
      "[377 rows x 4 columns]\n"
     ]
    }
   ],
   "source": [
    "# Create a future dataframe (7 days ahead)\n",
    "future = model.make_future_dataframe(periods=7)\n",
    "\n",
    "# Add the necessary columns for future prediction\n",
    "future['click_count'] = df_prophet['click_count'].iloc[-1]\n",
    "future['month'] = df_prophet['month'].iloc[-1]\n",
    "future['impression_count'] = df_prophet['impression_count'].iloc[-1]\n",
    "future['weekday'] = df_prophet['weekday'].iloc[-1]\n",
    "future['dayofyear'] = df_prophet['dayofyear'].iloc[-1]\n",
    "future['is_weekend'] = df_prophet['is_weekend'].iloc[-1]\n",
    "future['is_holiday'] = df_prophet['is_holiday'].iloc[-1]\n",
    "\n",
    "# Make predictions\n",
    "forecast = model.predict(future)\n",
    "\n",
    "# Show the forecast for the next 7 days\n",
    "forecast_7_days = forecast[[\"ds\", \"yhat\", \"yhat_lower\", \"yhat_upper\"]]\n",
    "print(forecast_7_days)\n"
   ]
  },
  {
   "cell_type": "code",
   "execution_count": 18,
   "metadata": {},
   "outputs": [
    {
     "data": {
      "image/png": "[encoded data removed]",
      "text/plain": [
       "<Figure size 1000x600 with 1 Axes>"
      ]
     },
     "metadata": {},
     "output_type": "display_data"
    },
    {
     "data": {
      "image/png": "[encoded data removed]",
      "text/plain": [
       "<Figure size 900x900 with 3 Axes>"
      ]
     },
     "metadata": {},
     "output_type": "display_data"
    }
   ],
   "source": [
    "# Plot predictions\n",
    "fig1 = model.plot(forecast)\n",
    "plt.show()\n",
    "\n",
    "# Plot components\n",
    "fig2 = model.plot_components(forecast)\n",
    "plt.show()"
   ]
  },
  {
   "cell_type": "code",
   "execution_count": 19,
   "metadata": {},
   "outputs": [
    {
     "name": "stdout",
     "output_type": "stream",
     "text": [
      "MAE: 29.628435977744385\n",
      "RMSE: 33.92242123782328\n",
      "MAPE: 0.7093089843088014\n"
     ]
    }
   ],
   "source": [
    "# Split the data into training and testing\n",
    "train = df_prophet\n",
    "test = df_prophet.tail(7)  # Use the last 7 days for testing\n",
    "\n",
    "# Actual values for the last 7 days (from test set)\n",
    "actual_values = test['y']\n",
    "\n",
    "# Predicted values from the forecast (7 days ahead)\n",
    "predicted_values = forecast['yhat'].tail(7)\n",
    "\n",
    "# Calculate MAE (Mean Absolute Error)\n",
    "mae = mean_absolute_error(actual_values, predicted_values)\n",
    "print(f\"MAE: {mae}\")\n",
    "\n",
    "# Calculate RMSE (Root Mean Squared Error)\n",
    "rmse = np.sqrt(mean_squared_error(actual_values, predicted_values))\n",
    "print(f\"RMSE: {rmse}\")\n",
    "\n",
    "# Calculate MAPE (Mean Absolute Percentage Error)\n",
    "mape = mean_absolute_percentage_error(actual_values, predicted_values)\n",
    "print(f\"MAPE: {mape}\")\n"
   ]
  },
  {
   "cell_type": "code",
   "execution_count": 20,
   "metadata": {},
   "outputs": [
    {
     "data": {
      "text/plain": [
       "{'changepoint_prior_scale': 0.01,\n",
       " 'growth': 'linear',\n",
       " 'holidays_prior_scale': 0.1,\n",
       " 'seasonality_mode': 'additive',\n",
       " 'seasonality_prior_scale': 50}"
      ]
     },
     "execution_count": 20,
     "metadata": {},
     "output_type": "execute_result"
    }
   ],
   "source": [
    "best_params"
   ]
  },
  {
   "cell_type": "code",
   "execution_count": null,
   "metadata": {},
   "outputs": [],
   "source": []
  }
 ],
 "metadata": {
  "kernelspec": {
   "display_name": ".eterna",
   "language": "python",
   "name": "python3"
  },
  "language_info": {
   "codemirror_mode": {
    "name": "ipython",
    "version": 3
   },
   "file_extension": ".py",
   "mimetype": "text/x-python",
   "name": "python",
   "nbconvert_exporter": "python",
   "pygments_lexer": "ipython3",
   "version": "3.11.0"
  }
 },
 "nbformat": 4,
 "nbformat_minor": 2
}
