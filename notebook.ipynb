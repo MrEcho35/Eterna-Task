{
 "cells": [
  {
   "cell_type": "code",
   "execution_count": 1,
   "metadata": {},
   "outputs": [],
   "source": [
    "import warnings\n",
    "warnings.filterwarnings('ignore')\n",
    "\n",
    "import numpy as np\n",
    "import pandas as pd\n",
    "import matplotlib.pyplot as plt\n",
    "import seaborn as sns"
   ]
  },
  {
   "cell_type": "code",
   "execution_count": 2,
   "metadata": {},
   "outputs": [
    {
     "data": {
      "text/html": [
       "<div>\n",
       "<style scoped>\n",
       "    .dataframe tbody tr th:only-of-type {\n",
       "        vertical-align: middle;\n",
       "    }\n",
       "\n",
       "    .dataframe tbody tr th {\n",
       "        vertical-align: top;\n",
       "    }\n",
       "\n",
       "    .dataframe thead th {\n",
       "        text-align: right;\n",
       "    }\n",
       "</style>\n",
       "<table border=\"1\" class=\"dataframe\">\n",
       "  <thead>\n",
       "    <tr style=\"text-align: right;\">\n",
       "      <th></th>\n",
       "      <th>group_id</th>\n",
       "      <th>click_count</th>\n",
       "      <th>impression_count</th>\n",
       "      <th>conversion_count</th>\n",
       "      <th>date</th>\n",
       "    </tr>\n",
       "  </thead>\n",
       "  <tbody>\n",
       "    <tr>\n",
       "      <th>0</th>\n",
       "      <td>52740</td>\n",
       "      <td>0</td>\n",
       "      <td>1</td>\n",
       "      <td>0</td>\n",
       "      <td>2024-01-22</td>\n",
       "    </tr>\n",
       "    <tr>\n",
       "      <th>1</th>\n",
       "      <td>52758</td>\n",
       "      <td>0</td>\n",
       "      <td>1</td>\n",
       "      <td>0</td>\n",
       "      <td>2024-01-22</td>\n",
       "    </tr>\n",
       "    <tr>\n",
       "      <th>2</th>\n",
       "      <td>64336</td>\n",
       "      <td>2</td>\n",
       "      <td>12</td>\n",
       "      <td>0</td>\n",
       "      <td>2024-01-22</td>\n",
       "    </tr>\n",
       "    <tr>\n",
       "      <th>3</th>\n",
       "      <td>186281</td>\n",
       "      <td>0</td>\n",
       "      <td>1</td>\n",
       "      <td>0</td>\n",
       "      <td>2024-01-22</td>\n",
       "    </tr>\n",
       "    <tr>\n",
       "      <th>4</th>\n",
       "      <td>52708</td>\n",
       "      <td>0</td>\n",
       "      <td>4</td>\n",
       "      <td>0</td>\n",
       "      <td>2024-01-22</td>\n",
       "    </tr>\n",
       "    <tr>\n",
       "      <th>...</th>\n",
       "      <td>...</td>\n",
       "      <td>...</td>\n",
       "      <td>...</td>\n",
       "      <td>...</td>\n",
       "      <td>...</td>\n",
       "    </tr>\n",
       "    <tr>\n",
       "      <th>56554</th>\n",
       "      <td>161436</td>\n",
       "      <td>1</td>\n",
       "      <td>7</td>\n",
       "      <td>0</td>\n",
       "      <td>2025-02-02</td>\n",
       "    </tr>\n",
       "    <tr>\n",
       "      <th>56555</th>\n",
       "      <td>52909</td>\n",
       "      <td>0</td>\n",
       "      <td>8</td>\n",
       "      <td>0</td>\n",
       "      <td>2025-02-02</td>\n",
       "    </tr>\n",
       "    <tr>\n",
       "      <th>56556</th>\n",
       "      <td>103359</td>\n",
       "      <td>0</td>\n",
       "      <td>3</td>\n",
       "      <td>0</td>\n",
       "      <td>2025-02-02</td>\n",
       "    </tr>\n",
       "    <tr>\n",
       "      <th>56557</th>\n",
       "      <td>1094</td>\n",
       "      <td>37</td>\n",
       "      <td>190</td>\n",
       "      <td>3</td>\n",
       "      <td>2025-02-02</td>\n",
       "    </tr>\n",
       "    <tr>\n",
       "      <th>56558</th>\n",
       "      <td>1094</td>\n",
       "      <td>2</td>\n",
       "      <td>233</td>\n",
       "      <td>0</td>\n",
       "      <td>2025-02-02</td>\n",
       "    </tr>\n",
       "  </tbody>\n",
       "</table>\n",
       "<p>56559 rows × 5 columns</p>\n",
       "</div>"
      ],
      "text/plain": [
       "       group_id  click_count  impression_count  conversion_count       date\n",
       "0         52740            0                 1                 0 2024-01-22\n",
       "1         52758            0                 1                 0 2024-01-22\n",
       "2         64336            2                12                 0 2024-01-22\n",
       "3        186281            0                 1                 0 2024-01-22\n",
       "4         52708            0                 4                 0 2024-01-22\n",
       "...         ...          ...               ...               ...        ...\n",
       "56554    161436            1                 7                 0 2025-02-02\n",
       "56555     52909            0                 8                 0 2025-02-02\n",
       "56556    103359            0                 3                 0 2025-02-02\n",
       "56557      1094           37               190                 3 2025-02-02\n",
       "56558      1094            2               233                 0 2025-02-02\n",
       "\n",
       "[56559 rows x 5 columns]"
      ]
     },
     "execution_count": 2,
     "metadata": {},
     "output_type": "execute_result"
    }
   ],
   "source": [
    "df = pd.read_json('data.json')\n",
    "df"
   ]
  },
  {
   "cell_type": "code",
   "execution_count": 3,
   "metadata": {},
   "outputs": [
    {
     "data": {
      "text/html": [
       "<div>\n",
       "<style scoped>\n",
       "    .dataframe tbody tr th:only-of-type {\n",
       "        vertical-align: middle;\n",
       "    }\n",
       "\n",
       "    .dataframe tbody tr th {\n",
       "        vertical-align: top;\n",
       "    }\n",
       "\n",
       "    .dataframe thead th {\n",
       "        text-align: right;\n",
       "    }\n",
       "</style>\n",
       "<table border=\"1\" class=\"dataframe\">\n",
       "  <thead>\n",
       "    <tr style=\"text-align: right;\">\n",
       "      <th></th>\n",
       "      <th>date</th>\n",
       "      <th>group_id</th>\n",
       "      <th>click_count</th>\n",
       "      <th>impression_count</th>\n",
       "      <th>conversion_count</th>\n",
       "    </tr>\n",
       "  </thead>\n",
       "  <tbody>\n",
       "    <tr>\n",
       "      <th>0</th>\n",
       "      <td>2024-01-22</td>\n",
       "      <td>64</td>\n",
       "      <td>134</td>\n",
       "      <td>2815</td>\n",
       "      <td>4</td>\n",
       "    </tr>\n",
       "    <tr>\n",
       "      <th>1</th>\n",
       "      <td>2024-01-23</td>\n",
       "      <td>84</td>\n",
       "      <td>1531</td>\n",
       "      <td>9990</td>\n",
       "      <td>7</td>\n",
       "    </tr>\n",
       "    <tr>\n",
       "      <th>2</th>\n",
       "      <td>2024-01-24</td>\n",
       "      <td>73</td>\n",
       "      <td>1695</td>\n",
       "      <td>15717</td>\n",
       "      <td>18</td>\n",
       "    </tr>\n",
       "    <tr>\n",
       "      <th>3</th>\n",
       "      <td>2024-01-25</td>\n",
       "      <td>87</td>\n",
       "      <td>434</td>\n",
       "      <td>7232</td>\n",
       "      <td>3</td>\n",
       "    </tr>\n",
       "    <tr>\n",
       "      <th>4</th>\n",
       "      <td>2024-01-26</td>\n",
       "      <td>88</td>\n",
       "      <td>290</td>\n",
       "      <td>4912</td>\n",
       "      <td>5</td>\n",
       "    </tr>\n",
       "    <tr>\n",
       "      <th>...</th>\n",
       "      <td>...</td>\n",
       "      <td>...</td>\n",
       "      <td>...</td>\n",
       "      <td>...</td>\n",
       "      <td>...</td>\n",
       "    </tr>\n",
       "    <tr>\n",
       "      <th>365</th>\n",
       "      <td>2025-01-29</td>\n",
       "      <td>212</td>\n",
       "      <td>207</td>\n",
       "      <td>4648</td>\n",
       "      <td>45</td>\n",
       "    </tr>\n",
       "    <tr>\n",
       "      <th>366</th>\n",
       "      <td>2025-01-30</td>\n",
       "      <td>226</td>\n",
       "      <td>505</td>\n",
       "      <td>5280</td>\n",
       "      <td>69</td>\n",
       "    </tr>\n",
       "    <tr>\n",
       "      <th>367</th>\n",
       "      <td>2025-01-31</td>\n",
       "      <td>222</td>\n",
       "      <td>570</td>\n",
       "      <td>5107</td>\n",
       "      <td>75</td>\n",
       "    </tr>\n",
       "    <tr>\n",
       "      <th>368</th>\n",
       "      <td>2025-02-01</td>\n",
       "      <td>209</td>\n",
       "      <td>263</td>\n",
       "      <td>4866</td>\n",
       "      <td>73</td>\n",
       "    </tr>\n",
       "    <tr>\n",
       "      <th>369</th>\n",
       "      <td>2025-02-02</td>\n",
       "      <td>146</td>\n",
       "      <td>476</td>\n",
       "      <td>6084</td>\n",
       "      <td>99</td>\n",
       "    </tr>\n",
       "  </tbody>\n",
       "</table>\n",
       "<p>370 rows × 5 columns</p>\n",
       "</div>"
      ],
      "text/plain": [
       "          date  group_id  click_count  impression_count  conversion_count\n",
       "0   2024-01-22        64          134              2815                 4\n",
       "1   2024-01-23        84         1531              9990                 7\n",
       "2   2024-01-24        73         1695             15717                18\n",
       "3   2024-01-25        87          434              7232                 3\n",
       "4   2024-01-26        88          290              4912                 5\n",
       "..         ...       ...          ...               ...               ...\n",
       "365 2025-01-29       212          207              4648                45\n",
       "366 2025-01-30       226          505              5280                69\n",
       "367 2025-01-31       222          570              5107                75\n",
       "368 2025-02-01       209          263              4866                73\n",
       "369 2025-02-02       146          476              6084                99\n",
       "\n",
       "[370 rows x 5 columns]"
      ]
     },
     "execution_count": 3,
     "metadata": {},
     "output_type": "execute_result"
    }
   ],
   "source": [
    "# Making an aggregation right away\n",
    "df = df.groupby('date').agg({\n",
    "    'group_id': 'nunique',  # Count unique group_ids per date (optional, if needed)\n",
    "    'click_count': 'sum',   # Sum the click_count for each date\n",
    "    'impression_count': 'sum',  # Sum the impression_count for each date\n",
    "    'conversion_count': 'sum'   # Sum the conversion_count for each date (target column)\n",
    "}).reset_index()\n",
    "\n",
    "df"
   ]
  },
  {
   "cell_type": "markdown",
   "metadata": {},
   "source": [
    "# Data Visualization"
   ]
  },
  {
   "cell_type": "code",
   "execution_count": 4,
   "metadata": {},
   "outputs": [
    {
     "data": {
      "text/plain": [
       "Text(0.5, 1.0, 'Conversion Count')"
      ]
     },
     "execution_count": 4,
     "metadata": {},
     "output_type": "execute_result"
    },
    {
     "data": {
      "image/png": "[encoded data removed]",
      "text/plain": [
       "<Figure size 640x480 with 1 Axes>"
      ]
     },
     "metadata": {},
     "output_type": "display_data"
    }
   ],
   "source": [
    "sns.lineplot(data = df,x = 'date',y = 'conversion_count')\n",
    "plt.title('Conversion Count')"
   ]
  },
  {
   "cell_type": "code",
   "execution_count": 5,
   "metadata": {},
   "outputs": [
    {
     "data": {
      "text/plain": [
       "Text(0.5, 1.0, 'Click Count')"
      ]
     },
     "execution_count": 5,
     "metadata": {},
     "output_type": "execute_result"
    },
    {
     "data": {
      "image/png": "[encoded data removed]",
      "text/plain": [
       "<Figure size 640x480 with 1 Axes>"
      ]
     },
     "metadata": {},
     "output_type": "display_data"
    }
   ],
   "source": [
    "sns.lineplot(data = df,x = 'date',y = 'click_count')\n",
    "plt.title('Click Count')"
   ]
  },
  {
   "cell_type": "code",
   "execution_count": 6,
   "metadata": {},
   "outputs": [
    {
     "data": {
      "text/plain": [
       "Text(0.5, 1.0, 'Impression Count')"
      ]
     },
     "execution_count": 6,
     "metadata": {},
     "output_type": "execute_result"
    },
    {
     "data": {
      "image/png": "[encoded data removed]",
      "text/plain": [
       "<Figure size 640x480 with 1 Axes>"
      ]
     },
     "metadata": {},
     "output_type": "display_data"
    }
   ],
   "source": [
    "sns.lineplot(data = df,x = 'date',y = 'impression_count')\n",
    "plt.title('Impression Count')"
   ]
  },
  {
   "cell_type": "code",
   "execution_count": 7,
   "metadata": {},
   "outputs": [
    {
     "data": {
      "text/plain": [
       "<Axes: >"
      ]
     },
     "execution_count": 7,
     "metadata": {},
     "output_type": "execute_result"
    },
    {
     "data": {
      "image/png": "[encoded data removed]",
      "text/plain": [
       "<Figure size 640x480 with 2 Axes>"
      ]
     },
     "metadata": {},
     "output_type": "display_data"
    }
   ],
   "source": [
    "sns.heatmap(data = df.select_dtypes(include = ['int']).corr(),annot = True,fmt = '.2f')"
   ]
  },
  {
   "cell_type": "markdown",
   "metadata": {},
   "source": [
    "# Feature Engineering"
   ]
  },
  {
   "cell_type": "code",
   "execution_count": 8,
   "metadata": {},
   "outputs": [
    {
     "data": {
      "text/html": [
       "<div>\n",
       "<style scoped>\n",
       "    .dataframe tbody tr th:only-of-type {\n",
       "        vertical-align: middle;\n",
       "    }\n",
       "\n",
       "    .dataframe tbody tr th {\n",
       "        vertical-align: top;\n",
       "    }\n",
       "\n",
       "    .dataframe thead th {\n",
       "        text-align: right;\n",
       "    }\n",
       "</style>\n",
       "<table border=\"1\" class=\"dataframe\">\n",
       "  <thead>\n",
       "    <tr style=\"text-align: right;\">\n",
       "      <th></th>\n",
       "      <th>date</th>\n",
       "      <th>group_id</th>\n",
       "      <th>click_count</th>\n",
       "      <th>impression_count</th>\n",
       "      <th>conversion_count</th>\n",
       "      <th>year</th>\n",
       "      <th>month</th>\n",
       "      <th>weekday</th>\n",
       "      <th>dayofyear</th>\n",
       "      <th>is_weekend</th>\n",
       "      <th>is_holiday</th>\n",
       "      <th>conversion_lag_3</th>\n",
       "      <th>conversion_lag_7</th>\n",
       "      <th>conversion_lag_15</th>\n",
       "    </tr>\n",
       "  </thead>\n",
       "  <tbody>\n",
       "    <tr>\n",
       "      <th>0</th>\n",
       "      <td>2024-01-22</td>\n",
       "      <td>64</td>\n",
       "      <td>134</td>\n",
       "      <td>2815</td>\n",
       "      <td>4</td>\n",
       "      <td>2024</td>\n",
       "      <td>1</td>\n",
       "      <td>0</td>\n",
       "      <td>22</td>\n",
       "      <td>0</td>\n",
       "      <td>0</td>\n",
       "      <td>NaN</td>\n",
       "      <td>NaN</td>\n",
       "      <td>NaN</td>\n",
       "    </tr>\n",
       "    <tr>\n",
       "      <th>1</th>\n",
       "      <td>2024-01-23</td>\n",
       "      <td>84</td>\n",
       "      <td>1531</td>\n",
       "      <td>9990</td>\n",
       "      <td>7</td>\n",
       "      <td>2024</td>\n",
       "      <td>1</td>\n",
       "      <td>1</td>\n",
       "      <td>23</td>\n",
       "      <td>0</td>\n",
       "      <td>0</td>\n",
       "      <td>NaN</td>\n",
       "      <td>NaN</td>\n",
       "      <td>NaN</td>\n",
       "    </tr>\n",
       "    <tr>\n",
       "      <th>2</th>\n",
       "      <td>2024-01-24</td>\n",
       "      <td>73</td>\n",
       "      <td>1695</td>\n",
       "      <td>15717</td>\n",
       "      <td>18</td>\n",
       "      <td>2024</td>\n",
       "      <td>1</td>\n",
       "      <td>2</td>\n",
       "      <td>24</td>\n",
       "      <td>0</td>\n",
       "      <td>0</td>\n",
       "      <td>NaN</td>\n",
       "      <td>NaN</td>\n",
       "      <td>NaN</td>\n",
       "    </tr>\n",
       "    <tr>\n",
       "      <th>3</th>\n",
       "      <td>2024-01-25</td>\n",
       "      <td>87</td>\n",
       "      <td>434</td>\n",
       "      <td>7232</td>\n",
       "      <td>3</td>\n",
       "      <td>2024</td>\n",
       "      <td>1</td>\n",
       "      <td>3</td>\n",
       "      <td>25</td>\n",
       "      <td>0</td>\n",
       "      <td>0</td>\n",
       "      <td>4.0</td>\n",
       "      <td>NaN</td>\n",
       "      <td>NaN</td>\n",
       "    </tr>\n",
       "    <tr>\n",
       "      <th>4</th>\n",
       "      <td>2024-01-26</td>\n",
       "      <td>88</td>\n",
       "      <td>290</td>\n",
       "      <td>4912</td>\n",
       "      <td>5</td>\n",
       "      <td>2024</td>\n",
       "      <td>1</td>\n",
       "      <td>4</td>\n",
       "      <td>26</td>\n",
       "      <td>0</td>\n",
       "      <td>0</td>\n",
       "      <td>7.0</td>\n",
       "      <td>NaN</td>\n",
       "      <td>NaN</td>\n",
       "    </tr>\n",
       "    <tr>\n",
       "      <th>...</th>\n",
       "      <td>...</td>\n",
       "      <td>...</td>\n",
       "      <td>...</td>\n",
       "      <td>...</td>\n",
       "      <td>...</td>\n",
       "      <td>...</td>\n",
       "      <td>...</td>\n",
       "      <td>...</td>\n",
       "      <td>...</td>\n",
       "      <td>...</td>\n",
       "      <td>...</td>\n",
       "      <td>...</td>\n",
       "      <td>...</td>\n",
       "      <td>...</td>\n",
       "    </tr>\n",
       "    <tr>\n",
       "      <th>365</th>\n",
       "      <td>2025-01-29</td>\n",
       "      <td>212</td>\n",
       "      <td>207</td>\n",
       "      <td>4648</td>\n",
       "      <td>45</td>\n",
       "      <td>2025</td>\n",
       "      <td>1</td>\n",
       "      <td>2</td>\n",
       "      <td>29</td>\n",
       "      <td>0</td>\n",
       "      <td>0</td>\n",
       "      <td>22.0</td>\n",
       "      <td>36.0</td>\n",
       "      <td>76.0</td>\n",
       "    </tr>\n",
       "    <tr>\n",
       "      <th>366</th>\n",
       "      <td>2025-01-30</td>\n",
       "      <td>226</td>\n",
       "      <td>505</td>\n",
       "      <td>5280</td>\n",
       "      <td>69</td>\n",
       "      <td>2025</td>\n",
       "      <td>1</td>\n",
       "      <td>3</td>\n",
       "      <td>30</td>\n",
       "      <td>0</td>\n",
       "      <td>0</td>\n",
       "      <td>35.0</td>\n",
       "      <td>36.0</td>\n",
       "      <td>26.0</td>\n",
       "    </tr>\n",
       "    <tr>\n",
       "      <th>367</th>\n",
       "      <td>2025-01-31</td>\n",
       "      <td>222</td>\n",
       "      <td>570</td>\n",
       "      <td>5107</td>\n",
       "      <td>75</td>\n",
       "      <td>2025</td>\n",
       "      <td>1</td>\n",
       "      <td>4</td>\n",
       "      <td>31</td>\n",
       "      <td>0</td>\n",
       "      <td>0</td>\n",
       "      <td>29.0</td>\n",
       "      <td>54.0</td>\n",
       "      <td>2.0</td>\n",
       "    </tr>\n",
       "    <tr>\n",
       "      <th>368</th>\n",
       "      <td>2025-02-01</td>\n",
       "      <td>209</td>\n",
       "      <td>263</td>\n",
       "      <td>4866</td>\n",
       "      <td>73</td>\n",
       "      <td>2025</td>\n",
       "      <td>2</td>\n",
       "      <td>5</td>\n",
       "      <td>32</td>\n",
       "      <td>1</td>\n",
       "      <td>0</td>\n",
       "      <td>45.0</td>\n",
       "      <td>45.0</td>\n",
       "      <td>1.0</td>\n",
       "    </tr>\n",
       "    <tr>\n",
       "      <th>369</th>\n",
       "      <td>2025-02-02</td>\n",
       "      <td>146</td>\n",
       "      <td>476</td>\n",
       "      <td>6084</td>\n",
       "      <td>99</td>\n",
       "      <td>2025</td>\n",
       "      <td>2</td>\n",
       "      <td>6</td>\n",
       "      <td>33</td>\n",
       "      <td>1</td>\n",
       "      <td>0</td>\n",
       "      <td>69.0</td>\n",
       "      <td>22.0</td>\n",
       "      <td>3.0</td>\n",
       "    </tr>\n",
       "  </tbody>\n",
       "</table>\n",
       "<p>370 rows × 14 columns</p>\n",
       "</div>"
      ],
      "text/plain": [
       "          date  group_id  click_count  impression_count  conversion_count  \\\n",
       "0   2024-01-22        64          134              2815                 4   \n",
       "1   2024-01-23        84         1531              9990                 7   \n",
       "2   2024-01-24        73         1695             15717                18   \n",
       "3   2024-01-25        87          434              7232                 3   \n",
       "4   2024-01-26        88          290              4912                 5   \n",
       "..         ...       ...          ...               ...               ...   \n",
       "365 2025-01-29       212          207              4648                45   \n",
       "366 2025-01-30       226          505              5280                69   \n",
       "367 2025-01-31       222          570              5107                75   \n",
       "368 2025-02-01       209          263              4866                73   \n",
       "369 2025-02-02       146          476              6084                99   \n",
       "\n",
       "     year  month  weekday  dayofyear  is_weekend  is_holiday  \\\n",
       "0    2024      1        0         22           0           0   \n",
       "1    2024      1        1         23           0           0   \n",
       "2    2024      1        2         24           0           0   \n",
       "3    2024      1        3         25           0           0   \n",
       "4    2024      1        4         26           0           0   \n",
       "..    ...    ...      ...        ...         ...         ...   \n",
       "365  2025      1        2         29           0           0   \n",
       "366  2025      1        3         30           0           0   \n",
       "367  2025      1        4         31           0           0   \n",
       "368  2025      2        5         32           1           0   \n",
       "369  2025      2        6         33           1           0   \n",
       "\n",
       "     conversion_lag_3  conversion_lag_7  conversion_lag_15  \n",
       "0                 NaN               NaN                NaN  \n",
       "1                 NaN               NaN                NaN  \n",
       "2                 NaN               NaN                NaN  \n",
       "3                 4.0               NaN                NaN  \n",
       "4                 7.0               NaN                NaN  \n",
       "..                ...               ...                ...  \n",
       "365              22.0              36.0               76.0  \n",
       "366              35.0              36.0               26.0  \n",
       "367              29.0              54.0                2.0  \n",
       "368              45.0              45.0                1.0  \n",
       "369              69.0              22.0                3.0  \n",
       "\n",
       "[370 rows x 14 columns]"
      ]
     },
     "execution_count": 8,
     "metadata": {},
     "output_type": "execute_result"
    }
   ],
   "source": [
    "# Time based features\n",
    "df['year'] = df['date'].dt.year\n",
    "df['month'] = df['date'].dt.month\n",
    "df['weekday'] = df['date'].dt.weekday\n",
    "df['dayofyear'] = df['date'].dt.dayofyear\n",
    "df[\"is_weekend\"] = df[\"weekday\"].isin([5, 6]).astype(int)\n",
    "\n",
    "# Turkish Holidays\n",
    "holidays = [\"2024-01-01\", \"2024-04-23\", \"2024-05-01\", \"2024-07-15\", \"2024-10-29\"]\n",
    "df[\"is_holiday\"] = df[\"date\"].astype(str).isin(holidays).astype(int)\n",
    "\n",
    "# Lags\n",
    "lags = [3, 7, 15]\n",
    "for lag in lags:\n",
    "    df[f\"conversion_lag_{lag}\"] = df[\"conversion_count\"].shift(lag)\n",
    "\n",
    "df\n"
   ]
  },
  {
   "cell_type": "code",
   "execution_count": 9,
   "metadata": {},
   "outputs": [
    {
     "data": {
      "text/html": [
       "<div>\n",
       "<style scoped>\n",
       "    .dataframe tbody tr th:only-of-type {\n",
       "        vertical-align: middle;\n",
       "    }\n",
       "\n",
       "    .dataframe tbody tr th {\n",
       "        vertical-align: top;\n",
       "    }\n",
       "\n",
       "    .dataframe thead th {\n",
       "        text-align: right;\n",
       "    }\n",
       "</style>\n",
       "<table border=\"1\" class=\"dataframe\">\n",
       "  <thead>\n",
       "    <tr style=\"text-align: right;\">\n",
       "      <th></th>\n",
       "      <th>date</th>\n",
       "      <th>group_id</th>\n",
       "      <th>click_count</th>\n",
       "      <th>impression_count</th>\n",
       "      <th>conversion_count</th>\n",
       "      <th>year</th>\n",
       "      <th>month</th>\n",
       "      <th>weekday</th>\n",
       "      <th>dayofyear</th>\n",
       "      <th>is_weekend</th>\n",
       "      <th>is_holiday</th>\n",
       "      <th>conversion_lag_3</th>\n",
       "      <th>conversion_lag_7</th>\n",
       "      <th>conversion_lag_15</th>\n",
       "    </tr>\n",
       "  </thead>\n",
       "  <tbody>\n",
       "    <tr>\n",
       "      <th>0</th>\n",
       "      <td>2024-01-22</td>\n",
       "      <td>64</td>\n",
       "      <td>134</td>\n",
       "      <td>2815</td>\n",
       "      <td>4</td>\n",
       "      <td>2024</td>\n",
       "      <td>1</td>\n",
       "      <td>0</td>\n",
       "      <td>22</td>\n",
       "      <td>0</td>\n",
       "      <td>0</td>\n",
       "      <td>0.0</td>\n",
       "      <td>0.0</td>\n",
       "      <td>0.0</td>\n",
       "    </tr>\n",
       "    <tr>\n",
       "      <th>1</th>\n",
       "      <td>2024-01-23</td>\n",
       "      <td>84</td>\n",
       "      <td>1531</td>\n",
       "      <td>9990</td>\n",
       "      <td>7</td>\n",
       "      <td>2024</td>\n",
       "      <td>1</td>\n",
       "      <td>1</td>\n",
       "      <td>23</td>\n",
       "      <td>0</td>\n",
       "      <td>0</td>\n",
       "      <td>0.0</td>\n",
       "      <td>0.0</td>\n",
       "      <td>0.0</td>\n",
       "    </tr>\n",
       "    <tr>\n",
       "      <th>2</th>\n",
       "      <td>2024-01-24</td>\n",
       "      <td>73</td>\n",
       "      <td>1695</td>\n",
       "      <td>15717</td>\n",
       "      <td>18</td>\n",
       "      <td>2024</td>\n",
       "      <td>1</td>\n",
       "      <td>2</td>\n",
       "      <td>24</td>\n",
       "      <td>0</td>\n",
       "      <td>0</td>\n",
       "      <td>0.0</td>\n",
       "      <td>0.0</td>\n",
       "      <td>0.0</td>\n",
       "    </tr>\n",
       "    <tr>\n",
       "      <th>3</th>\n",
       "      <td>2024-01-25</td>\n",
       "      <td>87</td>\n",
       "      <td>434</td>\n",
       "      <td>7232</td>\n",
       "      <td>3</td>\n",
       "      <td>2024</td>\n",
       "      <td>1</td>\n",
       "      <td>3</td>\n",
       "      <td>25</td>\n",
       "      <td>0</td>\n",
       "      <td>0</td>\n",
       "      <td>4.0</td>\n",
       "      <td>0.0</td>\n",
       "      <td>0.0</td>\n",
       "    </tr>\n",
       "    <tr>\n",
       "      <th>4</th>\n",
       "      <td>2024-01-26</td>\n",
       "      <td>88</td>\n",
       "      <td>290</td>\n",
       "      <td>4912</td>\n",
       "      <td>5</td>\n",
       "      <td>2024</td>\n",
       "      <td>1</td>\n",
       "      <td>4</td>\n",
       "      <td>26</td>\n",
       "      <td>0</td>\n",
       "      <td>0</td>\n",
       "      <td>7.0</td>\n",
       "      <td>0.0</td>\n",
       "      <td>0.0</td>\n",
       "    </tr>\n",
       "    <tr>\n",
       "      <th>...</th>\n",
       "      <td>...</td>\n",
       "      <td>...</td>\n",
       "      <td>...</td>\n",
       "      <td>...</td>\n",
       "      <td>...</td>\n",
       "      <td>...</td>\n",
       "      <td>...</td>\n",
       "      <td>...</td>\n",
       "      <td>...</td>\n",
       "      <td>...</td>\n",
       "      <td>...</td>\n",
       "      <td>...</td>\n",
       "      <td>...</td>\n",
       "      <td>...</td>\n",
       "    </tr>\n",
       "    <tr>\n",
       "      <th>365</th>\n",
       "      <td>2025-01-29</td>\n",
       "      <td>212</td>\n",
       "      <td>207</td>\n",
       "      <td>4648</td>\n",
       "      <td>45</td>\n",
       "      <td>2025</td>\n",
       "      <td>1</td>\n",
       "      <td>2</td>\n",
       "      <td>29</td>\n",
       "      <td>0</td>\n",
       "      <td>0</td>\n",
       "      <td>22.0</td>\n",
       "      <td>36.0</td>\n",
       "      <td>76.0</td>\n",
       "    </tr>\n",
       "    <tr>\n",
       "      <th>366</th>\n",
       "      <td>2025-01-30</td>\n",
       "      <td>226</td>\n",
       "      <td>505</td>\n",
       "      <td>5280</td>\n",
       "      <td>69</td>\n",
       "      <td>2025</td>\n",
       "      <td>1</td>\n",
       "      <td>3</td>\n",
       "      <td>30</td>\n",
       "      <td>0</td>\n",
       "      <td>0</td>\n",
       "      <td>35.0</td>\n",
       "      <td>36.0</td>\n",
       "      <td>26.0</td>\n",
       "    </tr>\n",
       "    <tr>\n",
       "      <th>367</th>\n",
       "      <td>2025-01-31</td>\n",
       "      <td>222</td>\n",
       "      <td>570</td>\n",
       "      <td>5107</td>\n",
       "      <td>75</td>\n",
       "      <td>2025</td>\n",
       "      <td>1</td>\n",
       "      <td>4</td>\n",
       "      <td>31</td>\n",
       "      <td>0</td>\n",
       "      <td>0</td>\n",
       "      <td>29.0</td>\n",
       "      <td>54.0</td>\n",
       "      <td>2.0</td>\n",
       "    </tr>\n",
       "    <tr>\n",
       "      <th>368</th>\n",
       "      <td>2025-02-01</td>\n",
       "      <td>209</td>\n",
       "      <td>263</td>\n",
       "      <td>4866</td>\n",
       "      <td>73</td>\n",
       "      <td>2025</td>\n",
       "      <td>2</td>\n",
       "      <td>5</td>\n",
       "      <td>32</td>\n",
       "      <td>1</td>\n",
       "      <td>0</td>\n",
       "      <td>45.0</td>\n",
       "      <td>45.0</td>\n",
       "      <td>1.0</td>\n",
       "    </tr>\n",
       "    <tr>\n",
       "      <th>369</th>\n",
       "      <td>2025-02-02</td>\n",
       "      <td>146</td>\n",
       "      <td>476</td>\n",
       "      <td>6084</td>\n",
       "      <td>99</td>\n",
       "      <td>2025</td>\n",
       "      <td>2</td>\n",
       "      <td>6</td>\n",
       "      <td>33</td>\n",
       "      <td>1</td>\n",
       "      <td>0</td>\n",
       "      <td>69.0</td>\n",
       "      <td>22.0</td>\n",
       "      <td>3.0</td>\n",
       "    </tr>\n",
       "  </tbody>\n",
       "</table>\n",
       "<p>370 rows × 14 columns</p>\n",
       "</div>"
      ],
      "text/plain": [
       "          date  group_id  click_count  impression_count  conversion_count  \\\n",
       "0   2024-01-22        64          134              2815                 4   \n",
       "1   2024-01-23        84         1531              9990                 7   \n",
       "2   2024-01-24        73         1695             15717                18   \n",
       "3   2024-01-25        87          434              7232                 3   \n",
       "4   2024-01-26        88          290              4912                 5   \n",
       "..         ...       ...          ...               ...               ...   \n",
       "365 2025-01-29       212          207              4648                45   \n",
       "366 2025-01-30       226          505              5280                69   \n",
       "367 2025-01-31       222          570              5107                75   \n",
       "368 2025-02-01       209          263              4866                73   \n",
       "369 2025-02-02       146          476              6084                99   \n",
       "\n",
       "     year  month  weekday  dayofyear  is_weekend  is_holiday  \\\n",
       "0    2024      1        0         22           0           0   \n",
       "1    2024      1        1         23           0           0   \n",
       "2    2024      1        2         24           0           0   \n",
       "3    2024      1        3         25           0           0   \n",
       "4    2024      1        4         26           0           0   \n",
       "..    ...    ...      ...        ...         ...         ...   \n",
       "365  2025      1        2         29           0           0   \n",
       "366  2025      1        3         30           0           0   \n",
       "367  2025      1        4         31           0           0   \n",
       "368  2025      2        5         32           1           0   \n",
       "369  2025      2        6         33           1           0   \n",
       "\n",
       "     conversion_lag_3  conversion_lag_7  conversion_lag_15  \n",
       "0                 0.0               0.0                0.0  \n",
       "1                 0.0               0.0                0.0  \n",
       "2                 0.0               0.0                0.0  \n",
       "3                 4.0               0.0                0.0  \n",
       "4                 7.0               0.0                0.0  \n",
       "..                ...               ...                ...  \n",
       "365              22.0              36.0               76.0  \n",
       "366              35.0              36.0               26.0  \n",
       "367              29.0              54.0                2.0  \n",
       "368              45.0              45.0                1.0  \n",
       "369              69.0              22.0                3.0  \n",
       "\n",
       "[370 rows x 14 columns]"
      ]
     },
     "execution_count": 9,
     "metadata": {},
     "output_type": "execute_result"
    }
   ],
   "source": [
    "# Since we don't have any information about previous days prior to first day we fill NaN's with 0's\n",
    "\n",
    "df.fillna(0, inplace = True)\n",
    "df"
   ]
  },
  {
   "cell_type": "code",
   "execution_count": 10,
   "metadata": {},
   "outputs": [
    {
     "name": "stderr",
     "output_type": "stream",
     "text": [
      "13:30:15 - cmdstanpy - INFO - Chain [1] start processing\n",
      "13:30:15 - cmdstanpy - INFO - Chain [1] done processing\n"
     ]
    },
    {
     "data": {
      "text/plain": [
       "<prophet.forecaster.Prophet at 0x275494aa990>"
      ]
     },
     "execution_count": 10,
     "metadata": {},
     "output_type": "execute_result"
    }
   ],
   "source": [
    "from prophet import Prophet\n",
    "\n",
    "# Define a prophet DataFrame with proper naming\n",
    "df_prophet = df.rename(columns={\"date\": \"ds\", \"conversion_count\": \"y\"})\n",
    "\n",
    "# Turn Date into date format\n",
    "df_prophet[\"ds\"] = pd.to_datetime(df_prophet[\"ds\"])\n",
    "\n",
    "# Create a prophet object\n",
    "model = Prophet()\n",
    "\n",
    "model.add_regressor('click_count')\n",
    "model.add_regressor('month')\n",
    "model.add_regressor('impression_count')\n",
    "model.add_regressor('weekday')\n",
    "model.add_regressor('dayofyear')\n",
    "model.add_regressor('is_weekend')\n",
    "model.add_regressor('is_holiday')\n",
    "\n",
    "model.fit(df_prophet)"
   ]
  },
  {
   "cell_type": "code",
   "execution_count": 11,
   "metadata": {},
   "outputs": [
    {
     "data": {
      "text/html": [
       "<div>\n",
       "<style scoped>\n",
       "    .dataframe tbody tr th:only-of-type {\n",
       "        vertical-align: middle;\n",
       "    }\n",
       "\n",
       "    .dataframe tbody tr th {\n",
       "        vertical-align: top;\n",
       "    }\n",
       "\n",
       "    .dataframe thead th {\n",
       "        text-align: right;\n",
       "    }\n",
       "</style>\n",
       "<table border=\"1\" class=\"dataframe\">\n",
       "  <thead>\n",
       "    <tr style=\"text-align: right;\">\n",
       "      <th></th>\n",
       "      <th>ds</th>\n",
       "      <th>yhat</th>\n",
       "      <th>yhat_lower</th>\n",
       "      <th>yhat_upper</th>\n",
       "    </tr>\n",
       "  </thead>\n",
       "  <tbody>\n",
       "    <tr>\n",
       "      <th>0</th>\n",
       "      <td>2024-01-22</td>\n",
       "      <td>37.376715</td>\n",
       "      <td>-47.735358</td>\n",
       "      <td>123.643791</td>\n",
       "    </tr>\n",
       "    <tr>\n",
       "      <th>1</th>\n",
       "      <td>2024-01-23</td>\n",
       "      <td>40.908455</td>\n",
       "      <td>-47.861269</td>\n",
       "      <td>125.257307</td>\n",
       "    </tr>\n",
       "    <tr>\n",
       "      <th>2</th>\n",
       "      <td>2024-01-24</td>\n",
       "      <td>43.682237</td>\n",
       "      <td>-41.973301</td>\n",
       "      <td>131.859741</td>\n",
       "    </tr>\n",
       "    <tr>\n",
       "      <th>3</th>\n",
       "      <td>2024-01-25</td>\n",
       "      <td>40.885552</td>\n",
       "      <td>-42.639986</td>\n",
       "      <td>131.748607</td>\n",
       "    </tr>\n",
       "    <tr>\n",
       "      <th>4</th>\n",
       "      <td>2024-01-26</td>\n",
       "      <td>52.208766</td>\n",
       "      <td>-30.621597</td>\n",
       "      <td>143.247130</td>\n",
       "    </tr>\n",
       "    <tr>\n",
       "      <th>...</th>\n",
       "      <td>...</td>\n",
       "      <td>...</td>\n",
       "      <td>...</td>\n",
       "      <td>...</td>\n",
       "    </tr>\n",
       "    <tr>\n",
       "      <th>372</th>\n",
       "      <td>2025-02-05</td>\n",
       "      <td>110.877181</td>\n",
       "      <td>24.806375</td>\n",
       "      <td>198.105226</td>\n",
       "    </tr>\n",
       "    <tr>\n",
       "      <th>373</th>\n",
       "      <td>2025-02-06</td>\n",
       "      <td>109.262145</td>\n",
       "      <td>15.983523</td>\n",
       "      <td>202.017255</td>\n",
       "    </tr>\n",
       "    <tr>\n",
       "      <th>374</th>\n",
       "      <td>2025-02-07</td>\n",
       "      <td>121.767009</td>\n",
       "      <td>36.815562</td>\n",
       "      <td>215.229993</td>\n",
       "    </tr>\n",
       "    <tr>\n",
       "      <th>375</th>\n",
       "      <td>2025-02-08</td>\n",
       "      <td>108.808411</td>\n",
       "      <td>21.561704</td>\n",
       "      <td>201.837745</td>\n",
       "    </tr>\n",
       "    <tr>\n",
       "      <th>376</th>\n",
       "      <td>2025-02-09</td>\n",
       "      <td>101.900605</td>\n",
       "      <td>16.011281</td>\n",
       "      <td>187.945791</td>\n",
       "    </tr>\n",
       "  </tbody>\n",
       "</table>\n",
       "<p>377 rows × 4 columns</p>\n",
       "</div>"
      ],
      "text/plain": [
       "            ds        yhat  yhat_lower  yhat_upper\n",
       "0   2024-01-22   37.376715  -47.735358  123.643791\n",
       "1   2024-01-23   40.908455  -47.861269  125.257307\n",
       "2   2024-01-24   43.682237  -41.973301  131.859741\n",
       "3   2024-01-25   40.885552  -42.639986  131.748607\n",
       "4   2024-01-26   52.208766  -30.621597  143.247130\n",
       "..         ...         ...         ...         ...\n",
       "372 2025-02-05  110.877181   24.806375  198.105226\n",
       "373 2025-02-06  109.262145   15.983523  202.017255\n",
       "374 2025-02-07  121.767009   36.815562  215.229993\n",
       "375 2025-02-08  108.808411   21.561704  201.837745\n",
       "376 2025-02-09  101.900605   16.011281  187.945791\n",
       "\n",
       "[377 rows x 4 columns]"
      ]
     },
     "execution_count": 11,
     "metadata": {},
     "output_type": "execute_result"
    }
   ],
   "source": [
    "# Make future dataframe 7 days long\n",
    "future = model.make_future_dataframe(periods=7)\n",
    "\n",
    "future['click_count'] = df['click_count'].iloc[-1]  \n",
    "future['month'] = df['month'].iloc[-1]  \n",
    "future['impression_count'] = df['impression_count'].iloc[-1] \n",
    "future['weekday'] = df['weekday'].iloc[-1]\n",
    "future['dayofyear'] = df['dayofyear'].iloc[-1]\n",
    "future['is_weekend'] = df['is_weekend'].iloc[-1]\n",
    "future['is_holiday'] = df['is_holiday'].iloc[-1]\n",
    "# Prediction\n",
    "forecast = model.predict(future)\n",
    "\n",
    "# 7 days forecasting\n",
    "forecast_7_days = forecast[[\"ds\", \"yhat\", \"yhat_lower\", \"yhat_upper\"]]\n",
    "forecast_7_days\n"
   ]
  },
  {
   "cell_type": "code",
   "execution_count": 12,
   "metadata": {},
   "outputs": [
    {
     "data": {
      "image/png": "[encoded data removed]",
      "text/plain": [
       "<Figure size 1000x600 with 1 Axes>"
      ]
     },
     "metadata": {},
     "output_type": "display_data"
    },
    {
     "data": {
      "image/png": "[encoded data removed]",
      "text/plain": [
       "<Figure size 900x900 with 3 Axes>"
      ]
     },
     "metadata": {},
     "output_type": "display_data"
    }
   ],
   "source": [
    "# Plot predictions\n",
    "fig1 = model.plot(forecast)\n",
    "plt.show()\n",
    "\n",
    "# Plot components\n",
    "fig2 = model.plot_components(forecast)\n",
    "plt.show()"
   ]
  },
  {
   "cell_type": "code",
   "execution_count": 33,
   "metadata": {},
   "outputs": [
    {
     "name": "stdout",
     "output_type": "stream",
     "text": [
      "MAE: 48.106494327685375\n",
      "RMSE: 53.48887041347386\n",
      "MAPE: 1.1140039644405313\n"
     ]
    }
   ],
   "source": [
    "from sklearn.metrics import mean_absolute_percentage_error, mean_absolute_error, mean_squared_error\n",
    "train = df_prophet\n",
    "test = df_prophet.tail(7)  # For example, we can use the last 7 data points for testing\n",
    "\n",
    "# The actual values for the last 7 days in the test set\n",
    "actual_values = test['y']\n",
    "\n",
    "# The predicted values from the Prophet model (forecasted)\n",
    "predicted_values = forecast['yhat'].tail(7)\n",
    "\n",
    "# 1. MAE (Mean Absolute Error)\n",
    "mae = mean_absolute_error(actual_values, predicted_values)\n",
    "print(f\"MAE: {mae}\")\n",
    "\n",
    "# 2. RMSE (Root Mean Squared Error)\n",
    "rmse = np.sqrt(mean_squared_error(actual_values, predicted_values))\n",
    "print(f\"RMSE: {rmse}\")\n",
    "\n",
    "# 3. MAPE (Mean Absolute Percentage Error)\n",
    "mape = mean_absolute_percentage_error(actual_values,predicted_values)\n",
    "print(f\"MAPE: {mape}\")"
   ]
  },
  {
   "cell_type": "markdown",
   "metadata": {},
   "source": [
    "# Hyperparameter Optimization"
   ]
  },
  {
   "cell_type": "code",
   "execution_count": 22,
   "metadata": {},
   "outputs": [
    {
     "name": "stdout",
     "output_type": "stream",
     "text": [
      "Total Possible Models 192\n"
     ]
    }
   ],
   "source": [
    "from prophet.diagnostics import cross_validation, performance_metrics\n",
    "from sklearn.model_selection import ParameterGrid\n",
    "\n",
    "# Define a grid of hyperparameters to search\n",
    "param_grid = {\n",
    "    'changepoint_prior_scale': [0.001, 0.01, 0.1, 0.5],\n",
    "    'seasonality_prior_scale': [10, 50, 100, 500],\n",
    "    'holidays_prior_scale': [0.01, 0.1, 1],\n",
    "    'seasonality_mode': ['additive', 'multiplicative'],\n",
    "    'growth': ['linear', 'logistic']\n",
    "}\n",
    "\n",
    "# Perform cross-validation on different hyperparameters\n",
    "best_score = float('inf')\n",
    "best_params = {}\n",
    "\n",
    "grid = ParameterGrid(param_grid)\n",
    "cnt = 0\n",
    "for p in grid:\n",
    "    cnt = cnt+1\n",
    "\n",
    "print('Total Possible Models',cnt)"
   ]
  },
  {
   "cell_type": "code",
   "execution_count": 36,
   "metadata": {},
   "outputs": [
    {
     "name": "stdout",
     "output_type": "stream",
     "text": [
      "Model 1 with parameters: {'changepoint_prior_scale': 0.001, 'growth': 'linear', 'holidays_prior_scale': 0.01, 'seasonality_mode': 'additive', 'seasonality_prior_scale': 10}\n"
     ]
    },
    {
     "name": "stderr",
     "output_type": "stream",
     "text": [
      "13:48:31 - cmdstanpy - INFO - Chain [1] start processing\n",
      "13:48:31 - cmdstanpy - INFO - Chain [1] done processing\n",
      "  0%|          | 0/1 [00:00<?, ?it/s]13:48:31 - cmdstanpy - INFO - Chain [1] start processing\n",
      "13:48:32 - cmdstanpy - INFO - Chain [1] done processing\n",
      "100%|██████████| 1/1 [00:00<00:00,  1.99it/s]\n"
     ]
    },
    {
     "name": "stdout",
     "output_type": "stream",
     "text": [
      "RMSE: 20.380941991447422 for parameters: {'changepoint_prior_scale': 0.001, 'growth': 'linear', 'holidays_prior_scale': 0.01, 'seasonality_mode': 'additive', 'seasonality_prior_scale': 10}\n",
      "Model 2 with parameters: {'changepoint_prior_scale': 0.001, 'growth': 'linear', 'holidays_prior_scale': 0.01, 'seasonality_mode': 'additive', 'seasonality_prior_scale': 50}\n"
     ]
    },
    {
     "name": "stderr",
     "output_type": "stream",
     "text": [
      "13:48:32 - cmdstanpy - INFO - Chain [1] start processing\n",
      "13:48:32 - cmdstanpy - INFO - Chain [1] done processing\n",
      "  0%|          | 0/1 [00:00<?, ?it/s]13:48:32 - cmdstanpy - INFO - Chain [1] start processing\n",
      "13:48:33 - cmdstanpy - INFO - Chain [1] done processing\n",
      "100%|██████████| 1/1 [00:00<00:00,  2.08it/s]\n"
     ]
    },
    {
     "name": "stdout",
     "output_type": "stream",
     "text": [
      "RMSE: 20.380687141978132 for parameters: {'changepoint_prior_scale': 0.001, 'growth': 'linear', 'holidays_prior_scale': 0.01, 'seasonality_mode': 'additive', 'seasonality_prior_scale': 50}\n",
      "Model 3 with parameters: {'changepoint_prior_scale': 0.001, 'growth': 'linear', 'holidays_prior_scale': 0.01, 'seasonality_mode': 'additive', 'seasonality_prior_scale': 100}\n"
     ]
    },
    {
     "name": "stderr",
     "output_type": "stream",
     "text": [
      "13:48:33 - cmdstanpy - INFO - Chain [1] start processing\n",
      "13:48:33 - cmdstanpy - INFO - Chain [1] done processing\n",
      "  0%|          | 0/1 [00:00<?, ?it/s]13:48:33 - cmdstanpy - INFO - Chain [1] start processing\n",
      "13:48:33 - cmdstanpy - INFO - Chain [1] done processing\n",
      "100%|██████████| 1/1 [00:00<00:00,  2.12it/s]\n"
     ]
    },
    {
     "name": "stdout",
     "output_type": "stream",
     "text": [
      "RMSE: 20.40697578790821 for parameters: {'changepoint_prior_scale': 0.001, 'growth': 'linear', 'holidays_prior_scale': 0.01, 'seasonality_mode': 'additive', 'seasonality_prior_scale': 100}\n",
      "Model 4 with parameters: {'changepoint_prior_scale': 0.001, 'growth': 'linear', 'holidays_prior_scale': 0.01, 'seasonality_mode': 'additive', 'seasonality_prior_scale': 500}\n"
     ]
    },
    {
     "name": "stderr",
     "output_type": "stream",
     "text": [
      "13:48:34 - cmdstanpy - INFO - Chain [1] start processing\n",
      "13:48:34 - cmdstanpy - INFO - Chain [1] done processing\n",
      "  0%|          | 0/1 [00:00<?, ?it/s]13:48:34 - cmdstanpy - INFO - Chain [1] start processing\n",
      "13:48:34 - cmdstanpy - INFO - Chain [1] done processing\n",
      "100%|██████████| 1/1 [00:00<00:00,  2.07it/s]\n"
     ]
    },
    {
     "name": "stdout",
     "output_type": "stream",
     "text": [
      "RMSE: 20.37959645811937 for parameters: {'changepoint_prior_scale': 0.001, 'growth': 'linear', 'holidays_prior_scale': 0.01, 'seasonality_mode': 'additive', 'seasonality_prior_scale': 500}\n",
      "Model 5 with parameters: {'changepoint_prior_scale': 0.001, 'growth': 'linear', 'holidays_prior_scale': 0.01, 'seasonality_mode': 'multiplicative', 'seasonality_prior_scale': 10}\n"
     ]
    },
    {
     "name": "stderr",
     "output_type": "stream",
     "text": [
      "13:48:35 - cmdstanpy - INFO - Chain [1] start processing\n",
      "13:48:35 - cmdstanpy - INFO - Chain [1] done processing\n",
      "  0%|          | 0/1 [00:00<?, ?it/s]13:48:35 - cmdstanpy - INFO - Chain [1] start processing\n",
      "13:48:35 - cmdstanpy - INFO - Chain [1] done processing\n",
      "100%|██████████| 1/1 [00:00<00:00,  2.14it/s]\n"
     ]
    },
    {
     "name": "stdout",
     "output_type": "stream",
     "text": [
      "RMSE: 50.630065547202655 for parameters: {'changepoint_prior_scale': 0.001, 'growth': 'linear', 'holidays_prior_scale': 0.01, 'seasonality_mode': 'multiplicative', 'seasonality_prior_scale': 10}\n",
      "Model 6 with parameters: {'changepoint_prior_scale': 0.001, 'growth': 'linear', 'holidays_prior_scale': 0.01, 'seasonality_mode': 'multiplicative', 'seasonality_prior_scale': 50}\n"
     ]
    },
    {
     "name": "stderr",
     "output_type": "stream",
     "text": [
      "13:48:36 - cmdstanpy - INFO - Chain [1] start processing\n",
      "13:48:36 - cmdstanpy - INFO - Chain [1] done processing\n",
      "  0%|          | 0/1 [00:00<?, ?it/s]13:48:36 - cmdstanpy - INFO - Chain [1] start processing\n",
      "13:48:36 - cmdstanpy - INFO - Chain [1] done processing\n",
      "100%|██████████| 1/1 [00:00<00:00,  2.18it/s]\n"
     ]
    },
    {
     "name": "stdout",
     "output_type": "stream",
     "text": [
      "RMSE: 50.62995948127728 for parameters: {'changepoint_prior_scale': 0.001, 'growth': 'linear', 'holidays_prior_scale': 0.01, 'seasonality_mode': 'multiplicative', 'seasonality_prior_scale': 50}\n",
      "Model 7 with parameters: {'changepoint_prior_scale': 0.001, 'growth': 'linear', 'holidays_prior_scale': 0.01, 'seasonality_mode': 'multiplicative', 'seasonality_prior_scale': 100}\n"
     ]
    },
    {
     "name": "stderr",
     "output_type": "stream",
     "text": [
      "13:48:37 - cmdstanpy - INFO - Chain [1] start processing\n",
      "13:48:37 - cmdstanpy - INFO - Chain [1] done processing\n",
      "  0%|          | 0/1 [00:00<?, ?it/s]13:48:37 - cmdstanpy - INFO - Chain [1] start processing\n",
      "13:48:37 - cmdstanpy - INFO - Chain [1] done processing\n",
      "100%|██████████| 1/1 [00:00<00:00,  2.26it/s]\n"
     ]
    },
    {
     "name": "stdout",
     "output_type": "stream",
     "text": [
      "RMSE: 50.62995248599858 for parameters: {'changepoint_prior_scale': 0.001, 'growth': 'linear', 'holidays_prior_scale': 0.01, 'seasonality_mode': 'multiplicative', 'seasonality_prior_scale': 100}\n",
      "Model 8 with parameters: {'changepoint_prior_scale': 0.001, 'growth': 'linear', 'holidays_prior_scale': 0.01, 'seasonality_mode': 'multiplicative', 'seasonality_prior_scale': 500}\n"
     ]
    },
    {
     "name": "stderr",
     "output_type": "stream",
     "text": [
      "13:48:38 - cmdstanpy - INFO - Chain [1] start processing\n",
      "13:48:38 - cmdstanpy - INFO - Chain [1] done processing\n",
      "  0%|          | 0/1 [00:00<?, ?it/s]13:48:38 - cmdstanpy - INFO - Chain [1] start processing\n",
      "13:48:38 - cmdstanpy - INFO - Chain [1] done processing\n",
      "100%|██████████| 1/1 [00:00<00:00,  2.14it/s]\n"
     ]
    },
    {
     "name": "stdout",
     "output_type": "stream",
     "text": [
      "RMSE: 50.62995167152855 for parameters: {'changepoint_prior_scale': 0.001, 'growth': 'linear', 'holidays_prior_scale': 0.01, 'seasonality_mode': 'multiplicative', 'seasonality_prior_scale': 500}\n",
      "Model 9 with parameters: {'changepoint_prior_scale': 0.001, 'growth': 'linear', 'holidays_prior_scale': 0.1, 'seasonality_mode': 'additive', 'seasonality_prior_scale': 10}\n"
     ]
    },
    {
     "name": "stderr",
     "output_type": "stream",
     "text": [
      "13:48:39 - cmdstanpy - INFO - Chain [1] start processing\n",
      "13:48:39 - cmdstanpy - INFO - Chain [1] done processing\n",
      "  0%|          | 0/1 [00:00<?, ?it/s]13:48:39 - cmdstanpy - INFO - Chain [1] start processing\n",
      "13:48:39 - cmdstanpy - INFO - Chain [1] done processing\n",
      "100%|██████████| 1/1 [00:00<00:00,  2.22it/s]\n"
     ]
    },
    {
     "name": "stdout",
     "output_type": "stream",
     "text": [
      "RMSE: 32.74181771363909 for parameters: {'changepoint_prior_scale': 0.001, 'growth': 'linear', 'holidays_prior_scale': 0.1, 'seasonality_mode': 'additive', 'seasonality_prior_scale': 10}\n",
      "Model 10 with parameters: {'changepoint_prior_scale': 0.001, 'growth': 'linear', 'holidays_prior_scale': 0.1, 'seasonality_mode': 'additive', 'seasonality_prior_scale': 50}\n"
     ]
    },
    {
     "name": "stderr",
     "output_type": "stream",
     "text": [
      "13:48:40 - cmdstanpy - INFO - Chain [1] start processing\n",
      "13:48:40 - cmdstanpy - INFO - Chain [1] done processing\n",
      "  0%|          | 0/1 [00:00<?, ?it/s]13:48:40 - cmdstanpy - INFO - Chain [1] start processing\n",
      "13:48:40 - cmdstanpy - INFO - Chain [1] done processing\n",
      "100%|██████████| 1/1 [00:00<00:00,  2.11it/s]\n"
     ]
    },
    {
     "name": "stdout",
     "output_type": "stream",
     "text": [
      "RMSE: 32.74137512349819 for parameters: {'changepoint_prior_scale': 0.001, 'growth': 'linear', 'holidays_prior_scale': 0.1, 'seasonality_mode': 'additive', 'seasonality_prior_scale': 50}\n",
      "Model 11 with parameters: {'changepoint_prior_scale': 0.001, 'growth': 'linear', 'holidays_prior_scale': 0.1, 'seasonality_mode': 'additive', 'seasonality_prior_scale': 100}\n"
     ]
    },
    {
     "name": "stderr",
     "output_type": "stream",
     "text": [
      "13:48:40 - cmdstanpy - INFO - Chain [1] start processing\n",
      "13:48:41 - cmdstanpy - INFO - Chain [1] done processing\n",
      "  0%|          | 0/1 [00:00<?, ?it/s]13:48:41 - cmdstanpy - INFO - Chain [1] start processing\n",
      "13:48:41 - cmdstanpy - INFO - Chain [1] done processing\n",
      "100%|██████████| 1/1 [00:00<00:00,  2.14it/s]\n"
     ]
    },
    {
     "name": "stdout",
     "output_type": "stream",
     "text": [
      "RMSE: 32.74180042786164 for parameters: {'changepoint_prior_scale': 0.001, 'growth': 'linear', 'holidays_prior_scale': 0.1, 'seasonality_mode': 'additive', 'seasonality_prior_scale': 100}\n",
      "Model 12 with parameters: {'changepoint_prior_scale': 0.001, 'growth': 'linear', 'holidays_prior_scale': 0.1, 'seasonality_mode': 'additive', 'seasonality_prior_scale': 500}\n"
     ]
    },
    {
     "name": "stderr",
     "output_type": "stream",
     "text": [
      "13:48:41 - cmdstanpy - INFO - Chain [1] start processing\n",
      "13:48:41 - cmdstanpy - INFO - Chain [1] done processing\n",
      "  0%|          | 0/1 [00:00<?, ?it/s]13:48:42 - cmdstanpy - INFO - Chain [1] start processing\n",
      "13:48:42 - cmdstanpy - INFO - Chain [1] done processing\n",
      "100%|██████████| 1/1 [00:00<00:00,  2.22it/s]\n"
     ]
    },
    {
     "name": "stdout",
     "output_type": "stream",
     "text": [
      "RMSE: 32.74179074691431 for parameters: {'changepoint_prior_scale': 0.001, 'growth': 'linear', 'holidays_prior_scale': 0.1, 'seasonality_mode': 'additive', 'seasonality_prior_scale': 500}\n",
      "Model 13 with parameters: {'changepoint_prior_scale': 0.001, 'growth': 'linear', 'holidays_prior_scale': 0.1, 'seasonality_mode': 'multiplicative', 'seasonality_prior_scale': 10}\n"
     ]
    },
    {
     "name": "stderr",
     "output_type": "stream",
     "text": [
      "13:48:42 - cmdstanpy - INFO - Chain [1] start processing\n",
      "13:48:42 - cmdstanpy - INFO - Chain [1] done processing\n",
      "  0%|          | 0/1 [00:00<?, ?it/s]13:48:43 - cmdstanpy - INFO - Chain [1] start processing\n",
      "13:48:43 - cmdstanpy - INFO - Chain [1] done processing\n",
      "100%|██████████| 1/1 [00:00<00:00,  2.15it/s]\n"
     ]
    },
    {
     "name": "stdout",
     "output_type": "stream",
     "text": [
      "RMSE: 25.90601355443434 for parameters: {'changepoint_prior_scale': 0.001, 'growth': 'linear', 'holidays_prior_scale': 0.1, 'seasonality_mode': 'multiplicative', 'seasonality_prior_scale': 10}\n",
      "Model 14 with parameters: {'changepoint_prior_scale': 0.001, 'growth': 'linear', 'holidays_prior_scale': 0.1, 'seasonality_mode': 'multiplicative', 'seasonality_prior_scale': 50}\n"
     ]
    },
    {
     "name": "stderr",
     "output_type": "stream",
     "text": [
      "13:48:43 - cmdstanpy - INFO - Chain [1] start processing\n",
      "13:48:43 - cmdstanpy - INFO - Chain [1] done processing\n",
      "  0%|          | 0/1 [00:00<?, ?it/s]13:48:44 - cmdstanpy - INFO - Chain [1] start processing\n",
      "13:48:44 - cmdstanpy - INFO - Chain [1] done processing\n",
      "100%|██████████| 1/1 [00:00<00:00,  2.11it/s]\n"
     ]
    },
    {
     "name": "stdout",
     "output_type": "stream",
     "text": [
      "RMSE: 25.905999309704697 for parameters: {'changepoint_prior_scale': 0.001, 'growth': 'linear', 'holidays_prior_scale': 0.1, 'seasonality_mode': 'multiplicative', 'seasonality_prior_scale': 50}\n",
      "Model 15 with parameters: {'changepoint_prior_scale': 0.001, 'growth': 'linear', 'holidays_prior_scale': 0.1, 'seasonality_mode': 'multiplicative', 'seasonality_prior_scale': 100}\n"
     ]
    },
    {
     "name": "stderr",
     "output_type": "stream",
     "text": [
      "13:48:44 - cmdstanpy - INFO - Chain [1] start processing\n",
      "13:48:44 - cmdstanpy - INFO - Chain [1] done processing\n",
      "  0%|          | 0/1 [00:00<?, ?it/s]13:48:45 - cmdstanpy - INFO - Chain [1] start processing\n",
      "13:48:45 - cmdstanpy - INFO - Chain [1] done processing\n",
      "100%|██████████| 1/1 [00:00<00:00,  2.15it/s]\n"
     ]
    },
    {
     "name": "stdout",
     "output_type": "stream",
     "text": [
      "RMSE: 25.90602305603263 for parameters: {'changepoint_prior_scale': 0.001, 'growth': 'linear', 'holidays_prior_scale': 0.1, 'seasonality_mode': 'multiplicative', 'seasonality_prior_scale': 100}\n",
      "Model 16 with parameters: {'changepoint_prior_scale': 0.001, 'growth': 'linear', 'holidays_prior_scale': 0.1, 'seasonality_mode': 'multiplicative', 'seasonality_prior_scale': 500}\n"
     ]
    },
    {
     "name": "stderr",
     "output_type": "stream",
     "text": [
      "13:48:45 - cmdstanpy - INFO - Chain [1] start processing\n",
      "13:48:45 - cmdstanpy - INFO - Chain [1] done processing\n",
      "  0%|          | 0/1 [00:00<?, ?it/s]13:48:46 - cmdstanpy - INFO - Chain [1] start processing\n",
      "13:48:46 - cmdstanpy - INFO - Chain [1] done processing\n",
      "100%|██████████| 1/1 [00:00<00:00,  2.14it/s]\n"
     ]
    },
    {
     "name": "stdout",
     "output_type": "stream",
     "text": [
      "RMSE: 25.906004843790406 for parameters: {'changepoint_prior_scale': 0.001, 'growth': 'linear', 'holidays_prior_scale': 0.1, 'seasonality_mode': 'multiplicative', 'seasonality_prior_scale': 500}\n",
      "Model 17 with parameters: {'changepoint_prior_scale': 0.001, 'growth': 'linear', 'holidays_prior_scale': 1, 'seasonality_mode': 'additive', 'seasonality_prior_scale': 10}\n"
     ]
    },
    {
     "name": "stderr",
     "output_type": "stream",
     "text": [
      "13:48:46 - cmdstanpy - INFO - Chain [1] start processing\n",
      "13:48:46 - cmdstanpy - INFO - Chain [1] done processing\n",
      "  0%|          | 0/1 [00:00<?, ?it/s]13:48:47 - cmdstanpy - INFO - Chain [1] start processing\n",
      "13:48:47 - cmdstanpy - INFO - Chain [1] done processing\n",
      "100%|██████████| 1/1 [00:00<00:00,  2.08it/s]\n"
     ]
    },
    {
     "name": "stdout",
     "output_type": "stream",
     "text": [
      "RMSE: 33.346370163573816 for parameters: {'changepoint_prior_scale': 0.001, 'growth': 'linear', 'holidays_prior_scale': 1, 'seasonality_mode': 'additive', 'seasonality_prior_scale': 10}\n",
      "Model 18 with parameters: {'changepoint_prior_scale': 0.001, 'growth': 'linear', 'holidays_prior_scale': 1, 'seasonality_mode': 'additive', 'seasonality_prior_scale': 50}\n"
     ]
    },
    {
     "name": "stderr",
     "output_type": "stream",
     "text": [
      "13:48:47 - cmdstanpy - INFO - Chain [1] start processing\n",
      "13:48:47 - cmdstanpy - INFO - Chain [1] done processing\n",
      "  0%|          | 0/1 [00:00<?, ?it/s]13:48:48 - cmdstanpy - INFO - Chain [1] start processing\n",
      "13:48:48 - cmdstanpy - INFO - Chain [1] done processing\n",
      "100%|██████████| 1/1 [00:00<00:00,  2.10it/s]\n"
     ]
    },
    {
     "name": "stdout",
     "output_type": "stream",
     "text": [
      "RMSE: 33.35404532431833 for parameters: {'changepoint_prior_scale': 0.001, 'growth': 'linear', 'holidays_prior_scale': 1, 'seasonality_mode': 'additive', 'seasonality_prior_scale': 50}\n",
      "Model 19 with parameters: {'changepoint_prior_scale': 0.001, 'growth': 'linear', 'holidays_prior_scale': 1, 'seasonality_mode': 'additive', 'seasonality_prior_scale': 100}\n"
     ]
    },
    {
     "name": "stderr",
     "output_type": "stream",
     "text": [
      "13:48:48 - cmdstanpy - INFO - Chain [1] start processing\n",
      "13:48:48 - cmdstanpy - INFO - Chain [1] done processing\n",
      "  0%|          | 0/1 [00:00<?, ?it/s]13:48:48 - cmdstanpy - INFO - Chain [1] start processing\n",
      "13:48:49 - cmdstanpy - INFO - Chain [1] done processing\n",
      "100%|██████████| 1/1 [00:00<00:00,  2.13it/s]\n"
     ]
    },
    {
     "name": "stdout",
     "output_type": "stream",
     "text": [
      "RMSE: 33.31411625116788 for parameters: {'changepoint_prior_scale': 0.001, 'growth': 'linear', 'holidays_prior_scale': 1, 'seasonality_mode': 'additive', 'seasonality_prior_scale': 100}\n",
      "Model 20 with parameters: {'changepoint_prior_scale': 0.001, 'growth': 'linear', 'holidays_prior_scale': 1, 'seasonality_mode': 'additive', 'seasonality_prior_scale': 500}\n"
     ]
    },
    {
     "name": "stderr",
     "output_type": "stream",
     "text": [
      "13:48:49 - cmdstanpy - INFO - Chain [1] start processing\n",
      "13:48:49 - cmdstanpy - INFO - Chain [1] done processing\n",
      "  0%|          | 0/1 [00:00<?, ?it/s]13:48:49 - cmdstanpy - INFO - Chain [1] start processing\n",
      "13:48:49 - cmdstanpy - INFO - Chain [1] done processing\n",
      "100%|██████████| 1/1 [00:00<00:00,  2.16it/s]\n"
     ]
    },
    {
     "name": "stdout",
     "output_type": "stream",
     "text": [
      "RMSE: 33.314970532308266 for parameters: {'changepoint_prior_scale': 0.001, 'growth': 'linear', 'holidays_prior_scale': 1, 'seasonality_mode': 'additive', 'seasonality_prior_scale': 500}\n",
      "Model 21 with parameters: {'changepoint_prior_scale': 0.001, 'growth': 'linear', 'holidays_prior_scale': 1, 'seasonality_mode': 'multiplicative', 'seasonality_prior_scale': 10}\n"
     ]
    },
    {
     "name": "stderr",
     "output_type": "stream",
     "text": [
      "13:48:50 - cmdstanpy - INFO - Chain [1] start processing\n",
      "13:48:50 - cmdstanpy - INFO - Chain [1] done processing\n",
      "  0%|          | 0/1 [00:00<?, ?it/s]13:48:50 - cmdstanpy - INFO - Chain [1] start processing\n",
      "13:48:50 - cmdstanpy - INFO - Chain [1] done processing\n",
      "100%|██████████| 1/1 [00:00<00:00,  2.19it/s]\n"
     ]
    },
    {
     "name": "stdout",
     "output_type": "stream",
     "text": [
      "RMSE: 26.684569088621295 for parameters: {'changepoint_prior_scale': 0.001, 'growth': 'linear', 'holidays_prior_scale': 1, 'seasonality_mode': 'multiplicative', 'seasonality_prior_scale': 10}\n",
      "Model 22 with parameters: {'changepoint_prior_scale': 0.001, 'growth': 'linear', 'holidays_prior_scale': 1, 'seasonality_mode': 'multiplicative', 'seasonality_prior_scale': 50}\n"
     ]
    },
    {
     "name": "stderr",
     "output_type": "stream",
     "text": [
      "13:48:51 - cmdstanpy - INFO - Chain [1] start processing\n",
      "13:48:51 - cmdstanpy - INFO - Chain [1] done processing\n",
      "  0%|          | 0/1 [00:00<?, ?it/s]13:48:51 - cmdstanpy - INFO - Chain [1] start processing\n",
      "13:48:51 - cmdstanpy - INFO - Chain [1] done processing\n",
      "100%|██████████| 1/1 [00:00<00:00,  2.23it/s]\n"
     ]
    },
    {
     "name": "stdout",
     "output_type": "stream",
     "text": [
      "RMSE: 26.68486352349006 for parameters: {'changepoint_prior_scale': 0.001, 'growth': 'linear', 'holidays_prior_scale': 1, 'seasonality_mode': 'multiplicative', 'seasonality_prior_scale': 50}\n",
      "Model 23 with parameters: {'changepoint_prior_scale': 0.001, 'growth': 'linear', 'holidays_prior_scale': 1, 'seasonality_mode': 'multiplicative', 'seasonality_prior_scale': 100}\n"
     ]
    },
    {
     "name": "stderr",
     "output_type": "stream",
     "text": [
      "13:48:52 - cmdstanpy - INFO - Chain [1] start processing\n",
      "13:48:52 - cmdstanpy - INFO - Chain [1] done processing\n",
      "  0%|          | 0/1 [00:00<?, ?it/s]13:48:52 - cmdstanpy - INFO - Chain [1] start processing\n",
      "13:48:52 - cmdstanpy - INFO - Chain [1] done processing\n",
      "100%|██████████| 1/1 [00:00<00:00,  2.07it/s]\n"
     ]
    },
    {
     "name": "stdout",
     "output_type": "stream",
     "text": [
      "RMSE: 26.68470755569141 for parameters: {'changepoint_prior_scale': 0.001, 'growth': 'linear', 'holidays_prior_scale': 1, 'seasonality_mode': 'multiplicative', 'seasonality_prior_scale': 100}\n",
      "Model 24 with parameters: {'changepoint_prior_scale': 0.001, 'growth': 'linear', 'holidays_prior_scale': 1, 'seasonality_mode': 'multiplicative', 'seasonality_prior_scale': 500}\n"
     ]
    },
    {
     "name": "stderr",
     "output_type": "stream",
     "text": [
      "13:48:53 - cmdstanpy - INFO - Chain [1] start processing\n",
      "13:48:53 - cmdstanpy - INFO - Chain [1] done processing\n",
      "  0%|          | 0/1 [00:00<?, ?it/s]13:48:53 - cmdstanpy - INFO - Chain [1] start processing\n",
      "13:48:53 - cmdstanpy - INFO - Chain [1] done processing\n",
      "100%|██████████| 1/1 [00:00<00:00,  2.13it/s]\n"
     ]
    },
    {
     "name": "stdout",
     "output_type": "stream",
     "text": [
      "RMSE: 26.68482293442827 for parameters: {'changepoint_prior_scale': 0.001, 'growth': 'linear', 'holidays_prior_scale': 1, 'seasonality_mode': 'multiplicative', 'seasonality_prior_scale': 500}\n",
      "Model 25 with parameters: {'changepoint_prior_scale': 0.001, 'growth': 'logistic', 'holidays_prior_scale': 0.01, 'seasonality_mode': 'additive', 'seasonality_prior_scale': 10}\n"
     ]
    },
    {
     "name": "stderr",
     "output_type": "stream",
     "text": [
      "13:48:54 - cmdstanpy - INFO - Chain [1] start processing\n",
      "13:48:54 - cmdstanpy - INFO - Chain [1] done processing\n",
      "  0%|          | 0/1 [00:00<?, ?it/s]13:48:54 - cmdstanpy - INFO - Chain [1] start processing\n",
      "13:48:54 - cmdstanpy - INFO - Chain [1] done processing\n",
      "100%|██████████| 1/1 [00:00<00:00,  1.76it/s]\n"
     ]
    },
    {
     "name": "stdout",
     "output_type": "stream",
     "text": [
      "RMSE: 34.421647709326514 for parameters: {'changepoint_prior_scale': 0.001, 'growth': 'logistic', 'holidays_prior_scale': 0.01, 'seasonality_mode': 'additive', 'seasonality_prior_scale': 10}\n",
      "Model 26 with parameters: {'changepoint_prior_scale': 0.001, 'growth': 'logistic', 'holidays_prior_scale': 0.01, 'seasonality_mode': 'additive', 'seasonality_prior_scale': 50}\n"
     ]
    },
    {
     "name": "stderr",
     "output_type": "stream",
     "text": [
      "13:48:55 - cmdstanpy - INFO - Chain [1] start processing\n",
      "13:48:55 - cmdstanpy - INFO - Chain [1] done processing\n",
      "  0%|          | 0/1 [00:00<?, ?it/s]13:48:55 - cmdstanpy - INFO - Chain [1] start processing\n",
      "13:48:55 - cmdstanpy - INFO - Chain [1] done processing\n",
      "100%|██████████| 1/1 [00:00<00:00,  1.71it/s]\n"
     ]
    },
    {
     "name": "stdout",
     "output_type": "stream",
     "text": [
      "RMSE: 34.4210486654208 for parameters: {'changepoint_prior_scale': 0.001, 'growth': 'logistic', 'holidays_prior_scale': 0.01, 'seasonality_mode': 'additive', 'seasonality_prior_scale': 50}\n",
      "Model 27 with parameters: {'changepoint_prior_scale': 0.001, 'growth': 'logistic', 'holidays_prior_scale': 0.01, 'seasonality_mode': 'additive', 'seasonality_prior_scale': 100}\n"
     ]
    },
    {
     "name": "stderr",
     "output_type": "stream",
     "text": [
      "13:48:56 - cmdstanpy - INFO - Chain [1] start processing\n",
      "13:48:56 - cmdstanpy - INFO - Chain [1] done processing\n",
      "  0%|          | 0/1 [00:00<?, ?it/s]13:48:56 - cmdstanpy - INFO - Chain [1] start processing\n",
      "13:48:56 - cmdstanpy - INFO - Chain [1] done processing\n",
      "100%|██████████| 1/1 [00:00<00:00,  1.69it/s]\n"
     ]
    },
    {
     "name": "stdout",
     "output_type": "stream",
     "text": [
      "RMSE: 34.42244308407157 for parameters: {'changepoint_prior_scale': 0.001, 'growth': 'logistic', 'holidays_prior_scale': 0.01, 'seasonality_mode': 'additive', 'seasonality_prior_scale': 100}\n",
      "Model 28 with parameters: {'changepoint_prior_scale': 0.001, 'growth': 'logistic', 'holidays_prior_scale': 0.01, 'seasonality_mode': 'additive', 'seasonality_prior_scale': 500}\n"
     ]
    },
    {
     "name": "stderr",
     "output_type": "stream",
     "text": [
      "13:48:57 - cmdstanpy - INFO - Chain [1] start processing\n",
      "13:48:57 - cmdstanpy - INFO - Chain [1] done processing\n",
      "  0%|          | 0/1 [00:00<?, ?it/s]13:48:57 - cmdstanpy - INFO - Chain [1] start processing\n",
      "13:48:57 - cmdstanpy - INFO - Chain [1] done processing\n",
      "100%|██████████| 1/1 [00:00<00:00,  1.64it/s]\n"
     ]
    },
    {
     "name": "stdout",
     "output_type": "stream",
     "text": [
      "RMSE: 34.42129608791729 for parameters: {'changepoint_prior_scale': 0.001, 'growth': 'logistic', 'holidays_prior_scale': 0.01, 'seasonality_mode': 'additive', 'seasonality_prior_scale': 500}\n",
      "Model 29 with parameters: {'changepoint_prior_scale': 0.001, 'growth': 'logistic', 'holidays_prior_scale': 0.01, 'seasonality_mode': 'multiplicative', 'seasonality_prior_scale': 10}\n"
     ]
    },
    {
     "name": "stderr",
     "output_type": "stream",
     "text": [
      "13:48:58 - cmdstanpy - INFO - Chain [1] start processing\n",
      "13:48:58 - cmdstanpy - INFO - Chain [1] done processing\n",
      "  0%|          | 0/1 [00:00<?, ?it/s]13:48:58 - cmdstanpy - INFO - Chain [1] start processing\n",
      "13:48:58 - cmdstanpy - INFO - Chain [1] done processing\n",
      "100%|██████████| 1/1 [00:00<00:00,  1.55it/s]\n"
     ]
    },
    {
     "name": "stdout",
     "output_type": "stream",
     "text": [
      "RMSE: 37.18744890515996 for parameters: {'changepoint_prior_scale': 0.001, 'growth': 'logistic', 'holidays_prior_scale': 0.01, 'seasonality_mode': 'multiplicative', 'seasonality_prior_scale': 10}\n",
      "Model 30 with parameters: {'changepoint_prior_scale': 0.001, 'growth': 'logistic', 'holidays_prior_scale': 0.01, 'seasonality_mode': 'multiplicative', 'seasonality_prior_scale': 50}\n"
     ]
    },
    {
     "name": "stderr",
     "output_type": "stream",
     "text": [
      "13:48:59 - cmdstanpy - INFO - Chain [1] start processing\n",
      "13:48:59 - cmdstanpy - INFO - Chain [1] done processing\n",
      "  0%|          | 0/1 [00:00<?, ?it/s]13:48:59 - cmdstanpy - INFO - Chain [1] start processing\n",
      "13:48:59 - cmdstanpy - INFO - Chain [1] done processing\n",
      "100%|██████████| 1/1 [00:00<00:00,  1.68it/s]\n"
     ]
    },
    {
     "name": "stdout",
     "output_type": "stream",
     "text": [
      "RMSE: 37.18744890512299 for parameters: {'changepoint_prior_scale': 0.001, 'growth': 'logistic', 'holidays_prior_scale': 0.01, 'seasonality_mode': 'multiplicative', 'seasonality_prior_scale': 50}\n",
      "Model 31 with parameters: {'changepoint_prior_scale': 0.001, 'growth': 'logistic', 'holidays_prior_scale': 0.01, 'seasonality_mode': 'multiplicative', 'seasonality_prior_scale': 100}\n"
     ]
    },
    {
     "name": "stderr",
     "output_type": "stream",
     "text": [
      "13:49:00 - cmdstanpy - INFO - Chain [1] start processing\n",
      "13:49:00 - cmdstanpy - INFO - Chain [1] done processing\n",
      "  0%|          | 0/1 [00:00<?, ?it/s]13:49:00 - cmdstanpy - INFO - Chain [1] start processing\n",
      "13:49:00 - cmdstanpy - INFO - Chain [1] done processing\n",
      "100%|██████████| 1/1 [00:00<00:00,  1.90it/s]\n"
     ]
    },
    {
     "name": "stdout",
     "output_type": "stream",
     "text": [
      "RMSE: 37.18744890512171 for parameters: {'changepoint_prior_scale': 0.001, 'growth': 'logistic', 'holidays_prior_scale': 0.01, 'seasonality_mode': 'multiplicative', 'seasonality_prior_scale': 100}\n",
      "Model 32 with parameters: {'changepoint_prior_scale': 0.001, 'growth': 'logistic', 'holidays_prior_scale': 0.01, 'seasonality_mode': 'multiplicative', 'seasonality_prior_scale': 500}\n"
     ]
    },
    {
     "name": "stderr",
     "output_type": "stream",
     "text": [
      "13:49:01 - cmdstanpy - INFO - Chain [1] start processing\n",
      "13:49:01 - cmdstanpy - INFO - Chain [1] done processing\n",
      "  0%|          | 0/1 [00:00<?, ?it/s]13:49:01 - cmdstanpy - INFO - Chain [1] start processing\n",
      "13:49:02 - cmdstanpy - INFO - Chain [1] done processing\n",
      "100%|██████████| 1/1 [00:00<00:00,  1.71it/s]\n"
     ]
    },
    {
     "name": "stdout",
     "output_type": "stream",
     "text": [
      "RMSE: 37.18744890512195 for parameters: {'changepoint_prior_scale': 0.001, 'growth': 'logistic', 'holidays_prior_scale': 0.01, 'seasonality_mode': 'multiplicative', 'seasonality_prior_scale': 500}\n",
      "Model 33 with parameters: {'changepoint_prior_scale': 0.001, 'growth': 'logistic', 'holidays_prior_scale': 0.1, 'seasonality_mode': 'additive', 'seasonality_prior_scale': 10}\n"
     ]
    },
    {
     "name": "stderr",
     "output_type": "stream",
     "text": [
      "13:49:02 - cmdstanpy - INFO - Chain [1] start processing\n",
      "13:49:02 - cmdstanpy - INFO - Chain [1] done processing\n",
      "  0%|          | 0/1 [00:00<?, ?it/s]13:49:03 - cmdstanpy - INFO - Chain [1] start processing\n",
      "13:49:03 - cmdstanpy - INFO - Chain [1] done processing\n",
      "100%|██████████| 1/1 [00:00<00:00,  1.58it/s]\n"
     ]
    },
    {
     "name": "stdout",
     "output_type": "stream",
     "text": [
      "RMSE: 30.66235055650222 for parameters: {'changepoint_prior_scale': 0.001, 'growth': 'logistic', 'holidays_prior_scale': 0.1, 'seasonality_mode': 'additive', 'seasonality_prior_scale': 10}\n",
      "Model 34 with parameters: {'changepoint_prior_scale': 0.001, 'growth': 'logistic', 'holidays_prior_scale': 0.1, 'seasonality_mode': 'additive', 'seasonality_prior_scale': 50}\n"
     ]
    },
    {
     "name": "stderr",
     "output_type": "stream",
     "text": [
      "13:49:03 - cmdstanpy - INFO - Chain [1] start processing\n",
      "13:49:03 - cmdstanpy - INFO - Chain [1] done processing\n",
      "  0%|          | 0/1 [00:00<?, ?it/s]13:49:04 - cmdstanpy - INFO - Chain [1] start processing\n",
      "13:49:04 - cmdstanpy - INFO - Chain [1] done processing\n",
      "100%|██████████| 1/1 [00:00<00:00,  1.74it/s]\n"
     ]
    },
    {
     "name": "stdout",
     "output_type": "stream",
     "text": [
      "RMSE: 30.3399683534936 for parameters: {'changepoint_prior_scale': 0.001, 'growth': 'logistic', 'holidays_prior_scale': 0.1, 'seasonality_mode': 'additive', 'seasonality_prior_scale': 50}\n",
      "Model 35 with parameters: {'changepoint_prior_scale': 0.001, 'growth': 'logistic', 'holidays_prior_scale': 0.1, 'seasonality_mode': 'additive', 'seasonality_prior_scale': 100}\n"
     ]
    },
    {
     "name": "stderr",
     "output_type": "stream",
     "text": [
      "13:49:04 - cmdstanpy - INFO - Chain [1] start processing\n",
      "13:49:04 - cmdstanpy - INFO - Chain [1] done processing\n",
      "  0%|          | 0/1 [00:00<?, ?it/s]13:49:05 - cmdstanpy - INFO - Chain [1] start processing\n",
      "13:49:05 - cmdstanpy - INFO - Chain [1] done processing\n",
      "100%|██████████| 1/1 [00:00<00:00,  1.76it/s]\n"
     ]
    },
    {
     "name": "stdout",
     "output_type": "stream",
     "text": [
      "RMSE: 30.780627588500245 for parameters: {'changepoint_prior_scale': 0.001, 'growth': 'logistic', 'holidays_prior_scale': 0.1, 'seasonality_mode': 'additive', 'seasonality_prior_scale': 100}\n",
      "Model 36 with parameters: {'changepoint_prior_scale': 0.001, 'growth': 'logistic', 'holidays_prior_scale': 0.1, 'seasonality_mode': 'additive', 'seasonality_prior_scale': 500}\n"
     ]
    },
    {
     "name": "stderr",
     "output_type": "stream",
     "text": [
      "13:49:05 - cmdstanpy - INFO - Chain [1] start processing\n",
      "13:49:05 - cmdstanpy - INFO - Chain [1] done processing\n",
      "  0%|          | 0/1 [00:00<?, ?it/s]13:49:06 - cmdstanpy - INFO - Chain [1] start processing\n",
      "13:49:06 - cmdstanpy - INFO - Chain [1] done processing\n",
      "100%|██████████| 1/1 [00:00<00:00,  1.78it/s]\n"
     ]
    },
    {
     "name": "stdout",
     "output_type": "stream",
     "text": [
      "RMSE: 31.155172087682406 for parameters: {'changepoint_prior_scale': 0.001, 'growth': 'logistic', 'holidays_prior_scale': 0.1, 'seasonality_mode': 'additive', 'seasonality_prior_scale': 500}\n",
      "Model 37 with parameters: {'changepoint_prior_scale': 0.001, 'growth': 'logistic', 'holidays_prior_scale': 0.1, 'seasonality_mode': 'multiplicative', 'seasonality_prior_scale': 10}\n"
     ]
    },
    {
     "name": "stderr",
     "output_type": "stream",
     "text": [
      "13:49:06 - cmdstanpy - INFO - Chain [1] start processing\n",
      "13:49:06 - cmdstanpy - INFO - Chain [1] done processing\n",
      "  0%|          | 0/1 [00:00<?, ?it/s]13:49:07 - cmdstanpy - INFO - Chain [1] start processing\n",
      "13:49:07 - cmdstanpy - INFO - Chain [1] done processing\n",
      "100%|██████████| 1/1 [00:00<00:00,  1.73it/s]\n"
     ]
    },
    {
     "name": "stdout",
     "output_type": "stream",
     "text": [
      "RMSE: 37.18891519358424 for parameters: {'changepoint_prior_scale': 0.001, 'growth': 'logistic', 'holidays_prior_scale': 0.1, 'seasonality_mode': 'multiplicative', 'seasonality_prior_scale': 10}\n",
      "Model 38 with parameters: {'changepoint_prior_scale': 0.001, 'growth': 'logistic', 'holidays_prior_scale': 0.1, 'seasonality_mode': 'multiplicative', 'seasonality_prior_scale': 50}\n"
     ]
    },
    {
     "name": "stderr",
     "output_type": "stream",
     "text": [
      "13:49:07 - cmdstanpy - INFO - Chain [1] start processing\n",
      "13:49:08 - cmdstanpy - INFO - Chain [1] done processing\n",
      "  0%|          | 0/1 [00:00<?, ?it/s]13:49:08 - cmdstanpy - INFO - Chain [1] start processing\n",
      "13:49:08 - cmdstanpy - INFO - Chain [1] done processing\n",
      "100%|██████████| 1/1 [00:00<00:00,  1.64it/s]\n"
     ]
    },
    {
     "name": "stdout",
     "output_type": "stream",
     "text": [
      "RMSE: 37.188915191412015 for parameters: {'changepoint_prior_scale': 0.001, 'growth': 'logistic', 'holidays_prior_scale': 0.1, 'seasonality_mode': 'multiplicative', 'seasonality_prior_scale': 50}\n",
      "Model 39 with parameters: {'changepoint_prior_scale': 0.001, 'growth': 'logistic', 'holidays_prior_scale': 0.1, 'seasonality_mode': 'multiplicative', 'seasonality_prior_scale': 100}\n"
     ]
    },
    {
     "name": "stderr",
     "output_type": "stream",
     "text": [
      "13:49:09 - cmdstanpy - INFO - Chain [1] start processing\n",
      "13:49:09 - cmdstanpy - INFO - Chain [1] done processing\n",
      "  0%|          | 0/1 [00:00<?, ?it/s]13:49:09 - cmdstanpy - INFO - Chain [1] start processing\n",
      "13:49:09 - cmdstanpy - INFO - Chain [1] done processing\n",
      "100%|██████████| 1/1 [00:00<00:00,  1.75it/s]\n"
     ]
    },
    {
     "name": "stdout",
     "output_type": "stream",
     "text": [
      "RMSE: 37.18891519135576 for parameters: {'changepoint_prior_scale': 0.001, 'growth': 'logistic', 'holidays_prior_scale': 0.1, 'seasonality_mode': 'multiplicative', 'seasonality_prior_scale': 100}\n",
      "Model 40 with parameters: {'changepoint_prior_scale': 0.001, 'growth': 'logistic', 'holidays_prior_scale': 0.1, 'seasonality_mode': 'multiplicative', 'seasonality_prior_scale': 500}\n"
     ]
    },
    {
     "name": "stderr",
     "output_type": "stream",
     "text": [
      "13:49:10 - cmdstanpy - INFO - Chain [1] start processing\n",
      "13:49:10 - cmdstanpy - INFO - Chain [1] done processing\n",
      "  0%|          | 0/1 [00:00<?, ?it/s]13:49:10 - cmdstanpy - INFO - Chain [1] start processing\n",
      "13:49:10 - cmdstanpy - INFO - Chain [1] done processing\n",
      "100%|██████████| 1/1 [00:00<00:00,  1.74it/s]\n"
     ]
    },
    {
     "name": "stdout",
     "output_type": "stream",
     "text": [
      "RMSE: 37.18891519133951 for parameters: {'changepoint_prior_scale': 0.001, 'growth': 'logistic', 'holidays_prior_scale': 0.1, 'seasonality_mode': 'multiplicative', 'seasonality_prior_scale': 500}\n",
      "Model 41 with parameters: {'changepoint_prior_scale': 0.001, 'growth': 'logistic', 'holidays_prior_scale': 1, 'seasonality_mode': 'additive', 'seasonality_prior_scale': 10}\n"
     ]
    },
    {
     "name": "stderr",
     "output_type": "stream",
     "text": [
      "13:49:11 - cmdstanpy - INFO - Chain [1] start processing\n",
      "13:49:11 - cmdstanpy - INFO - Chain [1] done processing\n",
      "  0%|          | 0/1 [00:00<?, ?it/s]13:49:11 - cmdstanpy - INFO - Chain [1] start processing\n",
      "13:49:11 - cmdstanpy - INFO - Chain [1] done processing\n",
      "100%|██████████| 1/1 [00:00<00:00,  1.75it/s]\n"
     ]
    },
    {
     "name": "stdout",
     "output_type": "stream",
     "text": [
      "RMSE: 24.5123676106383 for parameters: {'changepoint_prior_scale': 0.001, 'growth': 'logistic', 'holidays_prior_scale': 1, 'seasonality_mode': 'additive', 'seasonality_prior_scale': 10}\n",
      "Model 42 with parameters: {'changepoint_prior_scale': 0.001, 'growth': 'logistic', 'holidays_prior_scale': 1, 'seasonality_mode': 'additive', 'seasonality_prior_scale': 50}\n"
     ]
    },
    {
     "name": "stderr",
     "output_type": "stream",
     "text": [
      "13:49:12 - cmdstanpy - INFO - Chain [1] start processing\n",
      "13:49:12 - cmdstanpy - INFO - Chain [1] done processing\n",
      "  0%|          | 0/1 [00:00<?, ?it/s]13:49:12 - cmdstanpy - INFO - Chain [1] start processing\n",
      "13:49:12 - cmdstanpy - INFO - Chain [1] done processing\n",
      "100%|██████████| 1/1 [00:00<00:00,  1.64it/s]\n"
     ]
    },
    {
     "name": "stdout",
     "output_type": "stream",
     "text": [
      "RMSE: 25.079439349711258 for parameters: {'changepoint_prior_scale': 0.001, 'growth': 'logistic', 'holidays_prior_scale': 1, 'seasonality_mode': 'additive', 'seasonality_prior_scale': 50}\n",
      "Model 43 with parameters: {'changepoint_prior_scale': 0.001, 'growth': 'logistic', 'holidays_prior_scale': 1, 'seasonality_mode': 'additive', 'seasonality_prior_scale': 100}\n"
     ]
    },
    {
     "name": "stderr",
     "output_type": "stream",
     "text": [
      "13:49:13 - cmdstanpy - INFO - Chain [1] start processing\n",
      "13:49:13 - cmdstanpy - INFO - Chain [1] done processing\n",
      "  0%|          | 0/1 [00:00<?, ?it/s]13:49:13 - cmdstanpy - INFO - Chain [1] start processing\n",
      "13:49:13 - cmdstanpy - INFO - Chain [1] done processing\n",
      "100%|██████████| 1/1 [00:00<00:00,  1.72it/s]\n"
     ]
    },
    {
     "name": "stdout",
     "output_type": "stream",
     "text": [
      "RMSE: 24.84317201714122 for parameters: {'changepoint_prior_scale': 0.001, 'growth': 'logistic', 'holidays_prior_scale': 1, 'seasonality_mode': 'additive', 'seasonality_prior_scale': 100}\n",
      "Model 44 with parameters: {'changepoint_prior_scale': 0.001, 'growth': 'logistic', 'holidays_prior_scale': 1, 'seasonality_mode': 'additive', 'seasonality_prior_scale': 500}\n"
     ]
    },
    {
     "name": "stderr",
     "output_type": "stream",
     "text": [
      "13:49:14 - cmdstanpy - INFO - Chain [1] start processing\n",
      "13:49:14 - cmdstanpy - INFO - Chain [1] done processing\n",
      "  0%|          | 0/1 [00:00<?, ?it/s]13:49:14 - cmdstanpy - INFO - Chain [1] start processing\n",
      "13:49:14 - cmdstanpy - INFO - Chain [1] done processing\n",
      "100%|██████████| 1/1 [00:00<00:00,  1.55it/s]\n"
     ]
    },
    {
     "name": "stdout",
     "output_type": "stream",
     "text": [
      "RMSE: 25.046271466280054 for parameters: {'changepoint_prior_scale': 0.001, 'growth': 'logistic', 'holidays_prior_scale': 1, 'seasonality_mode': 'additive', 'seasonality_prior_scale': 500}\n",
      "Model 45 with parameters: {'changepoint_prior_scale': 0.001, 'growth': 'logistic', 'holidays_prior_scale': 1, 'seasonality_mode': 'multiplicative', 'seasonality_prior_scale': 10}\n"
     ]
    },
    {
     "name": "stderr",
     "output_type": "stream",
     "text": [
      "13:49:15 - cmdstanpy - INFO - Chain [1] start processing\n",
      "13:49:15 - cmdstanpy - INFO - Chain [1] done processing\n",
      "  0%|          | 0/1 [00:00<?, ?it/s]13:49:15 - cmdstanpy - INFO - Chain [1] start processing\n",
      "13:49:15 - cmdstanpy - INFO - Chain [1] done processing\n",
      "100%|██████████| 1/1 [00:00<00:00,  1.58it/s]\n"
     ]
    },
    {
     "name": "stdout",
     "output_type": "stream",
     "text": [
      "RMSE: 37.18892563506524 for parameters: {'changepoint_prior_scale': 0.001, 'growth': 'logistic', 'holidays_prior_scale': 1, 'seasonality_mode': 'multiplicative', 'seasonality_prior_scale': 10}\n",
      "Model 46 with parameters: {'changepoint_prior_scale': 0.001, 'growth': 'logistic', 'holidays_prior_scale': 1, 'seasonality_mode': 'multiplicative', 'seasonality_prior_scale': 50}\n"
     ]
    },
    {
     "name": "stderr",
     "output_type": "stream",
     "text": [
      "13:49:16 - cmdstanpy - INFO - Chain [1] start processing\n",
      "13:49:16 - cmdstanpy - INFO - Chain [1] done processing\n",
      "  0%|          | 0/1 [00:00<?, ?it/s]13:49:16 - cmdstanpy - INFO - Chain [1] start processing\n",
      "13:49:17 - cmdstanpy - INFO - Chain [1] done processing\n",
      "100%|██████████| 1/1 [00:00<00:00,  1.75it/s]\n"
     ]
    },
    {
     "name": "stdout",
     "output_type": "stream",
     "text": [
      "RMSE: 37.18892563506493 for parameters: {'changepoint_prior_scale': 0.001, 'growth': 'logistic', 'holidays_prior_scale': 1, 'seasonality_mode': 'multiplicative', 'seasonality_prior_scale': 50}\n",
      "Model 47 with parameters: {'changepoint_prior_scale': 0.001, 'growth': 'logistic', 'holidays_prior_scale': 1, 'seasonality_mode': 'multiplicative', 'seasonality_prior_scale': 100}\n"
     ]
    },
    {
     "name": "stderr",
     "output_type": "stream",
     "text": [
      "13:49:17 - cmdstanpy - INFO - Chain [1] start processing\n",
      "13:49:17 - cmdstanpy - INFO - Chain [1] done processing\n",
      "  0%|          | 0/1 [00:00<?, ?it/s]13:49:18 - cmdstanpy - INFO - Chain [1] start processing\n",
      "13:49:18 - cmdstanpy - INFO - Chain [1] done processing\n",
      "100%|██████████| 1/1 [00:00<00:00,  1.74it/s]\n"
     ]
    },
    {
     "name": "stdout",
     "output_type": "stream",
     "text": [
      "RMSE: 37.18892563506519 for parameters: {'changepoint_prior_scale': 0.001, 'growth': 'logistic', 'holidays_prior_scale': 1, 'seasonality_mode': 'multiplicative', 'seasonality_prior_scale': 100}\n",
      "Model 48 with parameters: {'changepoint_prior_scale': 0.001, 'growth': 'logistic', 'holidays_prior_scale': 1, 'seasonality_mode': 'multiplicative', 'seasonality_prior_scale': 500}\n"
     ]
    },
    {
     "name": "stderr",
     "output_type": "stream",
     "text": [
      "13:49:18 - cmdstanpy - INFO - Chain [1] start processing\n",
      "13:49:18 - cmdstanpy - INFO - Chain [1] done processing\n",
      "  0%|          | 0/1 [00:00<?, ?it/s]13:49:19 - cmdstanpy - INFO - Chain [1] start processing\n",
      "13:49:19 - cmdstanpy - INFO - Chain [1] done processing\n",
      "100%|██████████| 1/1 [00:00<00:00,  1.71it/s]\n"
     ]
    },
    {
     "name": "stdout",
     "output_type": "stream",
     "text": [
      "RMSE: 37.18892563506506 for parameters: {'changepoint_prior_scale': 0.001, 'growth': 'logistic', 'holidays_prior_scale': 1, 'seasonality_mode': 'multiplicative', 'seasonality_prior_scale': 500}\n",
      "Model 49 with parameters: {'changepoint_prior_scale': 0.01, 'growth': 'linear', 'holidays_prior_scale': 0.01, 'seasonality_mode': 'additive', 'seasonality_prior_scale': 10}\n"
     ]
    },
    {
     "name": "stderr",
     "output_type": "stream",
     "text": [
      "13:49:19 - cmdstanpy - INFO - Chain [1] start processing\n",
      "13:49:19 - cmdstanpy - INFO - Chain [1] done processing\n",
      "  0%|          | 0/1 [00:00<?, ?it/s]13:49:20 - cmdstanpy - INFO - Chain [1] start processing\n",
      "13:49:20 - cmdstanpy - INFO - Chain [1] done processing\n",
      "100%|██████████| 1/1 [00:00<00:00,  2.09it/s]\n"
     ]
    },
    {
     "name": "stdout",
     "output_type": "stream",
     "text": [
      "RMSE: 15.07639276777488 for parameters: {'changepoint_prior_scale': 0.01, 'growth': 'linear', 'holidays_prior_scale': 0.01, 'seasonality_mode': 'additive', 'seasonality_prior_scale': 10}\n",
      "Model 50 with parameters: {'changepoint_prior_scale': 0.01, 'growth': 'linear', 'holidays_prior_scale': 0.01, 'seasonality_mode': 'additive', 'seasonality_prior_scale': 50}\n"
     ]
    },
    {
     "name": "stderr",
     "output_type": "stream",
     "text": [
      "13:49:20 - cmdstanpy - INFO - Chain [1] start processing\n",
      "13:49:20 - cmdstanpy - INFO - Chain [1] done processing\n",
      "  0%|          | 0/1 [00:00<?, ?it/s]13:49:21 - cmdstanpy - INFO - Chain [1] start processing\n",
      "13:49:21 - cmdstanpy - INFO - Chain [1] done processing\n",
      "100%|██████████| 1/1 [00:00<00:00,  2.04it/s]\n"
     ]
    },
    {
     "name": "stdout",
     "output_type": "stream",
     "text": [
      "RMSE: 15.075403652828816 for parameters: {'changepoint_prior_scale': 0.01, 'growth': 'linear', 'holidays_prior_scale': 0.01, 'seasonality_mode': 'additive', 'seasonality_prior_scale': 50}\n",
      "Model 51 with parameters: {'changepoint_prior_scale': 0.01, 'growth': 'linear', 'holidays_prior_scale': 0.01, 'seasonality_mode': 'additive', 'seasonality_prior_scale': 100}\n"
     ]
    },
    {
     "name": "stderr",
     "output_type": "stream",
     "text": [
      "13:49:21 - cmdstanpy - INFO - Chain [1] start processing\n",
      "13:49:21 - cmdstanpy - INFO - Chain [1] done processing\n",
      "  0%|          | 0/1 [00:00<?, ?it/s]13:49:21 - cmdstanpy - INFO - Chain [1] start processing\n",
      "13:49:22 - cmdstanpy - INFO - Chain [1] done processing\n",
      "100%|██████████| 1/1 [00:00<00:00,  2.31it/s]\n"
     ]
    },
    {
     "name": "stdout",
     "output_type": "stream",
     "text": [
      "RMSE: 15.075490970491725 for parameters: {'changepoint_prior_scale': 0.01, 'growth': 'linear', 'holidays_prior_scale': 0.01, 'seasonality_mode': 'additive', 'seasonality_prior_scale': 100}\n",
      "Model 52 with parameters: {'changepoint_prior_scale': 0.01, 'growth': 'linear', 'holidays_prior_scale': 0.01, 'seasonality_mode': 'additive', 'seasonality_prior_scale': 500}\n"
     ]
    },
    {
     "name": "stderr",
     "output_type": "stream",
     "text": [
      "13:49:22 - cmdstanpy - INFO - Chain [1] start processing\n",
      "13:49:22 - cmdstanpy - INFO - Chain [1] done processing\n",
      "  0%|          | 0/1 [00:00<?, ?it/s]13:49:22 - cmdstanpy - INFO - Chain [1] start processing\n",
      "13:49:22 - cmdstanpy - INFO - Chain [1] done processing\n",
      "100%|██████████| 1/1 [00:00<00:00,  2.15it/s]\n"
     ]
    },
    {
     "name": "stdout",
     "output_type": "stream",
     "text": [
      "RMSE: 15.076183622646216 for parameters: {'changepoint_prior_scale': 0.01, 'growth': 'linear', 'holidays_prior_scale': 0.01, 'seasonality_mode': 'additive', 'seasonality_prior_scale': 500}\n",
      "Model 53 with parameters: {'changepoint_prior_scale': 0.01, 'growth': 'linear', 'holidays_prior_scale': 0.01, 'seasonality_mode': 'multiplicative', 'seasonality_prior_scale': 10}\n"
     ]
    },
    {
     "name": "stderr",
     "output_type": "stream",
     "text": [
      "13:49:23 - cmdstanpy - INFO - Chain [1] start processing\n",
      "13:49:23 - cmdstanpy - INFO - Chain [1] done processing\n",
      "  0%|          | 0/1 [00:00<?, ?it/s]13:49:23 - cmdstanpy - INFO - Chain [1] start processing\n",
      "13:49:23 - cmdstanpy - INFO - Chain [1] done processing\n",
      "100%|██████████| 1/1 [00:00<00:00,  2.15it/s]\n"
     ]
    },
    {
     "name": "stdout",
     "output_type": "stream",
     "text": [
      "RMSE: 43.76940541142776 for parameters: {'changepoint_prior_scale': 0.01, 'growth': 'linear', 'holidays_prior_scale': 0.01, 'seasonality_mode': 'multiplicative', 'seasonality_prior_scale': 10}\n",
      "Model 54 with parameters: {'changepoint_prior_scale': 0.01, 'growth': 'linear', 'holidays_prior_scale': 0.01, 'seasonality_mode': 'multiplicative', 'seasonality_prior_scale': 50}\n"
     ]
    },
    {
     "name": "stderr",
     "output_type": "stream",
     "text": [
      "13:49:24 - cmdstanpy - INFO - Chain [1] start processing\n",
      "13:49:24 - cmdstanpy - INFO - Chain [1] done processing\n",
      "  0%|          | 0/1 [00:00<?, ?it/s]13:49:24 - cmdstanpy - INFO - Chain [1] start processing\n",
      "13:49:24 - cmdstanpy - INFO - Chain [1] done processing\n",
      "100%|██████████| 1/1 [00:00<00:00,  2.01it/s]\n"
     ]
    },
    {
     "name": "stdout",
     "output_type": "stream",
     "text": [
      "RMSE: 43.54607673649145 for parameters: {'changepoint_prior_scale': 0.01, 'growth': 'linear', 'holidays_prior_scale': 0.01, 'seasonality_mode': 'multiplicative', 'seasonality_prior_scale': 50}\n",
      "Model 55 with parameters: {'changepoint_prior_scale': 0.01, 'growth': 'linear', 'holidays_prior_scale': 0.01, 'seasonality_mode': 'multiplicative', 'seasonality_prior_scale': 100}\n"
     ]
    },
    {
     "name": "stderr",
     "output_type": "stream",
     "text": [
      "13:49:25 - cmdstanpy - INFO - Chain [1] start processing\n",
      "13:49:25 - cmdstanpy - INFO - Chain [1] done processing\n",
      "  0%|          | 0/1 [00:00<?, ?it/s]13:49:25 - cmdstanpy - INFO - Chain [1] start processing\n",
      "13:49:25 - cmdstanpy - INFO - Chain [1] done processing\n",
      "100%|██████████| 1/1 [00:00<00:00,  2.33it/s]\n"
     ]
    },
    {
     "name": "stdout",
     "output_type": "stream",
     "text": [
      "RMSE: 43.85398085503728 for parameters: {'changepoint_prior_scale': 0.01, 'growth': 'linear', 'holidays_prior_scale': 0.01, 'seasonality_mode': 'multiplicative', 'seasonality_prior_scale': 100}\n",
      "Model 56 with parameters: {'changepoint_prior_scale': 0.01, 'growth': 'linear', 'holidays_prior_scale': 0.01, 'seasonality_mode': 'multiplicative', 'seasonality_prior_scale': 500}\n"
     ]
    },
    {
     "name": "stderr",
     "output_type": "stream",
     "text": [
      "13:49:26 - cmdstanpy - INFO - Chain [1] start processing\n",
      "13:49:26 - cmdstanpy - INFO - Chain [1] done processing\n",
      "  0%|          | 0/1 [00:00<?, ?it/s]13:49:26 - cmdstanpy - INFO - Chain [1] start processing\n",
      "13:49:26 - cmdstanpy - INFO - Chain [1] done processing\n",
      "100%|██████████| 1/1 [00:00<00:00,  2.02it/s]\n"
     ]
    },
    {
     "name": "stdout",
     "output_type": "stream",
     "text": [
      "RMSE: 43.233785513033475 for parameters: {'changepoint_prior_scale': 0.01, 'growth': 'linear', 'holidays_prior_scale': 0.01, 'seasonality_mode': 'multiplicative', 'seasonality_prior_scale': 500}\n",
      "Model 57 with parameters: {'changepoint_prior_scale': 0.01, 'growth': 'linear', 'holidays_prior_scale': 0.1, 'seasonality_mode': 'additive', 'seasonality_prior_scale': 10}\n"
     ]
    },
    {
     "name": "stderr",
     "output_type": "stream",
     "text": [
      "13:49:27 - cmdstanpy - INFO - Chain [1] start processing\n",
      "13:49:27 - cmdstanpy - INFO - Chain [1] done processing\n",
      "  0%|          | 0/1 [00:00<?, ?it/s]13:49:27 - cmdstanpy - INFO - Chain [1] start processing\n",
      "13:49:27 - cmdstanpy - INFO - Chain [1] done processing\n",
      "100%|██████████| 1/1 [00:00<00:00,  2.17it/s]\n"
     ]
    },
    {
     "name": "stdout",
     "output_type": "stream",
     "text": [
      "RMSE: 13.969904374948817 for parameters: {'changepoint_prior_scale': 0.01, 'growth': 'linear', 'holidays_prior_scale': 0.1, 'seasonality_mode': 'additive', 'seasonality_prior_scale': 10}\n",
      "Model 58 with parameters: {'changepoint_prior_scale': 0.01, 'growth': 'linear', 'holidays_prior_scale': 0.1, 'seasonality_mode': 'additive', 'seasonality_prior_scale': 50}\n"
     ]
    },
    {
     "name": "stderr",
     "output_type": "stream",
     "text": [
      "13:49:28 - cmdstanpy - INFO - Chain [1] start processing\n",
      "13:49:28 - cmdstanpy - INFO - Chain [1] done processing\n",
      "  0%|          | 0/1 [00:00<?, ?it/s]13:49:28 - cmdstanpy - INFO - Chain [1] start processing\n",
      "13:49:28 - cmdstanpy - INFO - Chain [1] done processing\n",
      "100%|██████████| 1/1 [00:00<00:00,  2.13it/s]\n"
     ]
    },
    {
     "name": "stdout",
     "output_type": "stream",
     "text": [
      "RMSE: 13.960439261730738 for parameters: {'changepoint_prior_scale': 0.01, 'growth': 'linear', 'holidays_prior_scale': 0.1, 'seasonality_mode': 'additive', 'seasonality_prior_scale': 50}\n",
      "Model 59 with parameters: {'changepoint_prior_scale': 0.01, 'growth': 'linear', 'holidays_prior_scale': 0.1, 'seasonality_mode': 'additive', 'seasonality_prior_scale': 100}\n"
     ]
    },
    {
     "name": "stderr",
     "output_type": "stream",
     "text": [
      "13:49:29 - cmdstanpy - INFO - Chain [1] start processing\n",
      "13:49:29 - cmdstanpy - INFO - Chain [1] done processing\n",
      "  0%|          | 0/1 [00:00<?, ?it/s]13:49:29 - cmdstanpy - INFO - Chain [1] start processing\n",
      "13:49:29 - cmdstanpy - INFO - Chain [1] done processing\n",
      "100%|██████████| 1/1 [00:00<00:00,  2.00it/s]\n"
     ]
    },
    {
     "name": "stdout",
     "output_type": "stream",
     "text": [
      "RMSE: 13.969102649397561 for parameters: {'changepoint_prior_scale': 0.01, 'growth': 'linear', 'holidays_prior_scale': 0.1, 'seasonality_mode': 'additive', 'seasonality_prior_scale': 100}\n",
      "Model 60 with parameters: {'changepoint_prior_scale': 0.01, 'growth': 'linear', 'holidays_prior_scale': 0.1, 'seasonality_mode': 'additive', 'seasonality_prior_scale': 500}\n"
     ]
    },
    {
     "name": "stderr",
     "output_type": "stream",
     "text": [
      "13:49:30 - cmdstanpy - INFO - Chain [1] start processing\n",
      "13:49:30 - cmdstanpy - INFO - Chain [1] done processing\n",
      "  0%|          | 0/1 [00:00<?, ?it/s]13:49:30 - cmdstanpy - INFO - Chain [1] start processing\n",
      "13:49:30 - cmdstanpy - INFO - Chain [1] done processing\n",
      "100%|██████████| 1/1 [00:00<00:00,  2.11it/s]\n"
     ]
    },
    {
     "name": "stdout",
     "output_type": "stream",
     "text": [
      "RMSE: 13.96292234456489 for parameters: {'changepoint_prior_scale': 0.01, 'growth': 'linear', 'holidays_prior_scale': 0.1, 'seasonality_mode': 'additive', 'seasonality_prior_scale': 500}\n",
      "Model 61 with parameters: {'changepoint_prior_scale': 0.01, 'growth': 'linear', 'holidays_prior_scale': 0.1, 'seasonality_mode': 'multiplicative', 'seasonality_prior_scale': 10}\n"
     ]
    },
    {
     "name": "stderr",
     "output_type": "stream",
     "text": [
      "13:49:31 - cmdstanpy - INFO - Chain [1] start processing\n",
      "13:49:31 - cmdstanpy - INFO - Chain [1] done processing\n",
      "  0%|          | 0/1 [00:00<?, ?it/s]13:49:31 - cmdstanpy - INFO - Chain [1] start processing\n",
      "13:49:31 - cmdstanpy - INFO - Chain [1] done processing\n",
      "100%|██████████| 1/1 [00:00<00:00,  1.99it/s]\n"
     ]
    },
    {
     "name": "stdout",
     "output_type": "stream",
     "text": [
      "RMSE: 32.18948938886707 for parameters: {'changepoint_prior_scale': 0.01, 'growth': 'linear', 'holidays_prior_scale': 0.1, 'seasonality_mode': 'multiplicative', 'seasonality_prior_scale': 10}\n",
      "Model 62 with parameters: {'changepoint_prior_scale': 0.01, 'growth': 'linear', 'holidays_prior_scale': 0.1, 'seasonality_mode': 'multiplicative', 'seasonality_prior_scale': 50}\n"
     ]
    },
    {
     "name": "stderr",
     "output_type": "stream",
     "text": [
      "13:49:32 - cmdstanpy - INFO - Chain [1] start processing\n",
      "13:49:32 - cmdstanpy - INFO - Chain [1] done processing\n",
      "  0%|          | 0/1 [00:00<?, ?it/s]13:49:32 - cmdstanpy - INFO - Chain [1] start processing\n",
      "13:49:32 - cmdstanpy - INFO - Chain [1] done processing\n",
      "100%|██████████| 1/1 [00:00<00:00,  1.98it/s]\n"
     ]
    },
    {
     "name": "stdout",
     "output_type": "stream",
     "text": [
      "RMSE: 32.5154868055871 for parameters: {'changepoint_prior_scale': 0.01, 'growth': 'linear', 'holidays_prior_scale': 0.1, 'seasonality_mode': 'multiplicative', 'seasonality_prior_scale': 50}\n",
      "Model 63 with parameters: {'changepoint_prior_scale': 0.01, 'growth': 'linear', 'holidays_prior_scale': 0.1, 'seasonality_mode': 'multiplicative', 'seasonality_prior_scale': 100}\n"
     ]
    },
    {
     "name": "stderr",
     "output_type": "stream",
     "text": [
      "13:49:33 - cmdstanpy - INFO - Chain [1] start processing\n",
      "13:49:33 - cmdstanpy - INFO - Chain [1] done processing\n",
      "  0%|          | 0/1 [00:00<?, ?it/s]13:49:33 - cmdstanpy - INFO - Chain [1] start processing\n",
      "13:49:33 - cmdstanpy - INFO - Chain [1] done processing\n",
      "100%|██████████| 1/1 [00:00<00:00,  1.91it/s]\n"
     ]
    },
    {
     "name": "stdout",
     "output_type": "stream",
     "text": [
      "RMSE: 32.07053696857346 for parameters: {'changepoint_prior_scale': 0.01, 'growth': 'linear', 'holidays_prior_scale': 0.1, 'seasonality_mode': 'multiplicative', 'seasonality_prior_scale': 100}\n",
      "Model 64 with parameters: {'changepoint_prior_scale': 0.01, 'growth': 'linear', 'holidays_prior_scale': 0.1, 'seasonality_mode': 'multiplicative', 'seasonality_prior_scale': 500}\n"
     ]
    },
    {
     "name": "stderr",
     "output_type": "stream",
     "text": [
      "13:49:34 - cmdstanpy - INFO - Chain [1] start processing\n",
      "13:49:34 - cmdstanpy - INFO - Chain [1] done processing\n",
      "  0%|          | 0/1 [00:00<?, ?it/s]13:49:34 - cmdstanpy - INFO - Chain [1] start processing\n",
      "13:49:34 - cmdstanpy - INFO - Chain [1] done processing\n",
      "100%|██████████| 1/1 [00:00<00:00,  1.96it/s]\n"
     ]
    },
    {
     "name": "stdout",
     "output_type": "stream",
     "text": [
      "RMSE: 34.17718015143141 for parameters: {'changepoint_prior_scale': 0.01, 'growth': 'linear', 'holidays_prior_scale': 0.1, 'seasonality_mode': 'multiplicative', 'seasonality_prior_scale': 500}\n",
      "Model 65 with parameters: {'changepoint_prior_scale': 0.01, 'growth': 'linear', 'holidays_prior_scale': 1, 'seasonality_mode': 'additive', 'seasonality_prior_scale': 10}\n"
     ]
    },
    {
     "name": "stderr",
     "output_type": "stream",
     "text": [
      "13:49:35 - cmdstanpy - INFO - Chain [1] start processing\n",
      "13:49:35 - cmdstanpy - INFO - Chain [1] done processing\n",
      "  0%|          | 0/1 [00:00<?, ?it/s]13:49:35 - cmdstanpy - INFO - Chain [1] start processing\n",
      "13:49:35 - cmdstanpy - INFO - Chain [1] done processing\n",
      "100%|██████████| 1/1 [00:00<00:00,  2.10it/s]\n"
     ]
    },
    {
     "name": "stdout",
     "output_type": "stream",
     "text": [
      "RMSE: 13.915536389469484 for parameters: {'changepoint_prior_scale': 0.01, 'growth': 'linear', 'holidays_prior_scale': 1, 'seasonality_mode': 'additive', 'seasonality_prior_scale': 10}\n",
      "Model 66 with parameters: {'changepoint_prior_scale': 0.01, 'growth': 'linear', 'holidays_prior_scale': 1, 'seasonality_mode': 'additive', 'seasonality_prior_scale': 50}\n"
     ]
    },
    {
     "name": "stderr",
     "output_type": "stream",
     "text": [
      "13:49:36 - cmdstanpy - INFO - Chain [1] start processing\n",
      "13:49:36 - cmdstanpy - INFO - Chain [1] done processing\n",
      "  0%|          | 0/1 [00:00<?, ?it/s]13:49:36 - cmdstanpy - INFO - Chain [1] start processing\n",
      "13:49:36 - cmdstanpy - INFO - Chain [1] done processing\n",
      "100%|██████████| 1/1 [00:00<00:00,  2.02it/s]\n"
     ]
    },
    {
     "name": "stdout",
     "output_type": "stream",
     "text": [
      "RMSE: 14.010840903760684 for parameters: {'changepoint_prior_scale': 0.01, 'growth': 'linear', 'holidays_prior_scale': 1, 'seasonality_mode': 'additive', 'seasonality_prior_scale': 50}\n",
      "Model 67 with parameters: {'changepoint_prior_scale': 0.01, 'growth': 'linear', 'holidays_prior_scale': 1, 'seasonality_mode': 'additive', 'seasonality_prior_scale': 100}\n"
     ]
    },
    {
     "name": "stderr",
     "output_type": "stream",
     "text": [
      "13:49:37 - cmdstanpy - INFO - Chain [1] start processing\n",
      "13:49:37 - cmdstanpy - INFO - Chain [1] done processing\n",
      "  0%|          | 0/1 [00:00<?, ?it/s]13:49:37 - cmdstanpy - INFO - Chain [1] start processing\n",
      "13:49:37 - cmdstanpy - INFO - Chain [1] done processing\n",
      "100%|██████████| 1/1 [00:00<00:00,  2.37it/s]\n"
     ]
    },
    {
     "name": "stdout",
     "output_type": "stream",
     "text": [
      "RMSE: 14.01135249830125 for parameters: {'changepoint_prior_scale': 0.01, 'growth': 'linear', 'holidays_prior_scale': 1, 'seasonality_mode': 'additive', 'seasonality_prior_scale': 100}\n",
      "Model 68 with parameters: {'changepoint_prior_scale': 0.01, 'growth': 'linear', 'holidays_prior_scale': 1, 'seasonality_mode': 'additive', 'seasonality_prior_scale': 500}\n"
     ]
    },
    {
     "name": "stderr",
     "output_type": "stream",
     "text": [
      "13:49:38 - cmdstanpy - INFO - Chain [1] start processing\n",
      "13:49:38 - cmdstanpy - INFO - Chain [1] done processing\n",
      "  0%|          | 0/1 [00:00<?, ?it/s]13:49:38 - cmdstanpy - INFO - Chain [1] start processing\n",
      "13:49:38 - cmdstanpy - INFO - Chain [1] done processing\n",
      "100%|██████████| 1/1 [00:00<00:00,  2.34it/s]\n"
     ]
    },
    {
     "name": "stdout",
     "output_type": "stream",
     "text": [
      "RMSE: 14.011542552104853 for parameters: {'changepoint_prior_scale': 0.01, 'growth': 'linear', 'holidays_prior_scale': 1, 'seasonality_mode': 'additive', 'seasonality_prior_scale': 500}\n",
      "Model 69 with parameters: {'changepoint_prior_scale': 0.01, 'growth': 'linear', 'holidays_prior_scale': 1, 'seasonality_mode': 'multiplicative', 'seasonality_prior_scale': 10}\n"
     ]
    },
    {
     "name": "stderr",
     "output_type": "stream",
     "text": [
      "13:49:38 - cmdstanpy - INFO - Chain [1] start processing\n",
      "13:49:38 - cmdstanpy - INFO - Chain [1] done processing\n",
      "  0%|          | 0/1 [00:00<?, ?it/s]13:49:39 - cmdstanpy - INFO - Chain [1] start processing\n",
      "13:49:39 - cmdstanpy - INFO - Chain [1] done processing\n",
      "100%|██████████| 1/1 [00:00<00:00,  2.05it/s]\n"
     ]
    },
    {
     "name": "stdout",
     "output_type": "stream",
     "text": [
      "RMSE: 17.905662277436843 for parameters: {'changepoint_prior_scale': 0.01, 'growth': 'linear', 'holidays_prior_scale': 1, 'seasonality_mode': 'multiplicative', 'seasonality_prior_scale': 10}\n",
      "Model 70 with parameters: {'changepoint_prior_scale': 0.01, 'growth': 'linear', 'holidays_prior_scale': 1, 'seasonality_mode': 'multiplicative', 'seasonality_prior_scale': 50}\n"
     ]
    },
    {
     "name": "stderr",
     "output_type": "stream",
     "text": [
      "13:49:39 - cmdstanpy - INFO - Chain [1] start processing\n",
      "13:49:39 - cmdstanpy - INFO - Chain [1] done processing\n",
      "  0%|          | 0/1 [00:00<?, ?it/s]13:49:40 - cmdstanpy - INFO - Chain [1] start processing\n",
      "13:49:40 - cmdstanpy - INFO - Chain [1] done processing\n",
      "100%|██████████| 1/1 [00:00<00:00,  2.05it/s]\n"
     ]
    },
    {
     "name": "stdout",
     "output_type": "stream",
     "text": [
      "RMSE: 17.928241861559453 for parameters: {'changepoint_prior_scale': 0.01, 'growth': 'linear', 'holidays_prior_scale': 1, 'seasonality_mode': 'multiplicative', 'seasonality_prior_scale': 50}\n",
      "Model 71 with parameters: {'changepoint_prior_scale': 0.01, 'growth': 'linear', 'holidays_prior_scale': 1, 'seasonality_mode': 'multiplicative', 'seasonality_prior_scale': 100}\n"
     ]
    },
    {
     "name": "stderr",
     "output_type": "stream",
     "text": [
      "13:49:40 - cmdstanpy - INFO - Chain [1] start processing\n",
      "13:49:40 - cmdstanpy - INFO - Chain [1] done processing\n",
      "  0%|          | 0/1 [00:00<?, ?it/s]13:49:41 - cmdstanpy - INFO - Chain [1] start processing\n",
      "13:49:41 - cmdstanpy - INFO - Chain [1] done processing\n",
      "100%|██████████| 1/1 [00:00<00:00,  2.31it/s]\n"
     ]
    },
    {
     "name": "stdout",
     "output_type": "stream",
     "text": [
      "RMSE: 17.94402847281323 for parameters: {'changepoint_prior_scale': 0.01, 'growth': 'linear', 'holidays_prior_scale': 1, 'seasonality_mode': 'multiplicative', 'seasonality_prior_scale': 100}\n",
      "Model 72 with parameters: {'changepoint_prior_scale': 0.01, 'growth': 'linear', 'holidays_prior_scale': 1, 'seasonality_mode': 'multiplicative', 'seasonality_prior_scale': 500}\n"
     ]
    },
    {
     "name": "stderr",
     "output_type": "stream",
     "text": [
      "13:49:41 - cmdstanpy - INFO - Chain [1] start processing\n",
      "13:49:41 - cmdstanpy - INFO - Chain [1] done processing\n",
      "  0%|          | 0/1 [00:00<?, ?it/s]13:49:42 - cmdstanpy - INFO - Chain [1] start processing\n",
      "13:49:42 - cmdstanpy - INFO - Chain [1] done processing\n",
      "100%|██████████| 1/1 [00:00<00:00,  2.21it/s]\n"
     ]
    },
    {
     "name": "stdout",
     "output_type": "stream",
     "text": [
      "RMSE: 17.72372921877771 for parameters: {'changepoint_prior_scale': 0.01, 'growth': 'linear', 'holidays_prior_scale': 1, 'seasonality_mode': 'multiplicative', 'seasonality_prior_scale': 500}\n",
      "Model 73 with parameters: {'changepoint_prior_scale': 0.01, 'growth': 'logistic', 'holidays_prior_scale': 0.01, 'seasonality_mode': 'additive', 'seasonality_prior_scale': 10}\n"
     ]
    },
    {
     "name": "stderr",
     "output_type": "stream",
     "text": [
      "13:49:42 - cmdstanpy - INFO - Chain [1] start processing\n",
      "13:49:42 - cmdstanpy - INFO - Chain [1] done processing\n",
      "  0%|          | 0/1 [00:00<?, ?it/s]13:49:43 - cmdstanpy - INFO - Chain [1] start processing\n",
      "13:49:43 - cmdstanpy - INFO - Chain [1] done processing\n",
      "100%|██████████| 1/1 [00:00<00:00,  1.75it/s]\n"
     ]
    },
    {
     "name": "stdout",
     "output_type": "stream",
     "text": [
      "RMSE: 15.91609331749309 for parameters: {'changepoint_prior_scale': 0.01, 'growth': 'logistic', 'holidays_prior_scale': 0.01, 'seasonality_mode': 'additive', 'seasonality_prior_scale': 10}\n",
      "Model 74 with parameters: {'changepoint_prior_scale': 0.01, 'growth': 'logistic', 'holidays_prior_scale': 0.01, 'seasonality_mode': 'additive', 'seasonality_prior_scale': 50}\n"
     ]
    },
    {
     "name": "stderr",
     "output_type": "stream",
     "text": [
      "13:49:43 - cmdstanpy - INFO - Chain [1] start processing\n",
      "13:49:43 - cmdstanpy - INFO - Chain [1] done processing\n",
      "  0%|          | 0/1 [00:00<?, ?it/s]13:49:44 - cmdstanpy - INFO - Chain [1] start processing\n",
      "13:49:44 - cmdstanpy - INFO - Chain [1] done processing\n",
      "100%|██████████| 1/1 [00:00<00:00,  1.75it/s]\n"
     ]
    },
    {
     "name": "stdout",
     "output_type": "stream",
     "text": [
      "RMSE: 15.916940181378779 for parameters: {'changepoint_prior_scale': 0.01, 'growth': 'logistic', 'holidays_prior_scale': 0.01, 'seasonality_mode': 'additive', 'seasonality_prior_scale': 50}\n",
      "Model 75 with parameters: {'changepoint_prior_scale': 0.01, 'growth': 'logistic', 'holidays_prior_scale': 0.01, 'seasonality_mode': 'additive', 'seasonality_prior_scale': 100}\n"
     ]
    },
    {
     "name": "stderr",
     "output_type": "stream",
     "text": [
      "13:49:44 - cmdstanpy - INFO - Chain [1] start processing\n",
      "13:49:44 - cmdstanpy - INFO - Chain [1] done processing\n",
      "  0%|          | 0/1 [00:00<?, ?it/s]13:49:45 - cmdstanpy - INFO - Chain [1] start processing\n",
      "13:49:45 - cmdstanpy - INFO - Chain [1] done processing\n",
      "100%|██████████| 1/1 [00:00<00:00,  1.62it/s]\n"
     ]
    },
    {
     "name": "stdout",
     "output_type": "stream",
     "text": [
      "RMSE: 15.916934260218337 for parameters: {'changepoint_prior_scale': 0.01, 'growth': 'logistic', 'holidays_prior_scale': 0.01, 'seasonality_mode': 'additive', 'seasonality_prior_scale': 100}\n",
      "Model 76 with parameters: {'changepoint_prior_scale': 0.01, 'growth': 'logistic', 'holidays_prior_scale': 0.01, 'seasonality_mode': 'additive', 'seasonality_prior_scale': 500}\n"
     ]
    },
    {
     "name": "stderr",
     "output_type": "stream",
     "text": [
      "13:49:45 - cmdstanpy - INFO - Chain [1] start processing\n",
      "13:49:45 - cmdstanpy - INFO - Chain [1] done processing\n",
      "  0%|          | 0/1 [00:00<?, ?it/s]13:49:46 - cmdstanpy - INFO - Chain [1] start processing\n",
      "13:49:46 - cmdstanpy - INFO - Chain [1] done processing\n",
      "100%|██████████| 1/1 [00:00<00:00,  1.63it/s]\n"
     ]
    },
    {
     "name": "stdout",
     "output_type": "stream",
     "text": [
      "RMSE: 15.91672872909095 for parameters: {'changepoint_prior_scale': 0.01, 'growth': 'logistic', 'holidays_prior_scale': 0.01, 'seasonality_mode': 'additive', 'seasonality_prior_scale': 500}\n",
      "Model 77 with parameters: {'changepoint_prior_scale': 0.01, 'growth': 'logistic', 'holidays_prior_scale': 0.01, 'seasonality_mode': 'multiplicative', 'seasonality_prior_scale': 10}\n"
     ]
    },
    {
     "name": "stderr",
     "output_type": "stream",
     "text": [
      "13:49:47 - cmdstanpy - INFO - Chain [1] start processing\n",
      "13:49:47 - cmdstanpy - INFO - Chain [1] done processing\n",
      "  0%|          | 0/1 [00:00<?, ?it/s]13:49:47 - cmdstanpy - INFO - Chain [1] start processing\n",
      "13:49:47 - cmdstanpy - INFO - Chain [1] done processing\n",
      "100%|██████████| 1/1 [00:00<00:00,  1.70it/s]\n"
     ]
    },
    {
     "name": "stdout",
     "output_type": "stream",
     "text": [
      "RMSE: 19.90529992290783 for parameters: {'changepoint_prior_scale': 0.01, 'growth': 'logistic', 'holidays_prior_scale': 0.01, 'seasonality_mode': 'multiplicative', 'seasonality_prior_scale': 10}\n",
      "Model 78 with parameters: {'changepoint_prior_scale': 0.01, 'growth': 'logistic', 'holidays_prior_scale': 0.01, 'seasonality_mode': 'multiplicative', 'seasonality_prior_scale': 50}\n"
     ]
    },
    {
     "name": "stderr",
     "output_type": "stream",
     "text": [
      "13:49:48 - cmdstanpy - INFO - Chain [1] start processing\n",
      "13:49:48 - cmdstanpy - INFO - Chain [1] done processing\n",
      "  0%|          | 0/1 [00:00<?, ?it/s]13:49:48 - cmdstanpy - INFO - Chain [1] start processing\n",
      "13:49:48 - cmdstanpy - INFO - Chain [1] done processing\n",
      "100%|██████████| 1/1 [00:00<00:00,  1.79it/s]\n"
     ]
    },
    {
     "name": "stdout",
     "output_type": "stream",
     "text": [
      "RMSE: 19.905307115858875 for parameters: {'changepoint_prior_scale': 0.01, 'growth': 'logistic', 'holidays_prior_scale': 0.01, 'seasonality_mode': 'multiplicative', 'seasonality_prior_scale': 50}\n",
      "Model 79 with parameters: {'changepoint_prior_scale': 0.01, 'growth': 'logistic', 'holidays_prior_scale': 0.01, 'seasonality_mode': 'multiplicative', 'seasonality_prior_scale': 100}\n"
     ]
    },
    {
     "name": "stderr",
     "output_type": "stream",
     "text": [
      "13:49:49 - cmdstanpy - INFO - Chain [1] start processing\n",
      "13:49:49 - cmdstanpy - INFO - Chain [1] done processing\n",
      "  0%|          | 0/1 [00:00<?, ?it/s]13:49:49 - cmdstanpy - INFO - Chain [1] start processing\n",
      "13:49:49 - cmdstanpy - INFO - Chain [1] done processing\n",
      "100%|██████████| 1/1 [00:00<00:00,  1.52it/s]\n"
     ]
    },
    {
     "name": "stdout",
     "output_type": "stream",
     "text": [
      "RMSE: 19.905300141005455 for parameters: {'changepoint_prior_scale': 0.01, 'growth': 'logistic', 'holidays_prior_scale': 0.01, 'seasonality_mode': 'multiplicative', 'seasonality_prior_scale': 100}\n",
      "Model 80 with parameters: {'changepoint_prior_scale': 0.01, 'growth': 'logistic', 'holidays_prior_scale': 0.01, 'seasonality_mode': 'multiplicative', 'seasonality_prior_scale': 500}\n"
     ]
    },
    {
     "name": "stderr",
     "output_type": "stream",
     "text": [
      "13:49:50 - cmdstanpy - INFO - Chain [1] start processing\n",
      "13:49:50 - cmdstanpy - INFO - Chain [1] done processing\n",
      "  0%|          | 0/1 [00:00<?, ?it/s]13:49:50 - cmdstanpy - INFO - Chain [1] start processing\n",
      "13:49:50 - cmdstanpy - INFO - Chain [1] done processing\n",
      "100%|██████████| 1/1 [00:00<00:00,  1.71it/s]\n"
     ]
    },
    {
     "name": "stdout",
     "output_type": "stream",
     "text": [
      "RMSE: 19.905299222721816 for parameters: {'changepoint_prior_scale': 0.01, 'growth': 'logistic', 'holidays_prior_scale': 0.01, 'seasonality_mode': 'multiplicative', 'seasonality_prior_scale': 500}\n",
      "Model 81 with parameters: {'changepoint_prior_scale': 0.01, 'growth': 'logistic', 'holidays_prior_scale': 0.1, 'seasonality_mode': 'additive', 'seasonality_prior_scale': 10}\n"
     ]
    },
    {
     "name": "stderr",
     "output_type": "stream",
     "text": [
      "13:49:51 - cmdstanpy - INFO - Chain [1] start processing\n",
      "13:49:51 - cmdstanpy - INFO - Chain [1] done processing\n",
      "  0%|          | 0/1 [00:00<?, ?it/s]13:49:51 - cmdstanpy - INFO - Chain [1] start processing\n",
      "13:49:51 - cmdstanpy - INFO - Chain [1] done processing\n",
      "100%|██████████| 1/1 [00:00<00:00,  1.73it/s]\n"
     ]
    },
    {
     "name": "stdout",
     "output_type": "stream",
     "text": [
      "RMSE: 14.438913486495064 for parameters: {'changepoint_prior_scale': 0.01, 'growth': 'logistic', 'holidays_prior_scale': 0.1, 'seasonality_mode': 'additive', 'seasonality_prior_scale': 10}\n",
      "Model 82 with parameters: {'changepoint_prior_scale': 0.01, 'growth': 'logistic', 'holidays_prior_scale': 0.1, 'seasonality_mode': 'additive', 'seasonality_prior_scale': 50}\n"
     ]
    },
    {
     "name": "stderr",
     "output_type": "stream",
     "text": [
      "13:49:52 - cmdstanpy - INFO - Chain [1] start processing\n",
      "13:49:52 - cmdstanpy - INFO - Chain [1] done processing\n",
      "  0%|          | 0/1 [00:00<?, ?it/s]13:49:52 - cmdstanpy - INFO - Chain [1] start processing\n",
      "13:49:52 - cmdstanpy - INFO - Chain [1] done processing\n",
      "100%|██████████| 1/1 [00:00<00:00,  1.60it/s]\n"
     ]
    },
    {
     "name": "stdout",
     "output_type": "stream",
     "text": [
      "RMSE: 14.436228981407949 for parameters: {'changepoint_prior_scale': 0.01, 'growth': 'logistic', 'holidays_prior_scale': 0.1, 'seasonality_mode': 'additive', 'seasonality_prior_scale': 50}\n",
      "Model 83 with parameters: {'changepoint_prior_scale': 0.01, 'growth': 'logistic', 'holidays_prior_scale': 0.1, 'seasonality_mode': 'additive', 'seasonality_prior_scale': 100}\n"
     ]
    },
    {
     "name": "stderr",
     "output_type": "stream",
     "text": [
      "13:49:53 - cmdstanpy - INFO - Chain [1] start processing\n",
      "13:49:53 - cmdstanpy - INFO - Chain [1] done processing\n",
      "  0%|          | 0/1 [00:00<?, ?it/s]13:49:54 - cmdstanpy - INFO - Chain [1] start processing\n",
      "13:49:54 - cmdstanpy - INFO - Chain [1] done processing\n",
      "100%|██████████| 1/1 [00:00<00:00,  1.78it/s]\n"
     ]
    },
    {
     "name": "stdout",
     "output_type": "stream",
     "text": [
      "RMSE: 14.436382434710067 for parameters: {'changepoint_prior_scale': 0.01, 'growth': 'logistic', 'holidays_prior_scale': 0.1, 'seasonality_mode': 'additive', 'seasonality_prior_scale': 100}\n",
      "Model 84 with parameters: {'changepoint_prior_scale': 0.01, 'growth': 'logistic', 'holidays_prior_scale': 0.1, 'seasonality_mode': 'additive', 'seasonality_prior_scale': 500}\n"
     ]
    },
    {
     "name": "stderr",
     "output_type": "stream",
     "text": [
      "13:49:54 - cmdstanpy - INFO - Chain [1] start processing\n",
      "13:49:54 - cmdstanpy - INFO - Chain [1] done processing\n",
      "  0%|          | 0/1 [00:00<?, ?it/s]13:49:55 - cmdstanpy - INFO - Chain [1] start processing\n",
      "13:49:55 - cmdstanpy - INFO - Chain [1] done processing\n",
      "100%|██████████| 1/1 [00:00<00:00,  1.69it/s]\n"
     ]
    },
    {
     "name": "stdout",
     "output_type": "stream",
     "text": [
      "RMSE: 14.437293641709905 for parameters: {'changepoint_prior_scale': 0.01, 'growth': 'logistic', 'holidays_prior_scale': 0.1, 'seasonality_mode': 'additive', 'seasonality_prior_scale': 500}\n",
      "Model 85 with parameters: {'changepoint_prior_scale': 0.01, 'growth': 'logistic', 'holidays_prior_scale': 0.1, 'seasonality_mode': 'multiplicative', 'seasonality_prior_scale': 10}\n"
     ]
    },
    {
     "name": "stderr",
     "output_type": "stream",
     "text": [
      "13:49:55 - cmdstanpy - INFO - Chain [1] start processing\n",
      "13:49:55 - cmdstanpy - INFO - Chain [1] done processing\n",
      "  0%|          | 0/1 [00:00<?, ?it/s]13:49:56 - cmdstanpy - INFO - Chain [1] start processing\n",
      "13:49:56 - cmdstanpy - INFO - Chain [1] done processing\n",
      "100%|██████████| 1/1 [00:00<00:00,  1.67it/s]\n"
     ]
    },
    {
     "name": "stdout",
     "output_type": "stream",
     "text": [
      "RMSE: 18.795498444410537 for parameters: {'changepoint_prior_scale': 0.01, 'growth': 'logistic', 'holidays_prior_scale': 0.1, 'seasonality_mode': 'multiplicative', 'seasonality_prior_scale': 10}\n",
      "Model 86 with parameters: {'changepoint_prior_scale': 0.01, 'growth': 'logistic', 'holidays_prior_scale': 0.1, 'seasonality_mode': 'multiplicative', 'seasonality_prior_scale': 50}\n"
     ]
    },
    {
     "name": "stderr",
     "output_type": "stream",
     "text": [
      "13:49:56 - cmdstanpy - INFO - Chain [1] start processing\n",
      "13:49:56 - cmdstanpy - INFO - Chain [1] done processing\n",
      "  0%|          | 0/1 [00:00<?, ?it/s]13:49:57 - cmdstanpy - INFO - Chain [1] start processing\n",
      "13:49:57 - cmdstanpy - INFO - Chain [1] done processing\n",
      "100%|██████████| 1/1 [00:00<00:00,  1.75it/s]\n"
     ]
    },
    {
     "name": "stdout",
     "output_type": "stream",
     "text": [
      "RMSE: 18.79098282135421 for parameters: {'changepoint_prior_scale': 0.01, 'growth': 'logistic', 'holidays_prior_scale': 0.1, 'seasonality_mode': 'multiplicative', 'seasonality_prior_scale': 50}\n",
      "Model 87 with parameters: {'changepoint_prior_scale': 0.01, 'growth': 'logistic', 'holidays_prior_scale': 0.1, 'seasonality_mode': 'multiplicative', 'seasonality_prior_scale': 100}\n"
     ]
    },
    {
     "name": "stderr",
     "output_type": "stream",
     "text": [
      "13:49:57 - cmdstanpy - INFO - Chain [1] start processing\n",
      "13:49:57 - cmdstanpy - INFO - Chain [1] done processing\n",
      "  0%|          | 0/1 [00:00<?, ?it/s]13:49:58 - cmdstanpy - INFO - Chain [1] start processing\n",
      "13:49:58 - cmdstanpy - INFO - Chain [1] done processing\n",
      "100%|██████████| 1/1 [00:00<00:00,  1.74it/s]\n"
     ]
    },
    {
     "name": "stdout",
     "output_type": "stream",
     "text": [
      "RMSE: 18.791009904887414 for parameters: {'changepoint_prior_scale': 0.01, 'growth': 'logistic', 'holidays_prior_scale': 0.1, 'seasonality_mode': 'multiplicative', 'seasonality_prior_scale': 100}\n",
      "Model 88 with parameters: {'changepoint_prior_scale': 0.01, 'growth': 'logistic', 'holidays_prior_scale': 0.1, 'seasonality_mode': 'multiplicative', 'seasonality_prior_scale': 500}\n"
     ]
    },
    {
     "name": "stderr",
     "output_type": "stream",
     "text": [
      "13:49:58 - cmdstanpy - INFO - Chain [1] start processing\n",
      "13:49:59 - cmdstanpy - INFO - Chain [1] done processing\n",
      "  0%|          | 0/1 [00:00<?, ?it/s]13:49:59 - cmdstanpy - INFO - Chain [1] start processing\n",
      "13:49:59 - cmdstanpy - INFO - Chain [1] done processing\n",
      "100%|██████████| 1/1 [00:00<00:00,  1.71it/s]\n"
     ]
    },
    {
     "name": "stdout",
     "output_type": "stream",
     "text": [
      "RMSE: 18.791815685812065 for parameters: {'changepoint_prior_scale': 0.01, 'growth': 'logistic', 'holidays_prior_scale': 0.1, 'seasonality_mode': 'multiplicative', 'seasonality_prior_scale': 500}\n",
      "Model 89 with parameters: {'changepoint_prior_scale': 0.01, 'growth': 'logistic', 'holidays_prior_scale': 1, 'seasonality_mode': 'additive', 'seasonality_prior_scale': 10}\n"
     ]
    },
    {
     "name": "stderr",
     "output_type": "stream",
     "text": [
      "13:50:00 - cmdstanpy - INFO - Chain [1] start processing\n",
      "13:50:00 - cmdstanpy - INFO - Chain [1] done processing\n",
      "  0%|          | 0/1 [00:00<?, ?it/s]13:50:00 - cmdstanpy - INFO - Chain [1] start processing\n",
      "13:50:00 - cmdstanpy - INFO - Chain [1] done processing\n",
      "100%|██████████| 1/1 [00:00<00:00,  1.72it/s]\n"
     ]
    },
    {
     "name": "stdout",
     "output_type": "stream",
     "text": [
      "RMSE: 14.366072943814212 for parameters: {'changepoint_prior_scale': 0.01, 'growth': 'logistic', 'holidays_prior_scale': 1, 'seasonality_mode': 'additive', 'seasonality_prior_scale': 10}\n",
      "Model 90 with parameters: {'changepoint_prior_scale': 0.01, 'growth': 'logistic', 'holidays_prior_scale': 1, 'seasonality_mode': 'additive', 'seasonality_prior_scale': 50}\n"
     ]
    },
    {
     "name": "stderr",
     "output_type": "stream",
     "text": [
      "13:50:01 - cmdstanpy - INFO - Chain [1] start processing\n",
      "13:50:01 - cmdstanpy - INFO - Chain [1] done processing\n",
      "  0%|          | 0/1 [00:00<?, ?it/s]13:50:01 - cmdstanpy - INFO - Chain [1] start processing\n",
      "13:50:01 - cmdstanpy - INFO - Chain [1] done processing\n",
      "100%|██████████| 1/1 [00:00<00:00,  1.73it/s]\n"
     ]
    },
    {
     "name": "stdout",
     "output_type": "stream",
     "text": [
      "RMSE: 14.366094686868129 for parameters: {'changepoint_prior_scale': 0.01, 'growth': 'logistic', 'holidays_prior_scale': 1, 'seasonality_mode': 'additive', 'seasonality_prior_scale': 50}\n",
      "Model 91 with parameters: {'changepoint_prior_scale': 0.01, 'growth': 'logistic', 'holidays_prior_scale': 1, 'seasonality_mode': 'additive', 'seasonality_prior_scale': 100}\n"
     ]
    },
    {
     "name": "stderr",
     "output_type": "stream",
     "text": [
      "13:50:02 - cmdstanpy - INFO - Chain [1] start processing\n",
      "13:50:02 - cmdstanpy - INFO - Chain [1] done processing\n",
      "  0%|          | 0/1 [00:00<?, ?it/s]13:50:02 - cmdstanpy - INFO - Chain [1] start processing\n",
      "13:50:02 - cmdstanpy - INFO - Chain [1] done processing\n",
      "100%|██████████| 1/1 [00:00<00:00,  1.67it/s]\n"
     ]
    },
    {
     "name": "stdout",
     "output_type": "stream",
     "text": [
      "RMSE: 14.366094845146142 for parameters: {'changepoint_prior_scale': 0.01, 'growth': 'logistic', 'holidays_prior_scale': 1, 'seasonality_mode': 'additive', 'seasonality_prior_scale': 100}\n",
      "Model 92 with parameters: {'changepoint_prior_scale': 0.01, 'growth': 'logistic', 'holidays_prior_scale': 1, 'seasonality_mode': 'additive', 'seasonality_prior_scale': 500}\n"
     ]
    },
    {
     "name": "stderr",
     "output_type": "stream",
     "text": [
      "13:50:03 - cmdstanpy - INFO - Chain [1] start processing\n",
      "13:50:03 - cmdstanpy - INFO - Chain [1] done processing\n",
      "  0%|          | 0/1 [00:00<?, ?it/s]13:50:03 - cmdstanpy - INFO - Chain [1] start processing\n",
      "13:50:03 - cmdstanpy - INFO - Chain [1] done processing\n",
      "100%|██████████| 1/1 [00:00<00:00,  1.74it/s]\n"
     ]
    },
    {
     "name": "stdout",
     "output_type": "stream",
     "text": [
      "RMSE: 14.36607500227021 for parameters: {'changepoint_prior_scale': 0.01, 'growth': 'logistic', 'holidays_prior_scale': 1, 'seasonality_mode': 'additive', 'seasonality_prior_scale': 500}\n",
      "Model 93 with parameters: {'changepoint_prior_scale': 0.01, 'growth': 'logistic', 'holidays_prior_scale': 1, 'seasonality_mode': 'multiplicative', 'seasonality_prior_scale': 10}\n"
     ]
    },
    {
     "name": "stderr",
     "output_type": "stream",
     "text": [
      "13:50:04 - cmdstanpy - INFO - Chain [1] start processing\n",
      "13:50:04 - cmdstanpy - INFO - Chain [1] done processing\n",
      "  0%|          | 0/1 [00:00<?, ?it/s]13:50:04 - cmdstanpy - INFO - Chain [1] start processing\n",
      "13:50:04 - cmdstanpy - INFO - Chain [1] done processing\n",
      "100%|██████████| 1/1 [00:00<00:00,  1.63it/s]\n"
     ]
    },
    {
     "name": "stdout",
     "output_type": "stream",
     "text": [
      "RMSE: 19.598467849573577 for parameters: {'changepoint_prior_scale': 0.01, 'growth': 'logistic', 'holidays_prior_scale': 1, 'seasonality_mode': 'multiplicative', 'seasonality_prior_scale': 10}\n",
      "Model 94 with parameters: {'changepoint_prior_scale': 0.01, 'growth': 'logistic', 'holidays_prior_scale': 1, 'seasonality_mode': 'multiplicative', 'seasonality_prior_scale': 50}\n"
     ]
    },
    {
     "name": "stderr",
     "output_type": "stream",
     "text": [
      "13:50:05 - cmdstanpy - INFO - Chain [1] start processing\n",
      "13:50:05 - cmdstanpy - INFO - Chain [1] done processing\n",
      "  0%|          | 0/1 [00:00<?, ?it/s]13:50:05 - cmdstanpy - INFO - Chain [1] start processing\n",
      "13:50:05 - cmdstanpy - INFO - Chain [1] done processing\n",
      "100%|██████████| 1/1 [00:00<00:00,  1.71it/s]\n"
     ]
    },
    {
     "name": "stdout",
     "output_type": "stream",
     "text": [
      "RMSE: 20.418201283519302 for parameters: {'changepoint_prior_scale': 0.01, 'growth': 'logistic', 'holidays_prior_scale': 1, 'seasonality_mode': 'multiplicative', 'seasonality_prior_scale': 50}\n",
      "Model 95 with parameters: {'changepoint_prior_scale': 0.01, 'growth': 'logistic', 'holidays_prior_scale': 1, 'seasonality_mode': 'multiplicative', 'seasonality_prior_scale': 100}\n"
     ]
    },
    {
     "name": "stderr",
     "output_type": "stream",
     "text": [
      "13:50:06 - cmdstanpy - INFO - Chain [1] start processing\n",
      "13:50:06 - cmdstanpy - INFO - Chain [1] done processing\n",
      "  0%|          | 0/1 [00:00<?, ?it/s]13:50:06 - cmdstanpy - INFO - Chain [1] start processing\n",
      "13:50:06 - cmdstanpy - INFO - Chain [1] done processing\n",
      "100%|██████████| 1/1 [00:00<00:00,  1.67it/s]\n"
     ]
    },
    {
     "name": "stdout",
     "output_type": "stream",
     "text": [
      "RMSE: 20.414050731404277 for parameters: {'changepoint_prior_scale': 0.01, 'growth': 'logistic', 'holidays_prior_scale': 1, 'seasonality_mode': 'multiplicative', 'seasonality_prior_scale': 100}\n",
      "Model 96 with parameters: {'changepoint_prior_scale': 0.01, 'growth': 'logistic', 'holidays_prior_scale': 1, 'seasonality_mode': 'multiplicative', 'seasonality_prior_scale': 500}\n"
     ]
    },
    {
     "name": "stderr",
     "output_type": "stream",
     "text": [
      "13:50:07 - cmdstanpy - INFO - Chain [1] start processing\n",
      "13:50:07 - cmdstanpy - INFO - Chain [1] done processing\n",
      "  0%|          | 0/1 [00:00<?, ?it/s]13:50:07 - cmdstanpy - INFO - Chain [1] start processing\n",
      "13:50:08 - cmdstanpy - INFO - Chain [1] done processing\n",
      "100%|██████████| 1/1 [00:00<00:00,  1.66it/s]\n"
     ]
    },
    {
     "name": "stdout",
     "output_type": "stream",
     "text": [
      "RMSE: 20.41245791802016 for parameters: {'changepoint_prior_scale': 0.01, 'growth': 'logistic', 'holidays_prior_scale': 1, 'seasonality_mode': 'multiplicative', 'seasonality_prior_scale': 500}\n",
      "Model 97 with parameters: {'changepoint_prior_scale': 0.1, 'growth': 'linear', 'holidays_prior_scale': 0.01, 'seasonality_mode': 'additive', 'seasonality_prior_scale': 10}\n"
     ]
    },
    {
     "name": "stderr",
     "output_type": "stream",
     "text": [
      "13:50:08 - cmdstanpy - INFO - Chain [1] start processing\n",
      "13:50:08 - cmdstanpy - INFO - Chain [1] done processing\n",
      "  0%|          | 0/1 [00:00<?, ?it/s]13:50:09 - cmdstanpy - INFO - Chain [1] start processing\n",
      "13:50:09 - cmdstanpy - INFO - Chain [1] done processing\n",
      "100%|██████████| 1/1 [00:00<00:00,  2.01it/s]\n"
     ]
    },
    {
     "name": "stdout",
     "output_type": "stream",
     "text": [
      "RMSE: 56.58884590874491 for parameters: {'changepoint_prior_scale': 0.1, 'growth': 'linear', 'holidays_prior_scale': 0.01, 'seasonality_mode': 'additive', 'seasonality_prior_scale': 10}\n",
      "Model 98 with parameters: {'changepoint_prior_scale': 0.1, 'growth': 'linear', 'holidays_prior_scale': 0.01, 'seasonality_mode': 'additive', 'seasonality_prior_scale': 50}\n"
     ]
    },
    {
     "name": "stderr",
     "output_type": "stream",
     "text": [
      "13:50:09 - cmdstanpy - INFO - Chain [1] start processing\n",
      "13:50:09 - cmdstanpy - INFO - Chain [1] done processing\n",
      "  0%|          | 0/1 [00:00<?, ?it/s]13:50:10 - cmdstanpy - INFO - Chain [1] start processing\n",
      "13:50:10 - cmdstanpy - INFO - Chain [1] done processing\n",
      "100%|██████████| 1/1 [00:00<00:00,  1.65it/s]\n"
     ]
    },
    {
     "name": "stdout",
     "output_type": "stream",
     "text": [
      "RMSE: 59.73303737529072 for parameters: {'changepoint_prior_scale': 0.1, 'growth': 'linear', 'holidays_prior_scale': 0.01, 'seasonality_mode': 'additive', 'seasonality_prior_scale': 50}\n",
      "Model 99 with parameters: {'changepoint_prior_scale': 0.1, 'growth': 'linear', 'holidays_prior_scale': 0.01, 'seasonality_mode': 'additive', 'seasonality_prior_scale': 100}\n"
     ]
    },
    {
     "name": "stderr",
     "output_type": "stream",
     "text": [
      "13:50:10 - cmdstanpy - INFO - Chain [1] start processing\n",
      "13:50:10 - cmdstanpy - INFO - Chain [1] done processing\n",
      "  0%|          | 0/1 [00:00<?, ?it/s]13:50:11 - cmdstanpy - INFO - Chain [1] start processing\n",
      "13:50:11 - cmdstanpy - INFO - Chain [1] done processing\n",
      "100%|██████████| 1/1 [00:00<00:00,  2.00it/s]\n"
     ]
    },
    {
     "name": "stdout",
     "output_type": "stream",
     "text": [
      "RMSE: 56.6871055245267 for parameters: {'changepoint_prior_scale': 0.1, 'growth': 'linear', 'holidays_prior_scale': 0.01, 'seasonality_mode': 'additive', 'seasonality_prior_scale': 100}\n",
      "Model 100 with parameters: {'changepoint_prior_scale': 0.1, 'growth': 'linear', 'holidays_prior_scale': 0.01, 'seasonality_mode': 'additive', 'seasonality_prior_scale': 500}\n"
     ]
    },
    {
     "name": "stderr",
     "output_type": "stream",
     "text": [
      "13:50:11 - cmdstanpy - INFO - Chain [1] start processing\n",
      "13:50:11 - cmdstanpy - INFO - Chain [1] done processing\n",
      "  0%|          | 0/1 [00:00<?, ?it/s]13:50:12 - cmdstanpy - INFO - Chain [1] start processing\n",
      "13:50:12 - cmdstanpy - INFO - Chain [1] done processing\n",
      "100%|██████████| 1/1 [00:00<00:00,  1.83it/s]\n"
     ]
    },
    {
     "name": "stdout",
     "output_type": "stream",
     "text": [
      "RMSE: 60.220134321828745 for parameters: {'changepoint_prior_scale': 0.1, 'growth': 'linear', 'holidays_prior_scale': 0.01, 'seasonality_mode': 'additive', 'seasonality_prior_scale': 500}\n",
      "Model 101 with parameters: {'changepoint_prior_scale': 0.1, 'growth': 'linear', 'holidays_prior_scale': 0.01, 'seasonality_mode': 'multiplicative', 'seasonality_prior_scale': 10}\n"
     ]
    },
    {
     "name": "stderr",
     "output_type": "stream",
     "text": [
      "13:50:12 - cmdstanpy - INFO - Chain [1] start processing\n",
      "13:50:13 - cmdstanpy - INFO - Chain [1] done processing\n",
      "  0%|          | 0/1 [00:00<?, ?it/s]13:50:13 - cmdstanpy - INFO - Chain [1] start processing\n",
      "13:50:13 - cmdstanpy - INFO - Chain [1] done processing\n",
      "100%|██████████| 1/1 [00:00<00:00,  2.02it/s]\n"
     ]
    },
    {
     "name": "stdout",
     "output_type": "stream",
     "text": [
      "RMSE: 115.87470692844931 for parameters: {'changepoint_prior_scale': 0.1, 'growth': 'linear', 'holidays_prior_scale': 0.01, 'seasonality_mode': 'multiplicative', 'seasonality_prior_scale': 10}\n",
      "Model 102 with parameters: {'changepoint_prior_scale': 0.1, 'growth': 'linear', 'holidays_prior_scale': 0.01, 'seasonality_mode': 'multiplicative', 'seasonality_prior_scale': 50}\n"
     ]
    },
    {
     "name": "stderr",
     "output_type": "stream",
     "text": [
      "13:50:13 - cmdstanpy - INFO - Chain [1] start processing\n",
      "13:50:14 - cmdstanpy - INFO - Chain [1] done processing\n",
      "  0%|          | 0/1 [00:00<?, ?it/s]13:50:14 - cmdstanpy - INFO - Chain [1] start processing\n",
      "13:50:14 - cmdstanpy - INFO - Chain [1] done processing\n",
      "100%|██████████| 1/1 [00:00<00:00,  2.06it/s]\n"
     ]
    },
    {
     "name": "stdout",
     "output_type": "stream",
     "text": [
      "RMSE: 116.01308731261108 for parameters: {'changepoint_prior_scale': 0.1, 'growth': 'linear', 'holidays_prior_scale': 0.01, 'seasonality_mode': 'multiplicative', 'seasonality_prior_scale': 50}\n",
      "Model 103 with parameters: {'changepoint_prior_scale': 0.1, 'growth': 'linear', 'holidays_prior_scale': 0.01, 'seasonality_mode': 'multiplicative', 'seasonality_prior_scale': 100}\n"
     ]
    },
    {
     "name": "stderr",
     "output_type": "stream",
     "text": [
      "13:50:14 - cmdstanpy - INFO - Chain [1] start processing\n",
      "13:50:14 - cmdstanpy - INFO - Chain [1] done processing\n",
      "  0%|          | 0/1 [00:00<?, ?it/s]13:50:15 - cmdstanpy - INFO - Chain [1] start processing\n",
      "13:50:15 - cmdstanpy - INFO - Chain [1] done processing\n",
      "100%|██████████| 1/1 [00:00<00:00,  2.11it/s]\n"
     ]
    },
    {
     "name": "stdout",
     "output_type": "stream",
     "text": [
      "RMSE: 116.29602514997396 for parameters: {'changepoint_prior_scale': 0.1, 'growth': 'linear', 'holidays_prior_scale': 0.01, 'seasonality_mode': 'multiplicative', 'seasonality_prior_scale': 100}\n",
      "Model 104 with parameters: {'changepoint_prior_scale': 0.1, 'growth': 'linear', 'holidays_prior_scale': 0.01, 'seasonality_mode': 'multiplicative', 'seasonality_prior_scale': 500}\n"
     ]
    },
    {
     "name": "stderr",
     "output_type": "stream",
     "text": [
      "13:50:15 - cmdstanpy - INFO - Chain [1] start processing\n",
      "13:50:15 - cmdstanpy - INFO - Chain [1] done processing\n",
      "  0%|          | 0/1 [00:00<?, ?it/s]13:50:16 - cmdstanpy - INFO - Chain [1] start processing\n",
      "13:50:16 - cmdstanpy - INFO - Chain [1] done processing\n",
      "100%|██████████| 1/1 [00:00<00:00,  2.04it/s]\n"
     ]
    },
    {
     "name": "stdout",
     "output_type": "stream",
     "text": [
      "RMSE: 116.0571370299504 for parameters: {'changepoint_prior_scale': 0.1, 'growth': 'linear', 'holidays_prior_scale': 0.01, 'seasonality_mode': 'multiplicative', 'seasonality_prior_scale': 500}\n",
      "Model 105 with parameters: {'changepoint_prior_scale': 0.1, 'growth': 'linear', 'holidays_prior_scale': 0.1, 'seasonality_mode': 'additive', 'seasonality_prior_scale': 10}\n"
     ]
    },
    {
     "name": "stderr",
     "output_type": "stream",
     "text": [
      "13:50:16 - cmdstanpy - INFO - Chain [1] start processing\n",
      "13:50:16 - cmdstanpy - INFO - Chain [1] done processing\n",
      "  0%|          | 0/1 [00:00<?, ?it/s]13:50:17 - cmdstanpy - INFO - Chain [1] start processing\n",
      "13:50:17 - cmdstanpy - INFO - Chain [1] done processing\n",
      "100%|██████████| 1/1 [00:00<00:00,  1.98it/s]\n"
     ]
    },
    {
     "name": "stdout",
     "output_type": "stream",
     "text": [
      "RMSE: 55.58485873438726 for parameters: {'changepoint_prior_scale': 0.1, 'growth': 'linear', 'holidays_prior_scale': 0.1, 'seasonality_mode': 'additive', 'seasonality_prior_scale': 10}\n",
      "Model 106 with parameters: {'changepoint_prior_scale': 0.1, 'growth': 'linear', 'holidays_prior_scale': 0.1, 'seasonality_mode': 'additive', 'seasonality_prior_scale': 50}\n"
     ]
    },
    {
     "name": "stderr",
     "output_type": "stream",
     "text": [
      "13:50:17 - cmdstanpy - INFO - Chain [1] start processing\n",
      "13:50:17 - cmdstanpy - INFO - Chain [1] done processing\n",
      "  0%|          | 0/1 [00:00<?, ?it/s]13:50:18 - cmdstanpy - INFO - Chain [1] start processing\n",
      "13:50:18 - cmdstanpy - INFO - Chain [1] done processing\n",
      "100%|██████████| 1/1 [00:00<00:00,  1.85it/s]\n"
     ]
    },
    {
     "name": "stdout",
     "output_type": "stream",
     "text": [
      "RMSE: 55.21693190824899 for parameters: {'changepoint_prior_scale': 0.1, 'growth': 'linear', 'holidays_prior_scale': 0.1, 'seasonality_mode': 'additive', 'seasonality_prior_scale': 50}\n",
      "Model 107 with parameters: {'changepoint_prior_scale': 0.1, 'growth': 'linear', 'holidays_prior_scale': 0.1, 'seasonality_mode': 'additive', 'seasonality_prior_scale': 100}\n"
     ]
    },
    {
     "name": "stderr",
     "output_type": "stream",
     "text": [
      "13:50:18 - cmdstanpy - INFO - Chain [1] start processing\n",
      "13:50:19 - cmdstanpy - INFO - Chain [1] done processing\n",
      "  0%|          | 0/1 [00:00<?, ?it/s]13:50:19 - cmdstanpy - INFO - Chain [1] start processing\n",
      "13:50:19 - cmdstanpy - INFO - Chain [1] done processing\n",
      "100%|██████████| 1/1 [00:00<00:00,  1.94it/s]\n"
     ]
    },
    {
     "name": "stdout",
     "output_type": "stream",
     "text": [
      "RMSE: 54.70252538311798 for parameters: {'changepoint_prior_scale': 0.1, 'growth': 'linear', 'holidays_prior_scale': 0.1, 'seasonality_mode': 'additive', 'seasonality_prior_scale': 100}\n",
      "Model 108 with parameters: {'changepoint_prior_scale': 0.1, 'growth': 'linear', 'holidays_prior_scale': 0.1, 'seasonality_mode': 'additive', 'seasonality_prior_scale': 500}\n"
     ]
    },
    {
     "name": "stderr",
     "output_type": "stream",
     "text": [
      "13:50:19 - cmdstanpy - INFO - Chain [1] start processing\n",
      "13:50:20 - cmdstanpy - INFO - Chain [1] done processing\n",
      "  0%|          | 0/1 [00:00<?, ?it/s]13:50:20 - cmdstanpy - INFO - Chain [1] start processing\n",
      "13:50:20 - cmdstanpy - INFO - Chain [1] done processing\n",
      "100%|██████████| 1/1 [00:00<00:00,  1.89it/s]\n"
     ]
    },
    {
     "name": "stdout",
     "output_type": "stream",
     "text": [
      "RMSE: 56.9223321209658 for parameters: {'changepoint_prior_scale': 0.1, 'growth': 'linear', 'holidays_prior_scale': 0.1, 'seasonality_mode': 'additive', 'seasonality_prior_scale': 500}\n",
      "Model 109 with parameters: {'changepoint_prior_scale': 0.1, 'growth': 'linear', 'holidays_prior_scale': 0.1, 'seasonality_mode': 'multiplicative', 'seasonality_prior_scale': 10}\n"
     ]
    },
    {
     "name": "stderr",
     "output_type": "stream",
     "text": [
      "13:50:20 - cmdstanpy - INFO - Chain [1] start processing\n",
      "13:50:21 - cmdstanpy - INFO - Chain [1] done processing\n",
      "  0%|          | 0/1 [00:00<?, ?it/s]13:50:21 - cmdstanpy - INFO - Chain [1] start processing\n",
      "13:50:21 - cmdstanpy - INFO - Chain [1] done processing\n",
      "100%|██████████| 1/1 [00:00<00:00,  1.90it/s]\n"
     ]
    },
    {
     "name": "stdout",
     "output_type": "stream",
     "text": [
      "RMSE: 47.283000742591575 for parameters: {'changepoint_prior_scale': 0.1, 'growth': 'linear', 'holidays_prior_scale': 0.1, 'seasonality_mode': 'multiplicative', 'seasonality_prior_scale': 10}\n",
      "Model 110 with parameters: {'changepoint_prior_scale': 0.1, 'growth': 'linear', 'holidays_prior_scale': 0.1, 'seasonality_mode': 'multiplicative', 'seasonality_prior_scale': 50}\n"
     ]
    },
    {
     "name": "stderr",
     "output_type": "stream",
     "text": [
      "13:50:22 - cmdstanpy - INFO - Chain [1] start processing\n",
      "13:50:22 - cmdstanpy - INFO - Chain [1] done processing\n",
      "  0%|          | 0/1 [00:00<?, ?it/s]13:50:22 - cmdstanpy - INFO - Chain [1] start processing\n",
      "13:50:22 - cmdstanpy - INFO - Chain [1] done processing\n",
      "100%|██████████| 1/1 [00:00<00:00,  1.90it/s]\n"
     ]
    },
    {
     "name": "stdout",
     "output_type": "stream",
     "text": [
      "RMSE: 47.59854780939071 for parameters: {'changepoint_prior_scale': 0.1, 'growth': 'linear', 'holidays_prior_scale': 0.1, 'seasonality_mode': 'multiplicative', 'seasonality_prior_scale': 50}\n",
      "Model 111 with parameters: {'changepoint_prior_scale': 0.1, 'growth': 'linear', 'holidays_prior_scale': 0.1, 'seasonality_mode': 'multiplicative', 'seasonality_prior_scale': 100}\n"
     ]
    },
    {
     "name": "stderr",
     "output_type": "stream",
     "text": [
      "13:50:23 - cmdstanpy - INFO - Chain [1] start processing\n",
      "13:50:23 - cmdstanpy - INFO - Chain [1] done processing\n",
      "  0%|          | 0/1 [00:00<?, ?it/s]13:50:23 - cmdstanpy - INFO - Chain [1] start processing\n",
      "13:50:23 - cmdstanpy - INFO - Chain [1] done processing\n",
      "100%|██████████| 1/1 [00:00<00:00,  1.62it/s]\n"
     ]
    },
    {
     "name": "stdout",
     "output_type": "stream",
     "text": [
      "RMSE: 47.60347003040052 for parameters: {'changepoint_prior_scale': 0.1, 'growth': 'linear', 'holidays_prior_scale': 0.1, 'seasonality_mode': 'multiplicative', 'seasonality_prior_scale': 100}\n",
      "Model 112 with parameters: {'changepoint_prior_scale': 0.1, 'growth': 'linear', 'holidays_prior_scale': 0.1, 'seasonality_mode': 'multiplicative', 'seasonality_prior_scale': 500}\n"
     ]
    },
    {
     "name": "stderr",
     "output_type": "stream",
     "text": [
      "13:50:24 - cmdstanpy - INFO - Chain [1] start processing\n",
      "13:50:24 - cmdstanpy - INFO - Chain [1] done processing\n",
      "  0%|          | 0/1 [00:00<?, ?it/s]13:50:24 - cmdstanpy - INFO - Chain [1] start processing\n",
      "13:50:24 - cmdstanpy - INFO - Chain [1] done processing\n",
      "100%|██████████| 1/1 [00:00<00:00,  1.73it/s]\n"
     ]
    },
    {
     "name": "stdout",
     "output_type": "stream",
     "text": [
      "RMSE: 48.21976948658643 for parameters: {'changepoint_prior_scale': 0.1, 'growth': 'linear', 'holidays_prior_scale': 0.1, 'seasonality_mode': 'multiplicative', 'seasonality_prior_scale': 500}\n",
      "Model 113 with parameters: {'changepoint_prior_scale': 0.1, 'growth': 'linear', 'holidays_prior_scale': 1, 'seasonality_mode': 'additive', 'seasonality_prior_scale': 10}\n"
     ]
    },
    {
     "name": "stderr",
     "output_type": "stream",
     "text": [
      "13:50:25 - cmdstanpy - INFO - Chain [1] start processing\n",
      "13:50:25 - cmdstanpy - INFO - Chain [1] done processing\n",
      "  0%|          | 0/1 [00:00<?, ?it/s]13:50:25 - cmdstanpy - INFO - Chain [1] start processing\n",
      "13:50:25 - cmdstanpy - INFO - Chain [1] done processing\n",
      "100%|██████████| 1/1 [00:00<00:00,  1.98it/s]\n"
     ]
    },
    {
     "name": "stdout",
     "output_type": "stream",
     "text": [
      "RMSE: 56.88107140356764 for parameters: {'changepoint_prior_scale': 0.1, 'growth': 'linear', 'holidays_prior_scale': 1, 'seasonality_mode': 'additive', 'seasonality_prior_scale': 10}\n",
      "Model 114 with parameters: {'changepoint_prior_scale': 0.1, 'growth': 'linear', 'holidays_prior_scale': 1, 'seasonality_mode': 'additive', 'seasonality_prior_scale': 50}\n"
     ]
    },
    {
     "name": "stderr",
     "output_type": "stream",
     "text": [
      "13:50:26 - cmdstanpy - INFO - Chain [1] start processing\n",
      "13:50:26 - cmdstanpy - INFO - Chain [1] done processing\n",
      "  0%|          | 0/1 [00:00<?, ?it/s]13:50:26 - cmdstanpy - INFO - Chain [1] start processing\n",
      "13:50:26 - cmdstanpy - INFO - Chain [1] done processing\n",
      "100%|██████████| 1/1 [00:00<00:00,  1.99it/s]\n"
     ]
    },
    {
     "name": "stdout",
     "output_type": "stream",
     "text": [
      "RMSE: 57.11263130136748 for parameters: {'changepoint_prior_scale': 0.1, 'growth': 'linear', 'holidays_prior_scale': 1, 'seasonality_mode': 'additive', 'seasonality_prior_scale': 50}\n",
      "Model 115 with parameters: {'changepoint_prior_scale': 0.1, 'growth': 'linear', 'holidays_prior_scale': 1, 'seasonality_mode': 'additive', 'seasonality_prior_scale': 100}\n"
     ]
    },
    {
     "name": "stderr",
     "output_type": "stream",
     "text": [
      "13:50:27 - cmdstanpy - INFO - Chain [1] start processing\n",
      "13:50:27 - cmdstanpy - INFO - Chain [1] done processing\n",
      "  0%|          | 0/1 [00:00<?, ?it/s]13:50:27 - cmdstanpy - INFO - Chain [1] start processing\n",
      "13:50:28 - cmdstanpy - INFO - Chain [1] done processing\n",
      "100%|██████████| 1/1 [00:00<00:00,  1.92it/s]\n"
     ]
    },
    {
     "name": "stdout",
     "output_type": "stream",
     "text": [
      "RMSE: 55.3597179983841 for parameters: {'changepoint_prior_scale': 0.1, 'growth': 'linear', 'holidays_prior_scale': 1, 'seasonality_mode': 'additive', 'seasonality_prior_scale': 100}\n",
      "Model 116 with parameters: {'changepoint_prior_scale': 0.1, 'growth': 'linear', 'holidays_prior_scale': 1, 'seasonality_mode': 'additive', 'seasonality_prior_scale': 500}\n"
     ]
    },
    {
     "name": "stderr",
     "output_type": "stream",
     "text": [
      "13:50:28 - cmdstanpy - INFO - Chain [1] start processing\n",
      "13:50:28 - cmdstanpy - INFO - Chain [1] done processing\n",
      "  0%|          | 0/1 [00:00<?, ?it/s]13:50:28 - cmdstanpy - INFO - Chain [1] start processing\n",
      "13:50:29 - cmdstanpy - INFO - Chain [1] done processing\n",
      "100%|██████████| 1/1 [00:00<00:00,  1.90it/s]\n"
     ]
    },
    {
     "name": "stdout",
     "output_type": "stream",
     "text": [
      "RMSE: 56.16147475128845 for parameters: {'changepoint_prior_scale': 0.1, 'growth': 'linear', 'holidays_prior_scale': 1, 'seasonality_mode': 'additive', 'seasonality_prior_scale': 500}\n",
      "Model 117 with parameters: {'changepoint_prior_scale': 0.1, 'growth': 'linear', 'holidays_prior_scale': 1, 'seasonality_mode': 'multiplicative', 'seasonality_prior_scale': 10}\n"
     ]
    },
    {
     "name": "stderr",
     "output_type": "stream",
     "text": [
      "13:50:29 - cmdstanpy - INFO - Chain [1] start processing\n",
      "13:50:29 - cmdstanpy - INFO - Chain [1] done processing\n",
      "  0%|          | 0/1 [00:00<?, ?it/s]13:50:30 - cmdstanpy - INFO - Chain [1] start processing\n",
      "13:50:30 - cmdstanpy - INFO - Chain [1] done processing\n",
      "100%|██████████| 1/1 [00:00<00:00,  1.66it/s]\n"
     ]
    },
    {
     "name": "stdout",
     "output_type": "stream",
     "text": [
      "RMSE: 35.53420925422136 for parameters: {'changepoint_prior_scale': 0.1, 'growth': 'linear', 'holidays_prior_scale': 1, 'seasonality_mode': 'multiplicative', 'seasonality_prior_scale': 10}\n",
      "Model 118 with parameters: {'changepoint_prior_scale': 0.1, 'growth': 'linear', 'holidays_prior_scale': 1, 'seasonality_mode': 'multiplicative', 'seasonality_prior_scale': 50}\n"
     ]
    },
    {
     "name": "stderr",
     "output_type": "stream",
     "text": [
      "13:50:30 - cmdstanpy - INFO - Chain [1] start processing\n",
      "13:50:30 - cmdstanpy - INFO - Chain [1] done processing\n",
      "  0%|          | 0/1 [00:00<?, ?it/s]13:50:31 - cmdstanpy - INFO - Chain [1] start processing\n",
      "13:50:31 - cmdstanpy - INFO - Chain [1] done processing\n",
      "100%|██████████| 1/1 [00:00<00:00,  1.76it/s]\n"
     ]
    },
    {
     "name": "stdout",
     "output_type": "stream",
     "text": [
      "RMSE: 37.52938361210398 for parameters: {'changepoint_prior_scale': 0.1, 'growth': 'linear', 'holidays_prior_scale': 1, 'seasonality_mode': 'multiplicative', 'seasonality_prior_scale': 50}\n",
      "Model 119 with parameters: {'changepoint_prior_scale': 0.1, 'growth': 'linear', 'holidays_prior_scale': 1, 'seasonality_mode': 'multiplicative', 'seasonality_prior_scale': 100}\n"
     ]
    },
    {
     "name": "stderr",
     "output_type": "stream",
     "text": [
      "13:50:31 - cmdstanpy - INFO - Chain [1] start processing\n",
      "13:50:32 - cmdstanpy - INFO - Chain [1] done processing\n",
      "  0%|          | 0/1 [00:00<?, ?it/s]13:50:32 - cmdstanpy - INFO - Chain [1] start processing\n",
      "13:50:32 - cmdstanpy - INFO - Chain [1] done processing\n",
      "100%|██████████| 1/1 [00:00<00:00,  1.78it/s]\n"
     ]
    },
    {
     "name": "stdout",
     "output_type": "stream",
     "text": [
      "RMSE: 36.54652516619876 for parameters: {'changepoint_prior_scale': 0.1, 'growth': 'linear', 'holidays_prior_scale': 1, 'seasonality_mode': 'multiplicative', 'seasonality_prior_scale': 100}\n",
      "Model 120 with parameters: {'changepoint_prior_scale': 0.1, 'growth': 'linear', 'holidays_prior_scale': 1, 'seasonality_mode': 'multiplicative', 'seasonality_prior_scale': 500}\n"
     ]
    },
    {
     "name": "stderr",
     "output_type": "stream",
     "text": [
      "13:50:32 - cmdstanpy - INFO - Chain [1] start processing\n",
      "13:50:33 - cmdstanpy - INFO - Chain [1] done processing\n",
      "  0%|          | 0/1 [00:00<?, ?it/s]13:50:33 - cmdstanpy - INFO - Chain [1] start processing\n",
      "13:50:33 - cmdstanpy - INFO - Chain [1] done processing\n",
      "100%|██████████| 1/1 [00:00<00:00,  1.79it/s]\n"
     ]
    },
    {
     "name": "stdout",
     "output_type": "stream",
     "text": [
      "RMSE: 37.190465639151924 for parameters: {'changepoint_prior_scale': 0.1, 'growth': 'linear', 'holidays_prior_scale': 1, 'seasonality_mode': 'multiplicative', 'seasonality_prior_scale': 500}\n",
      "Model 121 with parameters: {'changepoint_prior_scale': 0.1, 'growth': 'logistic', 'holidays_prior_scale': 0.01, 'seasonality_mode': 'additive', 'seasonality_prior_scale': 10}\n"
     ]
    },
    {
     "name": "stderr",
     "output_type": "stream",
     "text": [
      "13:50:34 - cmdstanpy - INFO - Chain [1] start processing\n",
      "13:50:34 - cmdstanpy - INFO - Chain [1] done processing\n",
      "  0%|          | 0/1 [00:00<?, ?it/s]13:50:34 - cmdstanpy - INFO - Chain [1] start processing\n",
      "13:50:34 - cmdstanpy - INFO - Chain [1] done processing\n",
      "100%|██████████| 1/1 [00:00<00:00,  1.55it/s]\n"
     ]
    },
    {
     "name": "stdout",
     "output_type": "stream",
     "text": [
      "RMSE: 14.66028410688492 for parameters: {'changepoint_prior_scale': 0.1, 'growth': 'logistic', 'holidays_prior_scale': 0.01, 'seasonality_mode': 'additive', 'seasonality_prior_scale': 10}\n",
      "Model 122 with parameters: {'changepoint_prior_scale': 0.1, 'growth': 'logistic', 'holidays_prior_scale': 0.01, 'seasonality_mode': 'additive', 'seasonality_prior_scale': 50}\n"
     ]
    },
    {
     "name": "stderr",
     "output_type": "stream",
     "text": [
      "13:50:35 - cmdstanpy - INFO - Chain [1] start processing\n",
      "13:50:35 - cmdstanpy - INFO - Chain [1] done processing\n",
      "  0%|          | 0/1 [00:00<?, ?it/s]13:50:35 - cmdstanpy - INFO - Chain [1] start processing\n",
      "13:50:35 - cmdstanpy - INFO - Chain [1] done processing\n",
      "100%|██████████| 1/1 [00:00<00:00,  1.68it/s]\n"
     ]
    },
    {
     "name": "stdout",
     "output_type": "stream",
     "text": [
      "RMSE: 14.65781909834782 for parameters: {'changepoint_prior_scale': 0.1, 'growth': 'logistic', 'holidays_prior_scale': 0.01, 'seasonality_mode': 'additive', 'seasonality_prior_scale': 50}\n",
      "Model 123 with parameters: {'changepoint_prior_scale': 0.1, 'growth': 'logistic', 'holidays_prior_scale': 0.01, 'seasonality_mode': 'additive', 'seasonality_prior_scale': 100}\n"
     ]
    },
    {
     "name": "stderr",
     "output_type": "stream",
     "text": [
      "13:50:36 - cmdstanpy - INFO - Chain [1] start processing\n",
      "13:50:36 - cmdstanpy - INFO - Chain [1] done processing\n",
      "  0%|          | 0/1 [00:00<?, ?it/s]13:50:37 - cmdstanpy - INFO - Chain [1] start processing\n",
      "13:50:37 - cmdstanpy - INFO - Chain [1] done processing\n",
      "100%|██████████| 1/1 [00:00<00:00,  1.69it/s]\n"
     ]
    },
    {
     "name": "stdout",
     "output_type": "stream",
     "text": [
      "RMSE: 14.657863793207197 for parameters: {'changepoint_prior_scale': 0.1, 'growth': 'logistic', 'holidays_prior_scale': 0.01, 'seasonality_mode': 'additive', 'seasonality_prior_scale': 100}\n",
      "Model 124 with parameters: {'changepoint_prior_scale': 0.1, 'growth': 'logistic', 'holidays_prior_scale': 0.01, 'seasonality_mode': 'additive', 'seasonality_prior_scale': 500}\n"
     ]
    },
    {
     "name": "stderr",
     "output_type": "stream",
     "text": [
      "13:50:37 - cmdstanpy - INFO - Chain [1] start processing\n",
      "13:50:37 - cmdstanpy - INFO - Chain [1] done processing\n",
      "  0%|          | 0/1 [00:00<?, ?it/s]13:50:38 - cmdstanpy - INFO - Chain [1] start processing\n",
      "13:50:38 - cmdstanpy - INFO - Chain [1] done processing\n",
      "100%|██████████| 1/1 [00:00<00:00,  1.82it/s]\n"
     ]
    },
    {
     "name": "stdout",
     "output_type": "stream",
     "text": [
      "RMSE: 14.657917836602394 for parameters: {'changepoint_prior_scale': 0.1, 'growth': 'logistic', 'holidays_prior_scale': 0.01, 'seasonality_mode': 'additive', 'seasonality_prior_scale': 500}\n",
      "Model 125 with parameters: {'changepoint_prior_scale': 0.1, 'growth': 'logistic', 'holidays_prior_scale': 0.01, 'seasonality_mode': 'multiplicative', 'seasonality_prior_scale': 10}\n"
     ]
    },
    {
     "name": "stderr",
     "output_type": "stream",
     "text": [
      "13:50:38 - cmdstanpy - INFO - Chain [1] start processing\n",
      "13:50:38 - cmdstanpy - INFO - Chain [1] done processing\n",
      "  0%|          | 0/1 [00:00<?, ?it/s]13:50:39 - cmdstanpy - INFO - Chain [1] start processing\n",
      "13:50:39 - cmdstanpy - INFO - Chain [1] done processing\n",
      "100%|██████████| 1/1 [00:00<00:00,  1.62it/s]\n"
     ]
    },
    {
     "name": "stdout",
     "output_type": "stream",
     "text": [
      "RMSE: 52.66298780965095 for parameters: {'changepoint_prior_scale': 0.1, 'growth': 'logistic', 'holidays_prior_scale': 0.01, 'seasonality_mode': 'multiplicative', 'seasonality_prior_scale': 10}\n",
      "Model 126 with parameters: {'changepoint_prior_scale': 0.1, 'growth': 'logistic', 'holidays_prior_scale': 0.01, 'seasonality_mode': 'multiplicative', 'seasonality_prior_scale': 50}\n"
     ]
    },
    {
     "name": "stderr",
     "output_type": "stream",
     "text": [
      "13:50:39 - cmdstanpy - INFO - Chain [1] start processing\n",
      "13:50:39 - cmdstanpy - INFO - Chain [1] done processing\n",
      "  0%|          | 0/1 [00:00<?, ?it/s]13:50:40 - cmdstanpy - INFO - Chain [1] start processing\n",
      "13:50:40 - cmdstanpy - INFO - Chain [1] done processing\n",
      "100%|██████████| 1/1 [00:00<00:00,  1.63it/s]\n"
     ]
    },
    {
     "name": "stdout",
     "output_type": "stream",
     "text": [
      "RMSE: 54.01816926543783 for parameters: {'changepoint_prior_scale': 0.1, 'growth': 'logistic', 'holidays_prior_scale': 0.01, 'seasonality_mode': 'multiplicative', 'seasonality_prior_scale': 50}\n",
      "Model 127 with parameters: {'changepoint_prior_scale': 0.1, 'growth': 'logistic', 'holidays_prior_scale': 0.01, 'seasonality_mode': 'multiplicative', 'seasonality_prior_scale': 100}\n"
     ]
    },
    {
     "name": "stderr",
     "output_type": "stream",
     "text": [
      "13:50:40 - cmdstanpy - INFO - Chain [1] start processing\n",
      "13:50:40 - cmdstanpy - INFO - Chain [1] done processing\n",
      "  0%|          | 0/1 [00:00<?, ?it/s]13:50:41 - cmdstanpy - INFO - Chain [1] start processing\n",
      "13:50:41 - cmdstanpy - INFO - Chain [1] done processing\n",
      "100%|██████████| 1/1 [00:00<00:00,  1.43it/s]\n"
     ]
    },
    {
     "name": "stdout",
     "output_type": "stream",
     "text": [
      "RMSE: 52.6762370911544 for parameters: {'changepoint_prior_scale': 0.1, 'growth': 'logistic', 'holidays_prior_scale': 0.01, 'seasonality_mode': 'multiplicative', 'seasonality_prior_scale': 100}\n",
      "Model 128 with parameters: {'changepoint_prior_scale': 0.1, 'growth': 'logistic', 'holidays_prior_scale': 0.01, 'seasonality_mode': 'multiplicative', 'seasonality_prior_scale': 500}\n"
     ]
    },
    {
     "name": "stderr",
     "output_type": "stream",
     "text": [
      "13:50:42 - cmdstanpy - INFO - Chain [1] start processing\n",
      "13:50:42 - cmdstanpy - INFO - Chain [1] done processing\n",
      "  0%|          | 0/1 [00:00<?, ?it/s]13:50:42 - cmdstanpy - INFO - Chain [1] start processing\n",
      "13:50:42 - cmdstanpy - INFO - Chain [1] done processing\n",
      "100%|██████████| 1/1 [00:00<00:00,  1.54it/s]\n"
     ]
    },
    {
     "name": "stdout",
     "output_type": "stream",
     "text": [
      "RMSE: 54.061180979462065 for parameters: {'changepoint_prior_scale': 0.1, 'growth': 'logistic', 'holidays_prior_scale': 0.01, 'seasonality_mode': 'multiplicative', 'seasonality_prior_scale': 500}\n",
      "Model 129 with parameters: {'changepoint_prior_scale': 0.1, 'growth': 'logistic', 'holidays_prior_scale': 0.1, 'seasonality_mode': 'additive', 'seasonality_prior_scale': 10}\n"
     ]
    },
    {
     "name": "stderr",
     "output_type": "stream",
     "text": [
      "13:50:43 - cmdstanpy - INFO - Chain [1] start processing\n",
      "13:50:43 - cmdstanpy - INFO - Chain [1] done processing\n",
      "  0%|          | 0/1 [00:00<?, ?it/s]13:50:43 - cmdstanpy - INFO - Chain [1] start processing\n",
      "13:50:43 - cmdstanpy - INFO - Chain [1] done processing\n",
      "100%|██████████| 1/1 [00:00<00:00,  1.54it/s]\n"
     ]
    },
    {
     "name": "stdout",
     "output_type": "stream",
     "text": [
      "RMSE: 16.79328215545824 for parameters: {'changepoint_prior_scale': 0.1, 'growth': 'logistic', 'holidays_prior_scale': 0.1, 'seasonality_mode': 'additive', 'seasonality_prior_scale': 10}\n",
      "Model 130 with parameters: {'changepoint_prior_scale': 0.1, 'growth': 'logistic', 'holidays_prior_scale': 0.1, 'seasonality_mode': 'additive', 'seasonality_prior_scale': 50}\n"
     ]
    },
    {
     "name": "stderr",
     "output_type": "stream",
     "text": [
      "13:50:44 - cmdstanpy - INFO - Chain [1] start processing\n",
      "13:50:44 - cmdstanpy - INFO - Chain [1] done processing\n",
      "  0%|          | 0/1 [00:00<?, ?it/s]13:50:44 - cmdstanpy - INFO - Chain [1] start processing\n",
      "13:50:44 - cmdstanpy - INFO - Chain [1] done processing\n",
      "100%|██████████| 1/1 [00:00<00:00,  1.62it/s]\n"
     ]
    },
    {
     "name": "stdout",
     "output_type": "stream",
     "text": [
      "RMSE: 16.6688200870196 for parameters: {'changepoint_prior_scale': 0.1, 'growth': 'logistic', 'holidays_prior_scale': 0.1, 'seasonality_mode': 'additive', 'seasonality_prior_scale': 50}\n",
      "Model 131 with parameters: {'changepoint_prior_scale': 0.1, 'growth': 'logistic', 'holidays_prior_scale': 0.1, 'seasonality_mode': 'additive', 'seasonality_prior_scale': 100}\n"
     ]
    },
    {
     "name": "stderr",
     "output_type": "stream",
     "text": [
      "13:50:45 - cmdstanpy - INFO - Chain [1] start processing\n",
      "13:50:45 - cmdstanpy - INFO - Chain [1] done processing\n",
      "  0%|          | 0/1 [00:00<?, ?it/s]13:50:45 - cmdstanpy - INFO - Chain [1] start processing\n",
      "13:50:45 - cmdstanpy - INFO - Chain [1] done processing\n",
      "100%|██████████| 1/1 [00:00<00:00,  1.69it/s]\n"
     ]
    },
    {
     "name": "stdout",
     "output_type": "stream",
     "text": [
      "RMSE: 16.73578584616783 for parameters: {'changepoint_prior_scale': 0.1, 'growth': 'logistic', 'holidays_prior_scale': 0.1, 'seasonality_mode': 'additive', 'seasonality_prior_scale': 100}\n",
      "Model 132 with parameters: {'changepoint_prior_scale': 0.1, 'growth': 'logistic', 'holidays_prior_scale': 0.1, 'seasonality_mode': 'additive', 'seasonality_prior_scale': 500}\n"
     ]
    },
    {
     "name": "stderr",
     "output_type": "stream",
     "text": [
      "13:50:46 - cmdstanpy - INFO - Chain [1] start processing\n",
      "13:50:46 - cmdstanpy - INFO - Chain [1] done processing\n",
      "  0%|          | 0/1 [00:00<?, ?it/s]13:50:46 - cmdstanpy - INFO - Chain [1] start processing\n",
      "13:50:47 - cmdstanpy - INFO - Chain [1] done processing\n",
      "100%|██████████| 1/1 [00:00<00:00,  1.67it/s]\n"
     ]
    },
    {
     "name": "stdout",
     "output_type": "stream",
     "text": [
      "RMSE: 17.158055372805357 for parameters: {'changepoint_prior_scale': 0.1, 'growth': 'logistic', 'holidays_prior_scale': 0.1, 'seasonality_mode': 'additive', 'seasonality_prior_scale': 500}\n",
      "Model 133 with parameters: {'changepoint_prior_scale': 0.1, 'growth': 'logistic', 'holidays_prior_scale': 0.1, 'seasonality_mode': 'multiplicative', 'seasonality_prior_scale': 10}\n"
     ]
    },
    {
     "name": "stderr",
     "output_type": "stream",
     "text": [
      "13:50:47 - cmdstanpy - INFO - Chain [1] start processing\n",
      "13:50:47 - cmdstanpy - INFO - Chain [1] done processing\n",
      "  0%|          | 0/1 [00:00<?, ?it/s]13:50:48 - cmdstanpy - INFO - Chain [1] start processing\n",
      "13:50:48 - cmdstanpy - INFO - Chain [1] done processing\n",
      "100%|██████████| 1/1 [00:00<00:00,  1.58it/s]\n"
     ]
    },
    {
     "name": "stdout",
     "output_type": "stream",
     "text": [
      "RMSE: 29.00653084697601 for parameters: {'changepoint_prior_scale': 0.1, 'growth': 'logistic', 'holidays_prior_scale': 0.1, 'seasonality_mode': 'multiplicative', 'seasonality_prior_scale': 10}\n",
      "Model 134 with parameters: {'changepoint_prior_scale': 0.1, 'growth': 'logistic', 'holidays_prior_scale': 0.1, 'seasonality_mode': 'multiplicative', 'seasonality_prior_scale': 50}\n"
     ]
    },
    {
     "name": "stderr",
     "output_type": "stream",
     "text": [
      "13:50:48 - cmdstanpy - INFO - Chain [1] start processing\n",
      "13:50:48 - cmdstanpy - INFO - Chain [1] done processing\n",
      "  0%|          | 0/1 [00:00<?, ?it/s]13:50:49 - cmdstanpy - INFO - Chain [1] start processing\n",
      "13:50:49 - cmdstanpy - INFO - Chain [1] done processing\n",
      "100%|██████████| 1/1 [00:00<00:00,  1.72it/s]\n"
     ]
    },
    {
     "name": "stdout",
     "output_type": "stream",
     "text": [
      "RMSE: 29.1774624175315 for parameters: {'changepoint_prior_scale': 0.1, 'growth': 'logistic', 'holidays_prior_scale': 0.1, 'seasonality_mode': 'multiplicative', 'seasonality_prior_scale': 50}\n",
      "Model 135 with parameters: {'changepoint_prior_scale': 0.1, 'growth': 'logistic', 'holidays_prior_scale': 0.1, 'seasonality_mode': 'multiplicative', 'seasonality_prior_scale': 100}\n"
     ]
    },
    {
     "name": "stderr",
     "output_type": "stream",
     "text": [
      "13:50:49 - cmdstanpy - INFO - Chain [1] start processing\n",
      "13:50:49 - cmdstanpy - INFO - Chain [1] done processing\n",
      "  0%|          | 0/1 [00:00<?, ?it/s]13:50:50 - cmdstanpy - INFO - Chain [1] start processing\n",
      "13:50:50 - cmdstanpy - INFO - Chain [1] done processing\n",
      "100%|██████████| 1/1 [00:00<00:00,  1.61it/s]\n"
     ]
    },
    {
     "name": "stdout",
     "output_type": "stream",
     "text": [
      "RMSE: 29.228404589126374 for parameters: {'changepoint_prior_scale': 0.1, 'growth': 'logistic', 'holidays_prior_scale': 0.1, 'seasonality_mode': 'multiplicative', 'seasonality_prior_scale': 100}\n",
      "Model 136 with parameters: {'changepoint_prior_scale': 0.1, 'growth': 'logistic', 'holidays_prior_scale': 0.1, 'seasonality_mode': 'multiplicative', 'seasonality_prior_scale': 500}\n"
     ]
    },
    {
     "name": "stderr",
     "output_type": "stream",
     "text": [
      "13:50:50 - cmdstanpy - INFO - Chain [1] start processing\n",
      "13:50:50 - cmdstanpy - INFO - Chain [1] done processing\n",
      "  0%|          | 0/1 [00:00<?, ?it/s]13:50:51 - cmdstanpy - INFO - Chain [1] start processing\n",
      "13:50:51 - cmdstanpy - INFO - Chain [1] done processing\n",
      "100%|██████████| 1/1 [00:00<00:00,  1.66it/s]\n"
     ]
    },
    {
     "name": "stdout",
     "output_type": "stream",
     "text": [
      "RMSE: 29.1735476122035 for parameters: {'changepoint_prior_scale': 0.1, 'growth': 'logistic', 'holidays_prior_scale': 0.1, 'seasonality_mode': 'multiplicative', 'seasonality_prior_scale': 500}\n",
      "Model 137 with parameters: {'changepoint_prior_scale': 0.1, 'growth': 'logistic', 'holidays_prior_scale': 1, 'seasonality_mode': 'additive', 'seasonality_prior_scale': 10}\n"
     ]
    },
    {
     "name": "stderr",
     "output_type": "stream",
     "text": [
      "13:50:51 - cmdstanpy - INFO - Chain [1] start processing\n",
      "13:50:52 - cmdstanpy - INFO - Chain [1] done processing\n",
      "  0%|          | 0/1 [00:00<?, ?it/s]13:50:52 - cmdstanpy - INFO - Chain [1] start processing\n",
      "13:50:52 - cmdstanpy - INFO - Chain [1] done processing\n",
      "100%|██████████| 1/1 [00:00<00:00,  1.73it/s]\n"
     ]
    },
    {
     "name": "stdout",
     "output_type": "stream",
     "text": [
      "RMSE: 16.97411471160881 for parameters: {'changepoint_prior_scale': 0.1, 'growth': 'logistic', 'holidays_prior_scale': 1, 'seasonality_mode': 'additive', 'seasonality_prior_scale': 10}\n",
      "Model 138 with parameters: {'changepoint_prior_scale': 0.1, 'growth': 'logistic', 'holidays_prior_scale': 1, 'seasonality_mode': 'additive', 'seasonality_prior_scale': 50}\n"
     ]
    },
    {
     "name": "stderr",
     "output_type": "stream",
     "text": [
      "13:50:52 - cmdstanpy - INFO - Chain [1] start processing\n",
      "13:50:53 - cmdstanpy - INFO - Chain [1] done processing\n",
      "  0%|          | 0/1 [00:00<?, ?it/s]13:50:53 - cmdstanpy - INFO - Chain [1] start processing\n",
      "13:50:53 - cmdstanpy - INFO - Chain [1] done processing\n",
      "100%|██████████| 1/1 [00:00<00:00,  1.72it/s]\n"
     ]
    },
    {
     "name": "stdout",
     "output_type": "stream",
     "text": [
      "RMSE: 17.62594581819917 for parameters: {'changepoint_prior_scale': 0.1, 'growth': 'logistic', 'holidays_prior_scale': 1, 'seasonality_mode': 'additive', 'seasonality_prior_scale': 50}\n",
      "Model 139 with parameters: {'changepoint_prior_scale': 0.1, 'growth': 'logistic', 'holidays_prior_scale': 1, 'seasonality_mode': 'additive', 'seasonality_prior_scale': 100}\n"
     ]
    },
    {
     "name": "stderr",
     "output_type": "stream",
     "text": [
      "13:50:54 - cmdstanpy - INFO - Chain [1] start processing\n",
      "13:50:54 - cmdstanpy - INFO - Chain [1] done processing\n",
      "  0%|          | 0/1 [00:00<?, ?it/s]13:50:54 - cmdstanpy - INFO - Chain [1] start processing\n",
      "13:50:54 - cmdstanpy - INFO - Chain [1] done processing\n",
      "100%|██████████| 1/1 [00:00<00:00,  1.72it/s]\n"
     ]
    },
    {
     "name": "stdout",
     "output_type": "stream",
     "text": [
      "RMSE: 17.576802656870207 for parameters: {'changepoint_prior_scale': 0.1, 'growth': 'logistic', 'holidays_prior_scale': 1, 'seasonality_mode': 'additive', 'seasonality_prior_scale': 100}\n",
      "Model 140 with parameters: {'changepoint_prior_scale': 0.1, 'growth': 'logistic', 'holidays_prior_scale': 1, 'seasonality_mode': 'additive', 'seasonality_prior_scale': 500}\n"
     ]
    },
    {
     "name": "stderr",
     "output_type": "stream",
     "text": [
      "13:50:55 - cmdstanpy - INFO - Chain [1] start processing\n",
      "13:50:55 - cmdstanpy - INFO - Chain [1] done processing\n",
      "  0%|          | 0/1 [00:00<?, ?it/s]13:50:55 - cmdstanpy - INFO - Chain [1] start processing\n",
      "13:50:55 - cmdstanpy - INFO - Chain [1] done processing\n",
      "100%|██████████| 1/1 [00:00<00:00,  1.74it/s]\n"
     ]
    },
    {
     "name": "stdout",
     "output_type": "stream",
     "text": [
      "RMSE: 16.955372606431485 for parameters: {'changepoint_prior_scale': 0.1, 'growth': 'logistic', 'holidays_prior_scale': 1, 'seasonality_mode': 'additive', 'seasonality_prior_scale': 500}\n",
      "Model 141 with parameters: {'changepoint_prior_scale': 0.1, 'growth': 'logistic', 'holidays_prior_scale': 1, 'seasonality_mode': 'multiplicative', 'seasonality_prior_scale': 10}\n"
     ]
    },
    {
     "name": "stderr",
     "output_type": "stream",
     "text": [
      "13:50:56 - cmdstanpy - INFO - Chain [1] start processing\n",
      "13:50:56 - cmdstanpy - INFO - Chain [1] done processing\n",
      "  0%|          | 0/1 [00:00<?, ?it/s]13:50:56 - cmdstanpy - INFO - Chain [1] start processing\n",
      "13:50:56 - cmdstanpy - INFO - Chain [1] done processing\n",
      "100%|██████████| 1/1 [00:00<00:00,  1.68it/s]\n"
     ]
    },
    {
     "name": "stdout",
     "output_type": "stream",
     "text": [
      "RMSE: 16.863198930692374 for parameters: {'changepoint_prior_scale': 0.1, 'growth': 'logistic', 'holidays_prior_scale': 1, 'seasonality_mode': 'multiplicative', 'seasonality_prior_scale': 10}\n",
      "Model 142 with parameters: {'changepoint_prior_scale': 0.1, 'growth': 'logistic', 'holidays_prior_scale': 1, 'seasonality_mode': 'multiplicative', 'seasonality_prior_scale': 50}\n"
     ]
    },
    {
     "name": "stderr",
     "output_type": "stream",
     "text": [
      "13:50:57 - cmdstanpy - INFO - Chain [1] start processing\n",
      "13:50:57 - cmdstanpy - INFO - Chain [1] done processing\n",
      "  0%|          | 0/1 [00:00<?, ?it/s]13:50:57 - cmdstanpy - INFO - Chain [1] start processing\n",
      "13:50:57 - cmdstanpy - INFO - Chain [1] done processing\n",
      "100%|██████████| 1/1 [00:00<00:00,  1.67it/s]\n"
     ]
    },
    {
     "name": "stdout",
     "output_type": "stream",
     "text": [
      "RMSE: 16.746619054384162 for parameters: {'changepoint_prior_scale': 0.1, 'growth': 'logistic', 'holidays_prior_scale': 1, 'seasonality_mode': 'multiplicative', 'seasonality_prior_scale': 50}\n",
      "Model 143 with parameters: {'changepoint_prior_scale': 0.1, 'growth': 'logistic', 'holidays_prior_scale': 1, 'seasonality_mode': 'multiplicative', 'seasonality_prior_scale': 100}\n"
     ]
    },
    {
     "name": "stderr",
     "output_type": "stream",
     "text": [
      "13:50:58 - cmdstanpy - INFO - Chain [1] start processing\n",
      "13:50:58 - cmdstanpy - INFO - Chain [1] done processing\n",
      "  0%|          | 0/1 [00:00<?, ?it/s]13:50:58 - cmdstanpy - INFO - Chain [1] start processing\n",
      "13:50:58 - cmdstanpy - INFO - Chain [1] done processing\n",
      "100%|██████████| 1/1 [00:00<00:00,  1.58it/s]\n"
     ]
    },
    {
     "name": "stdout",
     "output_type": "stream",
     "text": [
      "RMSE: 16.763676246237466 for parameters: {'changepoint_prior_scale': 0.1, 'growth': 'logistic', 'holidays_prior_scale': 1, 'seasonality_mode': 'multiplicative', 'seasonality_prior_scale': 100}\n",
      "Model 144 with parameters: {'changepoint_prior_scale': 0.1, 'growth': 'logistic', 'holidays_prior_scale': 1, 'seasonality_mode': 'multiplicative', 'seasonality_prior_scale': 500}\n"
     ]
    },
    {
     "name": "stderr",
     "output_type": "stream",
     "text": [
      "13:50:59 - cmdstanpy - INFO - Chain [1] start processing\n",
      "13:50:59 - cmdstanpy - INFO - Chain [1] done processing\n",
      "  0%|          | 0/1 [00:00<?, ?it/s]13:51:00 - cmdstanpy - INFO - Chain [1] start processing\n",
      "13:51:00 - cmdstanpy - INFO - Chain [1] done processing\n",
      "100%|██████████| 1/1 [00:00<00:00,  1.40it/s]\n"
     ]
    },
    {
     "name": "stdout",
     "output_type": "stream",
     "text": [
      "RMSE: 16.439141108901055 for parameters: {'changepoint_prior_scale': 0.1, 'growth': 'logistic', 'holidays_prior_scale': 1, 'seasonality_mode': 'multiplicative', 'seasonality_prior_scale': 500}\n",
      "Model 145 with parameters: {'changepoint_prior_scale': 0.5, 'growth': 'linear', 'holidays_prior_scale': 0.01, 'seasonality_mode': 'additive', 'seasonality_prior_scale': 10}\n"
     ]
    },
    {
     "name": "stderr",
     "output_type": "stream",
     "text": [
      "13:51:00 - cmdstanpy - INFO - Chain [1] start processing\n",
      "13:51:01 - cmdstanpy - INFO - Chain [1] done processing\n",
      "  0%|          | 0/1 [00:00<?, ?it/s]13:51:01 - cmdstanpy - INFO - Chain [1] start processing\n",
      "13:51:01 - cmdstanpy - INFO - Chain [1] done processing\n",
      "100%|██████████| 1/1 [00:00<00:00,  1.79it/s]\n"
     ]
    },
    {
     "name": "stdout",
     "output_type": "stream",
     "text": [
      "RMSE: 78.039136337066 for parameters: {'changepoint_prior_scale': 0.5, 'growth': 'linear', 'holidays_prior_scale': 0.01, 'seasonality_mode': 'additive', 'seasonality_prior_scale': 10}\n",
      "Model 146 with parameters: {'changepoint_prior_scale': 0.5, 'growth': 'linear', 'holidays_prior_scale': 0.01, 'seasonality_mode': 'additive', 'seasonality_prior_scale': 50}\n"
     ]
    },
    {
     "name": "stderr",
     "output_type": "stream",
     "text": [
      "13:51:01 - cmdstanpy - INFO - Chain [1] start processing\n",
      "13:51:02 - cmdstanpy - INFO - Chain [1] done processing\n",
      "  0%|          | 0/1 [00:00<?, ?it/s]13:51:02 - cmdstanpy - INFO - Chain [1] start processing\n",
      "13:51:02 - cmdstanpy - INFO - Chain [1] done processing\n",
      "100%|██████████| 1/1 [00:00<00:00,  1.85it/s]\n"
     ]
    },
    {
     "name": "stdout",
     "output_type": "stream",
     "text": [
      "RMSE: 78.49471623137455 for parameters: {'changepoint_prior_scale': 0.5, 'growth': 'linear', 'holidays_prior_scale': 0.01, 'seasonality_mode': 'additive', 'seasonality_prior_scale': 50}\n",
      "Model 147 with parameters: {'changepoint_prior_scale': 0.5, 'growth': 'linear', 'holidays_prior_scale': 0.01, 'seasonality_mode': 'additive', 'seasonality_prior_scale': 100}\n"
     ]
    },
    {
     "name": "stderr",
     "output_type": "stream",
     "text": [
      "13:51:03 - cmdstanpy - INFO - Chain [1] start processing\n",
      "13:51:03 - cmdstanpy - INFO - Chain [1] done processing\n",
      "  0%|          | 0/1 [00:00<?, ?it/s]13:51:03 - cmdstanpy - INFO - Chain [1] start processing\n",
      "13:51:03 - cmdstanpy - INFO - Chain [1] done processing\n",
      "100%|██████████| 1/1 [00:00<00:00,  1.80it/s]\n"
     ]
    },
    {
     "name": "stdout",
     "output_type": "stream",
     "text": [
      "RMSE: 78.50559037599871 for parameters: {'changepoint_prior_scale': 0.5, 'growth': 'linear', 'holidays_prior_scale': 0.01, 'seasonality_mode': 'additive', 'seasonality_prior_scale': 100}\n",
      "Model 148 with parameters: {'changepoint_prior_scale': 0.5, 'growth': 'linear', 'holidays_prior_scale': 0.01, 'seasonality_mode': 'additive', 'seasonality_prior_scale': 500}\n"
     ]
    },
    {
     "name": "stderr",
     "output_type": "stream",
     "text": [
      "13:51:04 - cmdstanpy - INFO - Chain [1] start processing\n",
      "13:51:04 - cmdstanpy - INFO - Chain [1] done processing\n",
      "  0%|          | 0/1 [00:00<?, ?it/s]13:51:04 - cmdstanpy - INFO - Chain [1] start processing\n",
      "13:51:04 - cmdstanpy - INFO - Chain [1] done processing\n",
      "100%|██████████| 1/1 [00:00<00:00,  1.88it/s]\n"
     ]
    },
    {
     "name": "stdout",
     "output_type": "stream",
     "text": [
      "RMSE: 77.60244382210547 for parameters: {'changepoint_prior_scale': 0.5, 'growth': 'linear', 'holidays_prior_scale': 0.01, 'seasonality_mode': 'additive', 'seasonality_prior_scale': 500}\n",
      "Model 149 with parameters: {'changepoint_prior_scale': 0.5, 'growth': 'linear', 'holidays_prior_scale': 0.01, 'seasonality_mode': 'multiplicative', 'seasonality_prior_scale': 10}\n"
     ]
    },
    {
     "name": "stderr",
     "output_type": "stream",
     "text": [
      "13:51:05 - cmdstanpy - INFO - Chain [1] start processing\n",
      "13:51:05 - cmdstanpy - INFO - Chain [1] done processing\n",
      "  0%|          | 0/1 [00:00<?, ?it/s]13:51:05 - cmdstanpy - INFO - Chain [1] start processing\n",
      "13:51:05 - cmdstanpy - INFO - Chain [1] done processing\n",
      "100%|██████████| 1/1 [00:00<00:00,  1.94it/s]\n"
     ]
    },
    {
     "name": "stdout",
     "output_type": "stream",
     "text": [
      "RMSE: 127.0573167663611 for parameters: {'changepoint_prior_scale': 0.5, 'growth': 'linear', 'holidays_prior_scale': 0.01, 'seasonality_mode': 'multiplicative', 'seasonality_prior_scale': 10}\n",
      "Model 150 with parameters: {'changepoint_prior_scale': 0.5, 'growth': 'linear', 'holidays_prior_scale': 0.01, 'seasonality_mode': 'multiplicative', 'seasonality_prior_scale': 50}\n"
     ]
    },
    {
     "name": "stderr",
     "output_type": "stream",
     "text": [
      "13:51:06 - cmdstanpy - INFO - Chain [1] start processing\n",
      "13:51:06 - cmdstanpy - INFO - Chain [1] done processing\n",
      "  0%|          | 0/1 [00:00<?, ?it/s]13:51:06 - cmdstanpy - INFO - Chain [1] start processing\n",
      "13:51:06 - cmdstanpy - INFO - Chain [1] done processing\n",
      "100%|██████████| 1/1 [00:00<00:00,  1.95it/s]\n"
     ]
    },
    {
     "name": "stdout",
     "output_type": "stream",
     "text": [
      "RMSE: 127.74680204992397 for parameters: {'changepoint_prior_scale': 0.5, 'growth': 'linear', 'holidays_prior_scale': 0.01, 'seasonality_mode': 'multiplicative', 'seasonality_prior_scale': 50}\n",
      "Model 151 with parameters: {'changepoint_prior_scale': 0.5, 'growth': 'linear', 'holidays_prior_scale': 0.01, 'seasonality_mode': 'multiplicative', 'seasonality_prior_scale': 100}\n"
     ]
    },
    {
     "name": "stderr",
     "output_type": "stream",
     "text": [
      "13:51:07 - cmdstanpy - INFO - Chain [1] start processing\n",
      "13:51:07 - cmdstanpy - INFO - Chain [1] done processing\n",
      "  0%|          | 0/1 [00:00<?, ?it/s]13:51:07 - cmdstanpy - INFO - Chain [1] start processing\n",
      "13:51:07 - cmdstanpy - INFO - Chain [1] done processing\n",
      "100%|██████████| 1/1 [00:00<00:00,  1.98it/s]\n"
     ]
    },
    {
     "name": "stdout",
     "output_type": "stream",
     "text": [
      "RMSE: 127.10320695696969 for parameters: {'changepoint_prior_scale': 0.5, 'growth': 'linear', 'holidays_prior_scale': 0.01, 'seasonality_mode': 'multiplicative', 'seasonality_prior_scale': 100}\n",
      "Model 152 with parameters: {'changepoint_prior_scale': 0.5, 'growth': 'linear', 'holidays_prior_scale': 0.01, 'seasonality_mode': 'multiplicative', 'seasonality_prior_scale': 500}\n"
     ]
    },
    {
     "name": "stderr",
     "output_type": "stream",
     "text": [
      "13:51:08 - cmdstanpy - INFO - Chain [1] start processing\n",
      "13:51:08 - cmdstanpy - INFO - Chain [1] done processing\n",
      "  0%|          | 0/1 [00:00<?, ?it/s]13:51:08 - cmdstanpy - INFO - Chain [1] start processing\n",
      "13:51:08 - cmdstanpy - INFO - Chain [1] done processing\n",
      "100%|██████████| 1/1 [00:00<00:00,  2.05it/s]\n"
     ]
    },
    {
     "name": "stdout",
     "output_type": "stream",
     "text": [
      "RMSE: 127.47478200616942 for parameters: {'changepoint_prior_scale': 0.5, 'growth': 'linear', 'holidays_prior_scale': 0.01, 'seasonality_mode': 'multiplicative', 'seasonality_prior_scale': 500}\n",
      "Model 153 with parameters: {'changepoint_prior_scale': 0.5, 'growth': 'linear', 'holidays_prior_scale': 0.1, 'seasonality_mode': 'additive', 'seasonality_prior_scale': 10}\n"
     ]
    },
    {
     "name": "stderr",
     "output_type": "stream",
     "text": [
      "13:51:09 - cmdstanpy - INFO - Chain [1] start processing\n",
      "13:51:09 - cmdstanpy - INFO - Chain [1] done processing\n",
      "  0%|          | 0/1 [00:00<?, ?it/s]13:51:09 - cmdstanpy - INFO - Chain [1] start processing\n",
      "13:51:09 - cmdstanpy - INFO - Chain [1] done processing\n",
      "100%|██████████| 1/1 [00:00<00:00,  1.95it/s]\n"
     ]
    },
    {
     "name": "stdout",
     "output_type": "stream",
     "text": [
      "RMSE: 76.93957158018937 for parameters: {'changepoint_prior_scale': 0.5, 'growth': 'linear', 'holidays_prior_scale': 0.1, 'seasonality_mode': 'additive', 'seasonality_prior_scale': 10}\n",
      "Model 154 with parameters: {'changepoint_prior_scale': 0.5, 'growth': 'linear', 'holidays_prior_scale': 0.1, 'seasonality_mode': 'additive', 'seasonality_prior_scale': 50}\n"
     ]
    },
    {
     "name": "stderr",
     "output_type": "stream",
     "text": [
      "13:51:10 - cmdstanpy - INFO - Chain [1] start processing\n",
      "13:51:10 - cmdstanpy - INFO - Chain [1] done processing\n",
      "  0%|          | 0/1 [00:00<?, ?it/s]13:51:10 - cmdstanpy - INFO - Chain [1] start processing\n",
      "13:51:10 - cmdstanpy - INFO - Chain [1] done processing\n",
      "100%|██████████| 1/1 [00:00<00:00,  2.06it/s]\n"
     ]
    },
    {
     "name": "stdout",
     "output_type": "stream",
     "text": [
      "RMSE: 74.63107285815661 for parameters: {'changepoint_prior_scale': 0.5, 'growth': 'linear', 'holidays_prior_scale': 0.1, 'seasonality_mode': 'additive', 'seasonality_prior_scale': 50}\n",
      "Model 155 with parameters: {'changepoint_prior_scale': 0.5, 'growth': 'linear', 'holidays_prior_scale': 0.1, 'seasonality_mode': 'additive', 'seasonality_prior_scale': 100}\n"
     ]
    },
    {
     "name": "stderr",
     "output_type": "stream",
     "text": [
      "13:51:11 - cmdstanpy - INFO - Chain [1] start processing\n",
      "13:51:11 - cmdstanpy - INFO - Chain [1] done processing\n",
      "  0%|          | 0/1 [00:00<?, ?it/s]13:51:11 - cmdstanpy - INFO - Chain [1] start processing\n",
      "13:51:11 - cmdstanpy - INFO - Chain [1] done processing\n",
      "100%|██████████| 1/1 [00:00<00:00,  2.11it/s]\n"
     ]
    },
    {
     "name": "stdout",
     "output_type": "stream",
     "text": [
      "RMSE: 75.8191752487257 for parameters: {'changepoint_prior_scale': 0.5, 'growth': 'linear', 'holidays_prior_scale': 0.1, 'seasonality_mode': 'additive', 'seasonality_prior_scale': 100}\n",
      "Model 156 with parameters: {'changepoint_prior_scale': 0.5, 'growth': 'linear', 'holidays_prior_scale': 0.1, 'seasonality_mode': 'additive', 'seasonality_prior_scale': 500}\n"
     ]
    },
    {
     "name": "stderr",
     "output_type": "stream",
     "text": [
      "13:51:12 - cmdstanpy - INFO - Chain [1] start processing\n",
      "13:51:12 - cmdstanpy - INFO - Chain [1] done processing\n",
      "  0%|          | 0/1 [00:00<?, ?it/s]13:51:12 - cmdstanpy - INFO - Chain [1] start processing\n",
      "13:51:13 - cmdstanpy - INFO - Chain [1] done processing\n",
      "100%|██████████| 1/1 [00:00<00:00,  1.91it/s]\n"
     ]
    },
    {
     "name": "stdout",
     "output_type": "stream",
     "text": [
      "RMSE: 76.02425158527593 for parameters: {'changepoint_prior_scale': 0.5, 'growth': 'linear', 'holidays_prior_scale': 0.1, 'seasonality_mode': 'additive', 'seasonality_prior_scale': 500}\n",
      "Model 157 with parameters: {'changepoint_prior_scale': 0.5, 'growth': 'linear', 'holidays_prior_scale': 0.1, 'seasonality_mode': 'multiplicative', 'seasonality_prior_scale': 10}\n"
     ]
    },
    {
     "name": "stderr",
     "output_type": "stream",
     "text": [
      "13:51:13 - cmdstanpy - INFO - Chain [1] start processing\n",
      "13:51:13 - cmdstanpy - INFO - Chain [1] done processing\n",
      "  0%|          | 0/1 [00:00<?, ?it/s]13:51:13 - cmdstanpy - INFO - Chain [1] start processing\n",
      "13:51:14 - cmdstanpy - INFO - Chain [1] done processing\n",
      "100%|██████████| 1/1 [00:00<00:00,  1.80it/s]\n"
     ]
    },
    {
     "name": "stdout",
     "output_type": "stream",
     "text": [
      "RMSE: 51.191182574671984 for parameters: {'changepoint_prior_scale': 0.5, 'growth': 'linear', 'holidays_prior_scale': 0.1, 'seasonality_mode': 'multiplicative', 'seasonality_prior_scale': 10}\n",
      "Model 158 with parameters: {'changepoint_prior_scale': 0.5, 'growth': 'linear', 'holidays_prior_scale': 0.1, 'seasonality_mode': 'multiplicative', 'seasonality_prior_scale': 50}\n"
     ]
    },
    {
     "name": "stderr",
     "output_type": "stream",
     "text": [
      "13:51:14 - cmdstanpy - INFO - Chain [1] start processing\n",
      "13:51:14 - cmdstanpy - INFO - Chain [1] done processing\n",
      "  0%|          | 0/1 [00:00<?, ?it/s]13:51:15 - cmdstanpy - INFO - Chain [1] start processing\n",
      "13:51:15 - cmdstanpy - INFO - Chain [1] done processing\n",
      "100%|██████████| 1/1 [00:00<00:00,  1.76it/s]\n"
     ]
    },
    {
     "name": "stdout",
     "output_type": "stream",
     "text": [
      "RMSE: 51.134290600638906 for parameters: {'changepoint_prior_scale': 0.5, 'growth': 'linear', 'holidays_prior_scale': 0.1, 'seasonality_mode': 'multiplicative', 'seasonality_prior_scale': 50}\n",
      "Model 159 with parameters: {'changepoint_prior_scale': 0.5, 'growth': 'linear', 'holidays_prior_scale': 0.1, 'seasonality_mode': 'multiplicative', 'seasonality_prior_scale': 100}\n"
     ]
    },
    {
     "name": "stderr",
     "output_type": "stream",
     "text": [
      "13:51:15 - cmdstanpy - INFO - Chain [1] start processing\n",
      "13:51:15 - cmdstanpy - INFO - Chain [1] done processing\n",
      "  0%|          | 0/1 [00:00<?, ?it/s]13:51:16 - cmdstanpy - INFO - Chain [1] start processing\n",
      "13:51:16 - cmdstanpy - INFO - Chain [1] done processing\n",
      "100%|██████████| 1/1 [00:00<00:00,  1.74it/s]\n"
     ]
    },
    {
     "name": "stdout",
     "output_type": "stream",
     "text": [
      "RMSE: 51.072909211276645 for parameters: {'changepoint_prior_scale': 0.5, 'growth': 'linear', 'holidays_prior_scale': 0.1, 'seasonality_mode': 'multiplicative', 'seasonality_prior_scale': 100}\n",
      "Model 160 with parameters: {'changepoint_prior_scale': 0.5, 'growth': 'linear', 'holidays_prior_scale': 0.1, 'seasonality_mode': 'multiplicative', 'seasonality_prior_scale': 500}\n"
     ]
    },
    {
     "name": "stderr",
     "output_type": "stream",
     "text": [
      "13:51:16 - cmdstanpy - INFO - Chain [1] start processing\n",
      "13:51:17 - cmdstanpy - INFO - Chain [1] done processing\n",
      "  0%|          | 0/1 [00:00<?, ?it/s]13:51:17 - cmdstanpy - INFO - Chain [1] start processing\n",
      "13:51:17 - cmdstanpy - INFO - Chain [1] done processing\n",
      "100%|██████████| 1/1 [00:00<00:00,  1.72it/s]\n"
     ]
    },
    {
     "name": "stdout",
     "output_type": "stream",
     "text": [
      "RMSE: 50.86571245666408 for parameters: {'changepoint_prior_scale': 0.5, 'growth': 'linear', 'holidays_prior_scale': 0.1, 'seasonality_mode': 'multiplicative', 'seasonality_prior_scale': 500}\n",
      "Model 161 with parameters: {'changepoint_prior_scale': 0.5, 'growth': 'linear', 'holidays_prior_scale': 1, 'seasonality_mode': 'additive', 'seasonality_prior_scale': 10}\n"
     ]
    },
    {
     "name": "stderr",
     "output_type": "stream",
     "text": [
      "13:51:18 - cmdstanpy - INFO - Chain [1] start processing\n",
      "13:51:18 - cmdstanpy - INFO - Chain [1] done processing\n",
      "  0%|          | 0/1 [00:00<?, ?it/s]13:51:18 - cmdstanpy - INFO - Chain [1] start processing\n",
      "13:51:18 - cmdstanpy - INFO - Chain [1] done processing\n",
      "100%|██████████| 1/1 [00:00<00:00,  1.94it/s]\n"
     ]
    },
    {
     "name": "stdout",
     "output_type": "stream",
     "text": [
      "RMSE: 73.91993401879225 for parameters: {'changepoint_prior_scale': 0.5, 'growth': 'linear', 'holidays_prior_scale': 1, 'seasonality_mode': 'additive', 'seasonality_prior_scale': 10}\n",
      "Model 162 with parameters: {'changepoint_prior_scale': 0.5, 'growth': 'linear', 'holidays_prior_scale': 1, 'seasonality_mode': 'additive', 'seasonality_prior_scale': 50}\n"
     ]
    },
    {
     "name": "stderr",
     "output_type": "stream",
     "text": [
      "13:51:19 - cmdstanpy - INFO - Chain [1] start processing\n",
      "13:51:19 - cmdstanpy - INFO - Chain [1] done processing\n",
      "  0%|          | 0/1 [00:00<?, ?it/s]13:51:19 - cmdstanpy - INFO - Chain [1] start processing\n",
      "13:51:19 - cmdstanpy - INFO - Chain [1] done processing\n",
      "100%|██████████| 1/1 [00:00<00:00,  1.88it/s]\n"
     ]
    },
    {
     "name": "stdout",
     "output_type": "stream",
     "text": [
      "RMSE: 74.52648545038626 for parameters: {'changepoint_prior_scale': 0.5, 'growth': 'linear', 'holidays_prior_scale': 1, 'seasonality_mode': 'additive', 'seasonality_prior_scale': 50}\n",
      "Model 163 with parameters: {'changepoint_prior_scale': 0.5, 'growth': 'linear', 'holidays_prior_scale': 1, 'seasonality_mode': 'additive', 'seasonality_prior_scale': 100}\n"
     ]
    },
    {
     "name": "stderr",
     "output_type": "stream",
     "text": [
      "13:51:20 - cmdstanpy - INFO - Chain [1] start processing\n",
      "13:51:20 - cmdstanpy - INFO - Chain [1] done processing\n",
      "  0%|          | 0/1 [00:00<?, ?it/s]13:51:20 - cmdstanpy - INFO - Chain [1] start processing\n",
      "13:51:20 - cmdstanpy - INFO - Chain [1] done processing\n",
      "100%|██████████| 1/1 [00:00<00:00,  1.82it/s]\n"
     ]
    },
    {
     "name": "stdout",
     "output_type": "stream",
     "text": [
      "RMSE: 74.55357460078838 for parameters: {'changepoint_prior_scale': 0.5, 'growth': 'linear', 'holidays_prior_scale': 1, 'seasonality_mode': 'additive', 'seasonality_prior_scale': 100}\n",
      "Model 164 with parameters: {'changepoint_prior_scale': 0.5, 'growth': 'linear', 'holidays_prior_scale': 1, 'seasonality_mode': 'additive', 'seasonality_prior_scale': 500}\n"
     ]
    },
    {
     "name": "stderr",
     "output_type": "stream",
     "text": [
      "13:51:21 - cmdstanpy - INFO - Chain [1] start processing\n",
      "13:51:21 - cmdstanpy - INFO - Chain [1] done processing\n",
      "  0%|          | 0/1 [00:00<?, ?it/s]13:51:21 - cmdstanpy - INFO - Chain [1] start processing\n",
      "13:51:22 - cmdstanpy - INFO - Chain [1] done processing\n",
      "100%|██████████| 1/1 [00:00<00:00,  1.91it/s]\n"
     ]
    },
    {
     "name": "stdout",
     "output_type": "stream",
     "text": [
      "RMSE: 76.60374172550617 for parameters: {'changepoint_prior_scale': 0.5, 'growth': 'linear', 'holidays_prior_scale': 1, 'seasonality_mode': 'additive', 'seasonality_prior_scale': 500}\n",
      "Model 165 with parameters: {'changepoint_prior_scale': 0.5, 'growth': 'linear', 'holidays_prior_scale': 1, 'seasonality_mode': 'multiplicative', 'seasonality_prior_scale': 10}\n"
     ]
    },
    {
     "name": "stderr",
     "output_type": "stream",
     "text": [
      "13:51:22 - cmdstanpy - INFO - Chain [1] start processing\n",
      "13:51:22 - cmdstanpy - INFO - Chain [1] done processing\n",
      "  0%|          | 0/1 [00:00<?, ?it/s]13:51:23 - cmdstanpy - INFO - Chain [1] start processing\n",
      "13:51:23 - cmdstanpy - INFO - Chain [1] done processing\n",
      "100%|██████████| 1/1 [00:00<00:00,  1.67it/s]\n"
     ]
    },
    {
     "name": "stdout",
     "output_type": "stream",
     "text": [
      "RMSE: 44.08563283468654 for parameters: {'changepoint_prior_scale': 0.5, 'growth': 'linear', 'holidays_prior_scale': 1, 'seasonality_mode': 'multiplicative', 'seasonality_prior_scale': 10}\n",
      "Model 166 with parameters: {'changepoint_prior_scale': 0.5, 'growth': 'linear', 'holidays_prior_scale': 1, 'seasonality_mode': 'multiplicative', 'seasonality_prior_scale': 50}\n"
     ]
    },
    {
     "name": "stderr",
     "output_type": "stream",
     "text": [
      "13:51:23 - cmdstanpy - INFO - Chain [1] start processing\n",
      "13:51:23 - cmdstanpy - INFO - Chain [1] done processing\n",
      "  0%|          | 0/1 [00:00<?, ?it/s]13:51:24 - cmdstanpy - INFO - Chain [1] start processing\n",
      "13:51:24 - cmdstanpy - INFO - Chain [1] done processing\n",
      "100%|██████████| 1/1 [00:00<00:00,  1.73it/s]\n"
     ]
    },
    {
     "name": "stdout",
     "output_type": "stream",
     "text": [
      "RMSE: 45.2737990000357 for parameters: {'changepoint_prior_scale': 0.5, 'growth': 'linear', 'holidays_prior_scale': 1, 'seasonality_mode': 'multiplicative', 'seasonality_prior_scale': 50}\n",
      "Model 167 with parameters: {'changepoint_prior_scale': 0.5, 'growth': 'linear', 'holidays_prior_scale': 1, 'seasonality_mode': 'multiplicative', 'seasonality_prior_scale': 100}\n"
     ]
    },
    {
     "name": "stderr",
     "output_type": "stream",
     "text": [
      "13:51:24 - cmdstanpy - INFO - Chain [1] start processing\n",
      "13:51:25 - cmdstanpy - INFO - Chain [1] done processing\n",
      "  0%|          | 0/1 [00:00<?, ?it/s]13:51:25 - cmdstanpy - INFO - Chain [1] start processing\n",
      "13:51:25 - cmdstanpy - INFO - Chain [1] done processing\n",
      "100%|██████████| 1/1 [00:00<00:00,  1.73it/s]\n"
     ]
    },
    {
     "name": "stdout",
     "output_type": "stream",
     "text": [
      "RMSE: 44.18853150947749 for parameters: {'changepoint_prior_scale': 0.5, 'growth': 'linear', 'holidays_prior_scale': 1, 'seasonality_mode': 'multiplicative', 'seasonality_prior_scale': 100}\n",
      "Model 168 with parameters: {'changepoint_prior_scale': 0.5, 'growth': 'linear', 'holidays_prior_scale': 1, 'seasonality_mode': 'multiplicative', 'seasonality_prior_scale': 500}\n"
     ]
    },
    {
     "name": "stderr",
     "output_type": "stream",
     "text": [
      "13:51:26 - cmdstanpy - INFO - Chain [1] start processing\n",
      "13:51:26 - cmdstanpy - INFO - Chain [1] done processing\n",
      "  0%|          | 0/1 [00:00<?, ?it/s]13:51:26 - cmdstanpy - INFO - Chain [1] start processing\n",
      "13:51:26 - cmdstanpy - INFO - Chain [1] done processing\n",
      "100%|██████████| 1/1 [00:00<00:00,  1.73it/s]\n"
     ]
    },
    {
     "name": "stdout",
     "output_type": "stream",
     "text": [
      "RMSE: 43.94551111279823 for parameters: {'changepoint_prior_scale': 0.5, 'growth': 'linear', 'holidays_prior_scale': 1, 'seasonality_mode': 'multiplicative', 'seasonality_prior_scale': 500}\n",
      "Model 169 with parameters: {'changepoint_prior_scale': 0.5, 'growth': 'logistic', 'holidays_prior_scale': 0.01, 'seasonality_mode': 'additive', 'seasonality_prior_scale': 10}\n"
     ]
    },
    {
     "name": "stderr",
     "output_type": "stream",
     "text": [
      "13:51:27 - cmdstanpy - INFO - Chain [1] start processing\n",
      "13:51:27 - cmdstanpy - INFO - Chain [1] done processing\n",
      "  0%|          | 0/1 [00:00<?, ?it/s]13:51:27 - cmdstanpy - INFO - Chain [1] start processing\n",
      "13:51:27 - cmdstanpy - INFO - Chain [1] done processing\n",
      "100%|██████████| 1/1 [00:00<00:00,  1.48it/s]\n"
     ]
    },
    {
     "name": "stdout",
     "output_type": "stream",
     "text": [
      "RMSE: 30.176830711590007 for parameters: {'changepoint_prior_scale': 0.5, 'growth': 'logistic', 'holidays_prior_scale': 0.01, 'seasonality_mode': 'additive', 'seasonality_prior_scale': 10}\n",
      "Model 170 with parameters: {'changepoint_prior_scale': 0.5, 'growth': 'logistic', 'holidays_prior_scale': 0.01, 'seasonality_mode': 'additive', 'seasonality_prior_scale': 50}\n"
     ]
    },
    {
     "name": "stderr",
     "output_type": "stream",
     "text": [
      "13:51:28 - cmdstanpy - INFO - Chain [1] start processing\n",
      "13:51:28 - cmdstanpy - INFO - Chain [1] done processing\n",
      "  0%|          | 0/1 [00:00<?, ?it/s]13:51:29 - cmdstanpy - INFO - Chain [1] start processing\n",
      "13:51:29 - cmdstanpy - INFO - Chain [1] done processing\n",
      "100%|██████████| 1/1 [00:00<00:00,  1.50it/s]\n"
     ]
    },
    {
     "name": "stdout",
     "output_type": "stream",
     "text": [
      "RMSE: 31.01713703569652 for parameters: {'changepoint_prior_scale': 0.5, 'growth': 'logistic', 'holidays_prior_scale': 0.01, 'seasonality_mode': 'additive', 'seasonality_prior_scale': 50}\n",
      "Model 171 with parameters: {'changepoint_prior_scale': 0.5, 'growth': 'logistic', 'holidays_prior_scale': 0.01, 'seasonality_mode': 'additive', 'seasonality_prior_scale': 100}\n"
     ]
    },
    {
     "name": "stderr",
     "output_type": "stream",
     "text": [
      "13:51:29 - cmdstanpy - INFO - Chain [1] start processing\n",
      "13:51:29 - cmdstanpy - INFO - Chain [1] done processing\n",
      "  0%|          | 0/1 [00:00<?, ?it/s]13:51:30 - cmdstanpy - INFO - Chain [1] start processing\n",
      "13:51:30 - cmdstanpy - INFO - Chain [1] done processing\n",
      "100%|██████████| 1/1 [00:00<00:00,  1.49it/s]\n"
     ]
    },
    {
     "name": "stdout",
     "output_type": "stream",
     "text": [
      "RMSE: 30.958871970021658 for parameters: {'changepoint_prior_scale': 0.5, 'growth': 'logistic', 'holidays_prior_scale': 0.01, 'seasonality_mode': 'additive', 'seasonality_prior_scale': 100}\n",
      "Model 172 with parameters: {'changepoint_prior_scale': 0.5, 'growth': 'logistic', 'holidays_prior_scale': 0.01, 'seasonality_mode': 'additive', 'seasonality_prior_scale': 500}\n"
     ]
    },
    {
     "name": "stderr",
     "output_type": "stream",
     "text": [
      "13:51:31 - cmdstanpy - INFO - Chain [1] start processing\n",
      "13:51:31 - cmdstanpy - INFO - Chain [1] done processing\n",
      "  0%|          | 0/1 [00:00<?, ?it/s]13:51:31 - cmdstanpy - INFO - Chain [1] start processing\n",
      "13:51:31 - cmdstanpy - INFO - Chain [1] done processing\n",
      "100%|██████████| 1/1 [00:00<00:00,  1.60it/s]\n"
     ]
    },
    {
     "name": "stdout",
     "output_type": "stream",
     "text": [
      "RMSE: 29.76179574782405 for parameters: {'changepoint_prior_scale': 0.5, 'growth': 'logistic', 'holidays_prior_scale': 0.01, 'seasonality_mode': 'additive', 'seasonality_prior_scale': 500}\n",
      "Model 173 with parameters: {'changepoint_prior_scale': 0.5, 'growth': 'logistic', 'holidays_prior_scale': 0.01, 'seasonality_mode': 'multiplicative', 'seasonality_prior_scale': 10}\n"
     ]
    },
    {
     "name": "stderr",
     "output_type": "stream",
     "text": [
      "13:51:32 - cmdstanpy - INFO - Chain [1] start processing\n",
      "13:51:32 - cmdstanpy - INFO - Chain [1] done processing\n",
      "  0%|          | 0/1 [00:00<?, ?it/s]13:51:32 - cmdstanpy - INFO - Chain [1] start processing\n",
      "13:51:32 - cmdstanpy - INFO - Chain [1] done processing\n",
      "100%|██████████| 1/1 [00:00<00:00,  1.49it/s]\n"
     ]
    },
    {
     "name": "stdout",
     "output_type": "stream",
     "text": [
      "RMSE: 105.01157628285014 for parameters: {'changepoint_prior_scale': 0.5, 'growth': 'logistic', 'holidays_prior_scale': 0.01, 'seasonality_mode': 'multiplicative', 'seasonality_prior_scale': 10}\n",
      "Model 174 with parameters: {'changepoint_prior_scale': 0.5, 'growth': 'logistic', 'holidays_prior_scale': 0.01, 'seasonality_mode': 'multiplicative', 'seasonality_prior_scale': 50}\n"
     ]
    },
    {
     "name": "stderr",
     "output_type": "stream",
     "text": [
      "13:51:33 - cmdstanpy - INFO - Chain [1] start processing\n",
      "13:51:33 - cmdstanpy - INFO - Chain [1] done processing\n",
      "  0%|          | 0/1 [00:00<?, ?it/s]13:51:33 - cmdstanpy - INFO - Chain [1] start processing\n",
      "13:51:33 - cmdstanpy - INFO - Chain [1] done processing\n",
      "100%|██████████| 1/1 [00:00<00:00,  1.44it/s]\n"
     ]
    },
    {
     "name": "stdout",
     "output_type": "stream",
     "text": [
      "RMSE: 105.72921205627317 for parameters: {'changepoint_prior_scale': 0.5, 'growth': 'logistic', 'holidays_prior_scale': 0.01, 'seasonality_mode': 'multiplicative', 'seasonality_prior_scale': 50}\n",
      "Model 175 with parameters: {'changepoint_prior_scale': 0.5, 'growth': 'logistic', 'holidays_prior_scale': 0.01, 'seasonality_mode': 'multiplicative', 'seasonality_prior_scale': 100}\n"
     ]
    },
    {
     "name": "stderr",
     "output_type": "stream",
     "text": [
      "13:51:34 - cmdstanpy - INFO - Chain [1] start processing\n",
      "13:51:34 - cmdstanpy - INFO - Chain [1] done processing\n",
      "  0%|          | 0/1 [00:00<?, ?it/s]13:51:35 - cmdstanpy - INFO - Chain [1] start processing\n",
      "13:51:35 - cmdstanpy - INFO - Chain [1] done processing\n",
      "100%|██████████| 1/1 [00:00<00:00,  1.60it/s]\n"
     ]
    },
    {
     "name": "stdout",
     "output_type": "stream",
     "text": [
      "RMSE: 105.3690971266144 for parameters: {'changepoint_prior_scale': 0.5, 'growth': 'logistic', 'holidays_prior_scale': 0.01, 'seasonality_mode': 'multiplicative', 'seasonality_prior_scale': 100}\n",
      "Model 176 with parameters: {'changepoint_prior_scale': 0.5, 'growth': 'logistic', 'holidays_prior_scale': 0.01, 'seasonality_mode': 'multiplicative', 'seasonality_prior_scale': 500}\n"
     ]
    },
    {
     "name": "stderr",
     "output_type": "stream",
     "text": [
      "13:51:35 - cmdstanpy - INFO - Chain [1] start processing\n",
      "13:51:35 - cmdstanpy - INFO - Chain [1] done processing\n",
      "  0%|          | 0/1 [00:00<?, ?it/s]13:51:36 - cmdstanpy - INFO - Chain [1] start processing\n",
      "13:51:36 - cmdstanpy - INFO - Chain [1] done processing\n",
      "100%|██████████| 1/1 [00:00<00:00,  1.43it/s]\n"
     ]
    },
    {
     "name": "stdout",
     "output_type": "stream",
     "text": [
      "RMSE: 105.49600000168898 for parameters: {'changepoint_prior_scale': 0.5, 'growth': 'logistic', 'holidays_prior_scale': 0.01, 'seasonality_mode': 'multiplicative', 'seasonality_prior_scale': 500}\n",
      "Model 177 with parameters: {'changepoint_prior_scale': 0.5, 'growth': 'logistic', 'holidays_prior_scale': 0.1, 'seasonality_mode': 'additive', 'seasonality_prior_scale': 10}\n"
     ]
    },
    {
     "name": "stderr",
     "output_type": "stream",
     "text": [
      "13:51:36 - cmdstanpy - INFO - Chain [1] start processing\n",
      "13:51:36 - cmdstanpy - INFO - Chain [1] done processing\n",
      "  0%|          | 0/1 [00:00<?, ?it/s]13:51:37 - cmdstanpy - INFO - Chain [1] start processing\n",
      "13:51:37 - cmdstanpy - INFO - Chain [1] done processing\n",
      "100%|██████████| 1/1 [00:00<00:00,  1.38it/s]\n"
     ]
    },
    {
     "name": "stdout",
     "output_type": "stream",
     "text": [
      "RMSE: 46.275605120365704 for parameters: {'changepoint_prior_scale': 0.5, 'growth': 'logistic', 'holidays_prior_scale': 0.1, 'seasonality_mode': 'additive', 'seasonality_prior_scale': 10}\n",
      "Model 178 with parameters: {'changepoint_prior_scale': 0.5, 'growth': 'logistic', 'holidays_prior_scale': 0.1, 'seasonality_mode': 'additive', 'seasonality_prior_scale': 50}\n"
     ]
    },
    {
     "name": "stderr",
     "output_type": "stream",
     "text": [
      "13:51:38 - cmdstanpy - INFO - Chain [1] start processing\n",
      "13:51:38 - cmdstanpy - INFO - Chain [1] done processing\n",
      "  0%|          | 0/1 [00:00<?, ?it/s]13:51:38 - cmdstanpy - INFO - Chain [1] start processing\n",
      "13:51:38 - cmdstanpy - INFO - Chain [1] done processing\n",
      "100%|██████████| 1/1 [00:00<00:00,  1.32it/s]\n"
     ]
    },
    {
     "name": "stdout",
     "output_type": "stream",
     "text": [
      "RMSE: 47.3716850317824 for parameters: {'changepoint_prior_scale': 0.5, 'growth': 'logistic', 'holidays_prior_scale': 0.1, 'seasonality_mode': 'additive', 'seasonality_prior_scale': 50}\n",
      "Model 179 with parameters: {'changepoint_prior_scale': 0.5, 'growth': 'logistic', 'holidays_prior_scale': 0.1, 'seasonality_mode': 'additive', 'seasonality_prior_scale': 100}\n"
     ]
    },
    {
     "name": "stderr",
     "output_type": "stream",
     "text": [
      "13:51:39 - cmdstanpy - INFO - Chain [1] start processing\n",
      "13:51:39 - cmdstanpy - INFO - Chain [1] done processing\n",
      "  0%|          | 0/1 [00:00<?, ?it/s]13:51:39 - cmdstanpy - INFO - Chain [1] start processing\n",
      "13:51:39 - cmdstanpy - INFO - Chain [1] done processing\n",
      "100%|██████████| 1/1 [00:00<00:00,  1.30it/s]\n"
     ]
    },
    {
     "name": "stdout",
     "output_type": "stream",
     "text": [
      "RMSE: 48.49761922090876 for parameters: {'changepoint_prior_scale': 0.5, 'growth': 'logistic', 'holidays_prior_scale': 0.1, 'seasonality_mode': 'additive', 'seasonality_prior_scale': 100}\n",
      "Model 180 with parameters: {'changepoint_prior_scale': 0.5, 'growth': 'logistic', 'holidays_prior_scale': 0.1, 'seasonality_mode': 'additive', 'seasonality_prior_scale': 500}\n"
     ]
    },
    {
     "name": "stderr",
     "output_type": "stream",
     "text": [
      "13:51:40 - cmdstanpy - INFO - Chain [1] start processing\n",
      "13:51:40 - cmdstanpy - INFO - Chain [1] done processing\n",
      "  0%|          | 0/1 [00:00<?, ?it/s]13:51:41 - cmdstanpy - INFO - Chain [1] start processing\n",
      "13:51:41 - cmdstanpy - INFO - Chain [1] done processing\n",
      "100%|██████████| 1/1 [00:00<00:00,  1.37it/s]\n"
     ]
    },
    {
     "name": "stdout",
     "output_type": "stream",
     "text": [
      "RMSE: 49.25676446266639 for parameters: {'changepoint_prior_scale': 0.5, 'growth': 'logistic', 'holidays_prior_scale': 0.1, 'seasonality_mode': 'additive', 'seasonality_prior_scale': 500}\n",
      "Model 181 with parameters: {'changepoint_prior_scale': 0.5, 'growth': 'logistic', 'holidays_prior_scale': 0.1, 'seasonality_mode': 'multiplicative', 'seasonality_prior_scale': 10}\n"
     ]
    },
    {
     "name": "stderr",
     "output_type": "stream",
     "text": [
      "13:51:41 - cmdstanpy - INFO - Chain [1] start processing\n",
      "13:51:41 - cmdstanpy - INFO - Chain [1] done processing\n",
      "  0%|          | 0/1 [00:00<?, ?it/s]13:51:42 - cmdstanpy - INFO - Chain [1] start processing\n",
      "13:51:42 - cmdstanpy - INFO - Chain [1] done processing\n",
      "100%|██████████| 1/1 [00:00<00:00,  1.52it/s]\n"
     ]
    },
    {
     "name": "stdout",
     "output_type": "stream",
     "text": [
      "RMSE: 56.32771551784402 for parameters: {'changepoint_prior_scale': 0.5, 'growth': 'logistic', 'holidays_prior_scale': 0.1, 'seasonality_mode': 'multiplicative', 'seasonality_prior_scale': 10}\n",
      "Model 182 with parameters: {'changepoint_prior_scale': 0.5, 'growth': 'logistic', 'holidays_prior_scale': 0.1, 'seasonality_mode': 'multiplicative', 'seasonality_prior_scale': 50}\n"
     ]
    },
    {
     "name": "stderr",
     "output_type": "stream",
     "text": [
      "13:51:42 - cmdstanpy - INFO - Chain [1] start processing\n",
      "13:51:43 - cmdstanpy - INFO - Chain [1] done processing\n",
      "  0%|          | 0/1 [00:00<?, ?it/s]13:51:43 - cmdstanpy - INFO - Chain [1] start processing\n",
      "13:51:43 - cmdstanpy - INFO - Chain [1] done processing\n",
      "100%|██████████| 1/1 [00:00<00:00,  1.45it/s]\n"
     ]
    },
    {
     "name": "stdout",
     "output_type": "stream",
     "text": [
      "RMSE: 60.63218935193812 for parameters: {'changepoint_prior_scale': 0.5, 'growth': 'logistic', 'holidays_prior_scale': 0.1, 'seasonality_mode': 'multiplicative', 'seasonality_prior_scale': 50}\n",
      "Model 183 with parameters: {'changepoint_prior_scale': 0.5, 'growth': 'logistic', 'holidays_prior_scale': 0.1, 'seasonality_mode': 'multiplicative', 'seasonality_prior_scale': 100}\n"
     ]
    },
    {
     "name": "stderr",
     "output_type": "stream",
     "text": [
      "13:51:44 - cmdstanpy - INFO - Chain [1] start processing\n",
      "13:51:44 - cmdstanpy - INFO - Chain [1] done processing\n",
      "  0%|          | 0/1 [00:00<?, ?it/s]13:51:44 - cmdstanpy - INFO - Chain [1] start processing\n",
      "13:51:44 - cmdstanpy - INFO - Chain [1] done processing\n",
      "100%|██████████| 1/1 [00:00<00:00,  1.57it/s]\n"
     ]
    },
    {
     "name": "stdout",
     "output_type": "stream",
     "text": [
      "RMSE: 55.93691635793531 for parameters: {'changepoint_prior_scale': 0.5, 'growth': 'logistic', 'holidays_prior_scale': 0.1, 'seasonality_mode': 'multiplicative', 'seasonality_prior_scale': 100}\n",
      "Model 184 with parameters: {'changepoint_prior_scale': 0.5, 'growth': 'logistic', 'holidays_prior_scale': 0.1, 'seasonality_mode': 'multiplicative', 'seasonality_prior_scale': 500}\n"
     ]
    },
    {
     "name": "stderr",
     "output_type": "stream",
     "text": [
      "13:51:45 - cmdstanpy - INFO - Chain [1] start processing\n",
      "13:51:45 - cmdstanpy - INFO - Chain [1] done processing\n",
      "  0%|          | 0/1 [00:00<?, ?it/s]13:51:45 - cmdstanpy - INFO - Chain [1] start processing\n",
      "13:51:45 - cmdstanpy - INFO - Chain [1] done processing\n",
      "100%|██████████| 1/1 [00:00<00:00,  1.72it/s]\n"
     ]
    },
    {
     "name": "stdout",
     "output_type": "stream",
     "text": [
      "RMSE: 56.52497740001384 for parameters: {'changepoint_prior_scale': 0.5, 'growth': 'logistic', 'holidays_prior_scale': 0.1, 'seasonality_mode': 'multiplicative', 'seasonality_prior_scale': 500}\n",
      "Model 185 with parameters: {'changepoint_prior_scale': 0.5, 'growth': 'logistic', 'holidays_prior_scale': 1, 'seasonality_mode': 'additive', 'seasonality_prior_scale': 10}\n"
     ]
    },
    {
     "name": "stderr",
     "output_type": "stream",
     "text": [
      "13:51:46 - cmdstanpy - INFO - Chain [1] start processing\n",
      "13:51:46 - cmdstanpy - INFO - Chain [1] done processing\n",
      "  0%|          | 0/1 [00:00<?, ?it/s]13:51:46 - cmdstanpy - INFO - Chain [1] start processing\n",
      "13:51:47 - cmdstanpy - INFO - Chain [1] done processing\n",
      "100%|██████████| 1/1 [00:00<00:00,  1.23it/s]\n"
     ]
    },
    {
     "name": "stdout",
     "output_type": "stream",
     "text": [
      "RMSE: 63.60088372880799 for parameters: {'changepoint_prior_scale': 0.5, 'growth': 'logistic', 'holidays_prior_scale': 1, 'seasonality_mode': 'additive', 'seasonality_prior_scale': 10}\n",
      "Model 186 with parameters: {'changepoint_prior_scale': 0.5, 'growth': 'logistic', 'holidays_prior_scale': 1, 'seasonality_mode': 'additive', 'seasonality_prior_scale': 50}\n"
     ]
    },
    {
     "name": "stderr",
     "output_type": "stream",
     "text": [
      "13:51:47 - cmdstanpy - INFO - Chain [1] start processing\n",
      "13:51:47 - cmdstanpy - INFO - Chain [1] done processing\n",
      "  0%|          | 0/1 [00:00<?, ?it/s]13:51:48 - cmdstanpy - INFO - Chain [1] start processing\n",
      "13:51:48 - cmdstanpy - INFO - Chain [1] done processing\n",
      "100%|██████████| 1/1 [00:00<00:00,  1.27it/s]\n"
     ]
    },
    {
     "name": "stdout",
     "output_type": "stream",
     "text": [
      "RMSE: 62.50985913286507 for parameters: {'changepoint_prior_scale': 0.5, 'growth': 'logistic', 'holidays_prior_scale': 1, 'seasonality_mode': 'additive', 'seasonality_prior_scale': 50}\n",
      "Model 187 with parameters: {'changepoint_prior_scale': 0.5, 'growth': 'logistic', 'holidays_prior_scale': 1, 'seasonality_mode': 'additive', 'seasonality_prior_scale': 100}\n"
     ]
    },
    {
     "name": "stderr",
     "output_type": "stream",
     "text": [
      "13:51:49 - cmdstanpy - INFO - Chain [1] start processing\n",
      "13:51:49 - cmdstanpy - INFO - Chain [1] done processing\n",
      "  0%|          | 0/1 [00:00<?, ?it/s]13:51:49 - cmdstanpy - INFO - Chain [1] start processing\n",
      "13:51:49 - cmdstanpy - INFO - Chain [1] done processing\n",
      "100%|██████████| 1/1 [00:00<00:00,  1.28it/s]\n"
     ]
    },
    {
     "name": "stdout",
     "output_type": "stream",
     "text": [
      "RMSE: 64.12276591478351 for parameters: {'changepoint_prior_scale': 0.5, 'growth': 'logistic', 'holidays_prior_scale': 1, 'seasonality_mode': 'additive', 'seasonality_prior_scale': 100}\n",
      "Model 188 with parameters: {'changepoint_prior_scale': 0.5, 'growth': 'logistic', 'holidays_prior_scale': 1, 'seasonality_mode': 'additive', 'seasonality_prior_scale': 500}\n"
     ]
    },
    {
     "name": "stderr",
     "output_type": "stream",
     "text": [
      "13:51:50 - cmdstanpy - INFO - Chain [1] start processing\n",
      "13:51:50 - cmdstanpy - INFO - Chain [1] done processing\n",
      "  0%|          | 0/1 [00:00<?, ?it/s]13:51:50 - cmdstanpy - INFO - Chain [1] start processing\n",
      "13:51:51 - cmdstanpy - INFO - Chain [1] done processing\n",
      "100%|██████████| 1/1 [00:00<00:00,  1.19it/s]\n"
     ]
    },
    {
     "name": "stdout",
     "output_type": "stream",
     "text": [
      "RMSE: 61.5812297987096 for parameters: {'changepoint_prior_scale': 0.5, 'growth': 'logistic', 'holidays_prior_scale': 1, 'seasonality_mode': 'additive', 'seasonality_prior_scale': 500}\n",
      "Model 189 with parameters: {'changepoint_prior_scale': 0.5, 'growth': 'logistic', 'holidays_prior_scale': 1, 'seasonality_mode': 'multiplicative', 'seasonality_prior_scale': 10}\n"
     ]
    },
    {
     "name": "stderr",
     "output_type": "stream",
     "text": [
      "13:51:51 - cmdstanpy - INFO - Chain [1] start processing\n",
      "13:51:51 - cmdstanpy - INFO - Chain [1] done processing\n",
      "  0%|          | 0/1 [00:00<?, ?it/s]13:51:52 - cmdstanpy - INFO - Chain [1] start processing\n",
      "13:51:52 - cmdstanpy - INFO - Chain [1] done processing\n",
      "100%|██████████| 1/1 [00:00<00:00,  1.58it/s]\n"
     ]
    },
    {
     "name": "stdout",
     "output_type": "stream",
     "text": [
      "RMSE: 37.342763768580554 for parameters: {'changepoint_prior_scale': 0.5, 'growth': 'logistic', 'holidays_prior_scale': 1, 'seasonality_mode': 'multiplicative', 'seasonality_prior_scale': 10}\n",
      "Model 190 with parameters: {'changepoint_prior_scale': 0.5, 'growth': 'logistic', 'holidays_prior_scale': 1, 'seasonality_mode': 'multiplicative', 'seasonality_prior_scale': 50}\n"
     ]
    },
    {
     "name": "stderr",
     "output_type": "stream",
     "text": [
      "13:51:52 - cmdstanpy - INFO - Chain [1] start processing\n",
      "13:51:53 - cmdstanpy - INFO - Chain [1] done processing\n",
      "  0%|          | 0/1 [00:00<?, ?it/s]13:51:53 - cmdstanpy - INFO - Chain [1] start processing\n",
      "13:51:53 - cmdstanpy - INFO - Chain [1] done processing\n",
      "100%|██████████| 1/1 [00:00<00:00,  1.58it/s]\n"
     ]
    },
    {
     "name": "stdout",
     "output_type": "stream",
     "text": [
      "RMSE: 38.26457496668631 for parameters: {'changepoint_prior_scale': 0.5, 'growth': 'logistic', 'holidays_prior_scale': 1, 'seasonality_mode': 'multiplicative', 'seasonality_prior_scale': 50}\n",
      "Model 191 with parameters: {'changepoint_prior_scale': 0.5, 'growth': 'logistic', 'holidays_prior_scale': 1, 'seasonality_mode': 'multiplicative', 'seasonality_prior_scale': 100}\n"
     ]
    },
    {
     "name": "stderr",
     "output_type": "stream",
     "text": [
      "13:51:54 - cmdstanpy - INFO - Chain [1] start processing\n",
      "13:51:54 - cmdstanpy - INFO - Chain [1] done processing\n",
      "  0%|          | 0/1 [00:00<?, ?it/s]13:51:54 - cmdstanpy - INFO - Chain [1] start processing\n",
      "13:51:54 - cmdstanpy - INFO - Chain [1] done processing\n",
      "100%|██████████| 1/1 [00:00<00:00,  1.39it/s]\n"
     ]
    },
    {
     "name": "stdout",
     "output_type": "stream",
     "text": [
      "RMSE: 33.46475323562386 for parameters: {'changepoint_prior_scale': 0.5, 'growth': 'logistic', 'holidays_prior_scale': 1, 'seasonality_mode': 'multiplicative', 'seasonality_prior_scale': 100}\n",
      "Model 192 with parameters: {'changepoint_prior_scale': 0.5, 'growth': 'logistic', 'holidays_prior_scale': 1, 'seasonality_mode': 'multiplicative', 'seasonality_prior_scale': 500}\n"
     ]
    },
    {
     "name": "stderr",
     "output_type": "stream",
     "text": [
      "13:51:55 - cmdstanpy - INFO - Chain [1] start processing\n",
      "13:51:55 - cmdstanpy - INFO - Chain [1] done processing\n",
      "  0%|          | 0/1 [00:00<?, ?it/s]13:51:55 - cmdstanpy - INFO - Chain [1] start processing\n",
      "13:51:56 - cmdstanpy - INFO - Chain [1] done processing\n",
      "100%|██████████| 1/1 [00:00<00:00,  1.46it/s]"
     ]
    },
    {
     "name": "stdout",
     "output_type": "stream",
     "text": [
      "RMSE: 37.58917542836849 for parameters: {'changepoint_prior_scale': 0.5, 'growth': 'logistic', 'holidays_prior_scale': 1, 'seasonality_mode': 'multiplicative', 'seasonality_prior_scale': 500}\n",
      "Best Hyperparameters: {'changepoint_prior_scale': 0.01, 'growth': 'linear', 'holidays_prior_scale': 1, 'seasonality_mode': 'additive', 'seasonality_prior_scale': 10} with RMSE: 13.915536389469484\n"
     ]
    },
    {
     "name": "stderr",
     "output_type": "stream",
     "text": [
      "\n"
     ]
    }
   ],
   "source": [
    "from prophet.diagnostics import cross_validation, performance_metrics\n",
    "from sklearn.model_selection import ParameterGrid\n",
    "\n",
    "# Define a grid of hyperparameters to search\n",
    "param_grid = {\n",
    "    'changepoint_prior_scale': [0.001, 0.01, 0.1, 0.5],\n",
    "    'seasonality_prior_scale': [10, 50, 100, 500],\n",
    "    'holidays_prior_scale': [0.01, 0.1, 1],\n",
    "    'seasonality_mode': ['additive', 'multiplicative'],\n",
    "    'growth': ['linear', 'logistic']  # logistic requires a 'cap' column\n",
    "}\n",
    "\n",
    "# Initialize the cross-validation result\n",
    "best_score = float('inf')\n",
    "best_params = {}\n",
    "\n",
    "grid = ParameterGrid(param_grid)\n",
    "cnt = 0\n",
    "\n",
    "for p in grid:\n",
    "    cnt += 1\n",
    "    print(f\"Model {cnt} with parameters: {p}\")\n",
    "    \n",
    "    # Initialize and train the model with the hyperparameters\n",
    "    model = Prophet(\n",
    "        changepoint_prior_scale=p['changepoint_prior_scale'],\n",
    "        seasonality_prior_scale=p['seasonality_prior_scale'],\n",
    "        holidays_prior_scale=p['holidays_prior_scale'],\n",
    "        seasonality_mode=p['seasonality_mode'],\n",
    "        growth=p['growth']\n",
    "    )\n",
    "    model.add_regressor('click_count')\n",
    "    model.add_regressor('month')\n",
    "    model.add_regressor('impression_count')\n",
    "    model.add_regressor('weekday')\n",
    "    model.add_regressor('dayofyear')\n",
    "    model.add_regressor('is_weekend')\n",
    "    model.add_regressor('is_holiday')\n",
    "    \n",
    "    # If using logistic growth, add a 'cap' column\n",
    "    if p['growth'] == 'logistic':\n",
    "        df_prophet['cap'] = df_prophet['y'].max() * 1.1  # 10% above the max value of y\n",
    "\n",
    "    # Fit the model\n",
    "    model.fit(df_prophet)\n",
    "    \n",
    "    # Perform cross-validation\n",
    "    df_cv = cross_validation(model, initial='365 days', period='180 days', horizon='7 days')\n",
    "    \n",
    "    # Get the performance metrics\n",
    "    df_p = performance_metrics(df_cv)\n",
    "    \n",
    "    # Assume that we use RMSE as our score for optimization\n",
    "    rmse_score = df_p['rmse'].mean()\n",
    "    \n",
    "    # Keep track of the best parameters based on RMSE\n",
    "    if rmse_score < best_score:\n",
    "        best_score = rmse_score\n",
    "        best_params = p\n",
    "    \n",
    "    print(f\"RMSE: {rmse_score} for parameters: {p}\")\n",
    "    \n",
    "print(f\"Best Hyperparameters: {best_params} with RMSE: {best_score}\")\n"
   ]
  },
  {
   "cell_type": "code",
   "execution_count": 41,
   "metadata": {},
   "outputs": [
    {
     "name": "stderr",
     "output_type": "stream",
     "text": [
      "13:59:34 - cmdstanpy - INFO - Chain [1] start processing\n",
      "13:59:34 - cmdstanpy - INFO - Chain [1] done processing\n"
     ]
    },
    {
     "data": {
      "text/plain": [
       "<prophet.forecaster.Prophet at 0x2754ff92250>"
      ]
     },
     "execution_count": 41,
     "metadata": {},
     "output_type": "execute_result"
    }
   ],
   "source": [
    "# Initialize the model with the best parameters from the grid search\n",
    "model = Prophet(\n",
    "    changepoint_prior_scale=best_params['changepoint_prior_scale'],\n",
    "    seasonality_prior_scale=best_params['seasonality_prior_scale'],\n",
    "    holidays_prior_scale=best_params['holidays_prior_scale'],\n",
    "    seasonality_mode=best_params['seasonality_mode'],\n",
    "    growth=best_params['growth']\n",
    ")\n",
    "\n",
    "# Add regressors and train as before\n",
    "model.add_regressor('click_count')\n",
    "model.add_regressor('month')\n",
    "model.add_regressor('impression_count')\n",
    "model.add_regressor('weekday')\n",
    "model.add_regressor('dayofyear')\n",
    "model.add_regressor('is_weekend')\n",
    "model.add_regressor('is_holiday')\n",
    "\n",
    "if best_params['growth'] == 'logistic':\n",
    "    df_prophet['cap'] = df_prophet['y'].max() * 1.1  # Adjust cap for logistic growth\n",
    "\n",
    "model.fit(df_prophet)\n",
    "\n"
   ]
  },
  {
   "cell_type": "code",
   "execution_count": 43,
   "metadata": {},
   "outputs": [
    {
     "name": "stdout",
     "output_type": "stream",
     "text": [
      "            ds       yhat  yhat_lower  yhat_upper\n",
      "0   2024-01-22  52.842804  -43.008822  145.858798\n",
      "1   2024-01-23  57.054861  -33.439792  149.151992\n",
      "2   2024-01-24  55.568479  -38.963279  154.114786\n",
      "3   2024-01-25  53.048080  -37.389848  143.511523\n",
      "4   2024-01-26  64.490429  -26.491198  156.828301\n",
      "..         ...        ...         ...         ...\n",
      "372 2025-02-05  86.160138   -3.979870  180.804012\n",
      "373 2025-02-06  83.639604  -16.007834  175.401590\n",
      "374 2025-02-07  95.081818   -4.980494  183.579260\n",
      "375 2025-02-08  86.305425   -3.668848  183.502131\n",
      "376 2025-02-09  77.978415  -15.476072  171.861317\n",
      "\n",
      "[377 rows x 4 columns]\n"
     ]
    }
   ],
   "source": [
    "# Create a future dataframe (7 days ahead)\n",
    "future = model.make_future_dataframe(periods=7)\n",
    "\n",
    "# Add the necessary columns for future prediction\n",
    "future['click_count'] = df_prophet['click_count'].iloc[-1]\n",
    "future['month'] = df_prophet['month'].iloc[-1]\n",
    "future['impression_count'] = df_prophet['impression_count'].iloc[-1]\n",
    "future['weekday'] = df_prophet['weekday'].iloc[-1]\n",
    "future['dayofyear'] = df_prophet['dayofyear'].iloc[-1]\n",
    "future['is_weekend'] = df_prophet['is_weekend'].iloc[-1]\n",
    "future['is_holiday'] = df_prophet['is_holiday'].iloc[-1]\n",
    "\n",
    "# Make predictions\n",
    "forecast = model.predict(future)\n",
    "\n",
    "# Show the forecast for the next 7 days\n",
    "forecast_7_days = forecast[[\"ds\", \"yhat\", \"yhat_lower\", \"yhat_upper\"]]\n",
    "print(forecast_7_days)\n"
   ]
  },
  {
   "cell_type": "code",
   "execution_count": 44,
   "metadata": {},
   "outputs": [
    {
     "data": {
      "image/png": "[encoded data removed]",
      "text/plain": [
       "<Figure size 1000x600 with 1 Axes>"
      ]
     },
     "metadata": {},
     "output_type": "display_data"
    },
    {
     "data": {
      "image/png": "[encoded data removed]",
      "text/plain": [
       "<Figure size 900x900 with 3 Axes>"
      ]
     },
     "metadata": {},
     "output_type": "display_data"
    }
   ],
   "source": [
    "# Plot predictions\n",
    "fig1 = model.plot(forecast)\n",
    "plt.show()\n",
    "\n",
    "# Plot components\n",
    "fig2 = model.plot_components(forecast)\n",
    "plt.show()"
   ]
  },
  {
   "cell_type": "code",
   "execution_count": 45,
   "metadata": {},
   "outputs": [
    {
     "name": "stdout",
     "output_type": "stream",
     "text": [
      "MAE: 31.041422256484616\n",
      "RMSE: 35.28668105663775\n",
      "MAPE: 0.7421926733416424\n"
     ]
    }
   ],
   "source": [
    "# Split the data into training and testing\n",
    "train = df_prophet\n",
    "test = df_prophet.tail(7)  # Use the last 7 days for testing\n",
    "\n",
    "# Actual values for the last 7 days (from test set)\n",
    "actual_values = test['y']\n",
    "\n",
    "# Predicted values from the forecast (7 days ahead)\n",
    "predicted_values = forecast['yhat'].tail(7)\n",
    "\n",
    "# Calculate MAE (Mean Absolute Error)\n",
    "mae = mean_absolute_error(actual_values, predicted_values)\n",
    "print(f\"MAE: {mae}\")\n",
    "\n",
    "# Calculate RMSE (Root Mean Squared Error)\n",
    "rmse = np.sqrt(mean_squared_error(actual_values, predicted_values))\n",
    "print(f\"RMSE: {rmse}\")\n",
    "\n",
    "# Calculate MAPE (Mean Absolute Percentage Error)\n",
    "mape = mean_absolute_percentage_error(actual_values, predicted_values)\n",
    "print(f\"MAPE: {mape}\")\n"
   ]
  },
  {
   "cell_type": "code",
   "execution_count": 46,
   "metadata": {},
   "outputs": [
    {
     "data": {
      "text/plain": [
       "{'changepoint_prior_scale': 0.01,\n",
       " 'growth': 'linear',\n",
       " 'holidays_prior_scale': 1,\n",
       " 'seasonality_mode': 'additive',\n",
       " 'seasonality_prior_scale': 10}"
      ]
     },
     "execution_count": 46,
     "metadata": {},
     "output_type": "execute_result"
    }
   ],
   "source": [
    "best_params"
   ]
  },
  {
   "cell_type": "code",
   "execution_count": null,
   "metadata": {},
   "outputs": [],
   "source": []
  }
 ],
 "metadata": {
  "kernelspec": {
   "display_name": ".eterna",
   "language": "python",
   "name": "python3"
  },
  "language_info": {
   "codemirror_mode": {
    "name": "ipython",
    "version": 3
   },
   "file_extension": ".py",
   "mimetype": "text/x-python",
   "name": "python",
   "nbconvert_exporter": "python",
   "pygments_lexer": "ipython3",
   "version": "3.11.0"
  }
 },
 "nbformat": 4,
 "nbformat_minor": 2
}
